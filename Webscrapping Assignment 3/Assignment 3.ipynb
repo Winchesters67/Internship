{
 "cells": [
  {
   "cell_type": "code",
   "execution_count": 1,
   "id": "3eae72ed",
   "metadata": {},
   "outputs": [],
   "source": [
    "import selenium\n",
    "import pandas as pd\n",
    "from selenium import webdriver\n",
    "import warnings\n",
    "from selenium.common.exceptions import StaleElementReferenceException, NoSuchElementException\n",
    "from selenium.webdriver.common.by import By\n",
    "import time\n",
    "from bs4 import BeautifulSoup\n",
    "import requests\n",
    "import numpy as np"
   ]
  },
  {
   "cell_type": "code",
   "execution_count": 2,
   "id": "47bf5e26",
   "metadata": {},
   "outputs": [
    {
     "name": "stderr",
     "output_type": "stream",
     "text": [
      "C:\\Users\\HP\\AppData\\Local\\Temp\\ipykernel_1880\\1002232455.py:1: DeprecationWarning: executable_path has been deprecated, please pass in a Service object\n",
      "  driver=webdriver.Chrome(r\"G:\\chromedriver.exe\")\n"
     ]
    }
   ],
   "source": [
    "driver=webdriver.Chrome(r\"G:\\chromedriver.exe\")"
   ]
  },
  {
   "cell_type": "code",
   "execution_count": 3,
   "id": "13d12d78",
   "metadata": {},
   "outputs": [],
   "source": [
    "#1 append with -\n",
    "driver.get(\"https://www.amazon.in/\")"
   ]
  },
  {
   "cell_type": "code",
   "execution_count": 4,
   "id": "532e8da1",
   "metadata": {},
   "outputs": [
    {
     "name": "stdout",
     "output_type": "stream",
     "text": [
      "Enter keyword cap\n"
     ]
    }
   ],
   "source": [
    "x=input(\"Enter keyword \")"
   ]
  },
  {
   "cell_type": "code",
   "execution_count": 5,
   "id": "63c00e97",
   "metadata": {},
   "outputs": [],
   "source": [
    "location=driver.find_element(By.XPATH,\"/html/body/div[1]/header/div/div[1]/div[2]/div/form/div[2]/div[1]/input\")\n",
    "location.send_keys(x)"
   ]
  },
  {
   "cell_type": "code",
   "execution_count": 6,
   "id": "cc0efdcf",
   "metadata": {},
   "outputs": [],
   "source": [
    "search=driver.find_element(By.CLASS_NAME,\"nav-right\")\n",
    "search.click()"
   ]
  },
  {
   "cell_type": "code",
   "execution_count": null,
   "id": "155b5f63",
   "metadata": {},
   "outputs": [],
   "source": [
    "Brand=[]\n",
    "ProdName=[]\n",
    "Price=[]\n",
    "retrn_exchnge=[]\n",
    "dlvry=[]\n",
    "avail=[]\n",
    "ProdURL=[]\n",
    "\n",
    "start=0\n",
    "end=3\n",
    "\n",
    "for page in range(start, end):\n",
    "    Brands=driver.find_elements(By.XPATH,'//span[@class=\"a-size-base-plus a-color-base\"]')\n",
    "    for i in Brands:\n",
    "        Brand.append(i.text)\n",
    "\n",
    "    ProdNames=driver.find_elements(By.XPATH,'//span[@class=\"a-size-base-plus a-color-base a-text-normal\"]')\n",
    "    for i in ProdNames:\n",
    "        ProdName.append(i.text)\n",
    "\n",
    "    Prices=driver.find_elements(By.XPATH,'//div[@class=\"a-price-whole\"]')\n",
    "    for i in Prices:\n",
    "        Price.append(i.text)\n",
    "\n",
    "\n",
    "    dlvrys=driver.find_elements(By.XPATH,'//div[@class=\"tags\"]')\n",
    "    for i in dlvrys:\n",
    "        dlvry.append(i.text)\n",
    "    \n",
    "    avails=driver.find_elements(By.XPATH,'//div[@class=\"tags\"]')\n",
    "    for i in avails:\n",
    "        avail.append(i.text)\n",
    "\n",
    "    ProdURLs=driver.find_elements(By.XPATH,'//div[@class=\"tags\"]')\n",
    "    for i in ProdURLs:\n",
    "        ProdURL.append(i.text)\n",
    "\n",
    "    nextb=driver.find_element(By.XPATH,'//li[@class=\"next\"]')\n",
    "    nextb.click()\n",
    "    time.sleep(2)"
   ]
  },
  {
   "cell_type": "code",
   "execution_count": 7,
   "id": "86e8e6f8",
   "metadata": {},
   "outputs": [
    {
     "ename": "NoSuchElementException",
     "evalue": "Message: no such element: Unable to locate element: {\"method\":\"xpath\",\"selector\":\"/html/body/div[1]/div[2]/div[1]/div[1]/div/span[1]/div[1]/div[3]/div/div/div/div/div/div/div[3]/div[2]/h2/a/span\"}\n  (Session info: chrome=109.0.5414.120)\nStacktrace:\nBacktrace:\n\t(No symbol) [0x007B6643]\n\t(No symbol) [0x0074BE21]\n\t(No symbol) [0x0064DA9D]\n\t(No symbol) [0x00681342]\n\t(No symbol) [0x0068147B]\n\t(No symbol) [0x006B8DC2]\n\t(No symbol) [0x0069FDC4]\n\t(No symbol) [0x006B6B09]\n\t(No symbol) [0x0069FB76]\n\t(No symbol) [0x006749C1]\n\t(No symbol) [0x00675E5D]\n\tGetHandleVerifier [0x00A2A142+2497106]\n\tGetHandleVerifier [0x00A585D3+2686691]\n\tGetHandleVerifier [0x00A5BB9C+2700460]\n\tGetHandleVerifier [0x00863B10+635936]\n\t(No symbol) [0x00754A1F]\n\t(No symbol) [0x0075A418]\n\t(No symbol) [0x0075A505]\n\t(No symbol) [0x0076508B]\n\tBaseThreadInitThunk [0x76717D69+25]\n\tRtlInitializeExceptionChain [0x7780BB9B+107]\n\tRtlClearBits [0x7780BB1F+191]\n",
     "output_type": "error",
     "traceback": [
      "\u001b[1;31m---------------------------------------------------------------------------\u001b[0m",
      "\u001b[1;31mNoSuchElementException\u001b[0m                    Traceback (most recent call last)",
      "Input \u001b[1;32mIn [7]\u001b[0m, in \u001b[0;36m<cell line: 1>\u001b[1;34m()\u001b[0m\n\u001b[1;32m----> 1\u001b[0m search\u001b[38;5;241m=\u001b[39m\u001b[43mdriver\u001b[49m\u001b[38;5;241;43m.\u001b[39;49m\u001b[43mfind_element\u001b[49m\u001b[43m(\u001b[49m\u001b[43mBy\u001b[49m\u001b[38;5;241;43m.\u001b[39;49m\u001b[43mXPATH\u001b[49m\u001b[43m,\u001b[49m\u001b[38;5;124;43m\"\u001b[39;49m\u001b[38;5;124;43m/html/body/div[1]/div[2]/div[1]/div[1]/div/span[1]/div[1]/div[3]/div/div/div/div/div/div/div[3]/div[2]/h2/a/span\u001b[39;49m\u001b[38;5;124;43m\"\u001b[39;49m\u001b[43m)\u001b[49m\n\u001b[0;32m      2\u001b[0m search\u001b[38;5;241m.\u001b[39mclick()\n",
      "File \u001b[1;32m~\\anaconda3\\lib\\site-packages\\selenium\\webdriver\\remote\\webdriver.py:861\u001b[0m, in \u001b[0;36mWebDriver.find_element\u001b[1;34m(self, by, value)\u001b[0m\n\u001b[0;32m    858\u001b[0m     by \u001b[38;5;241m=\u001b[39m By\u001b[38;5;241m.\u001b[39mCSS_SELECTOR\n\u001b[0;32m    859\u001b[0m     value \u001b[38;5;241m=\u001b[39m \u001b[38;5;124m'\u001b[39m\u001b[38;5;124m[name=\u001b[39m\u001b[38;5;124m\"\u001b[39m\u001b[38;5;132;01m%s\u001b[39;00m\u001b[38;5;124m\"\u001b[39m\u001b[38;5;124m]\u001b[39m\u001b[38;5;124m'\u001b[39m \u001b[38;5;241m%\u001b[39m value\n\u001b[1;32m--> 861\u001b[0m \u001b[38;5;28;01mreturn\u001b[39;00m \u001b[38;5;28;43mself\u001b[39;49m\u001b[38;5;241;43m.\u001b[39;49m\u001b[43mexecute\u001b[49m\u001b[43m(\u001b[49m\u001b[43mCommand\u001b[49m\u001b[38;5;241;43m.\u001b[39;49m\u001b[43mFIND_ELEMENT\u001b[49m\u001b[43m,\u001b[49m\u001b[43m \u001b[49m\u001b[43m{\u001b[49m\u001b[38;5;124;43m\"\u001b[39;49m\u001b[38;5;124;43musing\u001b[39;49m\u001b[38;5;124;43m\"\u001b[39;49m\u001b[43m:\u001b[49m\u001b[43m \u001b[49m\u001b[43mby\u001b[49m\u001b[43m,\u001b[49m\u001b[43m \u001b[49m\u001b[38;5;124;43m\"\u001b[39;49m\u001b[38;5;124;43mvalue\u001b[39;49m\u001b[38;5;124;43m\"\u001b[39;49m\u001b[43m:\u001b[49m\u001b[43m \u001b[49m\u001b[43mvalue\u001b[49m\u001b[43m}\u001b[49m\u001b[43m)\u001b[49m[\u001b[38;5;124m\"\u001b[39m\u001b[38;5;124mvalue\u001b[39m\u001b[38;5;124m\"\u001b[39m]\n",
      "File \u001b[1;32m~\\anaconda3\\lib\\site-packages\\selenium\\webdriver\\remote\\webdriver.py:444\u001b[0m, in \u001b[0;36mWebDriver.execute\u001b[1;34m(self, driver_command, params)\u001b[0m\n\u001b[0;32m    442\u001b[0m response \u001b[38;5;241m=\u001b[39m \u001b[38;5;28mself\u001b[39m\u001b[38;5;241m.\u001b[39mcommand_executor\u001b[38;5;241m.\u001b[39mexecute(driver_command, params)\n\u001b[0;32m    443\u001b[0m \u001b[38;5;28;01mif\u001b[39;00m response:\n\u001b[1;32m--> 444\u001b[0m     \u001b[38;5;28;43mself\u001b[39;49m\u001b[38;5;241;43m.\u001b[39;49m\u001b[43merror_handler\u001b[49m\u001b[38;5;241;43m.\u001b[39;49m\u001b[43mcheck_response\u001b[49m\u001b[43m(\u001b[49m\u001b[43mresponse\u001b[49m\u001b[43m)\u001b[49m\n\u001b[0;32m    445\u001b[0m     response[\u001b[38;5;124m\"\u001b[39m\u001b[38;5;124mvalue\u001b[39m\u001b[38;5;124m\"\u001b[39m] \u001b[38;5;241m=\u001b[39m \u001b[38;5;28mself\u001b[39m\u001b[38;5;241m.\u001b[39m_unwrap_value(response\u001b[38;5;241m.\u001b[39mget(\u001b[38;5;124m\"\u001b[39m\u001b[38;5;124mvalue\u001b[39m\u001b[38;5;124m\"\u001b[39m, \u001b[38;5;28;01mNone\u001b[39;00m))\n\u001b[0;32m    446\u001b[0m     \u001b[38;5;28;01mreturn\u001b[39;00m response\n",
      "File \u001b[1;32m~\\anaconda3\\lib\\site-packages\\selenium\\webdriver\\remote\\errorhandler.py:249\u001b[0m, in \u001b[0;36mErrorHandler.check_response\u001b[1;34m(self, response)\u001b[0m\n\u001b[0;32m    247\u001b[0m         alert_text \u001b[38;5;241m=\u001b[39m value[\u001b[38;5;124m\"\u001b[39m\u001b[38;5;124malert\u001b[39m\u001b[38;5;124m\"\u001b[39m]\u001b[38;5;241m.\u001b[39mget(\u001b[38;5;124m\"\u001b[39m\u001b[38;5;124mtext\u001b[39m\u001b[38;5;124m\"\u001b[39m)\n\u001b[0;32m    248\u001b[0m     \u001b[38;5;28;01mraise\u001b[39;00m exception_class(message, screen, stacktrace, alert_text)  \u001b[38;5;66;03m# type: ignore[call-arg]  # mypy is not smart enough here\u001b[39;00m\n\u001b[1;32m--> 249\u001b[0m \u001b[38;5;28;01mraise\u001b[39;00m exception_class(message, screen, stacktrace)\n",
      "\u001b[1;31mNoSuchElementException\u001b[0m: Message: no such element: Unable to locate element: {\"method\":\"xpath\",\"selector\":\"/html/body/div[1]/div[2]/div[1]/div[1]/div/span[1]/div[1]/div[3]/div/div/div/div/div/div/div[3]/div[2]/h2/a/span\"}\n  (Session info: chrome=109.0.5414.120)\nStacktrace:\nBacktrace:\n\t(No symbol) [0x007B6643]\n\t(No symbol) [0x0074BE21]\n\t(No symbol) [0x0064DA9D]\n\t(No symbol) [0x00681342]\n\t(No symbol) [0x0068147B]\n\t(No symbol) [0x006B8DC2]\n\t(No symbol) [0x0069FDC4]\n\t(No symbol) [0x006B6B09]\n\t(No symbol) [0x0069FB76]\n\t(No symbol) [0x006749C1]\n\t(No symbol) [0x00675E5D]\n\tGetHandleVerifier [0x00A2A142+2497106]\n\tGetHandleVerifier [0x00A585D3+2686691]\n\tGetHandleVerifier [0x00A5BB9C+2700460]\n\tGetHandleVerifier [0x00863B10+635936]\n\t(No symbol) [0x00754A1F]\n\t(No symbol) [0x0075A418]\n\t(No symbol) [0x0075A505]\n\t(No symbol) [0x0076508B]\n\tBaseThreadInitThunk [0x76717D69+25]\n\tRtlInitializeExceptionChain [0x7780BB9B+107]\n\tRtlClearBits [0x7780BB1F+191]\n"
     ]
    }
   ],
   "source": [
    "search=driver.find_element(By.XPATH,\"/html/body/div[1]/div[2]/div[1]/div[1]/div/span[1]/div[1]/div[3]/div/div/div/div/div/div/div[3]/div[2]/h2/a/span\")\n",
    "search.click()"
   ]
  },
  {
   "cell_type": "code",
   "execution_count": 10,
   "id": "c372b63b",
   "metadata": {},
   "outputs": [
    {
     "data": {
      "text/plain": [
       "['Boldfit',\n",
       " 'Zacharias',\n",
       " 'Fraternity',\n",
       " 'SwooK',\n",
       " 'Puma',\n",
       " 'ALAMOS',\n",
       " 'Boldfit',\n",
       " 'Boldfit',\n",
       " 'Puma',\n",
       " 'REFFER',\n",
       " 'DRUNKEN',\n",
       " 'FabSeasons',\n",
       " 'Puma',\n",
       " 'Generic',\n",
       " 'ILU',\n",
       " 'Coreteq',\n",
       " 'Puma',\n",
       " '',\n",
       " '',\n",
       " 'Gajraj',\n",
       " 'Gajraj',\n",
       " 'Goorin Bros.',\n",
       " '',\n",
       " '',\n",
       " '',\n",
       " '',\n",
       " '',\n",
       " 'Boldfit',\n",
       " 'Puma',\n",
       " 'SELLORIA',\n",
       " 'Generic',\n",
       " 'Brand Conquer',\n",
       " 'Puma',\n",
       " 'SwooK',\n",
       " 'SwooK',\n",
       " 'SwooK',\n",
       " 'aeneas',\n",
       " 'Boldfit',\n",
       " 'Puma',\n",
       " 'Puma',\n",
       " 'GUSTAVE',\n",
       " 'Handcuffs',\n",
       " 'Generic',\n",
       " 'Jack & Jones',\n",
       " 'DRUNKEN',\n",
       " 'Jockey',\n",
       " 'DIGITAL SHOPEE',\n",
       " 'Puma',\n",
       " 'Gajraj',\n",
       " 'FabSeasons',\n",
       " 'Puma',\n",
       " 'Puma',\n",
       " 'Puma',\n",
       " 'Speedo',\n",
       " 'Prime Deals',\n",
       " 'Generic',\n",
       " 'Puma',\n",
       " 'REFFER',\n",
       " 'Puma',\n",
       " 'Oligitdi',\n",
       " 'Handcuffs',\n",
       " 'MUKHAKSH',\n",
       " 'Generic',\n",
       " 'TrendZone',\n",
       " 'Puma',\n",
       " 'Jack & Jones',\n",
       " 'Puma',\n",
       " 'INFISPACE',\n",
       " 'FabSeasons',\n",
       " 'Faircost',\n",
       " 'NEON ROCK',\n",
       " 'HUSB',\n",
       " 'Faircost',\n",
       " 'NEON ROCK',\n",
       " 'Boldfit',\n",
       " 'Zacharias',\n",
       " 'Fraternity',\n",
       " 'SwooK',\n",
       " 'Puma',\n",
       " 'ALAMOS',\n",
       " 'Boldfit',\n",
       " 'Boldfit',\n",
       " 'Puma',\n",
       " 'REFFER',\n",
       " 'DRUNKEN',\n",
       " 'FabSeasons',\n",
       " 'Puma',\n",
       " 'Generic',\n",
       " 'ILU',\n",
       " 'Coreteq',\n",
       " 'Puma',\n",
       " '',\n",
       " '',\n",
       " 'Gajraj',\n",
       " 'Gajraj',\n",
       " 'Goorin Bros.',\n",
       " '',\n",
       " '',\n",
       " '',\n",
       " '',\n",
       " '',\n",
       " 'Boldfit',\n",
       " 'Puma',\n",
       " 'SELLORIA',\n",
       " 'Generic',\n",
       " 'Brand Conquer',\n",
       " 'Puma',\n",
       " 'SwooK',\n",
       " 'SwooK',\n",
       " 'SwooK',\n",
       " 'aeneas',\n",
       " 'Boldfit',\n",
       " 'Puma',\n",
       " 'Puma',\n",
       " 'GUSTAVE',\n",
       " 'Handcuffs',\n",
       " 'Generic',\n",
       " 'Jack & Jones',\n",
       " 'DRUNKEN',\n",
       " 'Jockey',\n",
       " 'DIGITAL SHOPEE',\n",
       " 'Puma',\n",
       " 'Gajraj',\n",
       " 'FabSeasons',\n",
       " 'Puma',\n",
       " 'Puma',\n",
       " 'Puma',\n",
       " 'Speedo',\n",
       " 'Prime Deals',\n",
       " 'Generic',\n",
       " 'Puma',\n",
       " 'REFFER',\n",
       " 'Puma',\n",
       " 'Oligitdi',\n",
       " 'Handcuffs',\n",
       " 'MUKHAKSH',\n",
       " 'Generic',\n",
       " 'TrendZone',\n",
       " 'Puma',\n",
       " 'Jack & Jones',\n",
       " 'Puma',\n",
       " 'INFISPACE',\n",
       " 'FabSeasons',\n",
       " 'Faircost',\n",
       " 'NEON ROCK',\n",
       " 'HUSB',\n",
       " 'Faircost',\n",
       " 'NEON ROCK',\n",
       " 'Boldfit',\n",
       " 'Zacharias',\n",
       " 'Fraternity',\n",
       " 'SwooK',\n",
       " 'Puma',\n",
       " 'ALAMOS',\n",
       " 'Boldfit',\n",
       " 'Boldfit',\n",
       " 'Puma',\n",
       " 'REFFER',\n",
       " 'DRUNKEN',\n",
       " 'FabSeasons',\n",
       " 'Puma',\n",
       " 'Generic',\n",
       " 'ILU',\n",
       " 'Coreteq',\n",
       " 'Puma',\n",
       " '',\n",
       " '',\n",
       " 'Gajraj',\n",
       " 'Gajraj',\n",
       " 'Goorin Bros.',\n",
       " '',\n",
       " '',\n",
       " '',\n",
       " '',\n",
       " '',\n",
       " 'Boldfit',\n",
       " 'Puma',\n",
       " 'SELLORIA',\n",
       " 'Generic',\n",
       " 'Brand Conquer',\n",
       " 'Puma',\n",
       " 'SwooK',\n",
       " 'SwooK',\n",
       " 'SwooK',\n",
       " 'aeneas',\n",
       " 'Boldfit',\n",
       " 'Puma',\n",
       " 'Puma',\n",
       " 'GUSTAVE',\n",
       " 'Handcuffs',\n",
       " 'Generic',\n",
       " 'Jack & Jones',\n",
       " 'DRUNKEN',\n",
       " 'Jockey',\n",
       " 'DIGITAL SHOPEE',\n",
       " 'Puma',\n",
       " 'Gajraj',\n",
       " 'FabSeasons',\n",
       " 'Puma',\n",
       " 'Puma',\n",
       " 'Puma',\n",
       " 'Speedo',\n",
       " 'Prime Deals',\n",
       " 'Generic',\n",
       " 'Puma',\n",
       " 'REFFER',\n",
       " 'Puma',\n",
       " 'Oligitdi',\n",
       " 'Handcuffs',\n",
       " 'MUKHAKSH',\n",
       " 'Generic',\n",
       " 'TrendZone',\n",
       " 'Puma',\n",
       " 'Jack & Jones',\n",
       " 'Puma',\n",
       " 'INFISPACE',\n",
       " 'FabSeasons',\n",
       " 'Faircost',\n",
       " 'NEON ROCK',\n",
       " 'HUSB',\n",
       " 'Faircost',\n",
       " 'NEON ROCK']"
      ]
     },
     "execution_count": 10,
     "metadata": {},
     "output_type": "execute_result"
    }
   ],
   "source": [
    "Brand=[]\n",
    "\n",
    "start=0\n",
    "end=3\n",
    "for page in range(start, end):\n",
    "\n",
    "    try:\n",
    "        Brands=driver.find_elements(By.XPATH,'//span[@class=\"a-size-base-plus a-color-base\"]')\n",
    "        for i in Brands:\n",
    "            Brand.append(i.text)\n",
    "    except NoSuchElementException as e:\n",
    "        Brands=driver.find_elements(By.XPATH,'-')\n",
    "        for i in Brands:\n",
    "            Brand.append(i.text)        \n",
    "Brand"
   ]
  },
  {
   "cell_type": "code",
   "execution_count": 53,
   "id": "05583dae",
   "metadata": {},
   "outputs": [
    {
     "data": {
      "text/plain": [
       "['Head Caps for Men Unisex Mens Caps Branded with Adjustable Strap in Summer for Men, Caps Men for All Sports Cricket Caps for Men, Gym Caps for Men, Sports Caps for Men with Airholes',\n",
       " 'Acrylic Woolen Winter Skull Cap',\n",
       " 'FabSeasons Casual Unisex Baseball Cap with Ventilation, Free Size',\n",
       " 'Unisex Net Baseball Cap',\n",
       " \"Unisex's Cap (2406101_Black\",\n",
       " 'Unisex Cap (Pack Of 2)',\n",
       " \"Unisex's Cap (2497201_Black-AOP\",\n",
       " 'Head Caps for Men Unisex Mens Caps Branded with Adjustable Strap in Summer for Men, Caps Men for All Sports Cricket Caps for Men, Gym Caps for Men, Sports Caps for Men with Airholes',\n",
       " \"Adult's Cotton Slouchy Beanie And Skull Cap\",\n",
       " 'Baseball Cotton Plain Adjustable caps for Men and Women',\n",
       " 'Head Caps for Men Unisex Mens Caps Branded with Adjustable Strap in Summer for Men, Caps Men for All Sports Cricket Caps for Men, Gym Caps for Men, Sports Caps for Men with Airholes',\n",
       " 'Boldfit Head Support Head Cap for Helmet Head Skull Cap (Pack of 1) Black',\n",
       " \"Unisex's Cap (2497202_Varsity Green-AOP\",\n",
       " \"Unisex's Cap (2400503_Parisian Night\",\n",
       " 'Unisex Cotton Baseball Cap',\n",
       " 'Winter Knit Beanie Cap Hat Neck Warmer Scarf and Woolen Gloves Set for Men & Women (3 Piece)',\n",
       " 'Unisex-adult Wool Skull Cap (Pack of 1)',\n",
       " '2 Pcs Hair Bonnets for Women Satin, Soft Elastic Band Silky Sleeping Cap Big Bonnets for Women Bonnet for Braids',\n",
       " '',\n",
       " '',\n",
       " '',\n",
       " '',\n",
       " '',\n",
       " 'Unisex Water Resistant Rapid Dry Lightweight Sports Cap with Adjustable Strap',\n",
       " \"Men's Cap\",\n",
       " '',\n",
       " '',\n",
       " 'FabSeasons Cotton Skull Cap',\n",
       " \"Men's Cap\",\n",
       " 'Boldfit Winter Wear for Women Winter Cap for Men Woolen Cap for Men Beanie Cap for Men Winter Gloves for Men Winter Clothing Set for Women & Men. Mufflers for Men Neck Warmer Winter Clothes for Women',\n",
       " 'Unisex Cap',\n",
       " 'Printed Character Little Baseball Cap for Kids, Baby Girls and Boys 3-12 Years',\n",
       " \"Women's Wool Cap (Women-Woolen-Cap_Blue_Free Size)\",\n",
       " 'Kids Baseball Cricket Caps Summer Season Hats Imported Unisex Velcro Strap Letter B Blue',\n",
       " 'Ivry/Golf/Flat Tweed Caps/Hats(with & Without Earflaps) for Men-Pack of 1-Free Size- Assorted Patterns',\n",
       " 'Tailorvisit Baseball Cotton Plain Adjustable caps for Men and Women, Combo',\n",
       " 'Tailorvisit Cap Baseball Cotton Plain Adjustable caps for Men and Women',\n",
       " 'Boldfit Woolen Cap for Men & Women Woolen Winter Cap for Men & Women for Thermal Wear Stylish Winter Caps for Boys & Girls for Warm Wear Head Winter Cap Men Woolen Garam Topaa Cap Branded Bennies',\n",
       " \"Women's Fur Skull Cap (esg-Black-Winter-Woolen-Cap_Black_M)\",\n",
       " 'Wool Beanie Cap & Muffler For Mens & Women – Winter Cap For Men – Men’s Woolen Cap With Neck Muffler – Winter Muffler For Women – Soft Woolen Muffler & Cap For Men & Women',\n",
       " 'Black Long Visor Baseball caps for men and boys pack of 1',\n",
       " 'Unisex Cotton Skull Cap',\n",
       " 'Baseball Caps for Men Women Quick Dry Fabrics Sports Summer Caps for Men Women Stylish Hat for Fishing Outside Hiking Adjustable Buckle Closure',\n",
       " \"Men's Baseball Cap (258378516- Anthracite_ONE)\",\n",
       " 'Unisex-Adult Cotton Cap (Pack of 1) (023535 01_Black_Free Size)',\n",
       " \"Men's Baseball Cap (2445901_Black_Free Size)\",\n",
       " 'Unisex-adult Wool Skull Cap (Pack of 1)',\n",
       " \"Men's Cap (258378512-Blue Denim_Blue Free Size)\",\n",
       " 'Unisex-Adult BMW M BB Cap White (2253602)',\n",
       " \"Unisex's Baseball Cap (2497002_Light Aqua-AOP_Free Size)\",\n",
       " \"Unisex's Cap (2400601_Black\",\n",
       " 'AutoKraftZ Cap and Scarf,Soft Warm Snow/Air Proof Fleece Knitted Cap (Inside Fur) Woolen Beanie Winter Cap with Scarf for Women/Girl/Ladies/Men, red, xl',\n",
       " \"Unisex's Cap (2459202_Mineral Blue\",\n",
       " \"Women's Wool Cap (Ladies Winter Black with Grey Fold Cap_Black_22 x 23.6)\",\n",
       " \"Adult's Cotton Caps (Pack Of 1)\",\n",
       " \"Unisex Kid's Baseball Cap (2241712_Rose Quartz-No 1_Free Size)\",\n",
       " \"Unisex's Cap (2406102_Mercedes Team Silver\",\n",
       " 'Baseball Caps from Seerthi',\n",
       " \"Cap for Men Women Topi Unisex Head Branded Boy's Girl's Caps Adjustable Strap Summer Sports Cricket Gym Dance Cotton Free Size Woolen Fashion Baseball Hip hop Helmet Winter Snapback (Green)\",\n",
       " 'Mens Womens Cap Adjustable Sports Caps',\n",
       " 'Woolen Winter Skull Cap Black',\n",
       " \"Kandid Men's and Women's Soft Warm Snow/Air Proof Fleece Knitted Woollen Beanie Winter Cap, Inside Fur with Scarf, Red, L (CAP_WITH_SCARF_RED_01)\",\n",
       " 'Mens Printed Cap',\n",
       " \"Cap for Men Women Topi Unisex Head Branded Boy's Girl's Caps Adjustable Strap Summer Sports Cricket Gym Dance Cotton Free Size Woolen Fashion Baseball Hip hop Helmet Winter Snapback (Black)\",\n",
       " \"Unisex's Cap (2400403_Parisian Night\",\n",
       " 'Knitted Woolen Slouchy Beanie Cap for Men & Women',\n",
       " 'Unisex Cotton Baseball Cap (Pack Of 2)',\n",
       " 'Baseball Cap for Men & Women Sports Caps',\n",
       " 'Cartoon Character Printed Little Cap for Kids, Baby Girls and Boys 3-12 Years',\n",
       " 'Unisex Acrylic, Cotton Sun Hat',\n",
       " 'Men Women Dori Cap Stylish Premium Cotton Hat Cap for Summer, Winter, Spring, Autumn and All Activities, Freesize Pack of 1',\n",
       " \"Cap for Men Women Topi Unisex Head Branded Boy's Girl's Caps Adjustable Strap Summer Sports Cricket Gym Dance Cotton Free Size Woolen Fashion Baseball Hip hop Helmet Winter Snapback (Multi)\",\n",
       " 'Spiderbull Men and Women Baseball Cap for Hunting, Fishing, Outdoor Activities Freesize SB_Cap_Black_PRINTT_410',\n",
       " 'Men and Women Foldable Cotton Pocket Cap for All Sports and Outdoor Activities, Easy to Carry Free Size- Pack of 1',\n",
       " 'Head Caps for Men Unisex Mens Caps Branded with Adjustable Strap in Summer for Men, Caps Men for All Sports Cricket Caps for Men, Gym Caps for Men, Sports Caps for Men with Airholes',\n",
       " 'Acrylic Woolen Winter Skull Cap',\n",
       " 'FabSeasons Casual Unisex Baseball Cap with Ventilation, Free Size',\n",
       " 'Unisex Net Baseball Cap',\n",
       " \"Unisex's Cap (2406101_Black\",\n",
       " 'Unisex Cap (Pack Of 2)',\n",
       " \"Unisex's Cap (2497201_Black-AOP\",\n",
       " 'Head Caps for Men Unisex Mens Caps Branded with Adjustable Strap in Summer for Men, Caps Men for All Sports Cricket Caps for Men, Gym Caps for Men, Sports Caps for Men with Airholes',\n",
       " \"Adult's Cotton Slouchy Beanie And Skull Cap\",\n",
       " 'Baseball Cotton Plain Adjustable caps for Men and Women',\n",
       " 'Head Caps for Men Unisex Mens Caps Branded with Adjustable Strap in Summer for Men, Caps Men for All Sports Cricket Caps for Men, Gym Caps for Men, Sports Caps for Men with Airholes',\n",
       " 'Boldfit Head Support Head Cap for Helmet Head Skull Cap (Pack of 1) Black',\n",
       " \"Unisex's Cap (2497202_Varsity Green-AOP\",\n",
       " \"Unisex's Cap (2400503_Parisian Night\",\n",
       " 'Unisex Cotton Baseball Cap',\n",
       " 'Winter Knit Beanie Cap Hat Neck Warmer Scarf and Woolen Gloves Set for Men & Women (3 Piece)',\n",
       " 'Unisex-adult Wool Skull Cap (Pack of 1)',\n",
       " '2 Pcs Hair Bonnets for Women Satin, Soft Elastic Band Silky Sleeping Cap Big Bonnets for Women Bonnet for Braids',\n",
       " '',\n",
       " '',\n",
       " '',\n",
       " '',\n",
       " '',\n",
       " 'Unisex Water Resistant Rapid Dry Lightweight Sports Cap with Adjustable Strap',\n",
       " \"Men's Cap\",\n",
       " '',\n",
       " '',\n",
       " 'FabSeasons Cotton Skull Cap',\n",
       " \"Men's Cap\",\n",
       " 'Boldfit Winter Wear for Women Winter Cap for Men Woolen Cap for Men Beanie Cap for Men Winter Gloves for Men Winter Clothing Set for Women & Men. Mufflers for Men Neck Warmer Winter Clothes for Women',\n",
       " 'Unisex Cap',\n",
       " 'Printed Character Little Baseball Cap for Kids, Baby Girls and Boys 3-12 Years',\n",
       " \"Women's Wool Cap (Women-Woolen-Cap_Blue_Free Size)\",\n",
       " 'Kids Baseball Cricket Caps Summer Season Hats Imported Unisex Velcro Strap Letter B Blue',\n",
       " 'Ivry/Golf/Flat Tweed Caps/Hats(with & Without Earflaps) for Men-Pack of 1-Free Size- Assorted Patterns',\n",
       " 'Tailorvisit Baseball Cotton Plain Adjustable caps for Men and Women, Combo',\n",
       " 'Tailorvisit Cap Baseball Cotton Plain Adjustable caps for Men and Women',\n",
       " 'Boldfit Woolen Cap for Men & Women Woolen Winter Cap for Men & Women for Thermal Wear Stylish Winter Caps for Boys & Girls for Warm Wear Head Winter Cap Men Woolen Garam Topaa Cap Branded Bennies',\n",
       " \"Women's Fur Skull Cap (esg-Black-Winter-Woolen-Cap_Black_M)\",\n",
       " 'Wool Beanie Cap & Muffler For Mens & Women – Winter Cap For Men – Men’s Woolen Cap With Neck Muffler – Winter Muffler For Women – Soft Woolen Muffler & Cap For Men & Women',\n",
       " 'Black Long Visor Baseball caps for men and boys pack of 1',\n",
       " 'Unisex Cotton Skull Cap',\n",
       " 'Baseball Caps for Men Women Quick Dry Fabrics Sports Summer Caps for Men Women Stylish Hat for Fishing Outside Hiking Adjustable Buckle Closure',\n",
       " \"Men's Baseball Cap (258378516- Anthracite_ONE)\",\n",
       " 'Unisex-Adult Cotton Cap (Pack of 1) (023535 01_Black_Free Size)',\n",
       " \"Men's Baseball Cap (2445901_Black_Free Size)\",\n",
       " 'Unisex-adult Wool Skull Cap (Pack of 1)',\n",
       " \"Men's Cap (258378512-Blue Denim_Blue Free Size)\",\n",
       " 'Unisex-Adult BMW M BB Cap White (2253602)',\n",
       " \"Unisex's Baseball Cap (2497002_Light Aqua-AOP_Free Size)\",\n",
       " \"Unisex's Cap (2400601_Black\",\n",
       " 'AutoKraftZ Cap and Scarf,Soft Warm Snow/Air Proof Fleece Knitted Cap (Inside Fur) Woolen Beanie Winter Cap with Scarf for Women/Girl/Ladies/Men, red, xl',\n",
       " \"Unisex's Cap (2459202_Mineral Blue\",\n",
       " \"Women's Wool Cap (Ladies Winter Black with Grey Fold Cap_Black_22 x 23.6)\",\n",
       " \"Adult's Cotton Caps (Pack Of 1)\",\n",
       " \"Unisex Kid's Baseball Cap (2241712_Rose Quartz-No 1_Free Size)\",\n",
       " \"Unisex's Cap (2406102_Mercedes Team Silver\",\n",
       " 'Baseball Caps from Seerthi',\n",
       " \"Cap for Men Women Topi Unisex Head Branded Boy's Girl's Caps Adjustable Strap Summer Sports Cricket Gym Dance Cotton Free Size Woolen Fashion Baseball Hip hop Helmet Winter Snapback (Green)\",\n",
       " 'Mens Womens Cap Adjustable Sports Caps',\n",
       " 'Woolen Winter Skull Cap Black',\n",
       " \"Kandid Men's and Women's Soft Warm Snow/Air Proof Fleece Knitted Woollen Beanie Winter Cap, Inside Fur with Scarf, Red, L (CAP_WITH_SCARF_RED_01)\",\n",
       " 'Mens Printed Cap',\n",
       " \"Cap for Men Women Topi Unisex Head Branded Boy's Girl's Caps Adjustable Strap Summer Sports Cricket Gym Dance Cotton Free Size Woolen Fashion Baseball Hip hop Helmet Winter Snapback (Black)\",\n",
       " \"Unisex's Cap (2400403_Parisian Night\",\n",
       " 'Knitted Woolen Slouchy Beanie Cap for Men & Women',\n",
       " 'Unisex Cotton Baseball Cap (Pack Of 2)',\n",
       " 'Baseball Cap for Men & Women Sports Caps',\n",
       " 'Cartoon Character Printed Little Cap for Kids, Baby Girls and Boys 3-12 Years',\n",
       " 'Unisex Acrylic, Cotton Sun Hat',\n",
       " 'Men Women Dori Cap Stylish Premium Cotton Hat Cap for Summer, Winter, Spring, Autumn and All Activities, Freesize Pack of 1',\n",
       " \"Cap for Men Women Topi Unisex Head Branded Boy's Girl's Caps Adjustable Strap Summer Sports Cricket Gym Dance Cotton Free Size Woolen Fashion Baseball Hip hop Helmet Winter Snapback (Multi)\",\n",
       " 'Spiderbull Men and Women Baseball Cap for Hunting, Fishing, Outdoor Activities Freesize SB_Cap_Black_PRINTT_410',\n",
       " 'Men and Women Foldable Cotton Pocket Cap for All Sports and Outdoor Activities, Easy to Carry Free Size- Pack of 1',\n",
       " 'Head Caps for Men Unisex Mens Caps Branded with Adjustable Strap in Summer for Men, Caps Men for All Sports Cricket Caps for Men, Gym Caps for Men, Sports Caps for Men with Airholes',\n",
       " 'Acrylic Woolen Winter Skull Cap',\n",
       " 'FabSeasons Casual Unisex Baseball Cap with Ventilation, Free Size',\n",
       " 'Unisex Net Baseball Cap',\n",
       " \"Unisex's Cap (2406101_Black\",\n",
       " 'Unisex Cap (Pack Of 2)',\n",
       " \"Unisex's Cap (2497201_Black-AOP\",\n",
       " 'Head Caps for Men Unisex Mens Caps Branded with Adjustable Strap in Summer for Men, Caps Men for All Sports Cricket Caps for Men, Gym Caps for Men, Sports Caps for Men with Airholes',\n",
       " \"Adult's Cotton Slouchy Beanie And Skull Cap\",\n",
       " 'Baseball Cotton Plain Adjustable caps for Men and Women',\n",
       " 'Head Caps for Men Unisex Mens Caps Branded with Adjustable Strap in Summer for Men, Caps Men for All Sports Cricket Caps for Men, Gym Caps for Men, Sports Caps for Men with Airholes',\n",
       " 'Boldfit Head Support Head Cap for Helmet Head Skull Cap (Pack of 1) Black',\n",
       " \"Unisex's Cap (2497202_Varsity Green-AOP\",\n",
       " \"Unisex's Cap (2400503_Parisian Night\",\n",
       " 'Unisex Cotton Baseball Cap',\n",
       " 'Winter Knit Beanie Cap Hat Neck Warmer Scarf and Woolen Gloves Set for Men & Women (3 Piece)',\n",
       " 'Unisex-adult Wool Skull Cap (Pack of 1)',\n",
       " '2 Pcs Hair Bonnets for Women Satin, Soft Elastic Band Silky Sleeping Cap Big Bonnets for Women Bonnet for Braids',\n",
       " '',\n",
       " '',\n",
       " '',\n",
       " '',\n",
       " '',\n",
       " 'Unisex Water Resistant Rapid Dry Lightweight Sports Cap with Adjustable Strap',\n",
       " \"Men's Cap\",\n",
       " '',\n",
       " '',\n",
       " 'FabSeasons Cotton Skull Cap',\n",
       " \"Men's Cap\",\n",
       " 'Boldfit Winter Wear for Women Winter Cap for Men Woolen Cap for Men Beanie Cap for Men Winter Gloves for Men Winter Clothing Set for Women & Men. Mufflers for Men Neck Warmer Winter Clothes for Women',\n",
       " 'Unisex Cap',\n",
       " 'Printed Character Little Baseball Cap for Kids, Baby Girls and Boys 3-12 Years',\n",
       " \"Women's Wool Cap (Women-Woolen-Cap_Blue_Free Size)\",\n",
       " 'Kids Baseball Cricket Caps Summer Season Hats Imported Unisex Velcro Strap Letter B Blue',\n",
       " 'Ivry/Golf/Flat Tweed Caps/Hats(with & Without Earflaps) for Men-Pack of 1-Free Size- Assorted Patterns',\n",
       " 'Tailorvisit Baseball Cotton Plain Adjustable caps for Men and Women, Combo',\n",
       " 'Tailorvisit Cap Baseball Cotton Plain Adjustable caps for Men and Women',\n",
       " 'Boldfit Woolen Cap for Men & Women Woolen Winter Cap for Men & Women for Thermal Wear Stylish Winter Caps for Boys & Girls for Warm Wear Head Winter Cap Men Woolen Garam Topaa Cap Branded Bennies',\n",
       " \"Women's Fur Skull Cap (esg-Black-Winter-Woolen-Cap_Black_M)\",\n",
       " 'Wool Beanie Cap & Muffler For Mens & Women – Winter Cap For Men – Men’s Woolen Cap With Neck Muffler – Winter Muffler For Women – Soft Woolen Muffler & Cap For Men & Women',\n",
       " 'Black Long Visor Baseball caps for men and boys pack of 1',\n",
       " 'Unisex Cotton Skull Cap',\n",
       " 'Baseball Caps for Men Women Quick Dry Fabrics Sports Summer Caps for Men Women Stylish Hat for Fishing Outside Hiking Adjustable Buckle Closure',\n",
       " \"Men's Baseball Cap (258378516- Anthracite_ONE)\",\n",
       " 'Unisex-Adult Cotton Cap (Pack of 1) (023535 01_Black_Free Size)',\n",
       " \"Men's Baseball Cap (2445901_Black_Free Size)\",\n",
       " 'Unisex-adult Wool Skull Cap (Pack of 1)',\n",
       " \"Men's Cap (258378512-Blue Denim_Blue Free Size)\",\n",
       " 'Unisex-Adult BMW M BB Cap White (2253602)',\n",
       " \"Unisex's Baseball Cap (2497002_Light Aqua-AOP_Free Size)\",\n",
       " \"Unisex's Cap (2400601_Black\",\n",
       " 'AutoKraftZ Cap and Scarf,Soft Warm Snow/Air Proof Fleece Knitted Cap (Inside Fur) Woolen Beanie Winter Cap with Scarf for Women/Girl/Ladies/Men, red, xl',\n",
       " \"Unisex's Cap (2459202_Mineral Blue\",\n",
       " \"Women's Wool Cap (Ladies Winter Black with Grey Fold Cap_Black_22 x 23.6)\",\n",
       " \"Adult's Cotton Caps (Pack Of 1)\",\n",
       " \"Unisex Kid's Baseball Cap (2241712_Rose Quartz-No 1_Free Size)\",\n",
       " \"Unisex's Cap (2406102_Mercedes Team Silver\",\n",
       " 'Baseball Caps from Seerthi',\n",
       " \"Cap for Men Women Topi Unisex Head Branded Boy's Girl's Caps Adjustable Strap Summer Sports Cricket Gym Dance Cotton Free Size Woolen Fashion Baseball Hip hop Helmet Winter Snapback (Green)\",\n",
       " 'Mens Womens Cap Adjustable Sports Caps',\n",
       " 'Woolen Winter Skull Cap Black',\n",
       " \"Kandid Men's and Women's Soft Warm Snow/Air Proof Fleece Knitted Woollen Beanie Winter Cap, Inside Fur with Scarf, Red, L (CAP_WITH_SCARF_RED_01)\",\n",
       " 'Mens Printed Cap',\n",
       " \"Cap for Men Women Topi Unisex Head Branded Boy's Girl's Caps Adjustable Strap Summer Sports Cricket Gym Dance Cotton Free Size Woolen Fashion Baseball Hip hop Helmet Winter Snapback (Black)\",\n",
       " \"Unisex's Cap (2400403_Parisian Night\",\n",
       " 'Knitted Woolen Slouchy Beanie Cap for Men & Women',\n",
       " 'Unisex Cotton Baseball Cap (Pack Of 2)',\n",
       " 'Baseball Cap for Men & Women Sports Caps',\n",
       " 'Cartoon Character Printed Little Cap for Kids, Baby Girls and Boys 3-12 Years',\n",
       " 'Unisex Acrylic, Cotton Sun Hat',\n",
       " 'Men Women Dori Cap Stylish Premium Cotton Hat Cap for Summer, Winter, Spring, Autumn and All Activities, Freesize Pack of 1',\n",
       " \"Cap for Men Women Topi Unisex Head Branded Boy's Girl's Caps Adjustable Strap Summer Sports Cricket Gym Dance Cotton Free Size Woolen Fashion Baseball Hip hop Helmet Winter Snapback (Multi)\",\n",
       " 'Spiderbull Men and Women Baseball Cap for Hunting, Fishing, Outdoor Activities Freesize SB_Cap_Black_PRINTT_410',\n",
       " 'Men and Women Foldable Cotton Pocket Cap for All Sports and Outdoor Activities, Easy to Carry Free Size- Pack of 1']"
      ]
     },
     "execution_count": 53,
     "metadata": {},
     "output_type": "execute_result"
    }
   ],
   "source": [
    "ProdName=[]\n",
    "start=0\n",
    "end=3\n",
    "\n",
    "for page in range(start, end):\n",
    "        ProdNames=driver.find_elements(By.XPATH,'//span[@class=\"a-size-base-plus a-color-base a-text-normal\"]')\n",
    "        for i in ProdNames:\n",
    "            ProdName.append(i.text)\n",
    "ProdName"
   ]
  },
  {
   "cell_type": "code",
   "execution_count": 54,
   "id": "7e7fb6e2",
   "metadata": {},
   "outputs": [
    {
     "data": {
      "text/plain": [
       "['399',\n",
       " '399',\n",
       " '399',\n",
       " '255',\n",
       " '399',\n",
       " '237',\n",
       " '769',\n",
       " '272',\n",
       " '449',\n",
       " '399',\n",
       " '251',\n",
       " '249',\n",
       " '399',\n",
       " '169',\n",
       " '449',\n",
       " '699',\n",
       " '235',\n",
       " '349',\n",
       " '279',\n",
       " '1,690',\n",
       " '',\n",
       " '',\n",
       " '',\n",
       " '',\n",
       " '',\n",
       " '449',\n",
       " '609',\n",
       " '',\n",
       " '',\n",
       " '251',\n",
       " '349',\n",
       " '399',\n",
       " '519',\n",
       " '649',\n",
       " '250',\n",
       " '199',\n",
       " '99',\n",
       " '310',\n",
       " '399',\n",
       " '299',\n",
       " '199',\n",
       " '199',\n",
       " '249',\n",
       " '92',\n",
       " '270',\n",
       " '251',\n",
       " '439',\n",
       " '719',\n",
       " '589',\n",
       " '466',\n",
       " '279',\n",
       " '719',\n",
       " '709',\n",
       " '649',\n",
       " '699',\n",
       " '249',\n",
       " '539',\n",
       " '610',\n",
       " '199',\n",
       " '199',\n",
       " '399',\n",
       " '779',\n",
       " '199',\n",
       " '359',\n",
       " '426',\n",
       " '255',\n",
       " '236',\n",
       " '409',\n",
       " '244',\n",
       " '949',\n",
       " '249',\n",
       " '399',\n",
       " '389',\n",
       " '399',\n",
       " '499',\n",
       " '459',\n",
       " '394',\n",
       " '399',\n",
       " '379',\n",
       " '399',\n",
       " '399',\n",
       " '399',\n",
       " '255',\n",
       " '399',\n",
       " '237',\n",
       " '769',\n",
       " '272',\n",
       " '449',\n",
       " '399',\n",
       " '251',\n",
       " '249',\n",
       " '399',\n",
       " '169',\n",
       " '449',\n",
       " '699',\n",
       " '235',\n",
       " '349',\n",
       " '279',\n",
       " '1,690',\n",
       " '',\n",
       " '',\n",
       " '',\n",
       " '',\n",
       " '',\n",
       " '449',\n",
       " '609',\n",
       " '',\n",
       " '',\n",
       " '251',\n",
       " '349',\n",
       " '399',\n",
       " '519',\n",
       " '649',\n",
       " '250',\n",
       " '199',\n",
       " '99',\n",
       " '310',\n",
       " '399',\n",
       " '299',\n",
       " '199',\n",
       " '199',\n",
       " '249',\n",
       " '92',\n",
       " '270',\n",
       " '251',\n",
       " '439',\n",
       " '719',\n",
       " '589',\n",
       " '466',\n",
       " '279',\n",
       " '719',\n",
       " '709',\n",
       " '649',\n",
       " '699',\n",
       " '249',\n",
       " '539',\n",
       " '610',\n",
       " '199',\n",
       " '199',\n",
       " '399',\n",
       " '779',\n",
       " '199',\n",
       " '359',\n",
       " '426',\n",
       " '255',\n",
       " '236',\n",
       " '409',\n",
       " '244',\n",
       " '949',\n",
       " '249',\n",
       " '399',\n",
       " '389',\n",
       " '399',\n",
       " '499',\n",
       " '459',\n",
       " '394',\n",
       " '399',\n",
       " '379',\n",
       " '399',\n",
       " '399',\n",
       " '399',\n",
       " '255',\n",
       " '399',\n",
       " '237',\n",
       " '769',\n",
       " '272',\n",
       " '449',\n",
       " '399',\n",
       " '251',\n",
       " '249',\n",
       " '399',\n",
       " '169',\n",
       " '449',\n",
       " '699',\n",
       " '235',\n",
       " '349',\n",
       " '279',\n",
       " '1,690',\n",
       " '',\n",
       " '',\n",
       " '',\n",
       " '',\n",
       " '',\n",
       " '449',\n",
       " '609',\n",
       " '',\n",
       " '',\n",
       " '251',\n",
       " '349',\n",
       " '399',\n",
       " '519',\n",
       " '649',\n",
       " '250',\n",
       " '199',\n",
       " '99',\n",
       " '310',\n",
       " '399',\n",
       " '299',\n",
       " '199',\n",
       " '199',\n",
       " '249',\n",
       " '92',\n",
       " '270',\n",
       " '251',\n",
       " '439',\n",
       " '719',\n",
       " '589',\n",
       " '466',\n",
       " '279',\n",
       " '719',\n",
       " '709',\n",
       " '649',\n",
       " '699',\n",
       " '249',\n",
       " '539',\n",
       " '610',\n",
       " '199',\n",
       " '199',\n",
       " '399',\n",
       " '779',\n",
       " '199',\n",
       " '359',\n",
       " '426',\n",
       " '255',\n",
       " '236',\n",
       " '409',\n",
       " '244',\n",
       " '949',\n",
       " '249',\n",
       " '399',\n",
       " '389',\n",
       " '399',\n",
       " '499',\n",
       " '459',\n",
       " '394',\n",
       " '399',\n",
       " '379']"
      ]
     },
     "execution_count": 54,
     "metadata": {},
     "output_type": "execute_result"
    }
   ],
   "source": [
    "Price=[]\n",
    "start=0\n",
    "end=3\n",
    "for page in range(start, end):\n",
    "\n",
    "    try:\n",
    "        Prices=driver.find_elements(By.XPATH,'//span[@class=\"a-price-whole\"]')\n",
    "        for i in Prices:\n",
    "            Price.append(i.text)\n",
    "    except NoSuchElementException as e:\n",
    "        Prices=driver.find_elements(By.XPATH,'-')\n",
    "        for i in Prices:\n",
    "            Price.append(i.text)        \n",
    "Price"
   ]
  },
  {
   "cell_type": "code",
   "execution_count": 55,
   "id": "e47a2e10",
   "metadata": {},
   "outputs": [
    {
     "data": {
      "text/plain": [
       "['Monday, January 30',\n",
       " 'Thursday, February 2',\n",
       " 'Monday, January 30',\n",
       " 'Tomorrow, January 29',\n",
       " 'Monday, January 30',\n",
       " 'Tomorrow, January 29',\n",
       " 'Monday, January 30',\n",
       " 'Monday, January 30',\n",
       " 'Tomorrow, January 29',\n",
       " 'Monday, January 30',\n",
       " 'Tomorrow, January 29',\n",
       " 'Monday, January 30',\n",
       " 'Thursday, February 2',\n",
       " 'Monday, January 30',\n",
       " 'Tomorrow, January 29',\n",
       " 'Monday, January 30',\n",
       " 'Tomorrow, January 29',\n",
       " 'Monday, January 30',\n",
       " 'Monday, January 30',\n",
       " 'Tomorrow, January 29',\n",
       " 'Monday, January 30',\n",
       " 'Tomorrow, January 29',\n",
       " 'Monday, January 30',\n",
       " 'Thursday, February 2',\n",
       " 'Monday, January 30',\n",
       " 'Tomorrow, January 29',\n",
       " 'Monday, January 30',\n",
       " 'Tomorrow, January 29',\n",
       " 'Monday, January 30',\n",
       " 'Monday, January 30',\n",
       " 'Tomorrow, January 29',\n",
       " 'Monday, January 30',\n",
       " 'Tomorrow, January 29']"
      ]
     },
     "execution_count": 55,
     "metadata": {},
     "output_type": "execute_result"
    }
   ],
   "source": [
    "dlvry=[]\n",
    "start=0\n",
    "end=3\n",
    "\n",
    "for page in range(start, end):\n",
    "    try:\n",
    "        dlvrys=driver.find_elements(By.XPATH,'//span[@class=\"a-color-base a-text-bold\"]')\n",
    "        for i in dlvrys:\n",
    "            dlvry.append(i.text)\n",
    "    except NoSuchElementException as e:\n",
    "        print('Exception raise: ',e)\n",
    "        dlvrys=driver.find_elements(By.XPATH,'-')\n",
    "        for i in dlvrys:\n",
    "            dlvry.append(i.text)\n",
    "dlvry"
   ]
  },
  {
   "cell_type": "code",
   "execution_count": 56,
   "id": "50565e3d",
   "metadata": {},
   "outputs": [
    {
     "data": {
      "text/plain": [
       "['Only 1 left in stock.',\n",
       " 'Only 4 left in stock.',\n",
       " 'Only 5 left in stock.',\n",
       " 'Only 2 left in stock.',\n",
       " 'Only 1 left in stock.',\n",
       " 'Only 4 left in stock.',\n",
       " 'Only 5 left in stock.',\n",
       " 'Only 2 left in stock.',\n",
       " 'Only 1 left in stock.',\n",
       " 'Only 4 left in stock.',\n",
       " 'Only 5 left in stock.',\n",
       " 'Only 2 left in stock.']"
      ]
     },
     "execution_count": 56,
     "metadata": {},
     "output_type": "execute_result"
    }
   ],
   "source": [
    "avail=[]\n",
    "start=0\n",
    "end=3\n",
    "\n",
    "for page in range(start, end):\n",
    "    try:\n",
    "        avails=driver.find_elements(By.XPATH,'//span[@class=\"a-size-base a-color-price\"]')\n",
    "        for i in avails:\n",
    "            avail.append(i.text)\n",
    "    except NoSuchElementException as e:\n",
    "        print('Exception raise: ',e)\n",
    "        avails=driver.find_elements(By.XPATH,'-')\n",
    "        for i in avails:\n",
    "            avail.append(i.text)\n",
    "avail"
   ]
  },
  {
   "cell_type": "code",
   "execution_count": 57,
   "id": "c1fe9190",
   "metadata": {},
   "outputs": [
    {
     "name": "stdout",
     "output_type": "stream",
     "text": [
      "https://www.amazon.in/sspa/click?ie=UTF8&spc=MTo5MjI5NTc4MTcyOTYwMTg6MTY3NDkyNjQyMTpzcF9hdGY6MjAwOTAxMTM1NTAwOTg6OjA6Og&url=%2FBoldfit-Unisex-Adjustable-Summer-Airholes%2Fdp%2FB0BJ92CN22%2Fref%3Dsr_1_1_sspa%3Fcrid%3D222R5YR77GQKH%26keywords%3Dcap%26qid%3D1674926421%26sprefix%3Dcap%252Caps%252C363%26sr%3D8-1-spons%26sp_csd%3Dd2lkZ2V0TmFtZT1zcF9hdGY%26psc%3D1\n",
      "https://www.amazon.in/sspa/click?ie=UTF8&spc=MTo5MjI5NTc4MTcyOTYwMTg6MTY3NDkyNjQyMTpzcF9hdGY6MjAwNzc1Mjc0Njc0MDU6OjA6Og&url=%2FFabSeasons-Acrylic-Woolen-Winter-Skull%2Fdp%2FB01N6NSMY2%2Fref%3Dsr_1_2_sspa%3Fcrid%3D222R5YR77GQKH%26keywords%3Dcap%26qid%3D1674926421%26sprefix%3Dcap%252Caps%252C363%26sr%3D8-2-spons%26sp_csd%3Dd2lkZ2V0TmFtZT1zcF9hdGY%26psc%3D1%26smid%3DAXAZBYD41UTUG\n",
      "https://www.amazon.in/sspa/click?ie=UTF8&spc=MTo5MjI5NTc4MTcyOTYwMTg6MTY3NDkyNjQyMTpzcF9hdGY6MjAwNzk4MzA0ODU5OTg6OjA6Og&url=%2FFabSeasons-Casual-Unisex-Baseball-Ventilation%2Fdp%2FB08JLNCB4M%2Fref%3Dsr_1_3_sspa%3Fcrid%3D222R5YR77GQKH%26keywords%3Dcap%26qid%3D1674926421%26sprefix%3Dcap%252Caps%252C363%26sr%3D8-3-spons%26sp_csd%3Dd2lkZ2V0TmFtZT1zcF9hdGY%26psc%3D1\n",
      "https://www.amazon.in/sspa/click?ie=UTF8&spc=MTo5MjI5NTc4MTcyOTYwMTg6MTY3NDkyNjQyMTpzcF9hdGY6MjAwNDEwMDg0NzcxOTg6OjA6Og&url=%2FZacharias-Unisex-Net-Cap-net-Cap-Brown%2Fdp%2FB06XQK3VCX%2Fref%3Dsr_1_4_sspa%3Fcrid%3D222R5YR77GQKH%26keywords%3Dcap%26qid%3D1674926421%26sprefix%3Dcap%252Caps%252C363%26sr%3D8-4-spons%26sp_csd%3Dd2lkZ2V0TmFtZT1zcF9hdGY%26psc%3D1\n",
      "https://www.amazon.in/Puma-2406101-Unisexs-Cap-2406101_Black/dp/B0B844L2RF/ref=sr_1_5?crid=222R5YR77GQKH&keywords=cap&qid=1674926421&sprefix=cap%2Caps%2C363&sr=8-5\n",
      "https://www.amazon.in/ALAMOS-Combo-edixo-Black-Maroon/dp/B0922SVGYY/ref=sr_1_6?crid=222R5YR77GQKH&keywords=cap&qid=1674926421&sprefix=cap%2Caps%2C363&sr=8-6\n",
      "https://www.amazon.in/Puma-2497201-Unisexs-Cap-2497201_Black-AOP/dp/B0BNNBDD1L/ref=sr_1_7?crid=222R5YR77GQKH&keywords=cap&qid=1674926421&sprefix=cap%2Caps%2C363&sr=8-7\n",
      "https://www.amazon.in/Boldfit-Unisex-Adjustable-Summer-Airholes/dp/B0BJ92CN22/ref=sxin_15_sbv_search_btf?content-id=amzn1.sym.dd2aa9b8-d653-4b22-af5d-81cb48e44028%3Aamzn1.sym.dd2aa9b8-d653-4b22-af5d-81cb48e44028&crid=222R5YR77GQKH&cv_ct_cx=cap&keywords=cap&pd_rd_i=B0BJ92CN22&pd_rd_r=01022c09-4b6e-4e14-b048-a2e0a97d641b&pd_rd_w=FuDDP&pd_rd_wg=swVqN&pf_rd_p=dd2aa9b8-d653-4b22-af5d-81cb48e44028&pf_rd_r=M7KSN79VZ11FGPEA5BAR&qid=1674926421&sprefix=cap%2Caps%2C363&sr=1-1-9131241a-a358-4619-a7b8-0f5a65d91d81\n",
      "https://www.amazon.in/FabSeasons-Cotton-Slouchy-Beanie-Charcoal/dp/B01M276QNQ/ref=sr_1_8?crid=222R5YR77GQKH&keywords=cap&qid=1674926421&sprefix=cap%2Caps%2C363&sr=8-8\n",
      "https://www.amazon.in/REFFER-Baseball-Cotton-Plain-Adjustable/dp/B08WYJTQWD/ref=sr_1_9?crid=222R5YR77GQKH&keywords=cap&qid=1674926421&sprefix=cap%2Caps%2C363&sr=8-9\n",
      "https://www.amazon.in/Boldfit-Unisex-Adjustable-Summer-Airholes/dp/B0BJ92CN22/ref=sr_1_10?crid=222R5YR77GQKH&keywords=cap&qid=1674926421&sprefix=cap%2Caps%2C363&sr=8-10\n",
      "https://www.amazon.in/Boldfit-Cooling-Cycling-Motorcycle-Running/dp/B0B2LKTW4F/ref=sr_1_11?crid=222R5YR77GQKH&keywords=cap&qid=1674926421&sprefix=cap%2Caps%2C363&sr=8-11\n",
      "https://www.amazon.in/Puma-Unisexs-Cap-2497202_Varsity-Green-AOP/dp/B0BNNDC6FH/ref=sr_1_12?crid=222R5YR77GQKH&keywords=cap&qid=1674926421&sprefix=cap%2Caps%2C363&sr=8-12\n",
      "https://www.amazon.in/Puma-Unisexs-Cap-2400503_Parisian-Night/dp/B0BBRJTPPB/ref=sr_1_13?crid=222R5YR77GQKH&keywords=cap&qid=1674926421&sprefix=cap%2Caps%2C363&sr=8-13\n",
      "https://www.amazon.in/Handcuffs-Unisex-Baseball-Cotton-Adjustable/dp/B08KQG5BV5/ref=sr_1_14?crid=222R5YR77GQKH&keywords=cap&qid=1674926421&sprefix=cap%2Caps%2C363&sr=8-14\n",
      "https://www.amazon.in/Gajraj-Womens-Winter-Beanie-Woollen/dp/B08L6QPD8N/ref=sxin_24_slsr_d_i_fs4star_fa_0_B08L6QPD8N?content-id=amzn1.sym.86f966cb-cf80-4eda-a765-89e42fae403a%3Aamzn1.sym.86f966cb-cf80-4eda-a765-89e42fae403a&crid=222R5YR77GQKH&cv_ct_cx=cap&keywords=cap&pd_rd_i=B08L6QPD8N&pd_rd_r=01022c09-4b6e-4e14-b048-a2e0a97d641b&pd_rd_w=HO8zS&pd_rd_wg=swVqN&pf_rd_p=86f966cb-cf80-4eda-a765-89e42fae403a&pf_rd_r=M7KSN79VZ11FGPEA5BAR&qid=1674926421&sprefix=cap%2Caps%2C363&sr=1-1-41e0d225-3819-4755-898e-7f0f48633b47\n",
      "https://www.amazon.in/Gajraj-Winter-Knitted-Woolen-Skull/dp/B07VNXQY44/ref=sxin_24_slsr_d_i_fs4star_fa_1_B07VNXQY44?content-id=amzn1.sym.86f966cb-cf80-4eda-a765-89e42fae403a%3Aamzn1.sym.86f966cb-cf80-4eda-a765-89e42fae403a&crid=222R5YR77GQKH&cv_ct_cx=cap&keywords=cap&pd_rd_i=B07VNXQY44&pd_rd_r=01022c09-4b6e-4e14-b048-a2e0a97d641b&pd_rd_w=HO8zS&pd_rd_wg=swVqN&pf_rd_p=86f966cb-cf80-4eda-a765-89e42fae403a&pf_rd_r=M7KSN79VZ11FGPEA5BAR&qid=1674926421&sprefix=cap%2Caps%2C363&sr=1-2-41e0d225-3819-4755-898e-7f0f48633b47\n",
      "https://www.amazon.in/Bonnets-Elastic-Sleeping-Bonnet-Braids/dp/B08J7V9H6S/ref=sxin_24_slsr_d_i_fs4star_fa_2_B08J7V9H6S?content-id=amzn1.sym.86f966cb-cf80-4eda-a765-89e42fae403a%3Aamzn1.sym.86f966cb-cf80-4eda-a765-89e42fae403a&crid=222R5YR77GQKH&cv_ct_cx=cap&keywords=cap&pd_rd_i=B08J7V9H6S&pd_rd_r=01022c09-4b6e-4e14-b048-a2e0a97d641b&pd_rd_w=HO8zS&pd_rd_wg=swVqN&pf_rd_p=86f966cb-cf80-4eda-a765-89e42fae403a&pf_rd_r=M7KSN79VZ11FGPEA5BAR&qid=1674926421&sprefix=cap%2Caps%2C363&sr=1-3-41e0d225-3819-4755-898e-7f0f48633b47\n",
      "https://www.amazon.in/Goorin-Bros-Mens-Animal-Trucker/dp/B00JHCF4B2/ref=sxin_24_slsr_d_i_fs4star_fa_3_B00JHCF4B2?content-id=amzn1.sym.86f966cb-cf80-4eda-a765-89e42fae403a%3Aamzn1.sym.86f966cb-cf80-4eda-a765-89e42fae403a&crid=222R5YR77GQKH&cv_ct_cx=cap&keywords=cap&pd_rd_i=B00JHCF4B2&pd_rd_r=01022c09-4b6e-4e14-b048-a2e0a97d641b&pd_rd_w=HO8zS&pd_rd_wg=swVqN&pf_rd_p=86f966cb-cf80-4eda-a765-89e42fae403a&pf_rd_r=M7KSN79VZ11FGPEA5BAR&qid=1674926421&sprefix=cap%2Caps%2C363&sr=1-4-41e0d225-3819-4755-898e-7f0f48633b47\n",
      "https://www.amazon.in/Alexvyan-Winter-Fleece-Knitted-Inside/dp/B09HC1ZVCR/ref=sxin_24_slsr_d_i_fs4star_fa_4_B09HC1ZVCR?content-id=amzn1.sym.86f966cb-cf80-4eda-a765-89e42fae403a%3Aamzn1.sym.86f966cb-cf80-4eda-a765-89e42fae403a&crid=222R5YR77GQKH&cv_ct_cx=cap&keywords=cap&pd_rd_i=B09HC1ZVCR&pd_rd_r=01022c09-4b6e-4e14-b048-a2e0a97d641b&pd_rd_w=HO8zS&pd_rd_wg=swVqN&pf_rd_p=86f966cb-cf80-4eda-a765-89e42fae403a&pf_rd_r=M7KSN79VZ11FGPEA5BAR&qid=1674926421&sprefix=cap%2Caps%2C363&sr=1-5-41e0d225-3819-4755-898e-7f0f48633b47\n",
      "https://www.amazon.in/Panama-Womens-Summer-Floppy-A04-Brown/dp/B07BNZ53L3/ref=sxin_24_slsr_d_i_fs4star_fa_5_B07BNZ53L3?content-id=amzn1.sym.86f966cb-cf80-4eda-a765-89e42fae403a%3Aamzn1.sym.86f966cb-cf80-4eda-a765-89e42fae403a&crid=222R5YR77GQKH&cv_ct_cx=cap&keywords=cap&pd_rd_i=B07BNZ53L3&pd_rd_r=01022c09-4b6e-4e14-b048-a2e0a97d641b&pd_rd_w=HO8zS&pd_rd_wg=swVqN&pf_rd_p=86f966cb-cf80-4eda-a765-89e42fae403a&pf_rd_r=M7KSN79VZ11FGPEA5BAR&qid=1674926421&sprefix=cap%2Caps%2C363&sr=1-6-41e0d225-3819-4755-898e-7f0f48633b47\n",
      "https://www.amazon.in/Winter-Beanie-Fleece-Slouchy-REDESS/dp/B076TZDMS7/ref=sxin_24_slsr_d_i_fs4star_fa_6_B076TZDMS7?content-id=amzn1.sym.86f966cb-cf80-4eda-a765-89e42fae403a%3Aamzn1.sym.86f966cb-cf80-4eda-a765-89e42fae403a&crid=222R5YR77GQKH&cv_ct_cx=cap&keywords=cap&pd_rd_i=B076TZDMS7&pd_rd_r=01022c09-4b6e-4e14-b048-a2e0a97d641b&pd_rd_w=HO8zS&pd_rd_wg=swVqN&pf_rd_p=86f966cb-cf80-4eda-a765-89e42fae403a&pf_rd_r=M7KSN79VZ11FGPEA5BAR&qid=1674926421&sprefix=cap%2Caps%2C363&sr=1-7-41e0d225-3819-4755-898e-7f0f48633b47\n",
      "https://www.amazon.in/Winter-Beanie-Windproof-HINDAWI-Slouchy/dp/B076ZFCTRF/ref=sxin_24_slsr_d_i_fs4star_fa_7_B076ZFCTRF?content-id=amzn1.sym.86f966cb-cf80-4eda-a765-89e42fae403a%3Aamzn1.sym.86f966cb-cf80-4eda-a765-89e42fae403a&crid=222R5YR77GQKH&cv_ct_cx=cap&keywords=cap&pd_rd_i=B076ZFCTRF&pd_rd_r=01022c09-4b6e-4e14-b048-a2e0a97d641b&pd_rd_w=HO8zS&pd_rd_wg=swVqN&pf_rd_p=86f966cb-cf80-4eda-a765-89e42fae403a&pf_rd_r=M7KSN79VZ11FGPEA5BAR&qid=1674926421&sprefix=cap%2Caps%2C363&sr=1-8-41e0d225-3819-4755-898e-7f0f48633b47\n",
      "https://www.amazon.in/Coreteq-Unisex-Resistant-Lightweight-Adjustable/dp/B08KT31XGQ/ref=sxin_25?asc_contentid=amzn1.osa.c7abda07-be3f-4904-a071-5c6ab12ce301.A21TJRUUN4KGV.en_IN&asc_contenttype=article&ascsubtag=amzn1.osa.c7abda07-be3f-4904-a071-5c6ab12ce301.A21TJRUUN4KGV.en_IN&content-id=amzn1.sym.feb2b32b-0085-4665-973c-36b431684408%3Aamzn1.sym.feb2b32b-0085-4665-973c-36b431684408&creativeASIN=B08KT31XGQ&crid=222R5YR77GQKH&cv_ct_cx=cap&cv_ct_id=amzn1.osa.c7abda07-be3f-4904-a071-5c6ab12ce301.A21TJRUUN4KGV.en_IN&cv_ct_pg=search&cv_ct_we=asin&cv_ct_wn=osp-single-source-pecos-desktop&keywords=cap&linkCode=oas&pd_rd_i=B08KT31XGQ&pd_rd_r=01022c09-4b6e-4e14-b048-a2e0a97d641b&pd_rd_w=QnIcu&pd_rd_wg=swVqN&pf_rd_p=feb2b32b-0085-4665-973c-36b431684408&pf_rd_r=M7KSN79VZ11FGPEA5BAR&qid=1674926421&sprefix=cap%2Caps%2C363&sr=1-1-c84eb971-91f2-4a4d-acce-811265c24254&tag=mishrymums-21\n",
      "https://www.amazon.in/Puma-5291101-Cotton-Mens-Black/dp/B01B4HAADO/ref=sxin_25?asc_contentid=amzn1.osa.c7abda07-be3f-4904-a071-5c6ab12ce301.A21TJRUUN4KGV.en_IN&asc_contenttype=article&ascsubtag=amzn1.osa.c7abda07-be3f-4904-a071-5c6ab12ce301.A21TJRUUN4KGV.en_IN&content-id=amzn1.sym.feb2b32b-0085-4665-973c-36b431684408%3Aamzn1.sym.feb2b32b-0085-4665-973c-36b431684408&creativeASIN=B01B4HAADO&crid=222R5YR77GQKH&cv_ct_cx=cap&cv_ct_id=amzn1.osa.c7abda07-be3f-4904-a071-5c6ab12ce301.A21TJRUUN4KGV.en_IN&cv_ct_pg=search&cv_ct_we=asin&cv_ct_wn=osp-single-source-pecos-desktop&keywords=cap&linkCode=oas&pd_rd_i=B01B4HAADO&pd_rd_r=01022c09-4b6e-4e14-b048-a2e0a97d641b&pd_rd_w=QnIcu&pd_rd_wg=swVqN&pf_rd_p=feb2b32b-0085-4665-973c-36b431684408&pf_rd_r=M7KSN79VZ11FGPEA5BAR&qid=1674926421&sprefix=cap%2Caps%2C363&sr=1-2-c84eb971-91f2-4a4d-acce-811265c24254&tag=mishrymums-21\n",
      "https://www.amazon.in/ILU-Sports-Baseball-Snapback-Cricket/dp/B08YD5CCXC/ref=sxin_25?asc_contentid=amzn1.osa.c7abda07-be3f-4904-a071-5c6ab12ce301.A21TJRUUN4KGV.en_IN&asc_contenttype=article&ascsubtag=amzn1.osa.c7abda07-be3f-4904-a071-5c6ab12ce301.A21TJRUUN4KGV.en_IN&content-id=amzn1.sym.feb2b32b-0085-4665-973c-36b431684408%3Aamzn1.sym.feb2b32b-0085-4665-973c-36b431684408&creativeASIN=B08YD5CCXC&crid=222R5YR77GQKH&cv_ct_cx=cap&cv_ct_id=amzn1.osa.c7abda07-be3f-4904-a071-5c6ab12ce301.A21TJRUUN4KGV.en_IN&cv_ct_pg=search&cv_ct_we=asin&cv_ct_wn=osp-single-source-pecos-desktop&keywords=cap&linkCode=oas&pd_rd_i=B08YD5CCXC&pd_rd_r=01022c09-4b6e-4e14-b048-a2e0a97d641b&pd_rd_w=QnIcu&pd_rd_wg=swVqN&pf_rd_p=feb2b32b-0085-4665-973c-36b431684408&pf_rd_r=M7KSN79VZ11FGPEA5BAR&qid=1674926421&sprefix=cap%2Caps%2C363&sr=1-3-c84eb971-91f2-4a4d-acce-811265c24254&tag=mishrymums-21\n",
      "https://www.amazon.in/FashMade-Baseball-Combo-Unisex-Black-White-Beige-BABYPINK-Grey/dp/B084Q87CW3/ref=sxin_25?asc_contentid=amzn1.osa.c7abda07-be3f-4904-a071-5c6ab12ce301.A21TJRUUN4KGV.en_IN&asc_contenttype=article&ascsubtag=amzn1.osa.c7abda07-be3f-4904-a071-5c6ab12ce301.A21TJRUUN4KGV.en_IN&content-id=amzn1.sym.feb2b32b-0085-4665-973c-36b431684408%3Aamzn1.sym.feb2b32b-0085-4665-973c-36b431684408&creativeASIN=B084Q87CW3&crid=222R5YR77GQKH&cv_ct_cx=cap&cv_ct_id=amzn1.osa.c7abda07-be3f-4904-a071-5c6ab12ce301.A21TJRUUN4KGV.en_IN&cv_ct_pg=search&cv_ct_we=asin&cv_ct_wn=osp-single-source-pecos-desktop&keywords=cap&linkCode=oas&pd_rd_i=B084Q87CW3&pd_rd_r=01022c09-4b6e-4e14-b048-a2e0a97d641b&pd_rd_w=QnIcu&pd_rd_wg=swVqN&pf_rd_p=feb2b32b-0085-4665-973c-36b431684408&pf_rd_r=M7KSN79VZ11FGPEA5BAR&qid=1674926421&sprefix=cap%2Caps%2C363&sr=1-4-c84eb971-91f2-4a4d-acce-811265c24254&tag=mishrymums-21\n",
      "https://www.amazon.in/FabSeasons-Cotton-Unisex-Skull-Charcoal/dp/B019592KZY/ref=sr_1_15?crid=222R5YR77GQKH&keywords=cap&qid=1674926421&sprefix=cap%2Caps%2C363&sr=8-15\n",
      "https://www.amazon.in/Puma-Unisex-Adult-Baseball-2379302-Black-Cat/dp/B08ZSR6VP2/ref=sr_1_16?crid=222R5YR77GQKH&keywords=cap&qid=1674926421&sprefix=cap%2Caps%2C363&sr=8-16\n",
      "https://www.amazon.in/Boldfit-Winter-Clothing-Mufflers-Clothes/dp/B0BLK1F584/ref=sr_1_17?crid=222R5YR77GQKH&keywords=cap&qid=1674926421&sprefix=cap%2Caps%2C363&sr=8-17\n",
      "https://www.amazon.in/Puma-Unisexs-Cap-2315210_Evening-Sky/dp/B09MKBCNKC/ref=sr_1_18_mod_primary_new?crid=222R5YR77GQKH&keywords=cap&qid=1674926421&sbo=RZvfv%2F%2FHxDF%2BO5021pAnSA%3D%3D&sprefix=cap%2Caps%2C363&sr=8-18\n",
      "https://www.amazon.in/Puma-Unisexs-Cap-2315210_Evening-Sky/dp/B09MKBCNKC/ref=sr_1_18_mod_new?crid=222R5YR77GQKH&keywords=cap&qid=1674926421&qu=eyJxc2MiOiI4LjMwIiwicXNhIjoiOC4zMCIsInFzcCI6IjcuNTIifQ%3D%3D&sbo=RZvfv%2F%2FHxDF%2BO5021pAnSA%3D%3D&sprefix=cap%2Caps%2C363&sr=8-18\n",
      "https://www.amazon.in/Puma-Unisexs-Cap-2315210_Evening-Sky/dp/B09MKBCNKC/ref=sr_1_18_mod_new?crid=222R5YR77GQKH&keywords=cap&qid=1674926421&qu=eyJxc2MiOiI4LjMwIiwicXNhIjoiOC4zMCIsInFzcCI6IjcuNTIifQ%3D%3D&sbo=RZvfv%2F%2FHxDF%2BO5021pAnSA%3D%3D&sprefix=cap%2Caps%2C363&sr=8-18\n",
      "https://www.amazon.in/VRITRAZ-Cartoon-Character-Printed-Baseball/dp/B08KWDP8MG/ref=sr_1_19?crid=222R5YR77GQKH&keywords=cap&qid=1674926421&sprefix=cap%2Caps%2C363&sr=8-19\n",
      "https://www.amazon.in/Womens-Woolen-Beanie-Muffler-Neckwarmer/dp/B09M4BDMXS/ref=sr_1_20?crid=222R5YR77GQKH&keywords=cap&qid=1674926421&sprefix=cap%2Caps%2C363&sr=8-20\n",
      "https://www.amazon.in/sspa/click?ie=UTF8&spc=MTo5MjI5NTc4MTcyOTYwMTg6MTY3NDkyNjQyMTpzcF9tdGY6MjAxMTA0ODEzODE1OTg6OjA6Og&url=%2FFaircost-Baseball-Cricket-Summer-Season%2Fdp%2FB0B36B3BY8%2Fref%3Dsr_1_21_sspa%3Fcrid%3D222R5YR77GQKH%26keywords%3Dcap%26qid%3D1674926421%26sprefix%3Dcap%252Caps%252C363%26sr%3D8-21-spons%26sp_csd%3Dd2lkZ2V0TmFtZT1zcF9tdGY%26psc%3D1\n",
      "https://www.amazon.in/sspa/click?ie=UTF8&spc=MTo5MjI5NTc4MTcyOTYwMTg6MTY3NDkyNjQyMTpzcF9tdGY6MjAwNTc1MzUwMTI4OTg6OjA6Og&url=%2FRR-DESIGN-Beret-Men-Pack-1-Free%2Fdp%2FB09WW172W9%2Fref%3Dsr_1_22_sspa%3Fcrid%3D222R5YR77GQKH%26keywords%3Dcap%26qid%3D1674926421%26sprefix%3Dcap%252Caps%252C363%26sr%3D8-22-spons%26sp_csd%3Dd2lkZ2V0TmFtZT1zcF9tdGY%26psc%3D1\n",
      "https://www.amazon.in/sspa/click?ie=UTF8&spc=MTo5MjI5NTc4MTcyOTYwMTg6MTY3NDkyNjQyMTpzcF9tdGY6MjAxMTQ0NzAwODYzOTg6OjA6Og&url=%2FSport-Cap-Baseball-Cotton-Adjustable%2Fdp%2FB0B3W5X8FG%2Fref%3Dsr_1_23_sspa%3Fcrid%3D222R5YR77GQKH%26keywords%3Dcap%26qid%3D1674926421%26sprefix%3Dcap%252Caps%252C363%26sr%3D8-23-spons%26sp_csd%3Dd2lkZ2V0TmFtZT1zcF9tdGY%26psc%3D1\n",
      "https://www.amazon.in/sspa/click?ie=UTF8&spc=MTo5MjI5NTc4MTcyOTYwMTg6MTY3NDkyNjQyMTpzcF9tdGY6MjAxMTQ0NzAwODUzOTg6OjA6Og&url=%2FSport-Cap-Baseball-Cotton-Adjustable%2Fdp%2FB0B3W565MQ%2Fref%3Dsr_1_24_sspa%3Fcrid%3D222R5YR77GQKH%26keywords%3Dcap%26qid%3D1674926421%26sprefix%3Dcap%252Caps%252C363%26sr%3D8-24-spons%26sp_csd%3Dd2lkZ2V0TmFtZT1zcF9tdGY%26psc%3D1\n",
      "https://www.amazon.in/Boldfit-Thermal-Stylish-Branded-Bennies/dp/B0BQQMLBYB/ref=sr_1_25?crid=222R5YR77GQKH&keywords=cap&qid=1674926421&sprefix=cap%2Caps%2C363&sr=8-25\n",
      "https://www.amazon.in/DIGITAL-SHOPEE-Womens-Woollen-Winter/dp/B08QJMCGP1/ref=sr_1_26?crid=222R5YR77GQKH&keywords=cap&qid=1674926421&sprefix=cap%2Caps%2C363&sr=8-26\n"
     ]
    },
    {
     "name": "stdout",
     "output_type": "stream",
     "text": [
      "https://www.amazon.in/Prime-Deals%C2%AE-Beanie-Muffler-Women/dp/B0BRQJWYJQ/ref=sr_1_27?crid=222R5YR77GQKH&keywords=cap&qid=1674926421&sprefix=cap%2Caps%2C363&sr=8-27\n",
      "https://www.amazon.in/Regular-Comfort-Unique-Baseball-Running/dp/B09SX5NMDP/ref=sr_1_28_mod_primary_new?crid=222R5YR77GQKH&keywords=cap&qid=1674926421&sbo=RZvfv%2F%2FHxDF%2BO5021pAnSA%3D%3D&sprefix=cap%2Caps%2C363&sr=8-28\n",
      "https://www.amazon.in/Regular-Comfort-Unique-Baseball-Running/dp/B09SX5NMDP/ref=sr_1_28_mod_new?crid=222R5YR77GQKH&keywords=cap&qid=1674926421&qu=eyJxc2MiOiI4LjMwIiwicXNhIjoiOC4zMCIsInFzcCI6IjcuNTIifQ%3D%3D&sbo=RZvfv%2F%2FHxDF%2BO5021pAnSA%3D%3D&sprefix=cap%2Caps%2C363&sr=8-28\n",
      "https://www.amazon.in/Regular-Comfort-Unique-Baseball-Running/dp/B09SX5NMDP/ref=sr_1_28_mod_new?crid=222R5YR77GQKH&keywords=cap&qid=1674926421&qu=eyJxc2MiOiI4LjMwIiwicXNhIjoiOC4zMCIsInFzcCI6IjcuNTIifQ%3D%3D&sbo=RZvfv%2F%2FHxDF%2BO5021pAnSA%3D%3D&sprefix=cap%2Caps%2C363&sr=8-28\n",
      "https://www.amazon.in/FabSeasons-Cotton-Skull-Cap-Grey/dp/B019592L6W/ref=sr_1_29?crid=222R5YR77GQKH&keywords=cap&qid=1674926421&sprefix=cap%2Caps%2C363&sr=8-29\n",
      "https://www.amazon.in/GUSTAVE%C2%AEBaseball-Fabrics-Stylish-Fishing-Adjustable/dp/B09SCWZHQL/ref=sr_1_30?crid=222R5YR77GQKH&keywords=cap&qid=1674926421&sprefix=cap%2Caps%2C363&sr=8-30\n",
      "https://www.amazon.in/Jack-Jones-Baseball-258378516-Anthracite_ONE/dp/B0BFFBSWNM/ref=sr_1_31?crid=222R5YR77GQKH&keywords=cap&qid=1674926421&sprefix=cap%2Caps%2C363&sr=8-31\n",
      "https://www.amazon.in/PUMA-Unisex-Archive-Label-Black/dp/B09BBC9G7S/ref=sr_1_32?crid=222R5YR77GQKH&keywords=cap&qid=1674926421&sprefix=cap%2Caps%2C363&sr=8-32\n",
      "https://www.amazon.in/Puma-Mens-Baseball-2445901_Black_Free-Size/dp/B0BH4STFXJ/ref=sr_1_33?crid=222R5YR77GQKH&keywords=cap&qid=1674926421&sprefix=cap%2Caps%2C363&sr=8-33\n",
      "https://www.amazon.in/Gajraj-Winter-Knitted-Woolen-Skull/dp/B07VNXQY44/ref=sr_1_34?crid=222R5YR77GQKH&keywords=cap&qid=1674926421&sprefix=cap%2Caps%2C363&sr=8-34\n",
      "https://www.amazon.in/Jack-Jones-Mens-258378512-Blue-Denim_Blue/dp/B0B8VPCY1Q/ref=sr_1_35?crid=222R5YR77GQKH&keywords=cap&qid=1674926421&sprefix=cap%2Caps%2C363&sr=8-35\n",
      "https://www.amazon.in/PUMA-BMW-M-BB-Cap/dp/B0814WVK4B/ref=sr_1_36?crid=222R5YR77GQKH&keywords=cap&qid=1674926421&sprefix=cap%2Caps%2C363&sr=8-36\n",
      "https://www.amazon.in/Puma-Unisexs-Baseball-2497002_Light-Aqua-AOP_Free/dp/B0BH4SH15M/ref=sr_1_37?crid=222R5YR77GQKH&keywords=cap&qid=1674926421&sprefix=cap%2Caps%2C363&sr=8-37\n",
      "https://www.amazon.in/Puma-2400601-Unisexs-Cap-2400601_Black/dp/B0B83T2B2L/ref=sr_1_38?crid=222R5YR77GQKH&keywords=cap&qid=1674926421&sprefix=cap%2Caps%2C363&sr=8-38\n",
      "https://www.amazon.in/AutoKraftZ-Fleece-Knitted-Inside-CAP_WITH_SCARF_RED_02/dp/B08MQ5N746/ref=sr_1_39?crid=222R5YR77GQKH&keywords=cap&qid=1674926421&sprefix=cap%2Caps%2C363&sr=8-39\n",
      "https://www.amazon.in/Puma-Unisexs-Cap-2459202_Mineral-Blue/dp/B0BNNFDN6D/ref=sr_1_40_mod_primary_new?crid=222R5YR77GQKH&keywords=cap&qid=1674926421&sbo=RZvfv%2F%2FHxDF%2BO5021pAnSA%3D%3D&sprefix=cap%2Caps%2C363&sr=8-40\n",
      "https://www.amazon.in/Puma-Unisexs-Cap-2459202_Mineral-Blue/dp/B0BNNFDN6D/ref=sr_1_40_mod_new?crid=222R5YR77GQKH&keywords=cap&qid=1674926421&qu=eyJxc2MiOiI4LjMwIiwicXNhIjoiOC4zMCIsInFzcCI6IjcuNTIifQ%3D%3D&sbo=RZvfv%2F%2FHxDF%2BO5021pAnSA%3D%3D&sprefix=cap%2Caps%2C363&sr=8-40\n",
      "https://www.amazon.in/Puma-Unisexs-Cap-2459202_Mineral-Blue/dp/B0BNNFDN6D/ref=sr_1_40_mod_new?crid=222R5YR77GQKH&keywords=cap&qid=1674926421&qu=eyJxc2MiOiI4LjMwIiwicXNhIjoiOC4zMCIsInFzcCI6IjcuNTIifQ%3D%3D&sbo=RZvfv%2F%2FHxDF%2BO5021pAnSA%3D%3D&sprefix=cap%2Caps%2C363&sr=8-40\n",
      "https://www.amazon.in/MUKHAKSH-Ladies-Latest-Woolen-Winter/dp/B07ZG2ZG85/ref=sr_1_41?crid=222R5YR77GQKH&keywords=cap&qid=1674926421&sprefix=cap%2Caps%2C363&sr=8-41\n",
      "https://www.amazon.in/Bontail-Cotton-Plain-Adjustable-Women/dp/B09T77SM68/ref=sr_1_42?crid=222R5YR77GQKH&keywords=cap&qid=1674926421&sprefix=cap%2Caps%2C363&sr=8-42\n",
      "https://www.amazon.in/Puma-Unisex-Baseball-2241712_Rose-Quartz-No/dp/B09MSBVVM5/ref=sr_1_43?crid=222R5YR77GQKH&keywords=cap&qid=1674926421&sprefix=cap%2Caps%2C363&sr=8-43\n",
      "https://www.amazon.in/Puma-Unisexs-2406102_Mercedes-Team-Silver/dp/B0B52BMQ3S/ref=sr_1_44?crid=222R5YR77GQKH&keywords=cap&qid=1674926421&sprefix=cap%2Caps%2C363&sr=8-44\n",
      "https://www.amazon.in/Generic-Seerthi-Caps-Black/dp/B09X7M6VMH/ref=sr_1_45?crid=222R5YR77GQKH&keywords=cap&qid=1674926421&sprefix=cap%2Caps%2C363&sr=8-45\n",
      "https://www.amazon.in/ILU-Baseball-Snapback-Adjustable-Dancing/dp/B08MFKZD7J/ref=sr_1_46?crid=222R5YR77GQKH&keywords=cap&qid=1674926421&sprefix=cap%2Caps%2C363&sr=8-46\n",
      "https://www.amazon.in/Handcuffs-Unisex-Drying-Protection-Sports/dp/B07T3SXTGH/ref=sr_1_47?crid=222R5YR77GQKH&keywords=cap&qid=1674926421&sprefix=cap%2Caps%2C363&sr=8-47\n",
      "https://www.amazon.in/FabSeasons-WC51-Acrylic-Skull-Black/dp/B01IPIZXE6/ref=sr_1_48?crid=222R5YR77GQKH&keywords=cap&qid=1674926421&sprefix=cap%2Caps%2C363&sr=8-48\n",
      "https://www.amazon.in/Kandid-Fleece-Knitted-Inside-CAP_WITH_SCARF_RED_01/dp/B08MQ7B4CK/ref=sr_1_49?crid=222R5YR77GQKH&keywords=cap&qid=1674926421&sprefix=cap%2Caps%2C363&sr=8-49\n",
      "https://www.amazon.in/Puma-Mens-Baseball-2281801_French-Blue_X/dp/B07RMZHG1Z/ref=sr_1_50?crid=222R5YR77GQKH&keywords=cap&qid=1674926421&sprefix=cap%2Caps%2C363&sr=8-50\n",
      "https://www.amazon.in/DRUNKEN-Mens-Acrylic-Baseball-Black_Free/dp/B01MSX8W12/ref=sr_1_51?crid=222R5YR77GQKH&keywords=cap&qid=1674926421&sprefix=cap%2Caps%2C363&sr=8-51\n",
      "https://www.amazon.in/Puma-Unisexs-Cap-2400403_Parisian-Night/dp/B0BNNNJ1MD/ref=sr_1_52?crid=222R5YR77GQKH&keywords=cap&qid=1674926421&sprefix=cap%2Caps%2C363&sr=8-52\n",
      "https://www.amazon.in/Gajraj-Knitted-Woolen-Slouchy-Burgundy/dp/B0BNQDM6ZZ/ref=sr_1_53?crid=222R5YR77GQKH&keywords=cap&qid=1674926421&sprefix=cap%2Caps%2C363&sr=8-53\n",
      "https://www.amazon.in/REFFER-Comfortable-Adjustable-Protection-Traveling/dp/B09YC1KN3F/ref=sr_1_54?crid=222R5YR77GQKH&keywords=cap&qid=1674926421&sprefix=cap%2Caps%2C363&sr=8-54\n",
      "https://www.amazon.in/Handcuffs-Embroidered-Summer-Baseball-Washed/dp/B07KR2XK2Y/ref=sr_1_55?crid=222R5YR77GQKH&keywords=cap&qid=1674926421&sprefix=cap%2Caps%2C363&sr=8-55\n",
      "https://www.amazon.in/VRITRAZ-Cartoon-Character-Printed-Little/dp/B0B2RH13D9/ref=sr_1_56?crid=222R5YR77GQKH&keywords=cap&qid=1674926421&sprefix=cap%2Caps%2C363&sr=8-56\n",
      "https://www.amazon.in/sspa/click?ie=UTF8&spc=MTo5MjI5NTc4MTcyOTYwMTg6MTY3NDkyNjQyMTpzcF9idGY6MjAxMDY1Mzc2ODUzOTg6OjA6Og&url=%2FHUSB-Adjustable-Protection-Activites-Baseball%2Fdp%2FB09XR5MF5Y%2Fref%3Dsr_1_57_sspa%3Fcrid%3D222R5YR77GQKH%26keywords%3Dcap%26qid%3D1674926421%26sprefix%3Dcap%252Caps%252C363%26sr%3D8-57-spons%26sp_csd%3Dd2lkZ2V0TmFtZT1zcF9idGY%26psc%3D1\n",
      "https://www.amazon.in/sspa/click?ie=UTF8&spc=MTo5MjI5NTc4MTcyOTYwMTg6MTY3NDkyNjQyMTpzcF9idGY6MjAwNzk5Njc1NTQ4OTg6OjA6Og&url=%2FNEON-ROCK-Stylish-Activities-Freesize%2Fdp%2FB0BG2SYZKV%2Fref%3Dsr_1_58_sspa%3Fcrid%3D222R5YR77GQKH%26keywords%3Dcap%26qid%3D1674926421%26sprefix%3Dcap%252Caps%252C363%26sr%3D8-58-spons%26sp_csd%3Dd2lkZ2V0TmFtZT1zcF9idGY%26psc%3D1\n",
      "https://www.amazon.in/sspa/click?ie=UTF8&spc=MTo5MjI5NTc4MTcyOTYwMTg6MTY3NDkyNjQyMTpzcF9idGY6MjAwMTY3NTE4ODMzMDY6OjA6Og&url=%2FDRUNKEN-Washed-Baseball-Multicolor-Freesize%2Fdp%2FB07J58LXQQ%2Fref%3Dsr_1_59_sspa%3Fcrid%3D222R5YR77GQKH%26keywords%3Dcap%26qid%3D1674926421%26sprefix%3Dcap%252Caps%252C363%26sr%3D8-59-spons%26sp_csd%3Dd2lkZ2V0TmFtZT1zcF9idGY%26psc%3D1\n",
      "https://www.amazon.in/sspa/click?ie=UTF8&spc=MTo5MjI5NTc4MTcyOTYwMTg6MTY3NDkyNjQyMTpzcF9idGY6MjAwOTM3NzE3MDg0OTg6OjA6Og&url=%2FSPIDER-BULL-Spiderbull-Activities-SB_Cap_Black_PRINTT_410%2Fdp%2FB0BGQD7N18%2Fref%3Dsr_1_60_sspa%3Fcrid%3D222R5YR77GQKH%26keywords%3Dcap%26qid%3D1674926421%26sprefix%3Dcap%252Caps%252C363%26sr%3D8-60-spons%26sp_csd%3Dd2lkZ2V0TmFtZT1zcF9idGY%26psc%3D1\n",
      "https://www.amazon.in/NEON-ROCK-Foldable-Outdoor-Activities/dp/B0BFXJYC7R/ref=sxbs_sbv_search_btf?content-id=amzn1.sym.403d884b-b770-4925-9bdf-9e07bc36f348%3Aamzn1.sym.403d884b-b770-4925-9bdf-9e07bc36f348&crid=222R5YR77GQKH&cv_ct_cx=cap&keywords=cap&pd_rd_i=B0BFXJYC7R&pd_rd_r=b6c50790-d3f6-45f6-9121-906ea6ee3d9e&pd_rd_w=K43iH&pd_rd_wg=wiKU4&pf_rd_p=403d884b-b770-4925-9bdf-9e07bc36f348&pf_rd_r=M7KSN79VZ11FGPEA5BAR&qid=1674926421&sprefix=cap%2Caps%2C363&sr=1-1-f1821008-9dea-4812-b2b6-4a6e4a4f2d55\n"
     ]
    }
   ],
   "source": [
    "ProdURL=[]\n",
    "start=0\n",
    "end=3\n",
    "\n",
    "for page in range(start, end):\n",
    "    ProdURL=driver.find_elements(By.XPATH,'//a[@class=\"a-link-normal s-underline-text s-underline-link-text s-link-style a-text-normal\"]')\n",
    "\n",
    "for i in ProdURL:\n",
    "    print(i.get_attribute('href'))"
   ]
  },
  {
   "cell_type": "code",
   "execution_count": 58,
   "id": "8eb15b99",
   "metadata": {},
   "outputs": [
    {
     "data": {
      "text/html": [
       "<div>\n",
       "<style scoped>\n",
       "    .dataframe tbody tr th:only-of-type {\n",
       "        vertical-align: middle;\n",
       "    }\n",
       "\n",
       "    .dataframe tbody tr th {\n",
       "        vertical-align: top;\n",
       "    }\n",
       "\n",
       "    .dataframe thead th {\n",
       "        text-align: right;\n",
       "    }\n",
       "</style>\n",
       "<table border=\"1\" class=\"dataframe\">\n",
       "  <thead>\n",
       "    <tr style=\"text-align: right;\">\n",
       "      <th></th>\n",
       "      <th>Brand Name</th>\n",
       "    </tr>\n",
       "  </thead>\n",
       "  <tbody>\n",
       "    <tr>\n",
       "      <th>0</th>\n",
       "      <td>Boldfit</td>\n",
       "    </tr>\n",
       "    <tr>\n",
       "      <th>1</th>\n",
       "      <td>FabSeasons</td>\n",
       "    </tr>\n",
       "    <tr>\n",
       "      <th>2</th>\n",
       "      <td>FabSeasons</td>\n",
       "    </tr>\n",
       "    <tr>\n",
       "      <th>3</th>\n",
       "      <td>Zacharias</td>\n",
       "    </tr>\n",
       "    <tr>\n",
       "      <th>4</th>\n",
       "      <td>Puma</td>\n",
       "    </tr>\n",
       "    <tr>\n",
       "      <th>...</th>\n",
       "      <td>...</td>\n",
       "    </tr>\n",
       "    <tr>\n",
       "      <th>217</th>\n",
       "      <td>HUSB</td>\n",
       "    </tr>\n",
       "    <tr>\n",
       "      <th>218</th>\n",
       "      <td>NEON ROCK</td>\n",
       "    </tr>\n",
       "    <tr>\n",
       "      <th>219</th>\n",
       "      <td>DRUNKEN</td>\n",
       "    </tr>\n",
       "    <tr>\n",
       "      <th>220</th>\n",
       "      <td>SPIDER BULL</td>\n",
       "    </tr>\n",
       "    <tr>\n",
       "      <th>221</th>\n",
       "      <td>NEON ROCK</td>\n",
       "    </tr>\n",
       "  </tbody>\n",
       "</table>\n",
       "<p>222 rows × 1 columns</p>\n",
       "</div>"
      ],
      "text/plain": [
       "      Brand Name\n",
       "0        Boldfit\n",
       "1     FabSeasons\n",
       "2     FabSeasons\n",
       "3      Zacharias\n",
       "4           Puma\n",
       "..           ...\n",
       "217         HUSB\n",
       "218    NEON ROCK\n",
       "219      DRUNKEN\n",
       "220  SPIDER BULL\n",
       "221    NEON ROCK\n",
       "\n",
       "[222 rows x 1 columns]"
      ]
     },
     "execution_count": 58,
     "metadata": {},
     "output_type": "execute_result"
    }
   ],
   "source": [
    "df=pd.DataFrame({'Brand Name':Brand,'Name of the Product':ProdName,'Price':Price,'Expected Delivery':dlvry,'Product URL':ProdURL})"
   ]
  },
  {
   "cell_type": "code",
   "execution_count": 92,
   "id": "ee45aec2",
   "metadata": {},
   "outputs": [],
   "source": [
    "df.to_csv(r'G:\\Python codes\\Webscrapping\\Selenium\\product.csv',index=False,header=True)"
   ]
  },
  {
   "cell_type": "markdown",
   "id": "9b85259b",
   "metadata": {},
   "source": [
    "# 3"
   ]
  },
  {
   "cell_type": "code",
   "execution_count": 8,
   "id": "903270cc",
   "metadata": {},
   "outputs": [
    {
     "name": "stderr",
     "output_type": "stream",
     "text": [
      "C:\\Users\\HP\\AppData\\Local\\Temp\\ipykernel_3220\\2866067654.py:2: DeprecationWarning: executable_path has been deprecated, please pass in a Service object\n",
      "  driver=webdriver.Chrome(r\"G:\\chromedriver.exe\")\n"
     ]
    }
   ],
   "source": [
    "#fruits\n",
    "driver=webdriver.Chrome(r\"G:\\chromedriver.exe\")"
   ]
  },
  {
   "cell_type": "code",
   "execution_count": 9,
   "id": "3dfd36cb",
   "metadata": {},
   "outputs": [],
   "source": [
    "driver.get(\"https://images.google.com\")"
   ]
  },
  {
   "cell_type": "code",
   "execution_count": 10,
   "id": "b5321a61",
   "metadata": {},
   "outputs": [],
   "source": [
    "location=driver.find_element(By.XPATH,\"/html/body/div[1]/div[3]/form/div[1]/div[1]/div[1]/div/div[2]/input\")\n",
    "location.send_keys('fruits')"
   ]
  },
  {
   "cell_type": "code",
   "execution_count": 13,
   "id": "115a47f3",
   "metadata": {},
   "outputs": [],
   "source": [
    "search=driver.find_element(By.CLASS_NAME,\"zgAlFc\")\n",
    "search.click()"
   ]
  },
  {
   "cell_type": "code",
   "execution_count": 14,
   "id": "f355f8ff",
   "metadata": {},
   "outputs": [
    {
     "data": {
      "text/plain": [
       "<!DOCTYPE html PUBLIC \"-//WAPFORUM//DTD XHTML Mobile 1.0//EN\" \"http://www.wapforum.org/DTD/xhtml-mobile10.dtd\">\n",
       "<html lang=\"en-IN\" xmlns=\"http://www.w3.org/1999/xhtml\"><head><meta content=\"application/xhtml+xml; charset=utf-8\" http-equiv=\"Content-Type\"/><meta content=\"no-cache\" name=\"Cache-Control\"/><title>fruits - Google Search</title><style>a{text-decoration:none;color:inherit}a:hover{text-decoration:underline}a img{border:0}body{font-family:arial,sans-serif;padding:8px;margin:0 auto;max-width:700px;min-width:240px;}.FbhRzb{border-left:thin solid #dadce0;border-right:thin solid #dadce0;border-top:thin solid #dadce0;height:40px;overflow:hidden}.n692Zd{margin-bottom:10px}.cvifge{height:40px;border-spacing:0}.QvGUP{height:40px;padding:0 8px 0 8px;vertical-align:top}.O4cRJf{height:40px;width:100%;padding:0;padding-right:16px}.O1ePr{height:40px;padding:0;vertical-align:top}.kgJEQe{height:36px;width:98px;vertical-align:top;margin-top:4px}.lXLRf{vertical-align:top}.MhzMZd{border:0;vertical-align:middle;font-size:14px;height:40px;padding:0;width:100%;padding-left:16px}.xB0fq{height:40px;border:none;font-size:14px;background-color:#1a73e8;color:#fff;padding:0 16px;margin:0;vertical-align:top;cursor:pointer}.xB0fq:focus{border:1px solid #1a73e8}.M7pB2{border:thin solid #dadce0;margin:0 0 3px 0;font-size:13px;font-weight:500;height:40px}.euZec{width:100%;height:40px;text-align:center;border-spacing:0}table.euZec td{padding:0;width:25%}.QIqI7{display:inline-block;padding-top:4px;font-weight:bold;color:#4285f4}.EY24We{border-bottom:2px solid #4285f4}.CsQyDc{display:inline-block;color:#70757a}.TuS8Ad{font-size:14px}.HddGcc{padding:8px;color:#70757a}.dzp8ae{font-weight:bold;color:#3c4043}.rEM8G{color:#70757a}.bookcf{table-layout:fixed;width:100%;border-spacing:0}.InWNIe{text-align:center}.uZgmoc{border:thin solid #dadce0;color:#70757a;font-size:14px;text-align:center;table-layout:fixed;width:100%}.frGj1b{display:block;padding:12px 0 12px 0;width:100%}.BnJWBc{text-align:center;padding:6px 0 13px 0;height:35px}.e3goi{vertical-align:top;padding:0;height:180px}.GpQGbf{margin:auto;border-collapse:collapse;border-spacing:0;width:100%}</style></head><body><style>.X6ZCif{color:#202124;font-size:11px;line-height:16px;display:inline-block;padding-top:2px;overflow:hidden;padding-bottom:4px;width:100%}.TwVfHd{border-radius:16px;border:thin solid #dadce0;display:inline-block;padding:8px 8px;margin-right:8px;margin-bottom:4px}.yekiAe{background-color:#dadce0}.mnTahd{width:100%}.ezO2md{border:thin solid #dadce0;padding:12px 16px 12px 16px;margin-bottom:10px;font-family:arial,sans-serif}.lIMUZd{font-family:arial,sans-serif}.IkMU6e{border-spacing:0}.SjCsie{width:100%}.EnarA{text-align:center}.NZWO1b{width:162px;height:140px;line-height:140px;overflow:'hidden';text-align:center}.yWs4tf{text-align:center;margin:auto;vertical-align:middle;max-width:162px;max-height:140px}.jB2rPd{padding-top:2px;padding-bottom:8px;}.fYyStc{word-break:break-word}.ynsChf{display:block;white-space:nowrap;overflow:hidden;text-overflow:ellipsis}.Fj3V3b{color:#1967d2;font-size:14px;line-height:20px}.FrIlee{color:#202124;font-size:11px;line-height:16px}.F9iS2e{color:#70757a;font-size:11px;line-height:16px}.WMQ2Le{color:#70757a;font-size:12px;line-height:16px}.x3G5ab{color:#202124;font-size:12px;line-height:16px}.fuLhoc{color:#1967d2;font-size:16px;line-height:20px}.epoveb{font-size:24px;line-height:28px;font-weight:400;color:#202124}.dXDvrc{color:#0d652d;font-size:14px;line-height:20px;word-wrap:break-word}.dloBPe{font-weight:bold}.YVIcad{color:#70757a}.JkVVdd{color:#ea4335}.oXZRFd{color:#ea4335}.MQHtg{color:#fbbc04}.pyMRrb{color:#1e8e3e}.EtTZid{color:#1e8e3e}.M3vVJe{color:#1967d2}.qXLe6d{display:block}.NHQNef{font-style:italic}.Cb8Z7c{white-space:pre}a.ZWRArf{text-decoration:none}a .CVA68e:hover{text-decoration:underline}</style><div class=\"n692Zd\"><div class=\"BnJWBc\"><a class=\"lXLRf\" href=\"/?biw=811&amp;bih=604&amp;output=images&amp;ie=UTF-8&amp;tbm=isch&amp;sa=X&amp;ved=0ahUKEwiNjpLNpuz8AhXbRmwGHY1eBFgQPAgC\"><img alt=\"Google\" class=\"kgJEQe\" src=\"/images/branding/searchlogo/1x/googlelogo_desk_heirloom_color_150x55dp.gif\"/></a></div><div class=\"FbhRzb\"><form action=\"/search\"><input name=\"biw\" type=\"hidden\" value=\"811\"/><input name=\"bih\" type=\"hidden\" value=\"604\"/><input name=\"ie\" type=\"hidden\" value=\"ISO-8859-1\"/><input name=\"tbm\" type=\"hidden\" value=\"isch\"/><input name=\"oq\" type=\"hidden\"/><input name=\"aqs\" type=\"hidden\"/><table class=\"cvifge\"><tr><td class=\"O4cRJf\"><input class=\"MhzMZd\" name=\"q\" type=\"text\" value=\"fruits\"/></td><td class=\"O1ePr\"><input class=\"xB0fq\" type=\"submit\" value=\"Search\"/></td></tr></table></form></div><div class=\"M7pB2\"><table class=\"euZec\"><tbody><tr><td><a class=\"CsQyDc\" href=\"/search?q=fruits&amp;biw=811&amp;bih=604&amp;ie=UTF-8&amp;source=lnms&amp;sa=X&amp;ved=0ahUKEwiNjpLNpuz8AhXbRmwGHY1eBFgQ_AUIBCgA\">ALL</a></td><td class=\"EY24We\"><span class=\"QIqI7\">IMAGES</span></td><td><a class=\"CsQyDc\" href=\"/search?q=fruits&amp;biw=811&amp;bih=604&amp;ie=UTF-8&amp;tbm=nws&amp;source=lnms&amp;sa=X&amp;ved=0ahUKEwiNjpLNpuz8AhXbRmwGHY1eBFgQ_AUIBigC\">NEWS</a></td><td><a class=\"CsQyDc\" href=\"/search?q=fruits&amp;biw=811&amp;bih=604&amp;ie=UTF-8&amp;tbm=vid&amp;source=lnms&amp;sa=X&amp;ved=0ahUKEwiNjpLNpuz8AhXbRmwGHY1eBFgQ_AUIBygD\">VIDEOS</a></td></tr></tbody></table></div></div><div class=\"X6ZCif\"><a class=\"TwVfHd\" href=\"/search?biw=811&amp;bih=604&amp;ie=UTF-8&amp;tbm=isch&amp;q=fruits&amp;chips=q:fruits,g_1:drawing&amp;sa=X&amp;ved=0ahUKEwiNjpLNpuz8AhXbRmwGHY1eBFgQ4lYICygA\">drawing</a><a class=\"TwVfHd\" href=\"/search?biw=811&amp;bih=604&amp;ie=UTF-8&amp;tbm=isch&amp;q=fruits&amp;chips=q:fruits,g_1:orange&amp;sa=X&amp;ved=0ahUKEwiNjpLNpuz8AhXbRmwGHY1eBFgQ4lYIDCgB\">orange</a><a class=\"TwVfHd\" href=\"/search?biw=811&amp;bih=604&amp;ie=UTF-8&amp;tbm=isch&amp;q=fruits&amp;chips=q:fruits,g_1:clipart&amp;sa=X&amp;ved=0ahUKEwiNjpLNpuz8AhXbRmwGHY1eBFgQ4lYIDSgC\">clipart</a><a class=\"TwVfHd\" href=\"/search?biw=811&amp;bih=604&amp;ie=UTF-8&amp;tbm=isch&amp;q=fruits&amp;chips=q:fruits,g_1:apple&amp;sa=X&amp;ved=0ahUKEwiNjpLNpuz8AhXbRmwGHY1eBFgQ4lYIDigD\">apple</a><a class=\"TwVfHd\" href=\"/search?biw=811&amp;bih=604&amp;ie=UTF-8&amp;tbm=isch&amp;q=fruits&amp;chips=q:fruits,g_1:mango&amp;sa=X&amp;ved=0ahUKEwiNjpLNpuz8AhXbRmwGHY1eBFgQ4lYIDygE\">mango</a><a class=\"TwVfHd\" href=\"/search?biw=811&amp;bih=604&amp;ie=UTF-8&amp;tbm=isch&amp;q=fruits&amp;chips=q:fruits,g_1:banana&amp;sa=X&amp;ved=0ahUKEwiNjpLNpuz8AhXbRmwGHY1eBFgQ4lYIECgF\">banana</a><a class=\"TwVfHd\" href=\"/search?biw=811&amp;bih=604&amp;ie=UTF-8&amp;tbm=isch&amp;q=fruits&amp;chips=q:fruits,g_1:single&amp;sa=X&amp;ved=0ahUKEwiNjpLNpuz8AhXbRmwGHY1eBFgQ4lYIESgG\">single</a><a class=\"TwVfHd\" href=\"/search?biw=811&amp;bih=604&amp;ie=UTF-8&amp;tbm=isch&amp;q=fruits&amp;chips=q:fruits,g_1:vegetable&amp;sa=X&amp;ved=0ahUKEwiNjpLNpuz8AhXbRmwGHY1eBFgQ4lYIEigH\">vegetable</a><a class=\"TwVfHd\" href=\"/search?biw=811&amp;bih=604&amp;ie=UTF-8&amp;tbm=isch&amp;q=fruits&amp;chips=q:fruits,g_1:watermelon&amp;sa=X&amp;ved=0ahUKEwiNjpLNpuz8AhXbRmwGHY1eBFgQ4lYIEygI\">watermelon</a><a class=\"TwVfHd\" href=\"/search?biw=811&amp;bih=604&amp;ie=UTF-8&amp;tbm=isch&amp;q=fruits&amp;chips=q:fruits,g_1:wallpaper&amp;sa=X&amp;ved=0ahUKEwiNjpLNpuz8AhXbRmwGHY1eBFgQ4lYIFCgJ\">wallpaper</a></div><div><table class=\"GpQGbf\"><tr><td align=\"center\" class=\"e3goi\"><div class=\"mnTahd\"> <div> <div class=\"lIMUZd\"><div><table class=\"IkMU6e\"><tr><td><a href=\"/url?q=https://www.goodhousekeeping.com/health/diet-nutrition/g28511617/healthiest-fruits/&amp;sa=U&amp;ved=2ahUKEwiNjpLNpuz8AhXbRmwGHY1eBFgQqoUBegQIARAB&amp;usg=AOvVaw2mX42a0ihl8WPTNodMz_q9\"><div class=\"NZWO1b\"><img alt=\"\" class=\"yWs4tf\" src=\"https://encrypted-tbn0.gstatic.com/images?q=tbn:ANd9GcSUoYZrOBiuhDQEVYeEORw7zrra9mMTtuxix2i91p3BIjbws0LphL257yJVndo&amp;s\"/></div></a></td></tr><tr><td><a href=\"/url?q=https://www.goodhousekeeping.com/health/diet-nutrition/g28511617/healthiest-fruits/&amp;sa=U&amp;ved=2ahUKEwiNjpLNpuz8AhXbRmwGHY1eBFgQr4kDegQIARAC&amp;usg=AOvVaw0KX8P5MfnNFnDP5oj5zdLE\"><div class=\"jB2rPd\"> <span class=\"qXLe6d x3G5ab\"> <span class=\"fYyStc\">25 Healthiest Fruits You...</span> </span> <span class=\"qXLe6d F9iS2e\"> <span class=\"fYyStc\">www.goodhousekeeping.com</span> </span> </div></a></td></tr></table></div></div> </div> </div></td><td align=\"center\" class=\"e3goi\"><div class=\"mnTahd\"> <div> <div class=\"lIMUZd\"><div><table class=\"IkMU6e\"><tr><td><a href=\"/url?q=https://onlymyenglish.com/fruits-name-english/&amp;sa=U&amp;ved=2ahUKEwiNjpLNpuz8AhXbRmwGHY1eBFgQqoUBegQIExAB&amp;usg=AOvVaw0SeoSLEWGzDtWTOmzdZrR-\"><div class=\"NZWO1b\"><img alt=\"\" class=\"yWs4tf\" src=\"https://encrypted-tbn0.gstatic.com/images?q=tbn:ANd9GcSAPRMJNugD2opEJjbKgi1_zT4e2KqeyOD0EkuhYBlGrFFUargNKmMz4dwL4n0&amp;s\"/></div></a></td></tr><tr><td><a href=\"/url?q=https://onlymyenglish.com/fruits-name-english/&amp;sa=U&amp;ved=2ahUKEwiNjpLNpuz8AhXbRmwGHY1eBFgQr4kDegQIExAC&amp;usg=AOvVaw2zew5RhMa9xA8qL548JSpk\"><div class=\"jB2rPd\"> <span class=\"qXLe6d x3G5ab\"> <span class=\"fYyStc\">50+ Fruits Name In English...</span> </span> <span class=\"qXLe6d F9iS2e\"> <span class=\"fYyStc\">onlymyenglish.com</span> </span> </div></a></td></tr></table></div></div> </div> </div></td><td align=\"center\" class=\"e3goi\"><div class=\"mnTahd\"> <div> <div class=\"lIMUZd\"><div><table class=\"IkMU6e\"><tr><td><a href=\"/url?q=https://www.pinterest.com/pin/649081365039047796/&amp;sa=U&amp;ved=2ahUKEwiNjpLNpuz8AhXbRmwGHY1eBFgQqoUBegQIEhAB&amp;usg=AOvVaw3CjfjNSJyqIh7KBaB85p7f\"><div class=\"NZWO1b\"><img alt=\"\" class=\"yWs4tf\" src=\"https://encrypted-tbn0.gstatic.com/images?q=tbn:ANd9GcQ1c1DAfgF3XONwSuKO3OrytUnolbKyE9ZoLSuQQCGb8udf05FY2C3bUobXqg&amp;s\"/></div></a></td></tr><tr><td><a href=\"/url?q=https://www.pinterest.com/pin/649081365039047796/&amp;sa=U&amp;ved=2ahUKEwiNjpLNpuz8AhXbRmwGHY1eBFgQr4kDegQIEhAC&amp;usg=AOvVaw2ObW4_pTSVn4tpoNTg0Ppa\"><div class=\"jB2rPd\"> <span class=\"qXLe6d x3G5ab\"> <span class=\"fYyStc\">Tropical Fruits: List of...</span> </span> <span class=\"qXLe6d F9iS2e\"> <span class=\"fYyStc\">www.pinterest.com</span> </span> </div></a></td></tr></table></div></div> </div> </div></td><td align=\"center\" class=\"e3goi\"><div class=\"mnTahd\"> <div> <div class=\"lIMUZd\"><div><table class=\"IkMU6e\"><tr><td><a href=\"/url?q=https://www.healthyeating.org/nutrition-topics/general/food-groups/fruits&amp;sa=U&amp;ved=2ahUKEwiNjpLNpuz8AhXbRmwGHY1eBFgQqoUBegQIDhAB&amp;usg=AOvVaw3sWDELkRhZsMSaw_65u4zm\"><div class=\"NZWO1b\"><img alt=\"\" class=\"yWs4tf\" src=\"https://encrypted-tbn0.gstatic.com/images?q=tbn:ANd9GcQ86pCpQFnZQzJlSUCJ-i04qECrYBku6HdYZj-wObv4baRAki2NSYnimmzNpw&amp;s\"/></div></a></td></tr><tr><td><a href=\"/url?q=https://www.healthyeating.org/nutrition-topics/general/food-groups/fruits&amp;sa=U&amp;ved=2ahUKEwiNjpLNpuz8AhXbRmwGHY1eBFgQr4kDegQIDhAC&amp;usg=AOvVaw1hMwlRuVT0b8G8iM0fQVF7\"><div class=\"jB2rPd\"> <span class=\"qXLe6d x3G5ab\"> <span class=\"fYyStc\">Fruits</span> </span> <span class=\"qXLe6d F9iS2e\"> <span class=\"fYyStc\">www.healthyeating.org</span> </span> </div></a></td></tr></table></div></div> </div> </div></td></tr><tr><td align=\"center\" class=\"e3goi\"><div class=\"mnTahd\"> <div> <div class=\"lIMUZd\"><div><table class=\"IkMU6e\"><tr><td><a href=\"/url?q=https://www.vecteezy.com/vector-art/6521988-colorful-simple-fruit-drawing-perfect-for-children-s-illustration-and-teaching&amp;sa=U&amp;ved=2ahUKEwiNjpLNpuz8AhXbRmwGHY1eBFgQqoUBegQIERAB&amp;usg=AOvVaw1U2YEhC-4ssrKO1cYCkh2y\"><div class=\"NZWO1b\"><img alt=\"\" class=\"yWs4tf\" src=\"https://encrypted-tbn0.gstatic.com/images?q=tbn:ANd9GcTTifgqC7e4QA3srbe0ZIbjQ7N52i8GGxDHtjtBNzjZoMlbk1PxY-uYTaAYMA&amp;s\"/></div></a></td></tr><tr><td><a href=\"/url?q=https://www.vecteezy.com/vector-art/6521988-colorful-simple-fruit-drawing-perfect-for-children-s-illustration-and-teaching&amp;sa=U&amp;ved=2ahUKEwiNjpLNpuz8AhXbRmwGHY1eBFgQr4kDegQIERAC&amp;usg=AOvVaw09jQE99L9vZYfwJ3Fyssb5\"><div class=\"jB2rPd\"> <span class=\"qXLe6d x3G5ab\"> <span class=\"fYyStc\">Colorful simple fruit...</span> </span> <span class=\"qXLe6d F9iS2e\"> <span class=\"fYyStc\">www.vecteezy.com</span> </span> </div></a></td></tr></table></div></div> </div> </div></td><td align=\"center\" class=\"e3goi\"><div class=\"mnTahd\"> <div> <div class=\"lIMUZd\"><div><table class=\"IkMU6e\"><tr><td><a href=\"/url?q=https://englishgrammarhere.com/vocabulary/fruits-names-list-definition-and-examples/&amp;sa=U&amp;ved=2ahUKEwiNjpLNpuz8AhXbRmwGHY1eBFgQqoUBegQIDxAB&amp;usg=AOvVaw2kbbpklDfapxtbxseZ7Hvg\"><div class=\"NZWO1b\"><img alt=\"\" class=\"yWs4tf\" src=\"https://encrypted-tbn0.gstatic.com/images?q=tbn:ANd9GcQF0IKCRPcaDP2Bcqb5K2xNM_5e3JkYdAQOJVXHSGgeoAECwFctx0jvjV14ub4&amp;s\"/></div></a></td></tr><tr><td><a href=\"/url?q=https://englishgrammarhere.com/vocabulary/fruits-names-list-definition-and-examples/&amp;sa=U&amp;ved=2ahUKEwiNjpLNpuz8AhXbRmwGHY1eBFgQr4kDegQIDxAC&amp;usg=AOvVaw0FQQ3nxbyPtPB8oxY5nrRx\"><div class=\"jB2rPd\"> <span class=\"qXLe6d x3G5ab\"> <span class=\"fYyStc\">Fruits Names List,...</span> </span> <span class=\"qXLe6d F9iS2e\"> <span class=\"fYyStc\">englishgrammarhere.com</span> </span> </div></a></td></tr></table></div></div> </div> </div></td><td align=\"center\" class=\"e3goi\"><div class=\"mnTahd\"> <div> <div class=\"lIMUZd\"><div><table class=\"IkMU6e\"><tr><td><a href=\"/url?q=https://www.amazon.in/Fruits-All-One-Dreamland-Publications/dp/8184510594&amp;sa=U&amp;ved=2ahUKEwiNjpLNpuz8AhXbRmwGHY1eBFgQqoUBegQIEBAB&amp;usg=AOvVaw394QYPlExZwr1Jw47B2Mmf\"><div class=\"NZWO1b\"><img alt=\"\" class=\"yWs4tf\" src=\"https://encrypted-tbn0.gstatic.com/images?q=tbn:ANd9GcSQ2edPW6ZEEqm8YVsZNbPSEoPKWn9Xyx8nJtRf0WXdcfzfy5NFItDPApJh-A&amp;s\"/></div></a></td></tr><tr><td><a href=\"/url?q=https://www.amazon.in/Fruits-All-One-Dreamland-Publications/dp/8184510594&amp;sa=U&amp;ved=2ahUKEwiNjpLNpuz8AhXbRmwGHY1eBFgQr4kDegQIEBAC&amp;usg=AOvVaw1rKoQNPWVjtmgaodcdNS8F\"><div class=\"jB2rPd\"> <span class=\"qXLe6d x3G5ab\"> <span class=\"fYyStc\">Buy Fruits (All in One)...</span> </span> <span class=\"qXLe6d F9iS2e\"> <span class=\"fYyStc\">www.amazon.in</span> </span> </div></a></td></tr></table></div></div> </div> </div></td><td align=\"center\" class=\"e3goi\"><div class=\"mnTahd\"> <div> <div class=\"lIMUZd\"><div><table class=\"IkMU6e\"><tr><td><a href=\"/url?q=https://www.freepik.com/free-photos-vectors/fruits-drawing&amp;sa=U&amp;ved=2ahUKEwiNjpLNpuz8AhXbRmwGHY1eBFgQqoUBegQIDBAB&amp;usg=AOvVaw0pEskpbXod8DHgGUDHeOrF\"><div class=\"NZWO1b\"><img alt=\"\" class=\"yWs4tf\" src=\"https://encrypted-tbn0.gstatic.com/images?q=tbn:ANd9GcR_DoiKy5YEjDyLIcRtHX0oiWr-94o51Dzr6DhTa8GjiP8KyuE-nrxJDR5PTAg&amp;s\"/></div></a></td></tr><tr><td><a href=\"/url?q=https://www.freepik.com/free-photos-vectors/fruits-drawing&amp;sa=U&amp;ved=2ahUKEwiNjpLNpuz8AhXbRmwGHY1eBFgQr4kDegQIDBAC&amp;usg=AOvVaw0RJLdfzOdhfEqSplmMDSrv\"><div class=\"jB2rPd\"> <span class=\"qXLe6d x3G5ab\"> <span class=\"fYyStc\">Fruits Drawing Images -...</span> </span> <span class=\"qXLe6d F9iS2e\"> <span class=\"fYyStc\">www.freepik.com</span> </span> </div></a></td></tr></table></div></div> </div> </div></td></tr><tr><td align=\"center\" class=\"e3goi\"><div class=\"mnTahd\"> <div> <div class=\"lIMUZd\"><div><table class=\"IkMU6e\"><tr><td><a href=\"/url?q=https://www.herzindagi.com/diet-nutrition/electrolyte-rich-winter-fruits-that-you-must-eat-every-day-to-improve-your-health-article-212531&amp;sa=U&amp;ved=2ahUKEwiNjpLNpuz8AhXbRmwGHY1eBFgQqoUBegQICRAB&amp;usg=AOvVaw0RTb_AB_E2nKD-_RwMgQaK\"><div class=\"NZWO1b\"><img alt=\"\" class=\"yWs4tf\" src=\"https://encrypted-tbn0.gstatic.com/images?q=tbn:ANd9GcQvz-hWinXkiT2vM3ehExQ0UD0YZOsWc0bDD2tvNbhiypN8F2BBDjqRqoLXsw&amp;s\"/></div></a></td></tr><tr><td><a href=\"/url?q=https://www.herzindagi.com/diet-nutrition/electrolyte-rich-winter-fruits-that-you-must-eat-every-day-to-improve-your-health-article-212531&amp;sa=U&amp;ved=2ahUKEwiNjpLNpuz8AhXbRmwGHY1eBFgQr4kDegQICRAC&amp;usg=AOvVaw3Vg2zKsEIyjQzc_tvEjpdK\"><div class=\"jB2rPd\"> <span class=\"qXLe6d x3G5ab\"> <span class=\"fYyStc\">Winter Fruits | Benefits Of...</span> </span> <span class=\"qXLe6d F9iS2e\"> <span class=\"fYyStc\">www.herzindagi.com</span> </span> </div></a></td></tr></table></div></div> </div> </div></td><td align=\"center\" class=\"e3goi\"><div class=\"mnTahd\"> <div> <div class=\"lIMUZd\"><div><table class=\"IkMU6e\"><tr><td><a href=\"/url?q=https://engdic.org/fruits-names/&amp;sa=U&amp;ved=2ahUKEwiNjpLNpuz8AhXbRmwGHY1eBFgQqoUBegQIDRAB&amp;usg=AOvVaw3Sx7bWsHpqniqplUiTTjqF\"><div class=\"NZWO1b\"><img alt=\"\" class=\"yWs4tf\" src=\"https://encrypted-tbn0.gstatic.com/images?q=tbn:ANd9GcR3BXHTy8--k103DtD5gs_tBqyEh9t5v3aOzFOdNZakQiiT-BNjMgXf2-J2iSg&amp;s\"/></div></a></td></tr><tr><td><a href=\"/url?q=https://engdic.org/fruits-names/&amp;sa=U&amp;ved=2ahUKEwiNjpLNpuz8AhXbRmwGHY1eBFgQr4kDegQIDRAC&amp;usg=AOvVaw04OgTe6LQLLT3hGJjs_1H1\"><div class=\"jB2rPd\"> <span class=\"qXLe6d x3G5ab\"> <span class=\"fYyStc\">100 Fruits Names with...</span> </span> <span class=\"qXLe6d F9iS2e\"> <span class=\"fYyStc\">engdic.org</span> </span> </div></a></td></tr></table></div></div> </div> </div></td><td align=\"center\" class=\"e3goi\"><div class=\"mnTahd\"> <div> <div class=\"lIMUZd\"><div><table class=\"IkMU6e\"><tr><td><a href=\"/url?q=https://engdic.org/15-fruit-names-list/&amp;sa=U&amp;ved=2ahUKEwiNjpLNpuz8AhXbRmwGHY1eBFgQqoUBegQICxAB&amp;usg=AOvVaw1L_RVBA_KXnbvSDmEUXADQ\"><div class=\"NZWO1b\"><img alt=\"\" class=\"yWs4tf\" src=\"https://encrypted-tbn0.gstatic.com/images?q=tbn:ANd9GcSgKPiI1xnPteLv50rBGRkSAEd5v6CrS9LYOXeMAeovx4uF6vfwTQBAdHmwUgE&amp;s\"/></div></a></td></tr><tr><td><a href=\"/url?q=https://engdic.org/15-fruit-names-list/&amp;sa=U&amp;ved=2ahUKEwiNjpLNpuz8AhXbRmwGHY1eBFgQr4kDegQICxAC&amp;usg=AOvVaw36EMRj5ZA5a2eyuntQH1h6\"><div class=\"jB2rPd\"> <span class=\"qXLe6d x3G5ab\"> <span class=\"fYyStc\">15 Fruit Names List with...</span> </span> <span class=\"qXLe6d F9iS2e\"> <span class=\"fYyStc\">engdic.org</span> </span> </div></a></td></tr></table></div></div> </div> </div></td><td align=\"center\" class=\"e3goi\"><div class=\"mnTahd\"> <div> <div class=\"lIMUZd\"><div><table class=\"IkMU6e\"><tr><td><a href=\"/url?q=https://www.vocabulary.cl/english/fruit.htm&amp;sa=U&amp;ved=2ahUKEwiNjpLNpuz8AhXbRmwGHY1eBFgQqoUBegQIChAB&amp;usg=AOvVaw0MPA0Y4zgZGqeEK8n43gaa\"><div class=\"NZWO1b\"><img alt=\"\" class=\"yWs4tf\" src=\"https://encrypted-tbn0.gstatic.com/images?q=tbn:ANd9GcQ3EVc9KAET6u536vhgT-WMHx0_h6WgNYs2SPH1siHqjPY2LUzFvzUN1szVRpk&amp;s\"/></div></a></td></tr><tr><td><a href=\"/url?q=https://www.vocabulary.cl/english/fruit.htm&amp;sa=U&amp;ved=2ahUKEwiNjpLNpuz8AhXbRmwGHY1eBFgQr4kDegQIChAC&amp;usg=AOvVaw25z6_HWnYVq6M9dnkT_UCY\"><div class=\"jB2rPd\"> <span class=\"qXLe6d x3G5ab\"> <span class=\"fYyStc\">Fruit - English Vocabulary...</span> </span> <span class=\"qXLe6d F9iS2e\"> <span class=\"fYyStc\">www.vocabulary.cl</span> </span> </div></a></td></tr></table></div></div> </div> </div></td></tr><tr><td align=\"center\" class=\"e3goi\"><div class=\"mnTahd\"> <div> <div class=\"lIMUZd\"><div><table class=\"IkMU6e\"><tr><td><a href=\"/url?q=https://onlymyenglish.com/red-fruits-and-vegetables/&amp;sa=U&amp;ved=2ahUKEwiNjpLNpuz8AhXbRmwGHY1eBFgQqoUBegQICBAB&amp;usg=AOvVaw2f58kyYGI-zymMOWgV4_Ho\"><div class=\"NZWO1b\"><img alt=\"\" class=\"yWs4tf\" src=\"https://encrypted-tbn0.gstatic.com/images?q=tbn:ANd9GcTtE5V_raqTjtGRM10HArlu9nlw6cXZYTyv0ZQzCzReE-8AgphLevF5HCn2kMM&amp;s\"/></div></a></td></tr><tr><td><a href=\"/url?q=https://onlymyenglish.com/red-fruits-and-vegetables/&amp;sa=U&amp;ved=2ahUKEwiNjpLNpuz8AhXbRmwGHY1eBFgQr4kDegQICBAC&amp;usg=AOvVaw0kd_souVwM-cFN6ETVZtdi\"><div class=\"jB2rPd\"> <span class=\"qXLe6d x3G5ab\"> <span class=\"fYyStc\">30+ Red Fruits &amp; Vegetables...</span> </span> <span class=\"qXLe6d F9iS2e\"> <span class=\"fYyStc\">onlymyenglish.com</span> </span> </div></a></td></tr></table></div></div> </div> </div></td><td align=\"center\" class=\"e3goi\"><div class=\"mnTahd\"> <div> <div class=\"lIMUZd\"><div><table class=\"IkMU6e\"><tr><td><a href=\"/url?q=https://englishtivi.com/fruits-name-in-english/&amp;sa=U&amp;ved=2ahUKEwiNjpLNpuz8AhXbRmwGHY1eBFgQqoUBegQIAhAB&amp;usg=AOvVaw187PzcFAphplXfBANLYfoX\"><div class=\"NZWO1b\"><img alt=\"\" class=\"yWs4tf\" src=\"https://encrypted-tbn0.gstatic.com/images?q=tbn:ANd9GcSDq8KZZ_xaXdxUF-swqSEIqBaIJzPNruJaDmUFxyArFNxkb-hepSW8kmtKjQs&amp;s\"/></div></a></td></tr><tr><td><a href=\"/url?q=https://englishtivi.com/fruits-name-in-english/&amp;sa=U&amp;ved=2ahUKEwiNjpLNpuz8AhXbRmwGHY1eBFgQr4kDegQIAhAC&amp;usg=AOvVaw1VZYvqk9Fy6JaVG3gl0jPy\"><div class=\"jB2rPd\"> <span class=\"qXLe6d x3G5ab\"> <span class=\"fYyStc\">Fruits Name: List of Fruits...</span> </span> <span class=\"qXLe6d F9iS2e\"> <span class=\"fYyStc\">englishtivi.com</span> </span> </div></a></td></tr></table></div></div> </div> </div></td><td align=\"center\" class=\"e3goi\"><div class=\"mnTahd\"> <div> <div class=\"lIMUZd\"><div><table class=\"IkMU6e\"><tr><td><a href=\"/url?q=https://byjus.com/english/fruits-names/&amp;sa=U&amp;ved=2ahUKEwiNjpLNpuz8AhXbRmwGHY1eBFgQqoUBegQIBRAB&amp;usg=AOvVaw2GawtoQt2UphU19M4jknZ7\"><div class=\"NZWO1b\"><img alt=\"\" class=\"yWs4tf\" src=\"https://encrypted-tbn0.gstatic.com/images?q=tbn:ANd9GcTOmBaVSRKnhVrbqiHUJItPswgMFuUrnbiOABjoI8WOWnFHzi1d-wlvuMORAm0&amp;s\"/></div></a></td></tr><tr><td><a href=\"/url?q=https://byjus.com/english/fruits-names/&amp;sa=U&amp;ved=2ahUKEwiNjpLNpuz8AhXbRmwGHY1eBFgQr4kDegQIBRAC&amp;usg=AOvVaw3kbvfpB6ulvhZY7RWLHm3v\"><div class=\"jB2rPd\"> <span class=\"qXLe6d x3G5ab\"> <span class=\"fYyStc\">Fruit Names in English -...</span> </span> <span class=\"qXLe6d F9iS2e\"> <span class=\"fYyStc\">byjus.com</span> </span> </div></a></td></tr></table></div></div> </div> </div></td><td align=\"center\" class=\"e3goi\"><div class=\"mnTahd\"> <div> <div class=\"lIMUZd\"><div><table class=\"IkMU6e\"><tr><td><a href=\"/url?q=https://health.clevelandclinic.org/fruits-that-deserve-the-buzz-your-dietitians-picks/&amp;sa=U&amp;ved=2ahUKEwiNjpLNpuz8AhXbRmwGHY1eBFgQqoUBegQIBxAB&amp;usg=AOvVaw2jo6MFKR0NH5RzcwdVJtg0\"><div class=\"NZWO1b\"><img alt=\"\" class=\"yWs4tf\" src=\"https://encrypted-tbn0.gstatic.com/images?q=tbn:ANd9GcQ1R9-KvjRE_fGDSdhaUXh8hW-Vr7z4yq0vfsYtYjofbylexEjvmoNBgYl2yHE&amp;s\"/></div></a></td></tr><tr><td><a href=\"/url?q=https://health.clevelandclinic.org/fruits-that-deserve-the-buzz-your-dietitians-picks/&amp;sa=U&amp;ved=2ahUKEwiNjpLNpuz8AhXbRmwGHY1eBFgQr4kDegQIBxAC&amp;usg=AOvVaw0NWgZP2fso15pudH25lyh0\"><div class=\"jB2rPd\"> <span class=\"qXLe6d x3G5ab\"> <span class=\"fYyStc\">Best Fruits to Eat: A...</span> </span> <span class=\"qXLe6d F9iS2e\"> <span class=\"fYyStc\">health.clevelandclinic.org</span> </span> </div></a></td></tr></table></div></div> </div> </div></td></tr><tr><td align=\"center\" class=\"e3goi\"><div class=\"mnTahd\"> <div> <div class=\"lIMUZd\"><div><table class=\"IkMU6e\"><tr><td><a href=\"/url?q=https://www.libertyprim.com/en/lexique-familles/103/apple-lexique-des-fruits.htm&amp;sa=U&amp;ved=2ahUKEwiNjpLNpuz8AhXbRmwGHY1eBFgQqoUBegQIAxAB&amp;usg=AOvVaw2ifry0JaALVZq9vQJmKS4p\"><div class=\"NZWO1b\"><img alt=\"\" class=\"yWs4tf\" src=\"https://encrypted-tbn0.gstatic.com/images?q=tbn:ANd9GcToLZpHvJGmHskP2fDC3q9vH8mtcgApC58xd68N0rnMITtUZ23SjYZzcUssqWo&amp;s\"/></div></a></td></tr><tr><td><a href=\"/url?q=https://www.libertyprim.com/en/lexique-familles/103/apple-lexique-des-fruits.htm&amp;sa=U&amp;ved=2ahUKEwiNjpLNpuz8AhXbRmwGHY1eBFgQr4kDegQIAxAC&amp;usg=AOvVaw2s45NLunQ0UtvKOthJ1uFF\"><div class=\"jB2rPd\"> <span class=\"qXLe6d x3G5ab\"> <span class=\"fYyStc\">Apple Fruits, varieties,...</span> </span> <span class=\"qXLe6d F9iS2e\"> <span class=\"fYyStc\">www.libertyprim.com</span> </span> </div></a></td></tr></table></div></div> </div> </div></td><td align=\"center\" class=\"e3goi\"><div class=\"mnTahd\"> <div> <div class=\"lIMUZd\"><div><table class=\"IkMU6e\"><tr><td><a href=\"/url?q=https://www.unlockfood.ca/en/Articles/Cooking-Food-Preparation/How-to-store-fruit-to-keep-them-fresh.aspx&amp;sa=U&amp;ved=2ahUKEwiNjpLNpuz8AhXbRmwGHY1eBFgQqoUBegQIBhAB&amp;usg=AOvVaw2-WwtaSxKGS8cJXGsnHFXE\"><div class=\"NZWO1b\"><img alt=\"\" class=\"yWs4tf\" src=\"https://encrypted-tbn0.gstatic.com/images?q=tbn:ANd9GcQYd-VnyfvVyWHUIiytGUYyEZZ48GRHBsoIwgZzQKpM9Bo9eDffmpYF55pZPCE&amp;s\"/></div></a></td></tr><tr><td><a href=\"/url?q=https://www.unlockfood.ca/en/Articles/Cooking-Food-Preparation/How-to-store-fruit-to-keep-them-fresh.aspx&amp;sa=U&amp;ved=2ahUKEwiNjpLNpuz8AhXbRmwGHY1eBFgQr4kDegQIBhAC&amp;usg=AOvVaw1iVx-xbHtgG-K4dhFDnmfc\"><div class=\"jB2rPd\"> <span class=\"qXLe6d x3G5ab\"> <span class=\"fYyStc\">How to Store Fruit to Keep...</span> </span> <span class=\"qXLe6d F9iS2e\"> <span class=\"fYyStc\">www.unlockfood.ca</span> </span> </div></a></td></tr></table></div></div> </div> </div></td><td align=\"center\" class=\"e3goi\"><div class=\"mnTahd\"> <div> <div class=\"lIMUZd\"><div><table class=\"IkMU6e\"><tr><td><a href=\"/url?q=https://www.goodhousekeeping.com/health/diet-nutrition/g28511617/healthiest-fruits/&amp;sa=U&amp;ved=2ahUKEwiNjpLNpuz8AhXbRmwGHY1eBFgQqoUBegQIBBAB&amp;usg=AOvVaw2HBGHVGhddlX5Vhphg3HZv\"><div class=\"NZWO1b\"><img alt=\"\" class=\"yWs4tf\" src=\"https://encrypted-tbn0.gstatic.com/images?q=tbn:ANd9GcSNNS17aGBNA7U-PS2Z3l7stkhG1hswIW5eiB6jl462S7WI3jLq84ICem_kGjc&amp;s\"/></div></a></td></tr><tr><td><a href=\"/url?q=https://www.goodhousekeeping.com/health/diet-nutrition/g28511617/healthiest-fruits/&amp;sa=U&amp;ved=2ahUKEwiNjpLNpuz8AhXbRmwGHY1eBFgQr4kDegQIBBAC&amp;usg=AOvVaw1B_UQcNe7K69YMtyafKdcR\"><div class=\"jB2rPd\"> <span class=\"qXLe6d x3G5ab\"> <span class=\"fYyStc\">25 Healthiest Fruits You...</span> </span> <span class=\"qXLe6d F9iS2e\"> <span class=\"fYyStc\">www.goodhousekeeping.com</span> </span> </div></a></td></tr></table></div></div> </div> </div></td><td align=\"center\" class=\"e3goi\"><div class=\"mnTahd\"> <div> <div class=\"lIMUZd\"><div><table class=\"IkMU6e\"><tr><td><a href=\"/url?q=https://www.diagnosisdiet.com/full-article/fruit&amp;sa=U&amp;ved=2ahUKEwiNjpLNpuz8AhXbRmwGHY1eBFgQqoUBegQIABAB&amp;usg=AOvVaw3jVyd-k1vnDx3E20ORPZbQ\"><div class=\"NZWO1b\"><img alt=\"\" class=\"yWs4tf\" src=\"https://encrypted-tbn0.gstatic.com/images?q=tbn:ANd9GcRNLoCANWLkkPOc1MOIJUqlva4DbxxmUiFwZuqtP5UPuqg2NoEFELYhZkg6eQ&amp;s\"/></div></a></td></tr><tr><td><a href=\"/url?q=https://www.diagnosisdiet.com/full-article/fruit&amp;sa=U&amp;ved=2ahUKEwiNjpLNpuz8AhXbRmwGHY1eBFgQr4kDegQIABAC&amp;usg=AOvVaw2SWtTQTXeP2piFFiEGng_8\"><div class=\"jB2rPd\"> <span class=\"qXLe6d x3G5ab\"> <span class=\"fYyStc\">Do We Need Fruit...</span> </span> <span class=\"qXLe6d F9iS2e\"> <span class=\"fYyStc\">www.diagnosisdiet.com</span> </span> </div></a></td></tr></table></div></div> </div> </div></td></tr></table></div><table class=\"uZgmoc\"><tbody><td><a class=\"frGj1b\" href=\"/search?q=fruits&amp;biw=811&amp;bih=604&amp;ie=UTF-8&amp;tbm=isch&amp;ei=SCbWY43KEduNseMPjb2RwAU&amp;start=20&amp;sa=N\">Next &gt;</a></td></tbody></table><br/><div class=\"TuS8Ad\" data-ved=\"0ahUKEwiNjpLNpuz8AhXbRmwGHY1eBFgQpyoIUg\"><style>.VYM29{font-weight:bold}</style><div align=\"center\" class=\"HddGcc\"><span class=\"VYM29\">410201, Maharashtra</span><span> - </span><span>From your IP address</span><span> - </span><a href=\"/url?q=https://support.google.com/websearch%3Fp%3Dws_settings_location%26hl%3Den-IN&amp;sa=U&amp;ved=0ahUKEwiNjpLNpuz8AhXbRmwGHY1eBFgQty4IUw&amp;usg=AOvVaw1zyUgUm2GRq9bYl099q3Md\">Learn more</a></div><div align=\"center\"><a class=\"rEM8G\" href=\"/url?q=https://accounts.google.com/ServiceLogin%3Fcontinue%3Dhttps://www.google.com/search%253Fq%253Dfruits%2526tbm%253Disch%2526source%253Dhp%2526biw%253D811%2526bih%253D604%2526ei%253DAFrVY7G_KuqXseMPv-admAw%2526iflsig%253DAK50M_UAAAAAY9VoEP8V8hJBuIpnPf4hNVHeM32fayrq%2526ved%253D0ahUKEwixv9Tk4-r8AhXqS2wGHT9zB8MQ4dUDCAc%2526oq%253Dfruits%2526gs_lcp%253DCgNpbWcQDDIICAAQgAQQsQMyCAgAEIAEELEDMggIABCABBCxAzIICAAQgAQQsQMyCAgAEIAEELEDMggIABCABBCxAzIICAAQgAQQsQMyCAgAEIAEELEDMggIABCABBCxAzIICAAQgAQQsQM6CQgAEIAEEAoQGFAAWNefAWCFsghoAXAAeAKAAYEBiAHPBpIBAzMuNZgBAKABAaoBC2d3cy13aXotaW1n%2526sclient%253Dimg%26hl%3Den&amp;sa=U&amp;ved=0ahUKEwiNjpLNpuz8AhXbRmwGHY1eBFgQxs8CCFQ&amp;usg=AOvVaw0uXhSSZ1bindpRQxEAV808\">Sign in</a></div><div><table class=\"bookcf\"><tbody class=\"InWNIe\"><tr><td><a class=\"rEM8G\" href=\"https://www.google.com/preferences?hl=en&amp;sa=X&amp;ved=0ahUKEwiNjpLNpuz8AhXbRmwGHY1eBFgQv5YECFU\">Settings</a></td><td><a class=\"rEM8G\" href=\"https://www.google.com/intl/en_in/policies/privacy/\">Privacy</a></td><td><a class=\"rEM8G\" href=\"https://www.google.com/intl/en_in/policies/terms/\">Terms</a></td></tr></tbody></table></div></div><div> </div></body></html>"
      ]
     },
     "execution_count": 14,
     "metadata": {},
     "output_type": "execute_result"
    }
   ],
   "source": [
    "page = requests.get('https://www.google.com/search?q=fruits&tbm=isch&source=hp&biw=811&bih=604&ei=AFrVY7G_KuqXseMPv-admAw&iflsig=AK50M_UAAAAAY9VoEP8V8hJBuIpnPf4hNVHeM32fayrq&ved=0ahUKEwixv9Tk4-r8AhXqS2wGHT9zB8MQ4dUDCAc&oq=fruits&gs_lcp=CgNpbWcQDDIICAAQgAQQsQMyCAgAEIAEELEDMggIABCABBCxAzIICAAQgAQQsQMyCAgAEIAEELEDMggIABCABBCxAzIICAAQgAQQsQMyCAgAEIAEELEDMggIABCABBCxAzIICAAQgAQQsQM6CQgAEIAEEAoQGFAAWNefAWCFsghoAXAAeAKAAYEBiAHPBpIBAzMuNZgBAKABAaoBC2d3cy13aXotaW1n&sclient=img')\n",
    "page\n",
    "soup=BeautifulSoup(page.content)\n",
    "soup"
   ]
  },
  {
   "cell_type": "code",
   "execution_count": 17,
   "id": "064ee660",
   "metadata": {},
   "outputs": [
    {
     "data": {
      "text/plain": [
       "[]"
      ]
     },
     "execution_count": 17,
     "metadata": {},
     "output_type": "execute_result"
    }
   ],
   "source": [
    "images=[]\n",
    "\n",
    "\n",
    "images=driver.find_elements(By.XPATH,'//src[@class=\"rg_i Q4LuWd\"]')\n",
    "\n",
    "for i in images:\n",
    "    print(i.get_attribute('img'))\n",
    "images"
   ]
  },
  {
   "cell_type": "code",
   "execution_count": 96,
   "id": "2d2d4998",
   "metadata": {},
   "outputs": [
    {
     "data": {
      "text/plain": [
       "[]"
      ]
     },
     "execution_count": 96,
     "metadata": {},
     "output_type": "execute_result"
    }
   ],
   "source": [
    "images=[]\n",
    "\n",
    "images=driver.find_elements(By.CLASS_NAME,'rg_i Q4LuWd')\n",
    "\n",
    "for i in images:\n",
    "    print(i.get_attribute('img'))\n",
    "    images.append(i.get('src'))\n",
    "images"
   ]
  },
  {
   "cell_type": "code",
   "execution_count": 100,
   "id": "282ad0f4",
   "metadata": {},
   "outputs": [
    {
     "name": "stderr",
     "output_type": "stream",
     "text": [
      "C:\\Users\\HP\\AppData\\Local\\Temp\\ipykernel_15984\\2024704942.py:2: DeprecationWarning: executable_path has been deprecated, please pass in a Service object\n",
      "  driver=webdriver.Chrome(r\"G:\\chromedriver.exe\")\n"
     ]
    },
    {
     "data": {
      "text/plain": [
       "[]"
      ]
     },
     "execution_count": 100,
     "metadata": {},
     "output_type": "execute_result"
    }
   ],
   "source": [
    "#cars\n",
    "driver=webdriver.Chrome(r\"G:\\chromedriver.exe\")\n",
    "driver.get(\"https://images.google.com\")\n",
    "location=driver.find_element(By.XPATH,\"/html/body/div[1]/div[3]/form/div[1]/div[1]/div[1]/div/div[2]/input\")\n",
    "location.send_keys('cars')\n"
   ]
  },
  {
   "cell_type": "code",
   "execution_count": 101,
   "id": "c15fd126",
   "metadata": {},
   "outputs": [],
   "source": [
    "search=driver.find_element(By.CLASS_NAME,\"zgAlFc\")\n",
    "search.click()"
   ]
  },
  {
   "cell_type": "code",
   "execution_count": 102,
   "id": "0b08f343",
   "metadata": {},
   "outputs": [
    {
     "data": {
      "text/plain": [
       "[]"
      ]
     },
     "execution_count": 102,
     "metadata": {},
     "output_type": "execute_result"
    }
   ],
   "source": [
    "page = requests.get('https://www.google.com/search?q=cars&tbm=isch&source=hp&biw=1034&bih=567&ei=lHHVY-aoDs7gseMP17ObkAo&iflsig=AK50M_UAAAAAY9V_pCkFpYZLZMKr0znaHqFgyAIRAHhP&ved=0ahUKEwjmwtCi-ur8AhVOcGwGHdfZBqIQ4dUDCAc&oq=cars&gs_lcp=CgNpbWcQDDIICAAQgAQQsQMyCAgAEIAEELEDMggIABCABBCxAzIICAAQgAQQsQMyCAgAEIAEELEDMggIABCABBCxAzIICAAQgAQQsQMyCAgAEIAEELEDMgsIABCABBCxAxCDATIICAAQgAQQsQM6BQgAEIAEOggIABCxAxCDAVAAWBBg-8oBaABwAHgAgAGwAYgBiASSAQMxLjOYAQCgAQGqAQtnd3Mtd2l6LWltZw&sclient=img')\n",
    "\n",
    "soup=BeautifulSoup(page.content)\n",
    "\n",
    "images=[]\n",
    "\n",
    "images=driver.find_elements(By.CLASS_NAME,'rg_i Q4LuWd')\n",
    "\n",
    "for i in images:\n",
    "    print(i.get_attribute('img'))\n",
    "    images.append(i.get('src'))\n",
    "images"
   ]
  },
  {
   "cell_type": "code",
   "execution_count": 104,
   "id": "4c6099f5",
   "metadata": {},
   "outputs": [
    {
     "name": "stderr",
     "output_type": "stream",
     "text": [
      "C:\\Users\\HP\\AppData\\Local\\Temp\\ipykernel_15984\\892500671.py:2: DeprecationWarning: executable_path has been deprecated, please pass in a Service object\n",
      "  driver=webdriver.Chrome(r\"G:\\chromedriver.exe\")\n"
     ]
    }
   ],
   "source": [
    "#Machine Learning\n",
    "driver=webdriver.Chrome(r\"G:\\chromedriver.exe\")\n",
    "driver.get(\"https://images.google.com\")\n",
    "location=driver.find_element(By.XPATH,\"/html/body/div[1]/div[3]/form/div[1]/div[1]/div[1]/div/div[2]/input\")\n",
    "location.send_keys('Machine Learning')\n",
    "search=driver.find_element(By.CLASS_NAME,\"zgAlFc\")\n",
    "search.click()"
   ]
  },
  {
   "cell_type": "code",
   "execution_count": 105,
   "id": "f4c0684d",
   "metadata": {},
   "outputs": [
    {
     "data": {
      "text/plain": [
       "[]"
      ]
     },
     "execution_count": 105,
     "metadata": {},
     "output_type": "execute_result"
    }
   ],
   "source": [
    "page = requests.get('https://www.google.com/search?q=Machine+Learning&tbm=isch&source=hp&biw=1034&bih=567&ei=FXLVY5W9MvWKseMP0ueb0Ac&iflsig=AK50M_UAAAAAY9WAJY11Alo02RL-6dFehkYCkSesqKK9&ved=0ahUKEwjVm7bg-ur8AhV1RWwGHdLzBnoQ4dUDCAc&oq=Machine+Learning&gs_lcp=CgNpbWcQDDIICAAQgAQQsQMyCAgAEIAEELEDMggIABCABBCxAzIFCAAQgAQyBQgAEIAEMgUIABCABDIFCAAQgAQyBQgAEIAEMgUIABCABDIFCAAQgARQAFgqYJ8XaABwAHgBgAF5iAGoA5IBAzEuM5gBAKABAaoBC2d3cy13aXotaW1n&sclient=img')\n",
    "\n",
    "soup=BeautifulSoup(page.content)\n",
    "\n",
    "images=[]\n",
    "\n",
    "images=driver.find_elements(By.CLASS_NAME,'rg_i Q4LuWd')\n",
    "\n",
    "for i in images:\n",
    "    print(i.get_attribute('img'))\n",
    "    images.append(i.get('src'))\n",
    "images"
   ]
  },
  {
   "cell_type": "code",
   "execution_count": 106,
   "id": "3d42ea25",
   "metadata": {},
   "outputs": [
    {
     "name": "stderr",
     "output_type": "stream",
     "text": [
      "C:\\Users\\HP\\AppData\\Local\\Temp\\ipykernel_15984\\2118324671.py:2: DeprecationWarning: executable_path has been deprecated, please pass in a Service object\n",
      "  driver=webdriver.Chrome(r\"G:\\chromedriver.exe\")\n"
     ]
    }
   ],
   "source": [
    "#Guitar\n",
    "driver=webdriver.Chrome(r\"G:\\chromedriver.exe\")\n",
    "driver.get(\"https://images.google.com\")\n",
    "location=driver.find_element(By.XPATH,\"/html/body/div[1]/div[3]/form/div[1]/div[1]/div[1]/div/div[2]/input\")\n",
    "location.send_keys('Guitar')\n",
    "search=driver.find_element(By.CLASS_NAME,\"zgAlFc\")\n",
    "search.click()"
   ]
  },
  {
   "cell_type": "code",
   "execution_count": 107,
   "id": "c84cf126",
   "metadata": {},
   "outputs": [
    {
     "data": {
      "text/plain": [
       "[]"
      ]
     },
     "execution_count": 107,
     "metadata": {},
     "output_type": "execute_result"
    }
   ],
   "source": [
    "page = requests.get('https://www.google.com/search?q=Guitar&tbm=isch&source=hp&biw=1034&bih=567&ei=mHLVY9ekBtG6seMP7uiTqA4&iflsig=AK50M_UAAAAAY9WAqCpMijqLRKkxpTnyTm8AKUNy5dUN&ved=0ahUKEwjX0MWe--r8AhVRXWwGHW70BOUQ4dUDCAc&oq=Guitar&gs_lcp=CgNpbWcQDDIICAAQgAQQsQMyCAgAEIAEELEDMggIABCABBCxAzIICAAQgAQQsQMyCAgAEIAEELEDMggIABCABBCxAzIICAAQgAQQsQMyCAgAEIAEELEDMggIABCABBCxAzIICAAQgAQQsQNQAFgTYI4YaABwAHgAgAGpAYgBhgWSAQMwLjSYAQCgAQGqAQtnd3Mtd2l6LWltZw&sclient=img')\n",
    "\n",
    "soup=BeautifulSoup(page.content)\n",
    "\n",
    "images=[]\n",
    "\n",
    "images=driver.find_elements(By.CLASS_NAME,'rg_i Q4LuWd')\n",
    "\n",
    "for i in images:\n",
    "    print(i.get_attribute('img'))\n",
    "    images.append(i.get('src'))\n",
    "images"
   ]
  },
  {
   "cell_type": "code",
   "execution_count": 109,
   "id": "3a80b593",
   "metadata": {},
   "outputs": [
    {
     "name": "stderr",
     "output_type": "stream",
     "text": [
      "C:\\Users\\HP\\AppData\\Local\\Temp\\ipykernel_15984\\476800820.py:2: DeprecationWarning: executable_path has been deprecated, please pass in a Service object\n",
      "  driver=webdriver.Chrome(r\"G:\\chromedriver.exe\")\n"
     ]
    }
   ],
   "source": [
    "#Cakes\n",
    "driver=webdriver.Chrome(r\"G:\\chromedriver.exe\")\n",
    "driver.get(\"https://images.google.com\")\n",
    "location=driver.find_element(By.XPATH,\"/html/body/div[1]/div[3]/form/div[1]/div[1]/div[1]/div/div[2]/input\")\n",
    "location.send_keys('Cakes')\n",
    "search=driver.find_element(By.CLASS_NAME,\"zgAlFc\")\n",
    "search.click()"
   ]
  },
  {
   "cell_type": "code",
   "execution_count": 110,
   "id": "b678df42",
   "metadata": {},
   "outputs": [
    {
     "data": {
      "text/plain": [
       "[]"
      ]
     },
     "execution_count": 110,
     "metadata": {},
     "output_type": "execute_result"
    }
   ],
   "source": [
    "page = requests.get('https://www.google.com/search?q=Cakes&tbm=isch&source=hp&biw=1034&bih=567&ei=pXPVY_eIF4zhseMPmeWM2Ac&iflsig=AK50M_UAAAAAY9WBtYVEmx6VJTPt_wbWoD_vyy94TjUm&ved=0ahUKEwi37_ie_Or8AhWMcGwGHZkyA3sQ4dUDCAc&oq=Cakes&gs_lcp=CgNpbWcQDDIICAAQgAQQsQMyCAgAEIAEELEDMggIABCABBCxAzIICAAQgAQQsQMyBQgAEIAEMgUIABCABDIICAAQgAQQsQMyBQgAEIAEMgUIABCABDIFCAAQgARQAFgRYIEFaABwAHgCgAG_AogB0QaSAQcxLjEuMC4ymAEAoAEBqgELZ3dzLXdpei1pbWc&sclient=img')\n",
    "\n",
    "soup=BeautifulSoup(page.content)\n",
    "\n",
    "images=[]\n",
    "\n",
    "images=driver.find_elements(By.CLASS_NAME,'rg_i Q4LuWd')\n",
    "\n",
    "for i in images:\n",
    "    print(i.get_attribute('img'))\n",
    "    images.append(i.get('src'))\n",
    "images"
   ]
  },
  {
   "cell_type": "markdown",
   "id": "0e216b1c",
   "metadata": {},
   "source": [
    "# 4"
   ]
  },
  {
   "cell_type": "code",
   "execution_count": 111,
   "id": "ca8320e7",
   "metadata": {},
   "outputs": [
    {
     "name": "stderr",
     "output_type": "stream",
     "text": [
      "C:\\Users\\HP\\AppData\\Local\\Temp\\ipykernel_15984\\1329124685.py:1: DeprecationWarning: executable_path has been deprecated, please pass in a Service object\n",
      "  driver=webdriver.Chrome(r\"G:\\chromedriver.exe\")\n"
     ]
    }
   ],
   "source": [
    "driver=webdriver.Chrome(r\"G:\\chromedriver.exe\")\n",
    "driver.get(\"https://www.flipkart.com\")"
   ]
  },
  {
   "cell_type": "code",
   "execution_count": 112,
   "id": "537aedc3",
   "metadata": {},
   "outputs": [],
   "source": [
    "location=driver.find_element(By.XPATH,\"/html/body/div[1]/div/div[1]/div[1]/div[2]/div[2]/form/div/div/input\")\n",
    "location.send_keys('smartphone')\n",
    "search=driver.find_element(By.CLASS_NAME,\"_34RNph\")\n",
    "search.click()"
   ]
  },
  {
   "cell_type": "code",
   "execution_count": 125,
   "id": "377d18b2",
   "metadata": {},
   "outputs": [
    {
     "data": {
      "text/plain": [
       "[['MOTOROLA', 'e40'],\n",
       " ['APPLE', 'iPhone'],\n",
       " ['APPLE', 'iPhone'],\n",
       " ['I', 'Kall'],\n",
       " ['SAMSUNG', 'Galaxy'],\n",
       " ['POCO', 'C31'],\n",
       " ['POCO', 'C31'],\n",
       " ['I', 'Kall'],\n",
       " ['MOTOROLA', 'G62'],\n",
       " ['Infinix', 'HOT'],\n",
       " ['SAMSUNG', 'Galaxy'],\n",
       " ['MOTOROLA', 'G62'],\n",
       " ['SAMSUNG', 'Galaxy'],\n",
       " ['REDMI', 'Note'],\n",
       " ['Infinix', 'HOT'],\n",
       " ['Infinix', 'HOT'],\n",
       " ['POCO', 'M4'],\n",
       " ['REDMI', '9i'],\n",
       " ['MOTOROLA', 'g52'],\n",
       " ['REDMI', '10'],\n",
       " ['POCO', 'C31'],\n",
       " ['Infinix', 'HOT'],\n",
       " ['MOTOROLA', 'g52'],\n",
       " ['REDMI', '9i']]"
      ]
     },
     "execution_count": 125,
     "metadata": {},
     "output_type": "execute_result"
    }
   ],
   "source": [
    "brand_name=[]\n",
    "Product_Description=[]\n",
    "Price=[]\n",
    "\n",
    "brand=driver.find_elements(By.XPATH,'//div[@class=\"_4rR01T\"]')\n",
    "for i in brand:\n",
    "    brand_name.append(i.text.split(' ')[0:2])\n",
    "brand_name"
   ]
  },
  {
   "cell_type": "code",
   "execution_count": 126,
   "id": "67c5c95b",
   "metadata": {},
   "outputs": [
    {
     "data": {
      "text/plain": [
       "[['e40', '(Carbon'],\n",
       " ['iPhone', '14'],\n",
       " ['iPhone', '14'],\n",
       " ['Kall', 'K2'],\n",
       " ['Galaxy', 'F23'],\n",
       " ['C31', '(Shadow'],\n",
       " ['C31', '(Shadow'],\n",
       " ['Kall', '401'],\n",
       " ['G62', '5G'],\n",
       " ['HOT', '20'],\n",
       " ['Galaxy', 'F23'],\n",
       " ['G62', '5G'],\n",
       " ['Galaxy', 'F23'],\n",
       " ['Note', '11'],\n",
       " ['HOT', '20'],\n",
       " ['HOT', '20'],\n",
       " ['M4', 'Pro'],\n",
       " ['9i', 'Sport'],\n",
       " ['g52', '(Charcoal'],\n",
       " ['10', '(Caribbean'],\n",
       " ['C31', '(Royal'],\n",
       " ['HOT', '20'],\n",
       " ['g52', '(Metallic'],\n",
       " ['9i', 'Sport']]"
      ]
     },
     "execution_count": 126,
     "metadata": {},
     "output_type": "execute_result"
    }
   ],
   "source": [
    "Product_Description=[]\n",
    "Prod_Desc=driver.find_elements(By.XPATH,'//div[@class=\"_4rR01T\"]')\n",
    "for i in Prod_Desc:\n",
    "    Product_Description.append(i.text.split(' ')[1:3])\n",
    "Product_Description"
   ]
  },
  {
   "cell_type": "code",
   "execution_count": 127,
   "id": "a97ebb03",
   "metadata": {},
   "outputs": [
    {
     "data": {
      "text/plain": [
       "['Gray,',\n",
       " '(Midnight,',\n",
       " '(Blue,',\n",
       " '(Gold,',\n",
       " '5G',\n",
       " 'Gray,',\n",
       " 'Gray,',\n",
       " 'PRO',\n",
       " '(Midnight',\n",
       " 'Play',\n",
       " '5G',\n",
       " '(Frosted',\n",
       " '5G',\n",
       " 'SE',\n",
       " 'Play',\n",
       " 'Play',\n",
       " '(Cool',\n",
       " '(Metallic',\n",
       " 'Grey,',\n",
       " 'Green,',\n",
       " 'Blue,',\n",
       " 'Play',\n",
       " 'White,',\n",
       " '(Coral']"
      ]
     },
     "execution_count": 127,
     "metadata": {},
     "output_type": "execute_result"
    }
   ],
   "source": [
    "color=[]\n",
    "clr=driver.find_elements(By.XPATH,'//div[@class=\"_4rR01T\"]')\n",
    "for i in clr:\n",
    "    color.append(i.text.split(' ')[3])\n",
    "color"
   ]
  },
  {
   "cell_type": "code",
   "execution_count": 146,
   "id": "aca230db",
   "metadata": {},
   "outputs": [
    {
     "data": {
      "text/plain": [
       "['4 GB RAM ',\n",
       " '16.51 cm (6.5 inch) HD+ Display',\n",
       " '48MP + 2MP + 2MP ',\n",
       " '5000 mAh Battery',\n",
       " 'UNISOC T700 Processor',\n",
       " '1 Year on Handset and 6 Months on Accessories',\n",
       " '128 GB ROM',\n",
       " '15.49 cm (6.1 inch) Super Retina XDR Display',\n",
       " '12MP + 12MP ',\n",
       " 'A15 Bionic Chip, 6 Core Processor Processor',\n",
       " '1 Year Warranty for Phone and 6 Months Warranty for In-Box Accessories',\n",
       " '128 GB ROM',\n",
       " '15.49 cm (6.1 inch) Super Retina XDR Display',\n",
       " '12MP + 12MP ',\n",
       " 'A15 Bionic Chip, 6 Core Processor Processor',\n",
       " '1 Year Warranty for Phone and 6 Months Warranty for In-Box Accessories',\n",
       " '1 GB RAM ',\n",
       " '12.7 cm (5 inch) HD Display',\n",
       " '5MP Rear Camera',\n",
       " '2200 mAh Battery',\n",
       " 'QUAD CORE Processor',\n",
       " 'One year manufacture warranty',\n",
       " '6 GB RAM ',\n",
       " '16.76 cm (6.6 inch) Display',\n",
       " '50MP Rear Camera',\n",
       " '5000 mAh Battery',\n",
       " '1 Year Warranty',\n",
       " '3 GB RAM ',\n",
       " '16.59 cm (6.53 inch) HD+ Display',\n",
       " '13MP + 2MP + 2MP ',\n",
       " '5000 mAh Lithium-ion Polymer Battery',\n",
       " 'MediaTek Helio G35 Processor',\n",
       " '1 Year Warranty for Handset, 6 Months for Accessories',\n",
       " '4 GB RAM ',\n",
       " '16.59 cm (6.53 inch) HD+ Display',\n",
       " '13MP + 2MP + 2MP ',\n",
       " '5000 mAh Lithium-ion Polymer Battery',\n",
       " 'MediaTek Helio G35 Processor',\n",
       " '1 Year Warranty for Handset, 6 Months for Accessories',\n",
       " '4 GB RAM ',\n",
       " '15.9 cm (6.26 inch) HD Display',\n",
       " '13MP Rear Camera',\n",
       " '4000 mAh Battery',\n",
       " 'Mediatek Processor',\n",
       " 'One year manufacture warranty',\n",
       " '6 GB RAM ',\n",
       " '16.64 cm (6.55 inch) Full HD+ Display',\n",
       " '50MP + 8MP + 2MP ',\n",
       " '5000 mAh Lithium Polymer Battery',\n",
       " 'Qualcomm Snapdragon 695 5G Processor',\n",
       " '1 Year on Handset and 6 Months on Accessories',\n",
       " '4 GB RAM ',\n",
       " '17.32 cm (6.82 inch) HD+ Display',\n",
       " '13Mp + AI Lens ',\n",
       " '6000 mAh Li-ion Polymer Battery',\n",
       " 'MediaTek G37 Processor',\n",
       " '1 Year on Handset and 6 Months on Accessories',\n",
       " '6 GB RAM ',\n",
       " '16.76 cm (6.6 inch) Full HD+ Display',\n",
       " '50MP + 8MP + 2MP ',\n",
       " '5000 mAh Lithium Ion Battery',\n",
       " 'Qualcomm Snapdragon 750G Processor',\n",
       " '1 Year Warranty Provided by the Manufacturer from Date of Purchase',\n",
       " '6 GB RAM ',\n",
       " '16.64 cm (6.55 inch) Full HD+ Display',\n",
       " '50MP + 8MP + 2MP ',\n",
       " '5000 mAh Lithium Polymer Battery',\n",
       " 'Qualcomm Snapdragon 695 5G Processor',\n",
       " '1 Year on Handset and 6 Months on Accessories',\n",
       " '6 GB RAM ',\n",
       " '16.76 cm (6.6 inch) Full HD+ Display',\n",
       " '50MP + 8MP + 2MP ',\n",
       " '5000 mAh Lithium Ion Battery',\n",
       " 'Qualcomm Snapdragon 750G Processor',\n",
       " '1 Year Warranty Provided by the Manufacturer from Date of Purchase',\n",
       " '6 GB RAM ',\n",
       " '16.33 cm (6.43 inch) Full HD+ Display',\n",
       " '64MP + 8MP + 2MP + 2MP ',\n",
       " '5000 mAh Lithium Polymer Battery',\n",
       " 'Mediatek Helio G95 Octa Core Processor',\n",
       " '1 Year Manufacturer Warranty for Phone and 6 Months Warranty for In the Box Accessories',\n",
       " '4 GB RAM ',\n",
       " '17.32 cm (6.82 inch) HD+ Display',\n",
       " '13Mp + AI Lens ',\n",
       " '6000 mAh Li-ion Polymer Battery',\n",
       " 'MediaTek G37 Processor',\n",
       " '1 Year on Handset and 6 Months on Accessories',\n",
       " '4 GB RAM ',\n",
       " '17.32 cm (6.82 inch) HD+ Display',\n",
       " '13Mp + AI Lens ',\n",
       " '6000 mAh Li-ion Polymer Battery',\n",
       " 'MediaTek G37 Processor',\n",
       " '1 Year on Handset and 6 Months on Accessories',\n",
       " '6 GB RAM ',\n",
       " '16.33 cm (6.43 inch) Full HD+ AMOLED Display',\n",
       " '64MP + 8MP + 2MP ',\n",
       " '5000 mAh Lithium-ion Polymer Battery',\n",
       " 'Mediatek Helio G96 Processor',\n",
       " 'One Year for Handset, 6 Months for Accessories',\n",
       " '4 GB RAM ',\n",
       " '16.59 cm (6.53 inch) HD+ Display',\n",
       " '13MP Rear Camera ',\n",
       " '5000 mAh Li-Polymer Battery',\n",
       " 'MediaTek Helio G25 Processor',\n",
       " 'Brand Warranty of 1 Year Available for Mobile and 6 Months for Accessories',\n",
       " '6 GB RAM ',\n",
       " '16.76 cm (6.6 inch) Full HD+ Display',\n",
       " '50MP + 8MP + 2MP ',\n",
       " '5000 mAh Lithium Battery',\n",
       " 'Qualcomm Snapdragon 680 Processor',\n",
       " '1 Year on Handset and 6 Months on Accessories',\n",
       " '4 GB RAM ',\n",
       " '17.02 cm (6.7 inch) HD+ Display',\n",
       " '50MP + 2MP ',\n",
       " '6000 mAh Lithium Polymer Battery',\n",
       " 'Qualcomm Snapdragon 680 Processor',\n",
       " '1 Year Warranty for Phone and 6 Months Warranty for In-Box Accessories',\n",
       " '3 GB RAM ',\n",
       " '16.59 cm (6.53 inch) HD+ Display',\n",
       " '13MP + 2MP + 2MP ',\n",
       " '5000 mAh Lithium-ion Polymer Battery',\n",
       " 'MediaTek Helio G35 Processor',\n",
       " '1 Year Warranty for Handset, 6 Months for Accessories',\n",
       " '4 GB RAM ',\n",
       " '17.32 cm (6.82 inch) HD+ Display',\n",
       " '13Mp + AI Lens ',\n",
       " '6000 mAh Li-ion Polymer Battery',\n",
       " 'MediaTek G37 Processor',\n",
       " '1 Year on Handset and 6 Months on Accessories',\n",
       " '6 GB RAM ',\n",
       " '16.76 cm (6.6 inch) Full HD+ Display',\n",
       " '50MP + 8MP + 2MP ',\n",
       " '5000 mAh Lithium Battery',\n",
       " 'Qualcomm Snapdragon 680 Processor',\n",
       " '1 Year on Handset and 6 Months on Accessories',\n",
       " '4 GB RAM ',\n",
       " '16.59 cm (6.53 inch) HD+ Display',\n",
       " '13MP Rear Camera ',\n",
       " '5000 mAh Li-Polymer Battery',\n",
       " 'MediaTek Helio G25 Processor',\n",
       " 'Brand Warranty of 1 Year Available for Mobile and 6 Months for Accessories']"
      ]
     },
     "execution_count": 146,
     "metadata": {},
     "output_type": "execute_result"
    }
   ],
   "source": [
    "RAM=[]\n",
    "ram=driver.find_elements(By.XPATH,'//li[@class=\"rgWa7D\"]')\n",
    "for i in ram:\n",
    "    RAM.append(i.text.split('|')[0])\n",
    "RAM"
   ]
  },
  {
   "cell_type": "code",
   "execution_count": 152,
   "id": "2f7353da",
   "metadata": {},
   "outputs": [
    {
     "ename": "IndexError",
     "evalue": "list index out of range",
     "output_type": "error",
     "traceback": [
      "\u001b[1;31m---------------------------------------------------------------------------\u001b[0m",
      "\u001b[1;31mIndexError\u001b[0m                                Traceback (most recent call last)",
      "Input \u001b[1;32mIn [152]\u001b[0m, in \u001b[0;36m<cell line: 3>\u001b[1;34m()\u001b[0m\n\u001b[0;32m      2\u001b[0m strge\u001b[38;5;241m=\u001b[39mdriver\u001b[38;5;241m.\u001b[39mfind_elements(By\u001b[38;5;241m.\u001b[39mXPATH,\u001b[38;5;124m'\u001b[39m\u001b[38;5;124m//div[@class=\u001b[39m\u001b[38;5;124m\"\u001b[39m\u001b[38;5;124m_4rR01T\u001b[39m\u001b[38;5;124m\"\u001b[39m\u001b[38;5;124m]\u001b[39m\u001b[38;5;124m'\u001b[39m)\n\u001b[0;32m      3\u001b[0m \u001b[38;5;28;01mfor\u001b[39;00m i \u001b[38;5;129;01min\u001b[39;00m ram:\n\u001b[1;32m----> 4\u001b[0m     storage\u001b[38;5;241m.\u001b[39mappend(\u001b[43mi\u001b[49m\u001b[38;5;241;43m.\u001b[39;49m\u001b[43mtext\u001b[49m\u001b[38;5;241;43m.\u001b[39;49m\u001b[43msplit\u001b[49m\u001b[43m(\u001b[49m\u001b[38;5;124;43m'\u001b[39;49m\u001b[38;5;124;43m|\u001b[39;49m\u001b[38;5;124;43m'\u001b[39;49m\u001b[43m)\u001b[49m\u001b[43m[\u001b[49m\u001b[38;5;241;43m1\u001b[39;49m\u001b[43m]\u001b[49m)\n\u001b[0;32m      5\u001b[0m storage\n",
      "\u001b[1;31mIndexError\u001b[0m: list index out of range"
     ]
    }
   ],
   "source": [
    "storage=[]\n",
    "strge=driver.find_elements(By.XPATH,'//div[@class=\"_4rR01T\"]')\n",
    "for i in ram:\n",
    "    storage.append(i.text.split('|')[1])\n",
    "storage"
   ]
  },
  {
   "cell_type": "code",
   "execution_count": 2,
   "id": "ea4230b7",
   "metadata": {},
   "outputs": [
    {
     "name": "stderr",
     "output_type": "stream",
     "text": [
      "C:\\Users\\HP\\AppData\\Local\\Temp\\ipykernel_20356\\1553743539.py:2: DeprecationWarning: executable_path has been deprecated, please pass in a Service object\n",
      "  driver=webdriver.Chrome(r\"G:\\chromedriver.exe\")\n"
     ]
    }
   ],
   "source": [
    "#5\n",
    "driver=webdriver.Chrome(r\"G:\\chromedriver.exe\")\n",
    "driver.get(\"https://www.google.com/maps/@18.8154265,76.7747674,7z\")"
   ]
  },
  {
   "cell_type": "code",
   "execution_count": 3,
   "id": "5574792d",
   "metadata": {},
   "outputs": [],
   "source": [
    "location=driver.find_element(By.XPATH,\"/html/body/div[3]/div[9]/div[3]/div[1]/div[1]/div[1]/div[2]/form/div[2]/div[3]/div/input[1]\")\n",
    "location.send_keys('neral')\n",
    "search=driver.find_element(By.CLASS_NAME,\"mL3xi\")\n",
    "search.click()"
   ]
  },
  {
   "cell_type": "code",
   "execution_count": 9,
   "id": "d8ec507a",
   "metadata": {},
   "outputs": [
    {
     "name": "stderr",
     "output_type": "stream",
     "text": [
      "C:\\Users\\HP\\AppData\\Local\\Temp\\ipykernel_20356\\4020684806.py:2: DeprecationWarning: executable_path has been deprecated, please pass in a Service object\n",
      "  driver=webdriver.Chrome(r\"G:\\chromedriver.exe\")\n"
     ]
    }
   ],
   "source": [
    "#7\n",
    "driver=webdriver.Chrome(r\"G:\\chromedriver.exe\")\n",
    "driver.get(\"https://www.digit.in/\")"
   ]
  },
  {
   "cell_type": "code",
   "execution_count": 15,
   "id": "5f95803f",
   "metadata": {},
   "outputs": [],
   "source": [
    "search=driver.find_element(By.XPATH,\"/html/body/div[2]/div/ul/li[3]/a\")\n",
    "search.click()"
   ]
  },
  {
   "cell_type": "code",
   "execution_count": 16,
   "id": "6896d06b",
   "metadata": {},
   "outputs": [],
   "source": [
    "search=driver.find_element(By.XPATH,\"/html/body/div[2]/div/ul/li[3]/div/div/div[2]/div/ul[2]/li[1]/a\")\n",
    "search.click()"
   ]
  },
  {
   "cell_type": "raw",
   "id": "0d15d2ba",
   "metadata": {},
   "source": []
  },
  {
   "cell_type": "code",
   "execution_count": 6,
   "id": "aeb5c5c5",
   "metadata": {},
   "outputs": [
    {
     "name": "stderr",
     "output_type": "stream",
     "text": [
      "C:\\Users\\HP\\AppData\\Local\\Temp\\ipykernel_4352\\3457848347.py:2: DeprecationWarning: executable_path has been deprecated, please pass in a Service object\n",
      "  driver=webdriver.Chrome(r\"G:\\chromedriver.exe\")\n"
     ]
    }
   ],
   "source": [
    "#8\n",
    "driver=webdriver.Chrome(r\"G:\\chromedriver.exe\")\n",
    "driver.get(\"https://www.forbes.com/?sh=6ca32d932254\")"
   ]
  },
  {
   "cell_type": "code",
   "execution_count": 12,
   "id": "8b8dfb29",
   "metadata": {},
   "outputs": [
    {
     "ename": "NoSuchElementException",
     "evalue": "Message: no such element: Unable to locate element: {\"method\":\"css selector\",\"selector\":\".hamburger_svg__fs-icon hamburger_svg__fs-icon--hamburger\"}\n  (Session info: chrome=109.0.5414.120)\nStacktrace:\nBacktrace:\n\t(No symbol) [0x01026643]\n\t(No symbol) [0x00FBBE21]\n\t(No symbol) [0x00EBDA9D]\n\t(No symbol) [0x00EF1342]\n\t(No symbol) [0x00EF147B]\n\t(No symbol) [0x00F28DC2]\n\t(No symbol) [0x00F0FDC4]\n\t(No symbol) [0x00F26B09]\n\t(No symbol) [0x00F0FB76]\n\t(No symbol) [0x00EE49C1]\n\t(No symbol) [0x00EE5E5D]\n\tGetHandleVerifier [0x0129A142+2497106]\n\tGetHandleVerifier [0x012C85D3+2686691]\n\tGetHandleVerifier [0x012CBB9C+2700460]\n\tGetHandleVerifier [0x010D3B10+635936]\n\t(No symbol) [0x00FC4A1F]\n\t(No symbol) [0x00FCA418]\n\t(No symbol) [0x00FCA505]\n\t(No symbol) [0x00FD508B]\n\tBaseThreadInitThunk [0x76BD7D69+25]\n\tRtlInitializeExceptionChain [0x7782BB9B+107]\n\tRtlClearBits [0x7782BB1F+191]\n",
     "output_type": "error",
     "traceback": [
      "\u001b[1;31m---------------------------------------------------------------------------\u001b[0m",
      "\u001b[1;31mNoSuchElementException\u001b[0m                    Traceback (most recent call last)",
      "Input \u001b[1;32mIn [12]\u001b[0m, in \u001b[0;36m<cell line: 1>\u001b[1;34m()\u001b[0m\n\u001b[1;32m----> 1\u001b[0m search\u001b[38;5;241m=\u001b[39m\u001b[43mdriver\u001b[49m\u001b[38;5;241;43m.\u001b[39;49m\u001b[43mfind_element\u001b[49m\u001b[43m(\u001b[49m\u001b[43mBy\u001b[49m\u001b[38;5;241;43m.\u001b[39;49m\u001b[43mCLASS_NAME\u001b[49m\u001b[43m,\u001b[49m\u001b[38;5;124;43m\"\u001b[39;49m\u001b[38;5;124;43mhamburger_svg__fs-icon hamburger_svg__fs-icon--hamburger\u001b[39;49m\u001b[38;5;124;43m\"\u001b[39;49m\u001b[43m)\u001b[49m\n\u001b[0;32m      2\u001b[0m search\u001b[38;5;241m.\u001b[39mclick()\n",
      "File \u001b[1;32m~\\anaconda3\\lib\\site-packages\\selenium\\webdriver\\remote\\webdriver.py:861\u001b[0m, in \u001b[0;36mWebDriver.find_element\u001b[1;34m(self, by, value)\u001b[0m\n\u001b[0;32m    858\u001b[0m     by \u001b[38;5;241m=\u001b[39m By\u001b[38;5;241m.\u001b[39mCSS_SELECTOR\n\u001b[0;32m    859\u001b[0m     value \u001b[38;5;241m=\u001b[39m \u001b[38;5;124m'\u001b[39m\u001b[38;5;124m[name=\u001b[39m\u001b[38;5;124m\"\u001b[39m\u001b[38;5;132;01m%s\u001b[39;00m\u001b[38;5;124m\"\u001b[39m\u001b[38;5;124m]\u001b[39m\u001b[38;5;124m'\u001b[39m \u001b[38;5;241m%\u001b[39m value\n\u001b[1;32m--> 861\u001b[0m \u001b[38;5;28;01mreturn\u001b[39;00m \u001b[38;5;28;43mself\u001b[39;49m\u001b[38;5;241;43m.\u001b[39;49m\u001b[43mexecute\u001b[49m\u001b[43m(\u001b[49m\u001b[43mCommand\u001b[49m\u001b[38;5;241;43m.\u001b[39;49m\u001b[43mFIND_ELEMENT\u001b[49m\u001b[43m,\u001b[49m\u001b[43m \u001b[49m\u001b[43m{\u001b[49m\u001b[38;5;124;43m\"\u001b[39;49m\u001b[38;5;124;43musing\u001b[39;49m\u001b[38;5;124;43m\"\u001b[39;49m\u001b[43m:\u001b[49m\u001b[43m \u001b[49m\u001b[43mby\u001b[49m\u001b[43m,\u001b[49m\u001b[43m \u001b[49m\u001b[38;5;124;43m\"\u001b[39;49m\u001b[38;5;124;43mvalue\u001b[39;49m\u001b[38;5;124;43m\"\u001b[39;49m\u001b[43m:\u001b[49m\u001b[43m \u001b[49m\u001b[43mvalue\u001b[49m\u001b[43m}\u001b[49m\u001b[43m)\u001b[49m[\u001b[38;5;124m\"\u001b[39m\u001b[38;5;124mvalue\u001b[39m\u001b[38;5;124m\"\u001b[39m]\n",
      "File \u001b[1;32m~\\anaconda3\\lib\\site-packages\\selenium\\webdriver\\remote\\webdriver.py:444\u001b[0m, in \u001b[0;36mWebDriver.execute\u001b[1;34m(self, driver_command, params)\u001b[0m\n\u001b[0;32m    442\u001b[0m response \u001b[38;5;241m=\u001b[39m \u001b[38;5;28mself\u001b[39m\u001b[38;5;241m.\u001b[39mcommand_executor\u001b[38;5;241m.\u001b[39mexecute(driver_command, params)\n\u001b[0;32m    443\u001b[0m \u001b[38;5;28;01mif\u001b[39;00m response:\n\u001b[1;32m--> 444\u001b[0m     \u001b[38;5;28;43mself\u001b[39;49m\u001b[38;5;241;43m.\u001b[39;49m\u001b[43merror_handler\u001b[49m\u001b[38;5;241;43m.\u001b[39;49m\u001b[43mcheck_response\u001b[49m\u001b[43m(\u001b[49m\u001b[43mresponse\u001b[49m\u001b[43m)\u001b[49m\n\u001b[0;32m    445\u001b[0m     response[\u001b[38;5;124m\"\u001b[39m\u001b[38;5;124mvalue\u001b[39m\u001b[38;5;124m\"\u001b[39m] \u001b[38;5;241m=\u001b[39m \u001b[38;5;28mself\u001b[39m\u001b[38;5;241m.\u001b[39m_unwrap_value(response\u001b[38;5;241m.\u001b[39mget(\u001b[38;5;124m\"\u001b[39m\u001b[38;5;124mvalue\u001b[39m\u001b[38;5;124m\"\u001b[39m, \u001b[38;5;28;01mNone\u001b[39;00m))\n\u001b[0;32m    446\u001b[0m     \u001b[38;5;28;01mreturn\u001b[39;00m response\n",
      "File \u001b[1;32m~\\anaconda3\\lib\\site-packages\\selenium\\webdriver\\remote\\errorhandler.py:249\u001b[0m, in \u001b[0;36mErrorHandler.check_response\u001b[1;34m(self, response)\u001b[0m\n\u001b[0;32m    247\u001b[0m         alert_text \u001b[38;5;241m=\u001b[39m value[\u001b[38;5;124m\"\u001b[39m\u001b[38;5;124malert\u001b[39m\u001b[38;5;124m\"\u001b[39m]\u001b[38;5;241m.\u001b[39mget(\u001b[38;5;124m\"\u001b[39m\u001b[38;5;124mtext\u001b[39m\u001b[38;5;124m\"\u001b[39m)\n\u001b[0;32m    248\u001b[0m     \u001b[38;5;28;01mraise\u001b[39;00m exception_class(message, screen, stacktrace, alert_text)  \u001b[38;5;66;03m# type: ignore[call-arg]  # mypy is not smart enough here\u001b[39;00m\n\u001b[1;32m--> 249\u001b[0m \u001b[38;5;28;01mraise\u001b[39;00m exception_class(message, screen, stacktrace)\n",
      "\u001b[1;31mNoSuchElementException\u001b[0m: Message: no such element: Unable to locate element: {\"method\":\"css selector\",\"selector\":\".hamburger_svg__fs-icon hamburger_svg__fs-icon--hamburger\"}\n  (Session info: chrome=109.0.5414.120)\nStacktrace:\nBacktrace:\n\t(No symbol) [0x01026643]\n\t(No symbol) [0x00FBBE21]\n\t(No symbol) [0x00EBDA9D]\n\t(No symbol) [0x00EF1342]\n\t(No symbol) [0x00EF147B]\n\t(No symbol) [0x00F28DC2]\n\t(No symbol) [0x00F0FDC4]\n\t(No symbol) [0x00F26B09]\n\t(No symbol) [0x00F0FB76]\n\t(No symbol) [0x00EE49C1]\n\t(No symbol) [0x00EE5E5D]\n\tGetHandleVerifier [0x0129A142+2497106]\n\tGetHandleVerifier [0x012C85D3+2686691]\n\tGetHandleVerifier [0x012CBB9C+2700460]\n\tGetHandleVerifier [0x010D3B10+635936]\n\t(No symbol) [0x00FC4A1F]\n\t(No symbol) [0x00FCA418]\n\t(No symbol) [0x00FCA505]\n\t(No symbol) [0x00FD508B]\n\tBaseThreadInitThunk [0x76BD7D69+25]\n\tRtlInitializeExceptionChain [0x7782BB9B+107]\n\tRtlClearBits [0x7782BB1F+191]\n"
     ]
    }
   ],
   "source": [
    "search=driver.find_element(By.CLASS_NAME,\"hamburger_svg__fs-icon hamburger_svg__fs-icon--hamburger\")\n",
    "search.click()"
   ]
  },
  {
   "cell_type": "code",
   "execution_count": null,
   "id": "2b5408d1",
   "metadata": {},
   "outputs": [],
   "source": []
  }
 ],
 "metadata": {
  "kernelspec": {
   "display_name": "Python 3 (ipykernel)",
   "language": "python",
   "name": "python3"
  },
  "language_info": {
   "codemirror_mode": {
    "name": "ipython",
    "version": 3
   },
   "file_extension": ".py",
   "mimetype": "text/x-python",
   "name": "python",
   "nbconvert_exporter": "python",
   "pygments_lexer": "ipython3",
   "version": "3.9.12"
  }
 },
 "nbformat": 4,
 "nbformat_minor": 5
}
