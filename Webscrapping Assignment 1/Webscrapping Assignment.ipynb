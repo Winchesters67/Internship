{
 "cells": [
  {
   "cell_type": "code",
   "execution_count": 1,
   "id": "1b616b9a",
   "metadata": {},
   "outputs": [
    {
     "name": "stdout",
     "output_type": "stream",
     "text": [
      "Requirement already satisfied: bs4 in c:\\users\\hp\\anaconda3\\lib\\site-packages (0.0.1)\n",
      "Requirement already satisfied: beautifulsoup4 in c:\\users\\hp\\anaconda3\\lib\\site-packages (from bs4) (4.11.1)\n",
      "Requirement already satisfied: soupsieve>1.2 in c:\\users\\hp\\anaconda3\\lib\\site-packages (from beautifulsoup4->bs4) (2.3.1)\n",
      "Requirement already satisfied: requests in c:\\users\\hp\\anaconda3\\lib\\site-packages (2.27.1)\n",
      "Requirement already satisfied: charset-normalizer~=2.0.0 in c:\\users\\hp\\anaconda3\\lib\\site-packages (from requests) (2.0.4)\n",
      "Requirement already satisfied: certifi>=2017.4.17 in c:\\users\\hp\\anaconda3\\lib\\site-packages (from requests) (2021.10.8)\n",
      "Requirement already satisfied: idna<4,>=2.5 in c:\\users\\hp\\anaconda3\\lib\\site-packages (from requests) (3.3)\n",
      "Requirement already satisfied: urllib3<1.27,>=1.21.1 in c:\\users\\hp\\anaconda3\\lib\\site-packages (from requests) (1.26.9)\n"
     ]
    }
   ],
   "source": [
    "!pip install bs4\n",
    "!pip install requests\n",
    "from bs4 import BeautifulSoup\n",
    "import requests\n",
    "import numpy as np\n",
    "import pandas as pd"
   ]
  },
  {
   "cell_type": "markdown",
   "id": "054cc390",
   "metadata": {},
   "source": [
    "# 1"
   ]
  },
  {
   "cell_type": "code",
   "execution_count": 2,
   "id": "f8d5d48a",
   "metadata": {},
   "outputs": [
    {
     "data": {
      "text/plain": [
       "['Welcome to Wikipedia',\n",
       " \"From today's featured article\",\n",
       " 'Did you know\\xa0...',\n",
       " 'In the news',\n",
       " 'On this day',\n",
       " \"Today's featured picture\",\n",
       " 'Other areas of Wikipedia',\n",
       " \"Wikipedia's sister projects\",\n",
       " 'Wikipedia languages']"
      ]
     },
     "execution_count": 2,
     "metadata": {},
     "output_type": "execute_result"
    }
   ],
   "source": [
    "#1\n",
    "page = requests.get('https://en.wikipedia.org/wiki/Main_Page')\n",
    "page\n",
    "soup=BeautifulSoup(page.content)\n",
    "titles=[]\n",
    "for i in soup.find_all(class_=\"mw-headline\"):\n",
    "    titles.append(i.text)\n",
    "titles"
   ]
  },
  {
   "cell_type": "markdown",
   "id": "03910742",
   "metadata": {},
   "source": [
    "# 2"
   ]
  },
  {
   "cell_type": "code",
   "execution_count": 25,
   "id": "4abdfa45",
   "metadata": {},
   "outputs": [
    {
     "data": {
      "text/html": [
       "<div>\n",
       "<style scoped>\n",
       "    .dataframe tbody tr th:only-of-type {\n",
       "        vertical-align: middle;\n",
       "    }\n",
       "\n",
       "    .dataframe tbody tr th {\n",
       "        vertical-align: top;\n",
       "    }\n",
       "\n",
       "    .dataframe thead th {\n",
       "        text-align: right;\n",
       "    }\n",
       "</style>\n",
       "<table border=\"1\" class=\"dataframe\">\n",
       "  <thead>\n",
       "    <tr style=\"text-align: right;\">\n",
       "      <th></th>\n",
       "      <th>Name of Movie</th>\n",
       "      <th>IMDB Rating</th>\n",
       "      <th>Year of release</th>\n",
       "    </tr>\n",
       "  </thead>\n",
       "  <tbody>\n",
       "    <tr>\n",
       "      <th>0</th>\n",
       "      <td>The Shawshank Redemption</td>\n",
       "      <td>9.2</td>\n",
       "      <td>(1994)</td>\n",
       "    </tr>\n",
       "    <tr>\n",
       "      <th>1</th>\n",
       "      <td>The Godfather</td>\n",
       "      <td>9.2</td>\n",
       "      <td>(1972)</td>\n",
       "    </tr>\n",
       "    <tr>\n",
       "      <th>2</th>\n",
       "      <td>The Dark Knight</td>\n",
       "      <td>9.0</td>\n",
       "      <td>(2008)</td>\n",
       "    </tr>\n",
       "    <tr>\n",
       "      <th>3</th>\n",
       "      <td>The Godfather Part II</td>\n",
       "      <td>9.0</td>\n",
       "      <td>(1974)</td>\n",
       "    </tr>\n",
       "    <tr>\n",
       "      <th>4</th>\n",
       "      <td>12 Angry Men</td>\n",
       "      <td>9.0</td>\n",
       "      <td>(1957)</td>\n",
       "    </tr>\n",
       "    <tr>\n",
       "      <th>...</th>\n",
       "      <td>...</td>\n",
       "      <td>...</td>\n",
       "      <td>...</td>\n",
       "    </tr>\n",
       "    <tr>\n",
       "      <th>95</th>\n",
       "      <td>Citizen Kane</td>\n",
       "      <td>8.3</td>\n",
       "      <td>(1941)</td>\n",
       "    </tr>\n",
       "    <tr>\n",
       "      <th>96</th>\n",
       "      <td>Lawrence of Arabia</td>\n",
       "      <td>8.3</td>\n",
       "      <td>(1962)</td>\n",
       "    </tr>\n",
       "    <tr>\n",
       "      <th>97</th>\n",
       "      <td>M - Eine Stadt sucht einen Mörder</td>\n",
       "      <td>8.3</td>\n",
       "      <td>(1931)</td>\n",
       "    </tr>\n",
       "    <tr>\n",
       "      <th>98</th>\n",
       "      <td>North by Northwest</td>\n",
       "      <td>8.2</td>\n",
       "      <td>(1959)</td>\n",
       "    </tr>\n",
       "    <tr>\n",
       "      <th>99</th>\n",
       "      <td>Vertigo</td>\n",
       "      <td>8.2</td>\n",
       "      <td>(1958)</td>\n",
       "    </tr>\n",
       "  </tbody>\n",
       "</table>\n",
       "<p>100 rows × 3 columns</p>\n",
       "</div>"
      ],
      "text/plain": [
       "                              Name of Movie IMDB Rating Year of release\n",
       "0                  The Shawshank Redemption         9.2          (1994)\n",
       "1                             The Godfather         9.2          (1972)\n",
       "2                           The Dark Knight         9.0          (2008)\n",
       "3                     The Godfather Part II         9.0          (1974)\n",
       "4                              12 Angry Men         9.0          (1957)\n",
       "..                                      ...         ...             ...\n",
       "95                             Citizen Kane         8.3          (1941)\n",
       "96                       Lawrence of Arabia         8.3          (1962)\n",
       "97        M - Eine Stadt sucht einen Mörder         8.3          (1931)\n",
       "98                       North by Northwest         8.2          (1959)\n",
       "99                                  Vertigo         8.2          (1958)\n",
       "\n",
       "[100 rows x 3 columns]"
      ]
     },
     "execution_count": 25,
     "metadata": {},
     "output_type": "execute_result"
    }
   ],
   "source": [
    "#2\n",
    "page = requests.get('https://www.imdb.com/chart/top/?ref_=nv_mv_250')\n",
    "soup=BeautifulSoup(page.content)\n",
    "\n",
    "\n",
    "name=[]\n",
    "x=1\n",
    "for i in soup.find_all('td',class_=\"titleColumn\"):\n",
    "    if x<101:\n",
    "        name.append(i.text.split('\\n')[2])\n",
    "        x=x+1\n",
    "    else:\n",
    "        break\n",
    "\n",
    "\n",
    "year=[]\n",
    "y=1\n",
    "for i in soup.find_all('span',class_=\"secondaryInfo\"):\n",
    "    if y<101:\n",
    "        year.append(i.text)\n",
    "        y=y+1\n",
    "    else:\n",
    "        break\n",
    "\n",
    "rating=[]\n",
    "z=1\n",
    "for i in soup.find_all('td',class_=\"ratingColumn imdbRating\"):\n",
    "    if z<101:\n",
    "        rating.append(i.text.split('\\n')[1])\n",
    "        z=z+1\n",
    "    else:\n",
    "        break\n",
    "\n",
    "df=pd.DataFrame({'Name of Movie':name, 'IMDB Rating': rating, 'Year of release':year})\n",
    "df"
   ]
  },
  {
   "cell_type": "markdown",
   "id": "73869719",
   "metadata": {},
   "source": [
    "# 3"
   ]
  },
  {
   "cell_type": "code",
   "execution_count": 14,
   "id": "21ef8a54",
   "metadata": {},
   "outputs": [
    {
     "data": {
      "text/html": [
       "<div>\n",
       "<style scoped>\n",
       "    .dataframe tbody tr th:only-of-type {\n",
       "        vertical-align: middle;\n",
       "    }\n",
       "\n",
       "    .dataframe tbody tr th {\n",
       "        vertical-align: top;\n",
       "    }\n",
       "\n",
       "    .dataframe thead th {\n",
       "        text-align: right;\n",
       "    }\n",
       "</style>\n",
       "<table border=\"1\" class=\"dataframe\">\n",
       "  <thead>\n",
       "    <tr style=\"text-align: right;\">\n",
       "      <th></th>\n",
       "      <th>Name of Movie</th>\n",
       "      <th>IMDB Rating</th>\n",
       "      <th>Year of release</th>\n",
       "    </tr>\n",
       "  </thead>\n",
       "  <tbody>\n",
       "    <tr>\n",
       "      <th>0</th>\n",
       "      <td>Ramayana: The Legend of Prince Rama</td>\n",
       "      <td>8.5</td>\n",
       "      <td>(1993)</td>\n",
       "    </tr>\n",
       "    <tr>\n",
       "      <th>1</th>\n",
       "      <td>Rocketry: The Nambi Effect</td>\n",
       "      <td>8.4</td>\n",
       "      <td>(2022)</td>\n",
       "    </tr>\n",
       "    <tr>\n",
       "      <th>2</th>\n",
       "      <td>Golmaal</td>\n",
       "      <td>8.4</td>\n",
       "      <td>(1979)</td>\n",
       "    </tr>\n",
       "    <tr>\n",
       "      <th>3</th>\n",
       "      <td>Nayakan</td>\n",
       "      <td>8.4</td>\n",
       "      <td>(1987)</td>\n",
       "    </tr>\n",
       "    <tr>\n",
       "      <th>4</th>\n",
       "      <td>Anbe Sivam</td>\n",
       "      <td>8.4</td>\n",
       "      <td>(2003)</td>\n",
       "    </tr>\n",
       "    <tr>\n",
       "      <th>...</th>\n",
       "      <td>...</td>\n",
       "      <td>...</td>\n",
       "      <td>...</td>\n",
       "    </tr>\n",
       "    <tr>\n",
       "      <th>95</th>\n",
       "      <td>Jigarthanda</td>\n",
       "      <td>8.0</td>\n",
       "      <td>(2014)</td>\n",
       "    </tr>\n",
       "    <tr>\n",
       "      <th>96</th>\n",
       "      <td>Kaakkaa Muttai</td>\n",
       "      <td>8.0</td>\n",
       "      <td>(2014)</td>\n",
       "    </tr>\n",
       "    <tr>\n",
       "      <th>97</th>\n",
       "      <td>Kantara</td>\n",
       "      <td>8.0</td>\n",
       "      <td>(2022)</td>\n",
       "    </tr>\n",
       "    <tr>\n",
       "      <th>98</th>\n",
       "      <td>Ustad Hotel</td>\n",
       "      <td>8.0</td>\n",
       "      <td>(2012)</td>\n",
       "    </tr>\n",
       "    <tr>\n",
       "      <th>99</th>\n",
       "      <td>Theeran Adhigaaram Ondru</td>\n",
       "      <td>8.0</td>\n",
       "      <td>(2017)</td>\n",
       "    </tr>\n",
       "  </tbody>\n",
       "</table>\n",
       "<p>100 rows × 3 columns</p>\n",
       "</div>"
      ],
      "text/plain": [
       "                                Name of Movie IMDB Rating Year of release\n",
       "0         Ramayana: The Legend of Prince Rama         8.5          (1993)\n",
       "1                  Rocketry: The Nambi Effect         8.4          (2022)\n",
       "2                                     Golmaal         8.4          (1979)\n",
       "3                                     Nayakan         8.4          (1987)\n",
       "4                                  Anbe Sivam         8.4          (2003)\n",
       "..                                        ...         ...             ...\n",
       "95                                Jigarthanda         8.0          (2014)\n",
       "96                             Kaakkaa Muttai         8.0          (2014)\n",
       "97                                    Kantara         8.0          (2022)\n",
       "98                                Ustad Hotel         8.0          (2012)\n",
       "99                   Theeran Adhigaaram Ondru         8.0          (2017)\n",
       "\n",
       "[100 rows x 3 columns]"
      ]
     },
     "execution_count": 14,
     "metadata": {},
     "output_type": "execute_result"
    }
   ],
   "source": [
    "#3\n",
    "ipage = requests.get('https://www.imdb.com/india/top-rated-indian-movies/?sort=ir,desc&mode=simple&page=1')\n",
    "soup=BeautifulSoup(ipage.content)\n",
    "name=[]\n",
    "x=1\n",
    "for i in soup.find_all(class_=\"titleColumn\"):\n",
    "    if x<101:\n",
    "        name.append(i.text.split('\\n')[2])\n",
    "        x=x+1\n",
    "    else:\n",
    "        break\n",
    "        \n",
    "year=[]\n",
    "y=1\n",
    "for i in soup.find_all('span',class_=\"secondaryInfo\"):\n",
    "    if y<101:\n",
    "        year.append(i.text)\n",
    "        y=y+1\n",
    "    else:\n",
    "        break\n",
    "        \n",
    "rating=[]\n",
    "z=1\n",
    "for i in soup.find_all('td',class_=\"ratingColumn imdbRating\"):\n",
    "    if z<101:\n",
    "        rating.append(i.text.split('\\n')[1])\n",
    "        z=z+1\n",
    "    else:\n",
    "        break\n",
    "        \n",
    "idf=pd.DataFrame({'Name of Movie':name, 'IMDB Rating': rating, 'Year of release':year})\n",
    "idf"
   ]
  },
  {
   "cell_type": "markdown",
   "id": "b00e3c16",
   "metadata": {},
   "source": [
    "# 4"
   ]
  },
  {
   "cell_type": "code",
   "execution_count": 27,
   "id": "e89a344f",
   "metadata": {},
   "outputs": [
    {
     "data": {
      "text/plain": [
       "[['Shri Ram Nath Kovind (birth - 1945)',\n",
       "  'Term of Office: 25 July, 2017 to 25 July, 2022 '],\n",
       " ['Shri Pranab Mukherjee (1935-2020)',\n",
       "  'Term of Office: 25 July, 2012 to 25 July, 2017 '],\n",
       " ['Smt Pratibha Devisingh Patil (birth - 1934)',\n",
       "  'Term of Office: 25 July, 2007 to 25 July, 2012 '],\n",
       " ['DR. A.P.J. Abdul Kalam (1931-2015)',\n",
       "  'Term of Office: 25 July, 2002 to 25 July, 2007 '],\n",
       " ['Shri K. R. Narayanan (1920 - 2005)',\n",
       "  'Term of Office: 25 July, 1997 to 25 July, 2002 '],\n",
       " ['Dr Shankar Dayal Sharma (1918-1999)',\n",
       "  'Term of Office: 25 July, 1992 to 25 July, 1997 '],\n",
       " ['Shri R Venkataraman (1910-2009)',\n",
       "  'Term of Office: 25 July, 1987 to 25 July, 1992 '],\n",
       " ['Giani Zail Singh (1916-1994)',\n",
       "  'Term of Office: 25 July, 1982 to 25 July, 1987 '],\n",
       " ['Shri Neelam Sanjiva Reddy (1913-1996)',\n",
       "  'Term of Office: 25 July, 1977 to 25 July, 1982 '],\n",
       " ['Dr. Fakhruddin Ali Ahmed (1905-1977)',\n",
       "  'Term of Office: 24 August, 1974 to 11 February, 1977'],\n",
       " ['Shri Varahagiri Venkata Giri (1894-1980)',\n",
       "  'Term of Office: 3 May, 1969 to 20 July, 1969 and 24 August, 1969 to 24 August, 1974'],\n",
       " ['Dr. Zakir Husain (1897-1969)',\n",
       "  'Term of Office: 13 May, 1967 to 3 May, 1969'],\n",
       " ['Dr. Sarvepalli Radhakrishnan (1888-1975)',\n",
       "  'Term of Office: 13 May, 1962 to 13 May, 1967'],\n",
       " ['Dr. Rajendra Prasad (1884-1963) ',\n",
       "  'Term of Office: 26 January, 1950 to 13 May, 1962']]"
      ]
     },
     "execution_count": 27,
     "metadata": {},
     "output_type": "execute_result"
    }
   ],
   "source": [
    "#4\n",
    "ppage = requests.get('https://presidentofindia.nic.in/former-presidents.htm')\n",
    "ppage\n",
    "\n",
    "#name\n",
    "soup=BeautifulSoup(ppage.content)\n",
    "name=[]\n",
    "for i in soup.find_all('div',class_=\"presidentListing\"):\n",
    "    name.append(i.text.split('\\n')[1:3])\n",
    "name"
   ]
  },
  {
   "cell_type": "markdown",
   "id": "8270e03b",
   "metadata": {},
   "source": [
    "# 5"
   ]
  },
  {
   "cell_type": "code",
   "execution_count": 29,
   "id": "69d7f5e8",
   "metadata": {},
   "outputs": [
    {
     "data": {
      "text/plain": [
       "['New Zealand',\n",
       " 'England',\n",
       " 'Australia',\n",
       " 'India',\n",
       " 'Pakistan',\n",
       " 'South Africa',\n",
       " 'Bangladesh',\n",
       " 'Sri Lanka',\n",
       " 'Afghanistan',\n",
       " 'West Indies']"
      ]
     },
     "execution_count": 29,
     "metadata": {},
     "output_type": "execute_result"
    }
   ],
   "source": [
    "#5a\n",
    "cpage = requests.get('https://www.icc-cricket.com/rankings/mens/team-rankings/odi')\n",
    "cpage\n",
    "soup=BeautifulSoup(cpage.content)\n",
    "\n",
    "name=[]\n",
    "x=1\n",
    "for i in soup.find_all('span',class_=\"u-hide-phablet\"):\n",
    "    if x<11:\n",
    "        name.append(i.text)\n",
    "        x=x+1\n",
    "    else:\n",
    "        break\n",
    "name"
   ]
  },
  {
   "cell_type": "code",
   "execution_count": 30,
   "id": "c19f2fa4",
   "metadata": {},
   "outputs": [
    {
     "data": {
      "text/plain": [
       "['30',\n",
       " '3,400',\n",
       " '32',\n",
       " '3,572',\n",
       " '40',\n",
       " '4,377',\n",
       " '25',\n",
       " '2,649',\n",
       " '24',\n",
       " '2,392',\n",
       " '33',\n",
       " '3,129',\n",
       " '33',\n",
       " '2,917',\n",
       " '20',\n",
       " '1,419',\n",
       " '41',\n",
       " '2,902',\n",
       " '23',\n",
       " '1,214']"
      ]
     },
     "execution_count": 30,
     "metadata": {},
     "output_type": "execute_result"
    }
   ],
   "source": [
    "match_points=[]\n",
    "x=1\n",
    "for i in soup.find_all('td',class_=\"table-body__cell u-center-text\"):\n",
    "    if x<21:\n",
    "        match_points.append(i.text)\n",
    "        x=x+1\n",
    "    else:\n",
    "        break\n",
    "match_points"
   ]
  },
  {
   "cell_type": "code",
   "execution_count": 31,
   "id": "1be90959",
   "metadata": {},
   "outputs": [
    {
     "data": {
      "text/plain": [
       "['113', '112', '109', '106', '100', '95', '88', '71', '71', '53']"
      ]
     },
     "execution_count": 31,
     "metadata": {},
     "output_type": "execute_result"
    }
   ],
   "source": [
    "rating=[]\n",
    "x=1\n",
    "for i in soup.find_all('td',class_=\"table-body__cell u-text-right rating\"):\n",
    "    if x<11:\n",
    "        rating.append(i.text)\n",
    "        x=x+1\n",
    "    else:\n",
    "        break\n",
    "rating"
   ]
  },
  {
   "cell_type": "code",
   "execution_count": 32,
   "id": "22d7fae5",
   "metadata": {},
   "outputs": [
    {
     "data": {
      "text/plain": [
       "['Rassie van der Dussen',\n",
       " 'Imam-ul-Haq',\n",
       " 'Quinton de Kock',\n",
       " 'David Warner',\n",
       " 'Virat Kohli',\n",
       " 'Steve Smith',\n",
       " 'Rohit Sharma',\n",
       " 'Jonny Bairstow',\n",
       " 'Fakhar Zaman',\n",
       " 'Kane Williamson']"
      ]
     },
     "execution_count": 32,
     "metadata": {},
     "output_type": "execute_result"
    }
   ],
   "source": [
    "#5b\n",
    "cpage = requests.get('https://www.icc-cricket.com/rankings/mens/player-rankings/odi/batting')\n",
    "soup=BeautifulSoup(cpage.content)\n",
    "name=[]\n",
    "x=1\n",
    "for i in soup.find_all('td',class_=\"table-body__cell rankings-table__name name\"):\n",
    "    if x<11:\n",
    "        name.append(i.text.split('\\n')[1])\n",
    "        x=x+1\n",
    "    else:\n",
    "        break\n",
    "name"
   ]
  },
  {
   "cell_type": "code",
   "execution_count": 35,
   "id": "a561e448",
   "metadata": {},
   "outputs": [
    {
     "data": {
      "text/plain": [
       "['766', '764', '759', '747', '726', '719', '715', '710', '695', '695']"
      ]
     },
     "execution_count": 35,
     "metadata": {},
     "output_type": "execute_result"
    }
   ],
   "source": [
    "team=[]\n",
    "x=1\n",
    "for i in soup.find_all('span',class_=\"table-body__logo-text\"):\n",
    "    if x<11:\n",
    "        team.append(i.text)\n",
    "        x=x+1\n",
    "    else:\n",
    "        break\n",
    "team\n"
   ]
  },
  {
   "cell_type": "code",
   "execution_count": 34,
   "id": "ccb4ca70",
   "metadata": {},
   "outputs": [
    {
     "data": {
      "text/plain": [
       "['766', '764', '759', '747', '726', '719', '715', '710', '695', '695']"
      ]
     },
     "execution_count": 34,
     "metadata": {},
     "output_type": "execute_result"
    }
   ],
   "source": [
    "rating=[]\n",
    "x=1\n",
    "for i in soup.find_all('td',class_=\"table-body__cell rating\"):\n",
    "    if x<11:\n",
    "        rating.append(i.text)\n",
    "        x=x+1\n",
    "    else:\n",
    "        break\n",
    "rating"
   ]
  },
  {
   "cell_type": "code",
   "execution_count": 36,
   "id": "22071e06",
   "metadata": {},
   "outputs": [
    {
     "data": {
      "text/plain": [
       "['Josh Hazlewood',\n",
       " 'Mitchell Starc',\n",
       " 'Rashid Khan',\n",
       " 'Matt Henry',\n",
       " 'Adam Zampa',\n",
       " 'Shaheen Afridi',\n",
       " 'Shakib Al Hasan',\n",
       " 'Mustafizur Rahman',\n",
       " 'Mujeeb Ur Rahman',\n",
       " 'Chris Woakes']"
      ]
     },
     "execution_count": 36,
     "metadata": {},
     "output_type": "execute_result"
    }
   ],
   "source": [
    "#5c\n",
    "cpage = requests.get('https://www.icc-cricket.com/rankings/mens/player-rankings/odi/bowling')\n",
    "soup=BeautifulSoup(cpage.content)\n",
    "name=[]\n",
    "x=1\n",
    "for i in soup.find_all('td',class_=\"table-body__cell rankings-table__name name\"):\n",
    "    if x<11:\n",
    "        name.append(i.text.split('\\n')[1])\n",
    "        x=x+1\n",
    "    else:\n",
    "        break\n",
    "name"
   ]
  },
  {
   "cell_type": "code",
   "execution_count": 37,
   "id": "c41480b2",
   "metadata": {},
   "outputs": [
    {
     "data": {
      "text/plain": [
       "['AUS', 'AUS', 'AFG', 'NZ', 'AUS', 'PAK', 'BAN', 'BAN', 'AFG', 'ENG']"
      ]
     },
     "execution_count": 37,
     "metadata": {},
     "output_type": "execute_result"
    }
   ],
   "source": [
    "team=[]\n",
    "x=1\n",
    "for i in soup.find_all('span',class_=\"table-body__logo-text\"):\n",
    "    if x<11:\n",
    "        team.append(i.text)\n",
    "        x=x+1\n",
    "    else:\n",
    "        break\n",
    "team"
   ]
  },
  {
   "cell_type": "code",
   "execution_count": 38,
   "id": "2ff35b33",
   "metadata": {},
   "outputs": [
    {
     "data": {
      "text/plain": [
       "['727', '665', '659', '656', '655', '654', '652', '638', '637', '632']"
      ]
     },
     "execution_count": 38,
     "metadata": {},
     "output_type": "execute_result"
    }
   ],
   "source": [
    "rating=[]\n",
    "x=1\n",
    "for i in soup.find_all('td',class_=\"table-body__cell rating\"):\n",
    "    if x<11:\n",
    "        rating.append(i.text)\n",
    "        x=x+1\n",
    "    else:\n",
    "        break\n",
    "rating"
   ]
  },
  {
   "cell_type": "markdown",
   "id": "5b083fd1",
   "metadata": {},
   "source": [
    "# 6"
   ]
  },
  {
   "cell_type": "code",
   "execution_count": 39,
   "id": "c03be17c",
   "metadata": {},
   "outputs": [
    {
     "data": {
      "text/plain": [
       "['Australia',\n",
       " 'England',\n",
       " 'South Africa',\n",
       " 'India',\n",
       " 'New Zealand',\n",
       " 'West Indies',\n",
       " 'Bangladesh',\n",
       " 'Thailand',\n",
       " 'Pakistan',\n",
       " 'Sri Lanka']"
      ]
     },
     "execution_count": 39,
     "metadata": {},
     "output_type": "execute_result"
    }
   ],
   "source": [
    "#6a\n",
    "wcpage = requests.get('https://www.icc-cricket.com/rankings/womens/team-rankings/odi')\n",
    "wcpage\n",
    "soup=BeautifulSoup(wcpage.content)\n",
    "name=[]\n",
    "x=1\n",
    "for i in soup.find_all('span',class_=\"u-hide-phablet\"):\n",
    "    if x<11:\n",
    "        name.append(i.text)\n",
    "        x=x+1\n",
    "    else:\n",
    "        break\n",
    "name"
   ]
  },
  {
   "cell_type": "code",
   "execution_count": 40,
   "id": "ae7dd39a",
   "metadata": {},
   "outputs": [
    {
     "data": {
      "text/plain": [
       "['28',\n",
       " '3,342',\n",
       " '26',\n",
       " '3,098',\n",
       " '27',\n",
       " '2,820',\n",
       " '25',\n",
       " '2,553',\n",
       " '27',\n",
       " '2,535',\n",
       " '13',\n",
       " '983',\n",
       " '8',\n",
       " '572',\n",
       " '24',\n",
       " '1,519',\n",
       " '8',\n",
       " '353',\n",
       " '14']"
      ]
     },
     "execution_count": 40,
     "metadata": {},
     "output_type": "execute_result"
    }
   ],
   "source": [
    "match=[]\n",
    "x=1\n",
    "for i in soup.find_all('td',class_=\"table-body__cell u-center-text\"):\n",
    "    if x<20:\n",
    "        match.append(i.text)\n",
    "        x=x+1\n",
    "    else:\n",
    "        break\n",
    "match"
   ]
  },
  {
   "cell_type": "code",
   "execution_count": 41,
   "id": "d65441ed",
   "metadata": {},
   "outputs": [
    {
     "data": {
      "text/plain": [
       "['119', '119', '104', '102', '94', '76', '72', '63', '44', '39']"
      ]
     },
     "execution_count": 41,
     "metadata": {},
     "output_type": "execute_result"
    }
   ],
   "source": [
    "rating=[]\n",
    "x=1\n",
    "for i in soup.find_all('td',class_=\"table-body__cell u-text-right rating\"):\n",
    "    if x<11:\n",
    "        rating.append(i.text)\n",
    "        x=x+1\n",
    "    else:\n",
    "        break\n",
    "rating"
   ]
  },
  {
   "cell_type": "code",
   "execution_count": 42,
   "id": "2dd91b2f",
   "metadata": {},
   "outputs": [
    {
     "data": {
      "text/plain": [
       "['Beth Mooney',\n",
       " 'Laura Wolvaardt',\n",
       " 'Natalie Sciver',\n",
       " 'Harmanpreet Kaur',\n",
       " 'Smriti Mandhana',\n",
       " 'Meg Lanning',\n",
       " 'Rachael Haynes',\n",
       " 'Chamari Athapaththu',\n",
       " 'Ellyse Perry',\n",
       " 'Amy Satterthwaite']"
      ]
     },
     "execution_count": 42,
     "metadata": {},
     "output_type": "execute_result"
    }
   ],
   "source": [
    "#6b\n",
    "cpage = requests.get('https://www.icc-cricket.com/rankings/womens/player-rankings/odi/batting')\n",
    "soup=BeautifulSoup(cpage.content)\n",
    "name=[]\n",
    "x=1\n",
    "for i in soup.find_all('td',class_=\"table-body__cell rankings-table__name name\"):\n",
    "    if x<11:\n",
    "        name.append(i.text.split('\\n')[1])\n",
    "        x=x+1\n",
    "    else:\n",
    "        break\n",
    "name"
   ]
  },
  {
   "cell_type": "code",
   "execution_count": 43,
   "id": "bce29fc1",
   "metadata": {},
   "outputs": [
    {
     "data": {
      "text/plain": [
       "['AUS', 'SA', 'ENG', 'IND', 'IND', 'AUS', 'AUS', 'SL', 'AUS', 'NZ']"
      ]
     },
     "execution_count": 43,
     "metadata": {},
     "output_type": "execute_result"
    }
   ],
   "source": [
    "team=[]\n",
    "x=1\n",
    "for i in soup.find_all('span',class_=\"table-body__logo-text\"):\n",
    "    if x<11:\n",
    "        team.append(i.text)\n",
    "        x=x+1\n",
    "    else:\n",
    "        break\n",
    "team"
   ]
  },
  {
   "cell_type": "code",
   "execution_count": 44,
   "id": "26edd549",
   "metadata": {},
   "outputs": [
    {
     "data": {
      "text/plain": [
       "['749', '732', '731', '716', '714', '710', '701', '655', '642', '641']"
      ]
     },
     "execution_count": 44,
     "metadata": {},
     "output_type": "execute_result"
    }
   ],
   "source": [
    "rating=[]\n",
    "x=1\n",
    "for i in soup.find_all('td',class_=\"table-body__cell rating\"):\n",
    "    if x<11:\n",
    "        rating.append(i.text)\n",
    "        x=x+1\n",
    "    else:\n",
    "        break\n",
    "rating"
   ]
  },
  {
   "cell_type": "code",
   "execution_count": 45,
   "id": "25e3b364",
   "metadata": {},
   "outputs": [
    {
     "data": {
      "text/plain": [
       "['Hayley Matthews',\n",
       " 'Natalie Sciver',\n",
       " 'Marizanne Kapp',\n",
       " 'Amelia Kerr',\n",
       " 'Deepti Sharma',\n",
       " 'Ashleigh Gardner',\n",
       " 'Jess Jonassen',\n",
       " 'Jhulan Goswami',\n",
       " 'Sophie Ecclestone',\n",
       " 'Nida Dar']"
      ]
     },
     "execution_count": 45,
     "metadata": {},
     "output_type": "execute_result"
    }
   ],
   "source": [
    "#6c\n",
    "cpage = requests.get('https://www.icc-cricket.com/rankings/womens/player-rankings/odi/all-rounder')\n",
    "soup=BeautifulSoup(cpage.content)\n",
    "name=[]\n",
    "x=1\n",
    "for i in soup.find_all('td',class_=\"table-body__cell rankings-table__name name\"):\n",
    "    if x<11:\n",
    "        name.append(i.text.split('\\n')[1])\n",
    "        x=x+1\n",
    "    else:\n",
    "        break\n",
    "name"
   ]
  },
  {
   "cell_type": "code",
   "execution_count": 46,
   "id": "3844289b",
   "metadata": {},
   "outputs": [
    {
     "data": {
      "text/plain": [
       "['WI', 'ENG', 'SA', 'NZ', 'IND', 'AUS', 'AUS', 'IND', 'ENG', 'PAK']"
      ]
     },
     "execution_count": 46,
     "metadata": {},
     "output_type": "execute_result"
    }
   ],
   "source": [
    "team=[]\n",
    "x=1\n",
    "for i in soup.find_all('span',class_=\"table-body__logo-text\"):\n",
    "    if x<11:\n",
    "        team.append(i.text)\n",
    "        x=x+1\n",
    "    else:\n",
    "        break\n",
    "team"
   ]
  },
  {
   "cell_type": "code",
   "execution_count": 47,
   "id": "19f9b48d",
   "metadata": {},
   "outputs": [
    {
     "data": {
      "text/plain": [
       "['373', '371', '349', '336', '322', '270', '246', '214', '205', '205']"
      ]
     },
     "execution_count": 47,
     "metadata": {},
     "output_type": "execute_result"
    }
   ],
   "source": [
    "rating=[]\n",
    "x=1\n",
    "for i in soup.find_all('td',class_=\"table-body__cell rating\"):\n",
    "    if x<11:\n",
    "        rating.append(i.text)\n",
    "        x=x+1\n",
    "    else:\n",
    "        break\n",
    "rating"
   ]
  },
  {
   "cell_type": "markdown",
   "id": "6af533ac",
   "metadata": {},
   "source": [
    "# 7"
   ]
  },
  {
   "cell_type": "code",
   "execution_count": 48,
   "id": "8dbd71a0",
   "metadata": {},
   "outputs": [
    {
     "data": {
      "text/plain": [
       "['More classified documents found at Biden’s Delaware home, White House counsel says',\n",
       " 'The biggest risks of using Bluetooth trackers like Apple AirTag, Tile',\n",
       " 'Veganuary: 3 ways to meet your protein goals on a plant-based diet',\n",
       " \"Investing in last year's top 10 stocks is 'a recipe for disaster,' expert says\",\n",
       " '4 side hustles for introverts: Some can bring in tens of thousands of dollars',\n",
       " \"Here are the odds you'll win the $404 million Powerball jackpot\",\n",
       " 'The condo king of Miami is betting big on a new Fisher Island luxury project',\n",
       " 'Carmakers upgrade lineups to meet high-end demand, scale back on less expensive cars',\n",
       " 'What it’s like to deliver for Amazon in new electric Rivian vans',\n",
       " 'The bold bullish case to be made for U.S. stocks',\n",
       " 'Earnings stars: Stocks expected to post the biggest profit growth of 2023 ',\n",
       " 'Morgan Stanley says these are the most undervalued stocks this year',\n",
       " 'Stocks on a roll. But overbought market, earnings key hurdles in the week ahead',\n",
       " 'The zero-fare public transit movement is picking up momentum',\n",
       " 'Building self-discipline by age 27 is crucial, says expert: 3 ways to do it',\n",
       " 'Iran executes British-Iranian national despite UK, U.S. pleas',\n",
       " 'Rising commodities prices could be a tailwind for Caterpillar',\n",
       " \"Cramer's lightning round: Costamare is not a buy\",\n",
       " 'Cramer’s week ahead: Wait before trading on company earnings',\n",
       " 'CDC review finds it’s unlikely Pfizer booster carries stroke risk for seniors',\n",
       " \"House targets China, abortion, IRS funding in McCarthy's first week as speaker \",\n",
       " \"Pro Picks: Watch all of Friday's big stock calls on CNBC\",\n",
       " \"Rep. Santos admits he 'embellished' his resume ― don't do that, experts say\",\n",
       " '6 question on meditation, answered by an expert ',\n",
       " \"Trump denies rape in testimony, falsely says accuser indicated 'she loved it'\",\n",
       " 'House Republicans move to regulate crypto industry with a new subcommittee',\n",
       " 'JPMorgan says college-planning firm it bought lied. Were consumers misled, too?',\n",
       " 'Bill Gates: We will overshoot 1.5 degrees Celsius of global warming',\n",
       " 'Take profits on Starbucks after its huge run, and check out these 3 other stocks',\n",
       " 'Hasbro delays Dungeons & Dragons licensing deal change following fan backlash']"
      ]
     },
     "execution_count": 48,
     "metadata": {},
     "output_type": "execute_result"
    }
   ],
   "source": [
    "#7i\n",
    "npage = requests.get('https://www.cnbc.com/world/?region=world')\n",
    "soup=BeautifulSoup(npage.content)\n",
    "headline=[]\n",
    "for i in soup.find_all('a',class_=\"LatestNews-headline\"):\n",
    "    headline.append(i.text)\n",
    "    \n",
    "headline"
   ]
  },
  {
   "cell_type": "code",
   "execution_count": 49,
   "id": "00aa88bb",
   "metadata": {},
   "outputs": [
    {
     "data": {
      "text/plain": [
       "['17 Hours Ago',\n",
       " '18 Hours Ago',\n",
       " '20 Hours Ago',\n",
       " '20 Hours Ago',\n",
       " '20 Hours Ago',\n",
       " '21 Hours Ago',\n",
       " '21 Hours Ago',\n",
       " '21 Hours Ago',\n",
       " '21 Hours Ago',\n",
       " '21 Hours Ago',\n",
       " '21 Hours Ago',\n",
       " '22 Hours Ago',\n",
       " '22 Hours Ago',\n",
       " '22 Hours Ago',\n",
       " '22 Hours Ago',\n",
       " 'January 14, 2023',\n",
       " 'January 13, 2023',\n",
       " 'January 13, 2023',\n",
       " 'January 13, 2023',\n",
       " 'January 13, 2023',\n",
       " 'January 13, 2023',\n",
       " 'January 13, 2023',\n",
       " 'January 13, 2023',\n",
       " 'January 13, 2023',\n",
       " 'January 13, 2023',\n",
       " 'January 13, 2023',\n",
       " 'January 13, 2023',\n",
       " 'January 13, 2023',\n",
       " 'January 13, 2023',\n",
       " 'January 13, 2023']"
      ]
     },
     "execution_count": 49,
     "metadata": {},
     "output_type": "execute_result"
    }
   ],
   "source": [
    "#7ii\n",
    "time=[]\n",
    "for i in soup.find_all('time',class_=\"LatestNews-timestamp\"):\n",
    "    time.append(i.text)\n",
    "    \n",
    "time"
   ]
  },
  {
   "cell_type": "code",
   "execution_count": 50,
   "id": "4e1d2095",
   "metadata": {},
   "outputs": [
    {
     "name": "stdout",
     "output_type": "stream",
     "text": [
      "#MainContent\n",
      "//www.cnbc.com/world/\n",
      "/\n",
      "/markets/\n",
      "/pre-markets/\n",
      "/us-markets/\n",
      "/markets-europe/\n",
      "/china-markets/\n",
      "/markets-asia-pacific/\n",
      "/world-markets/\n",
      "/currencies/\n",
      "/cryptocurrency/\n",
      "/futures-and-commodities/\n",
      "/bonds/\n",
      "/funds-and-etfs/\n",
      "/business/\n",
      "/economy/\n",
      "/finance/\n",
      "/health-and-science/\n",
      "/media/\n",
      "/real-estate/\n",
      "/energy/\n",
      "/climate/\n",
      "/transportation/\n",
      "/industrials/\n",
      "/retail/\n",
      "/wealth/\n",
      "/life/\n",
      "/small-business/\n",
      "/investing/\n",
      "/personal-finance/\n",
      "/fintech/\n",
      "/financial-advisors/\n",
      "/options-action/\n",
      "/etf-street/\n",
      "https://buffett.cnbc.com\n",
      "/earnings/\n",
      "/trader-talk/\n",
      "/technology/\n",
      "/cybersecurity/\n",
      "/enterprise/\n",
      "/internet/\n",
      "/media/\n",
      "/mobile/\n",
      "/social-media/\n",
      "/cnbc-disruptors/\n",
      "/tech-guide/\n",
      "/politics/\n",
      "/white-house/\n",
      "/policy/\n",
      "/defense/\n",
      "/congress/\n",
      "/equity-opportunity/\n",
      "/europe-politics/\n",
      "/china-politics/\n",
      "/asia-politics/\n",
      "/world-politics/\n",
      "/tv/\n",
      "/live-audio/\n",
      "/latest-video/\n",
      "/top-video/\n",
      "/video-ceo-interviews/\n",
      "/europe-television/\n",
      "/asia-business-day/\n",
      "/podcast/\n",
      "/digital-original/\n",
      "/watchlist/\n",
      "/investingclub/\n",
      "/investingclub/charitable-trust/\n",
      "/investingclub/analysis/\n",
      "/investingclub/trade-alerts/\n",
      "/investingclub/video/\n",
      "/investingclub/education/\n",
      "/pro/\n",
      "/pro/news/\n",
      "/pro/\n",
      "#\n",
      "#\n",
      "/make-it/\n",
      "/select/\n",
      "/?region=usa\n",
      "/world/\n",
      "/watchlist/\n",
      "#\n",
      "#\n",
      "/\n",
      "/markets/\n",
      "/business/\n",
      "/investing/\n",
      "/technology/\n",
      "/politics/\n",
      "/tv/\n",
      "/watchlist/\n",
      "/investingclub/\n",
      "/pro/\n",
      "#\n",
      "#\n",
      "#\n",
      "#\n",
      "#\n",
      "https://www.cnbc.com/2023/01/13/european-markets-open-to-close-positive-week-on-us-inflation-hopes.html\n",
      "https://www.cnbc.com/2023/01/13/cramers-week-ahead-wait-before-trading-on-company-earnings.html\n",
      "https://www.cnbc.com/quotes/US10Y\n",
      "https://www.cnbc.com/2023/01/13/tesla-cuts-prices-in-us-and-europe-to-stoke-sales.html\n",
      "https://www.cnbc.com/2023/01/13/sweden-mining-company-lkap-finds-big-deposit-of-rare-earth-metals.html\n",
      "https://www.cnbc.com/2023/01/13/south-koreans-are-the-worlds-biggest-spenders-on-luxury-goods.html\n",
      "https://www.cnbc.com/2023/01/13/singapore-covid-travel-rules-why-singapore-isnt-singling-china-out.html\n",
      "https://www.cnbc.com/2023/01/14/covid-news-china-reports-huge-rise-in-deaths-after-who-criticized-data.html\n",
      "https://www.cnbc.com/2023/01/14/covid-news-china-reports-huge-rise-in-deaths-after-who-criticized-data.html\n",
      "https://www.cnbc.com/2023/01/13/bank-of-america-expects-a-mild-recession-but-is-preparing-for-worse.html\n",
      "https://www.cnbc.com/2023/01/13/bank-of-america-expects-a-mild-recession-but-is-preparing-for-worse.html\n",
      "https://www.cnbc.com/2023/01/15/britain-to-send-battle-tanks-to-ukraine-dnipro-death-toll-rises-to-18.html\n",
      "https://www.cnbc.com/2023/01/15/britain-to-send-battle-tanks-to-ukraine-dnipro-death-toll-rises-to-18.html\n",
      "https://www.cnbc.com/2023/01/14/white-house-says-more-classified-documents-found-at-bidens-home.html\n",
      "https://www.cnbc.com/2023/01/14/the-biggest-security-pros-and-cons-of-using-bluetooth-gps-trackers.html\n",
      "https://www.cnbc.com/2023/01/14/veganuary-3-ways-to-meet-your-protein-goals-on-a-plant-based-diet.html\n",
      "https://www.cnbc.com/2023/01/14/best-performing-stocks-of-2022.html\n",
      "https://www.cnbc.com/2023/01/14/side-hustles-for-introverts-some-can-bring-in-tens-of-thousands-.html\n",
      "https://www.cnbc.com/2023/01/14/powerball-odds-of-winning-jackpot.html\n",
      "https://www.cnbc.com/2023/01/14/condo-king-miami-fisher-island-luxury.html\n",
      "https://www.cnbc.com/2023/01/14/carmakers-upgrade-lineups-to-meet-demand-for-high-end-options.html\n",
      "https://www.cnbc.com/2023/01/14/what-its-like-to-deliver-for-amazon-in-new-rivian-electric-vans.html\n",
      "/pro/\n",
      "https://www.cnbc.com/2023/01/14/the-bold-bullish-case-to-be-made-for-us-stocks-one-that-not-many-are-voicing-just-yet.html\n",
      "/pro/\n",
      "https://www.cnbc.com/2023/01/14/earnings-stars-stocks-most-likely-to-see-biggest-2023-profit-growth.html\n",
      "/pro/\n",
      "https://www.cnbc.com/2023/01/14/stocks-like-dicks-sporting-goods-verizon-are-morgan-stanleys-best-buys-for-2023.html\n",
      "/investingclub/\n",
      "https://www.cnbc.com/2023/01/14/investing-club-the-week-in-review-the-week-ahead-jan-14-2023.html\n",
      "https://www.cnbc.com/2023/01/14/zero-fare-public-transit-movement-gains-momentum.html\n",
      "https://www.cnbc.com/2023/01/14/psychiatrist-from-netflix-doc-stutz-how-to-build-self-discipline.html\n",
      "https://www.cnbc.com/2023/01/14/iran-executes-british-iranian-national-despite-uk-us-pleas.html\n",
      "/pro/\n",
      "https://www.cnbc.com/2023/01/13/rising-commodities-prices-could-be-a-tailwind-for-caterpillar-and-these-industrial-names.html\n",
      "https://www.cnbc.com/2023/01/13/cramers-lightning-round-costamare-is-not-a-buy.html\n",
      "https://www.cnbc.com/2023/01/13/cramers-week-ahead-wait-before-trading-on-company-earnings.html\n",
      "https://www.cnbc.com/2023/01/13/pfizer-covid-booster-likely-doesnt-carry-stroke-risk-for-seniors-cdc-says.html\n",
      "https://www.cnbc.com/2023/01/13/gop-house-targets-china-abortion-irs-funding-in-mccarthys-first-week-as-speaker-.html\n",
      "/pro/\n",
      "https://www.cnbc.com/2023/01/13/pro-picks-watch-all-of-fridays-big-stock-calls-on-cnbc.html\n",
      "https://www.cnbc.com/2023/01/13/george-santos-embellished-his-resume-dont-do-that-experts-say.html\n",
      "https://www.cnbc.com/2023/01/13/6-meditation-questions-answered-by-an-expert.html\n",
      "https://www.cnbc.com/2023/01/13/trump-deposition-in-e-jean-carroll-rape-defamation-case-ordered-unsealed.html\n",
      "https://www.cnbc.com/2023/01/13/house-republicans-move-to-regulate-crypto-with-new-subcommittee.html\n",
      "https://www.cnbc.com/2023/01/13/jpmorgan-says-college-planning-firm-it-bought-lied-about-its-size.html\n",
      "https://www.cnbc.com/2023/01/13/bill-gates-we-will-overshoot-1point5-degrees-of-global-warming.html\n",
      "/investingclub/\n",
      "https://www.cnbc.com/2023/01/13/take-profits-on-starbucks-after-its-huge-run-and-check-out-these-3-other-stocks.html\n",
      "https://www.cnbc.com/2023/01/13/hasbro-delays-new-dungeons-dragons-licensing-rules.html\n",
      "/us-market-movers/\n",
      "https://www.cnbc.com/2023/01/14/bitcoin-climbs-above-20000-first-time-in-over-two-months.html\n",
      "https://www.cnbc.com/2023/01/14/bitcoin-climbs-above-20000-first-time-in-over-two-months.html\n",
      "/pro/\n",
      "https://www.cnbc.com/2023/01/13/whartons-jeremy-siegel-says-the-us-really-solved-the-inflation-problem.html\n",
      "https://www.cnbc.com/alex-harring/\n",
      "https://www.cnbc.com/2023/01/13/whartons-jeremy-siegel-says-the-us-really-solved-the-inflation-problem.html\n",
      "https://www.cnbc.com/alex-harring/\n",
      "https://www.cnbc.com/2023/01/12/stock-market-futures-open-to-close-news.html\n",
      "https://www.cnbc.com/tanaya-macheel/\n",
      "https://www.cnbc.com/samantha-subin/\n",
      "https://www.cnbc.com/2023/01/12/stock-market-futures-open-to-close-news.html\n",
      "https://www.cnbc.com/tanaya-macheel/\n",
      "https://www.cnbc.com/samantha-subin/\n",
      "https://www.cnbc.com/2023/01/14/climate-change-oil-ceo-sultan-al-jaber-is-ideal-person-to-lead-cop-28.html\n",
      "https://www.cnbc.com/fred-kempe/\n",
      "https://www.cnbc.com/2023/01/14/climate-change-oil-ceo-sultan-al-jaber-is-ideal-person-to-lead-cop-28.html\n",
      "https://www.cnbc.com/fred-kempe/\n",
      "https://www.cnbc.com/2023/01/15/at-least-16-killed-in-nepals-worst-air-crash-in-30-years.html\n",
      "https://www.cnbc.com/2023/01/15/at-least-16-killed-in-nepals-worst-air-crash-in-30-years.html\n",
      "/pro/\n",
      "https://www.cnbc.com/2023/01/13/jpmorgan-upgrades-this-under-the-radar-latin-american-airline-says-it-can-rally-50percent.html\n",
      "https://www.cnbc.com/alex-harring/\n",
      "https://www.cnbc.com/2023/01/13/jpmorgan-upgrades-this-under-the-radar-latin-american-airline-says-it-can-rally-50percent.html\n",
      "https://www.cnbc.com/alex-harring/\n",
      "https://www.cnbc.com/2023/01/13/germanys-scholz-only-g7-leader-set-to-attend-davos.html\n",
      "https://www.cnbc.com/jenni-reid/\n",
      "https://www.cnbc.com/2023/01/13/germanys-scholz-only-g7-leader-set-to-attend-davos.html\n",
      "https://www.cnbc.com/jenni-reid/\n",
      "https://www.cnbc.com/2023/01/13/flash-star-ezra-miller-avoids-jail-trespassing-plea-deal.html\n",
      "https://www.cnbc.com/2023/01/13/flash-star-ezra-miller-avoids-jail-trespassing-plea-deal.html\n",
      "https://www.cnbc.com/2023/01/13/sweden-mining-company-lkap-finds-big-deposit-of-rare-earth-metals.html\n",
      "https://www.cnbc.com/2023/01/13/sweden-mining-company-lkap-finds-big-deposit-of-rare-earth-metals.html\n",
      "https://www.cnbc.com/2023/01/14/russian-missiles-strike-vital-infrastructure-in-kyiv-and-kharkiv.html\n",
      "https://www.cnbc.com/2023/01/14/russian-missiles-strike-vital-infrastructure-in-kyiv-and-kharkiv.html\n",
      "https://www.cnbc.com/2023/01/13/us-will-hit-its-debt-limit-thursday-start-taking-steps-to-avoid-default-yellen-warns-congress.html\n",
      "https://www.cnbc.com/dan-mangan/\n",
      "https://www.cnbc.com/christina-wilkie/\n",
      "https://www.cnbc.com/kayla-tausche/\n",
      "https://www.cnbc.com/2023/01/13/us-will-hit-its-debt-limit-thursday-start-taking-steps-to-avoid-default-yellen-warns-congress.html\n",
      "https://www.cnbc.com/dan-mangan/\n",
      "https://www.cnbc.com/christina-wilkie/\n",
      "https://www.cnbc.com/kayla-tausche/\n",
      "/pro/\n",
      "https://www.cnbc.com/2023/01/13/wall-streets-favorite-income-plays-for-2023.html\n",
      "https://www.cnbc.com/michelle-fox/\n",
      "https://www.cnbc.com/2023/01/13/wall-streets-favorite-income-plays-for-2023.html\n",
      "https://www.cnbc.com/michelle-fox/\n",
      "https://www.cnbc.com/2023/01/14/iran-executes-british-iranian-national-despite-uk-us-pleas.html\n",
      "https://www.cnbc.com/2023/01/14/iran-executes-british-iranian-national-despite-uk-us-pleas.html\n",
      "https://www.cnbc.com/2023/01/14/brazil-top-court-to-investigate-bolsonaro-role-in-brasilia-riots.html\n",
      "https://www.cnbc.com/2023/01/14/brazil-top-court-to-investigate-bolsonaro-role-in-brasilia-riots.html\n",
      "https://www.cnbc.com/2023/01/14/qatar-uae-energy-ministers-say-gas-will-be-needed-for-long-time.html\n",
      "https://www.cnbc.com/2023/01/14/qatar-uae-energy-ministers-say-gas-will-be-needed-for-long-time.html\n",
      "https://www.cnbc.com/2023/01/13/biden-and-kishida-to-discuss-japan-stepping-up-security.html\n",
      "https://www.cnbc.com/2023/01/13/biden-and-kishida-to-discuss-japan-stepping-up-security.html\n",
      "https://www.cnbc.com/2023/01/13/pfizer-covid-booster-likely-doesnt-carry-stroke-risk-for-seniors-cdc-says.html\n",
      "https://www.cnbc.com/spencer-kimball/\n",
      "https://www.cnbc.com/2023/01/13/pfizer-covid-booster-likely-doesnt-carry-stroke-risk-for-seniors-cdc-says.html\n",
      "https://www.cnbc.com/spencer-kimball/\n",
      "https://www.cnbc.com/2023/01/14/a-battle-between-disney-and-activist-peltz-brews-heres-how-the-situation-may-unfold.html\n",
      "https://www.cnbc.com/kenneth-squire/\n",
      "https://www.cnbc.com/2023/01/14/a-battle-between-disney-and-activist-peltz-brews-heres-how-the-situation-may-unfold.html\n",
      "https://www.cnbc.com/kenneth-squire/\n",
      "https://www.cnbc.com/2023/01/13/live-updates-latest-news-on-russia-and-the-war-in-ukraine.html\n",
      "https://www.cnbc.com/amanda-macias/\n",
      "https://www.cnbc.com/natasha-turak/\n",
      "https://www.cnbc.com/2023/01/13/live-updates-latest-news-on-russia-and-the-war-in-ukraine.html\n",
      "https://www.cnbc.com/amanda-macias/\n",
      "https://www.cnbc.com/natasha-turak/\n",
      "https://www.cnbc.com/2023/01/13/trump-deposition-in-e-jean-carroll-rape-defamation-case-ordered-unsealed.html\n",
      "https://www.cnbc.com/dan-mangan/\n",
      "https://www.cnbc.com/2023/01/13/trump-deposition-in-e-jean-carroll-rape-defamation-case-ordered-unsealed.html\n",
      "https://www.cnbc.com/dan-mangan/\n",
      "//www.cnbc.com/us-market-movers/\n",
      "/us-market-movers/\n",
      "/stocks/\n",
      "/pro/\n",
      "https://www.cnbc.com/2023/01/14/the-bold-bullish-case-to-be-made-for-us-stocks-one-that-not-many-are-voicing-just-yet.html\n",
      "https://www.cnbc.com/michael-santoli/\n",
      "/pro/\n",
      "https://www.cnbc.com/2023/01/13/corporate-profit-reports-in-the-week-ahead-could-show-earnings-recession.html\n",
      "https://www.cnbc.com/patti-domm/\n",
      "/pro/\n",
      "https://www.cnbc.com/2023/01/13/whartons-jeremy-siegel-says-the-us-really-solved-the-inflation-problem.html\n",
      "https://www.cnbc.com/alex-harring/\n",
      "https://www.cnbc.com/2023/01/12/stock-market-futures-open-to-close-news.html\n",
      "https://www.cnbc.com/tanaya-macheel/\n",
      "https://www.cnbc.com/samantha-subin/\n",
      "//www.cnbc.com/live-tv/\n",
      "//www.cnbc.com/latest-video/\n",
      "https://www.cnbc.com/video/2023/01/07/the-rise-and-fall-of-the-boeing-747.html\n",
      "https://www.cnbc.com/video/2023/01/08/how-medical-debt-became-normal-in-the-us.html\n",
      "https://www.cnbc.com/video/2023/01/09/how-to-retire-with-2-million-on-a-100000-annual-salary.html\n",
      "https://www.cnbc.com/special-reports/\n",
      "https://www.cnbc.com/2023/01/13/bill-gates-we-will-overshoot-1point5-degrees-of-global-warming.html\n",
      "https://www.cnbc.com/2023/01/13/45-year-old-brain-expert-shares-exactly-what-he-eats-in-a-day-to-keep-his-brain-sharp-and-young.html\n",
      "https://www.cnbc.com/2023/01/12/updates-to-student-loan-repayment.html\n",
      "https://www.cnbc.com/2023/01/14/side-hustles-for-introverts-some-can-bring-in-tens-of-thousands-.html\n",
      "https://www.cnbc.com/2023/01/07/i-talked-to-70-parents-who-raised-highly-successful-kids-the-surprising-parenting-style-they-used.html\n",
      "https://www.cnbc.com/pro/news/\n",
      "https://www.cnbc.com/2023/01/14/the-bold-bullish-case-to-be-made-for-us-stocks-one-that-not-many-are-voicing-just-yet.html\n",
      "/pro/\n",
      "https://www.cnbc.com/2023/01/14/the-bold-bullish-case-to-be-made-for-us-stocks-one-that-not-many-are-voicing-just-yet.html\n",
      "https://www.cnbc.com/michael-santoli/\n",
      "https://www.cnbc.com/2023/01/14/stocks-like-dicks-sporting-goods-verizon-are-morgan-stanleys-best-buys-for-2023.html\n",
      "/pro/\n",
      "https://www.cnbc.com/2023/01/14/stocks-like-dicks-sporting-goods-verizon-are-morgan-stanleys-best-buys-for-2023.html\n",
      "https://www.cnbc.com/michael-bloom/\n",
      "https://www.cnbc.com/2023/01/14/earnings-stars-stocks-most-likely-to-see-biggest-2023-profit-growth.html\n",
      "/pro/\n",
      "https://www.cnbc.com/2023/01/14/earnings-stars-stocks-most-likely-to-see-biggest-2023-profit-growth.html\n",
      "https://www.cnbc.com/tanaya-macheel/\n",
      "https://www.cnbc.com/2023/01/13/rising-commodities-prices-could-be-a-tailwind-for-caterpillar-and-these-industrial-names.html\n",
      "/pro/\n",
      "https://www.cnbc.com/2023/01/13/rising-commodities-prices-could-be-a-tailwind-for-caterpillar-and-these-industrial-names.html\n",
      "https://www.cnbc.com/seema-mody/\n",
      "https://www.cnbc.com/2023/01/13/pro-picks-watch-all-of-fridays-big-stock-calls-on-cnbc.html\n",
      "/pro/\n",
      "https://www.cnbc.com/2023/01/13/pro-picks-watch-all-of-fridays-big-stock-calls-on-cnbc.html\n",
      "https://www.cnbc.com/christina-falso/\n",
      "https://www.cnbc.com/sustainable-future/\n",
      "https://www.cnbc.com/2023/01/12/the-world-is-at-the-dawn-of-a-new-industrial-age-iea-says-.html\n",
      "https://www.cnbc.com/2023/01/12/the-world-is-at-the-dawn-of-a-new-industrial-age-iea-says-.html\n",
      "https://www.cnbc.com/anmar-frangoul-profile--cnbc/\n",
      "https://www.cnbc.com/video/2023/01/13/the-body-shops-chris-davis-talks-recycling-and-the-circular-economy.html\n",
      "https://www.cnbc.com/video/2023/01/13/the-body-shops-chris-davis-talks-recycling-and-the-circular-economy.html\n",
      "https://www.cnbc.com/video/2022/12/29/carbon-disclosure-project-progress-slow-on-deforestation-water-security.html\n",
      "https://www.cnbc.com/video/2022/12/29/carbon-disclosure-project-progress-slow-on-deforestation-water-security.html\n",
      "https://www.cnbc.com/2022/11/20/cop27-new-global-climate-deal-struck-at-conference-in-egypt.html\n",
      "https://www.cnbc.com/2022/11/20/cop27-new-global-climate-deal-struck-at-conference-in-egypt.html\n",
      "https://www.cnbc.com/sam-meredith/\n",
      "https://www.cnbc.com/2022/11/18/indiscriminate-use-of-hydrogen-could-slow-energy-transition-report.html\n",
      "https://www.cnbc.com/2022/11/18/indiscriminate-use-of-hydrogen-could-slow-energy-transition-report.html\n",
      "https://www.cnbc.com/anmar-frangoul-profile--cnbc/\n",
      "https://www.cnbc.com/coronavirus/\n",
      "https://www.cnbc.com/2023/01/13/pfizer-covid-booster-likely-doesnt-carry-stroke-risk-for-seniors-cdc-says.html\n",
      "https://www.cnbc.com/2023/01/13/pfizer-covid-booster-likely-doesnt-carry-stroke-risk-for-seniors-cdc-says.html\n",
      "https://www.cnbc.com/spencer-kimball/\n",
      "https://www.cnbc.com/2023/01/13/us-uninsured-rate-fell-during-covid-pandemic-as-medicaid-and-obamacare-coverage-grew.html\n",
      "https://www.cnbc.com/2023/01/13/us-uninsured-rate-fell-during-covid-pandemic-as-medicaid-and-obamacare-coverage-grew.html\n",
      "https://www.cnbc.com/spencer-kimball/\n",
      "https://www.cnbc.com/2023/01/13/jpmorgan-chase-jpm-earnings-4q-2022.html\n",
      "https://www.cnbc.com/2023/01/13/jpmorgan-chase-jpm-earnings-4q-2022.html\n",
      "https://www.cnbc.com/hugh-son/\n",
      "https://www.cnbc.com/2023/01/13/singapore-covid-travel-rules-why-singapore-isnt-singling-china-out.html\n",
      "https://www.cnbc.com/2023/01/13/singapore-covid-travel-rules-why-singapore-isnt-singling-china-out.html\n",
      "https://www.cnbc.com/monica-pitrelli/\n",
      "https://www.cnbc.com/2023/01/12/measles-250000-kindergarteners-are-vulnerable-due-to-drop-in-vaccination-rate-.html\n",
      "https://www.cnbc.com/2023/01/12/measles-250000-kindergarteners-are-vulnerable-due-to-drop-in-vaccination-rate-.html\n",
      "https://www.cnbc.com/spencer-kimball/\n",
      "https://www.cnbc.com/cnbc-travel/\n",
      "https://www.cnbc.com/2023/01/13/singapore-covid-travel-rules-why-singapore-isnt-singling-china-out.html\n",
      "https://www.cnbc.com/2023/01/13/singapore-covid-travel-rules-why-singapore-isnt-singling-china-out.html\n",
      "https://www.cnbc.com/monica-pitrelli/\n",
      "https://www.cnbc.com/2023/01/11/south-korea-covid-rules-not-discriminatory-to-chinese-travelers.html\n",
      "https://www.cnbc.com/2023/01/11/south-korea-covid-rules-not-discriminatory-to-chinese-travelers.html\n",
      "https://www.cnbc.com/monica-pitrelli/\n",
      "https://www.cnbc.com/2023/01/10/covid-travel-rules-chinese-are-angry-at-south-korea-and-japan.html\n",
      "https://www.cnbc.com/2023/01/10/covid-travel-rules-chinese-are-angry-at-south-korea-and-japan.html\n",
      "https://www.cnbc.com/monica-pitrelli/\n",
      "https://www.cnbc.com/2022/12/23/how-do-christmas-traditions-vary-around-the-world-see-the-photos.html\n",
      "https://www.cnbc.com/2022/12/23/how-do-christmas-traditions-vary-around-the-world-see-the-photos.html\n",
      "https://www.cnbc.com/natalie-tham/\n",
      "https://www.cnbc.com/2022/12/22/what-to-make-for-christmas-dinner-it-depends-on-where-you-live.html\n",
      "https://www.cnbc.com/2022/12/22/what-to-make-for-christmas-dinner-it-depends-on-where-you-live.html\n",
      "https://www.cnbc.com/monica-pitrelli/\n",
      "https://www.cnbc.com/make-it/\n",
      "https://www.cnbc.com/2023/01/14/veganuary-3-ways-to-meet-your-protein-goals-on-a-plant-based-diet.html\n",
      "https://www.cnbc.com/2023/01/14/veganuary-3-ways-to-meet-your-protein-goals-on-a-plant-based-diet.html\n",
      "https://www.cnbc.com/renee-onque/\n",
      "https://www.cnbc.com/2023/01/14/best-performing-stocks-of-2022.html\n",
      "https://www.cnbc.com/2023/01/14/best-performing-stocks-of-2022.html\n",
      "https://www.cnbc.com/ryan-ermey-bio/\n",
      "https://www.cnbc.com/2023/01/14/side-hustles-for-introverts-some-can-bring-in-tens-of-thousands-.html\n",
      "https://www.cnbc.com/2023/01/14/side-hustles-for-introverts-some-can-bring-in-tens-of-thousands-.html\n",
      "https://www.cnbc.com/gili-malinsky-bio/\n",
      "https://www.cnbc.com/2023/01/14/powerball-odds-of-winning-jackpot.html\n",
      "https://www.cnbc.com/2023/01/14/powerball-odds-of-winning-jackpot.html\n",
      "https://www.cnbc.com/mike-winters/\n",
      "https://www.cnbc.com/2023/01/14/psychiatrist-from-netflix-doc-stutz-how-to-build-self-discipline.html\n",
      "https://www.cnbc.com/2023/01/14/psychiatrist-from-netflix-doc-stutz-how-to-build-self-discipline.html\n",
      "https://www.cnbc.com/megan-sauer/\n",
      "https://www.cnbc.com/investing-in-supertrends/\n",
      "https://www.cnbc.com/2022/08/18/web3-is-in-chaos-metaverses-in-walled-gardens-randi-zuckerberg.html\n",
      "https://www.cnbc.com/2022/08/18/web3-is-in-chaos-metaverses-in-walled-gardens-randi-zuckerberg.html\n",
      "https://www.cnbc.com/goh-chiew-tong/\n",
      "https://www.cnbc.com/2022/08/17/japan-support-for-nuclear-restart-is-highest-since-fukushima-disaster.html\n",
      "https://www.cnbc.com/2022/08/17/japan-support-for-nuclear-restart-is-highest-since-fukushima-disaster.html\n",
      "https://www.cnbc.com/lee-ying-shan/\n",
      "https://www.cnbc.com/2022/08/10/india-australia-singapore-firms-jobs-are-in-these-sectors-linkedin.html\n",
      "https://www.cnbc.com/2022/08/10/india-australia-singapore-firms-jobs-are-in-these-sectors-linkedin.html\n",
      "https://www.cnbc.com/charmaine-jacob/\n",
      "https://www.cnbc.com/2022/08/08/baidus-robotaxis-dont-need-any-human-staff-in-these-parts-of-china.html\n",
      "https://www.cnbc.com/2022/08/08/baidus-robotaxis-dont-need-any-human-staff-in-these-parts-of-china.html\n",
      "https://www.cnbc.com/evelyn-cheng/\n",
      "https://www.cnbc.com/2021/07/26/action-on-climate-change-can-boost-global-economy-economist-says.html\n",
      "https://www.cnbc.com/2021/07/26/action-on-climate-change-can-boost-global-economy-economist-says.html\n",
      "//www.cnbc.com\n",
      "//www.cnbc.com/application/pro/?__source=pro|globalfooter/\n",
      "//www.cnbc.com/cnbc-reprints/\n",
      "https://www.cnbccouncils.com/\n",
      "https://corporate.comcast.com/values/integrity\n",
      "https://www.peacocktv.com/?cid=20200101evergreensymdisp009&utm_source=cnbc&utm_medium=symphony_editorial_brandawareness_footerlink&utm_campaign=20200101evergreen&utm_term=na&utm_content=na_na/\n",
      "https://cnbcrsh.qualtrics.com/jfe/form/SV_8v2FqPLC71m5Gaq?Origin=cnbc\n",
      "//www.cnbc.com/digital-products/\n",
      "//www.cnbc.com/cnbc-news-releases/\n",
      "//www.cnbc.com/closed-captioning/\n",
      "//www.cnbc.com/corrections/\n",
      "//www.cnbc.com/about-cnbc-international/\n",
      "//www.cnbc.com/cnbc-internship-program/\n",
      "//www.cnbc.com/site-map/\n",
      "https://www.nbcuniversal.com/privacy/cookies#cookie_management\n",
      "//www.cnbc.com/cnbc-careers-and-employment/\n",
      "https://help.cnbc.com/\n",
      "https://help.cnbc.com/contact/\n",
      "https://www.facebook.com/cnbcinternational/c/\n",
      "https://www.twitter.com/cnbci?lang=en/\n",
      "https://www.linkedin.com/showcase/cnbc-international/\n",
      "https://www.instagram.com/cnbcinternational/?hl=en/\n",
      "https://www.youtube.com/user/CNBCInternational/\n",
      "https://apple.news/T3OtoXcxtRkuHRkM7SpFP_Q\n",
      "//www.cnbc.com/rss-feeds/\n",
      "//www.cnbc.com/news-tips/\n",
      "https://together.nbcuni.com/advertise/?utm_source=cnbc&utm_medium=referral&utm_campaign=property_ad_pages\n",
      "//www.cnbc.com/sign-up-for-cnbc-newsletters/\n",
      "https://www.nbcuniversal.com/privacy?intake=CNBC\n",
      "https://www.nbcuniversal.com/privacy/notrtoo?intake=CNBC\n",
      "https://www.nbcuniversal.com/privacy/california-consumer-privacy-act?intake=CNBC\n",
      "/nbcuniversal-terms-of-service/\n",
      "https://www.nbcuniversal.com\n",
      "/market-data-terms-of-service/\n",
      "//www.cnbc.com/market-data-terms-of-service/\n"
     ]
    }
   ],
   "source": [
    "#7iii\n",
    "soup = BeautifulSoup(npage.text, 'html.parser')\n",
    " \n",
    "urls = []\n",
    "for link in soup.find_all('a'):\n",
    "    print(link.get('href'))"
   ]
  },
  {
   "cell_type": "markdown",
   "id": "f3db70ed",
   "metadata": {},
   "source": [
    "# 8"
   ]
  },
  {
   "cell_type": "code",
   "execution_count": 51,
   "id": "ec17371c",
   "metadata": {},
   "outputs": [
    {
     "data": {
      "text/plain": [
       "['Reward is enough',\n",
       " 'Making sense of raw input',\n",
       " 'Law and logic: A review from an argumentation perspective',\n",
       " 'Creativity and artificial intelligence',\n",
       " 'Artificial cognition for social human–robot interaction: An implementation',\n",
       " 'Explanation in artificial intelligence: Insights from the social sciences',\n",
       " 'Making sense of sensory input',\n",
       " 'Conflict-based search for optimal multi-agent pathfinding',\n",
       " 'Between MDPs and semi-MDPs: A framework for temporal abstraction in reinforcement learning',\n",
       " 'The Hanabi challenge: A new frontier for AI research',\n",
       " 'Evaluating XAI: A comparison of rule-based and example-based explanations',\n",
       " 'Argumentation in artificial intelligence',\n",
       " 'Algorithms for computing strategies in two-player simultaneous move games',\n",
       " 'Multiple object tracking: A literature review',\n",
       " 'Selection of relevant features and examples in machine learning',\n",
       " 'A survey of inverse reinforcement learning: Challenges, methods and progress',\n",
       " 'Explaining individual predictions when features are dependent: More accurate approximations to Shapley values',\n",
       " 'A review of possible effects of cognitive biases on interpretation of rule-based machine learning models',\n",
       " 'Integrating social power into the decision-making of cognitive agents',\n",
       " \"“That's (not) the output I expected!” On the role of end user expectations in creating explanations of AI systems\",\n",
       " 'Explaining black-box classifiers using post-hoc explanations-by-example: The effect of explanations and error-rates in XAI user studies',\n",
       " 'Algorithm runtime prediction: Methods & evaluation',\n",
       " 'Wrappers for feature subset selection',\n",
       " 'Commonsense visual sensemaking for autonomous driving – On generalised neurosymbolic online abduction integrating vision and semantics',\n",
       " 'Quantum computation, quantum theory and AI']"
      ]
     },
     "execution_count": 51,
     "metadata": {},
     "output_type": "execute_result"
    }
   ],
   "source": [
    "#8\n",
    "tpage = requests.get('https://www.journals.elsevier.com/artificial-intelligence/most-downloaded-articles')\n",
    "soup=BeautifulSoup(tpage.content)\n",
    "#8i\n",
    "title=[]\n",
    "for i in soup.find_all('a',class_=\"sc-5smygv-0 fIXTHm\"):\n",
    "    title.append(i.text)\n",
    "    \n",
    "title"
   ]
  },
  {
   "cell_type": "code",
   "execution_count": 52,
   "id": "5ebbd343",
   "metadata": {},
   "outputs": [
    {
     "data": {
      "text/plain": [
       "['Silver, David, Singh, Satinder, Precup, Doina, Sutton, Richard S. ',\n",
       " 'Evans, Richard, Bošnjak, Matko and 5 more',\n",
       " 'Prakken, Henry, Sartor, Giovanni ',\n",
       " 'Boden, Margaret A. ',\n",
       " 'Lemaignan, Séverin, Warnier, Mathieu and 3 more',\n",
       " 'Miller, Tim ',\n",
       " 'Evans, Richard, Hernández-Orallo, José and 3 more',\n",
       " 'Sharon, Guni, Stern, Roni, Felner, Ariel, Sturtevant, Nathan R. ',\n",
       " 'Sutton, Richard S., Precup, Doina, Singh, Satinder ',\n",
       " 'Bard, Nolan, Foerster, Jakob N. and 13 more',\n",
       " 'van der Waa, Jasper, Nieuwburg, Elisabeth, Cremers, Anita, Neerincx, Mark ',\n",
       " 'Bench-Capon, T.J.M., Dunne, Paul E. ',\n",
       " 'Bošanský, Branislav, Lisý, Viliam and 3 more',\n",
       " 'Luo, Wenhan, Xing, Junliang and 4 more',\n",
       " 'Blum, Avrim L., Langley, Pat ',\n",
       " 'Arora, Saurabh, Doshi, Prashant ',\n",
       " 'Aas, Kjersti, Jullum, Martin, Løland, Anders ',\n",
       " 'Kliegr, Tomáš, Bahník, Štěpán, Fürnkranz, Johannes ',\n",
       " 'Pereira, Gonçalo, Prada, Rui, Santos, Pedro A. ',\n",
       " 'Riveiro, Maria, Thill, Serge ',\n",
       " 'Kenny, Eoin M., Ford, Courtney, Quinn, Molly, Keane, Mark T. ',\n",
       " 'Hutter, Frank, Xu, Lin, Hoos, Holger H., Leyton-Brown, Kevin ',\n",
       " 'Kohavi, Ron, John, George H. ',\n",
       " 'Suchan, Jakob, Bhatt, Mehul, Varadarajan, Srikrishna ',\n",
       " 'Ying, Mingsheng ']"
      ]
     },
     "execution_count": 52,
     "metadata": {},
     "output_type": "execute_result"
    }
   ],
   "source": [
    "#8ii\n",
    "author=[]\n",
    "for i in soup.find_all('span',class_=\"sc-1w3fpd7-0 dnCnAO\"):\n",
    "    author.append(i.text)\n",
    "    \n",
    "author"
   ]
  },
  {
   "cell_type": "code",
   "execution_count": 53,
   "id": "448b17e4",
   "metadata": {},
   "outputs": [
    {
     "data": {
      "text/plain": [
       "['October 2021',\n",
       " 'October 2021',\n",
       " 'October 2015',\n",
       " 'August 1998',\n",
       " 'June 2017',\n",
       " 'February 2019',\n",
       " 'April 2021',\n",
       " 'February 2015',\n",
       " 'August 1999',\n",
       " 'March 2020',\n",
       " 'February 2021',\n",
       " 'October 2007',\n",
       " 'August 2016',\n",
       " 'April 2021',\n",
       " 'December 1997',\n",
       " 'August 2021',\n",
       " 'September 2021',\n",
       " 'June 2021',\n",
       " 'December 2016',\n",
       " 'September 2021',\n",
       " 'May 2021',\n",
       " 'January 2014',\n",
       " 'December 1997',\n",
       " 'October 2021',\n",
       " 'February 2010']"
      ]
     },
     "execution_count": 53,
     "metadata": {},
     "output_type": "execute_result"
    }
   ],
   "source": [
    "#8iii\n",
    "date=[]\n",
    "for i in soup.find_all('span',class_=\"sc-1thf9ly-2 dvggWt\"):\n",
    "    date.append(i.text)\n",
    "    \n",
    "date"
   ]
  },
  {
   "cell_type": "code",
   "execution_count": 55,
   "id": "b4ac13f5",
   "metadata": {},
   "outputs": [
    {
     "name": "stdout",
     "output_type": "stream",
     "text": [
      "#skip-to-content-anchor\n",
      "http://www.elsevier.com\n",
      "https://account.elsevier.com/auth\n",
      "https://elsevier.com/about\n",
      "https://www.elsevier.com/connect\n",
      "https://www.elsevier.com/about/careers\n",
      "https://elsevier.com/about\n",
      "https://www.elsevier.com/connect\n",
      "https://www.elsevier.com/about/careers\n",
      "https://www.elsevier.com/rd-solutions\n",
      "https://www.elsevier.com/clinical-solutions\n",
      "https://www.elsevier.com/research-platforms\n",
      "https://www.elsevier.com/research-intelligence\n",
      "https://www.elsevier.com/education\n",
      "https://www.elsevier.com/solutions\n",
      "https://www.elsevier.com/rd-solutions\n",
      "https://www.elsevier.com/clinical-solutions\n",
      "https://www.elsevier.com/research-platforms\n",
      "https://www.elsevier.com/research-intelligence\n",
      "https://www.elsevier.com/education\n",
      "https://www.elsevier.com/solutions\n",
      "https://www.elsevier.com/authors\n",
      "https://www.elsevier.com/editors\n",
      "https://www.elsevier.com/reviewers\n",
      "https://www.elsevier.com/librarians\n",
      "https://www.elsevier.com/strategic-partners\n",
      "https://www.elsevier.com/open-access\n",
      "https://www.elsevier.com/societies\n",
      "https://www.elsevier.com/authors\n",
      "https://www.elsevier.com/editors\n",
      "https://www.elsevier.com/reviewers\n",
      "https://www.elsevier.com/librarians\n",
      "https://www.elsevier.com/strategic-partners\n",
      "https://www.elsevier.com/open-access\n",
      "https://www.elsevier.com/societies\n",
      "https://www.elsevier.com/books-and-journals\n",
      "https://webshop.elsevier.com/?utm_source=ecom&utm_medium=top&utm_campaign=webshop\n",
      "https://www.elsevier.com/books-and-journals\n",
      "https://webshop.elsevier.com/?utm_source=ecom&utm_medium=top&utm_campaign=webshop\n",
      "https://global-checkout.elsevier.com\n",
      "https://account.elsevier.com/auth\n",
      "https://www.sciencedirect.com/science/journal/00043702\n",
      "https://www.editorialmanager.com/artint/default.aspx\n",
      "https://www.elsevier.com/\n",
      "https://www.elsevier.com/search-results?labels=journals\n",
      "/artificial-intelligence\n",
      "/artificial-intelligence/most-downloaded-articles\n",
      "https://www.sciencedirect.com/science/journal/00043702\n",
      "https://www.editorialmanager.com/artint/default.aspx\n",
      "https://www.sciencedirect.com/science/journal/00043702\n",
      "https://www.elsevier.com/journals/artificial-intelligence/0004-3702/guide-for-authors\n",
      "https://www.editorialmanager.com/artint/default.aspx\n",
      "https://authors.elsevier.com/tracking/landingpage/selection.do\n",
      "https://www.elsevier.com/journals/artificial-intelligence/0004-3702/subscribe?subscriptiontype=institutional\n",
      "https://www.sciencedirect.com/science/article/pii/S0004370221000862\n",
      "https://www.sciencedirect.com/science/article/pii/S0004370221000722\n",
      "https://www.sciencedirect.com/science/article/pii/S0004370215000910\n",
      "https://www.sciencedirect.com/science/article/pii/S0004370298000551\n",
      "https://www.sciencedirect.com/science/article/pii/S0004370216300790\n",
      "https://www.sciencedirect.com/science/article/pii/S0004370218305988\n",
      "https://www.sciencedirect.com/science/article/pii/S0004370220301855\n",
      "https://www.sciencedirect.com/science/article/pii/S0004370214001386\n",
      "https://www.sciencedirect.com/science/article/pii/S0004370299000521\n",
      "https://www.sciencedirect.com/science/article/pii/S0004370219300116\n",
      "https://www.sciencedirect.com/science/article/pii/S0004370220301533\n",
      "https://www.sciencedirect.com/science/article/pii/S0004370207000793\n",
      "https://www.sciencedirect.com/science/article/pii/S0004370216300285\n",
      "https://www.sciencedirect.com/science/article/pii/S0004370220301958\n",
      "https://www.sciencedirect.com/science/article/pii/S0004370297000635\n",
      "https://www.sciencedirect.com/science/article/pii/S0004370221000515\n",
      "https://www.sciencedirect.com/science/article/pii/S0004370221000539\n",
      "https://www.sciencedirect.com/science/article/pii/S0004370221000096\n",
      "https://www.sciencedirect.com/science/article/pii/S0004370216300868\n",
      "https://www.sciencedirect.com/science/article/pii/S0004370221000588\n",
      "https://www.sciencedirect.com/science/article/pii/S0004370221000102\n",
      "https://www.sciencedirect.com/science/article/pii/S0004370213001082\n",
      "https://www.sciencedirect.com/science/article/pii/S000437029700043X\n",
      "https://www.sciencedirect.com/science/article/pii/S0004370221000734\n",
      "https://www.sciencedirect.com/science/article/pii/S0004370209001398\n",
      "https://www.sciencedirect.com/science/journal/00043702\n",
      "https://www.sciencedirect.com/user/alerts\n",
      "https://www.sciencedirect.com/user/register?utm_campaign=sd_recommender_ELSJLS&utm_channel=elseco&dgcid=sd_recommender_ELSJLS\n",
      "http://www.elsevier.com/authors/home\n",
      "https://www.editorialmanager.com/artint/default.aspx\n",
      "https://www.editorialmanager.com/artint/default.aspx\n",
      "https://researcheracademy.elsevier.com\n",
      "https://www.elsevier.com/about/policies/copyright/permissions\n",
      "https://webshop.elsevier.com\n",
      "https://service.elsevier.com/app/home/supporthub/publishing/#authors\n",
      "https://authors.elsevier.com/tracking/landingpage/selection.do\n",
      "https://www.elsevier.com/librarians\n",
      "https://www.elsevier.com/journals/artificial-intelligence/0004-3702/subscribe?subscriptiontype=institutional\n",
      "http://www.elsevier.com/editors\n",
      "http://www.elsevier.com/editors/perk\n",
      "https://www.elsevier.com/editors/guest-editors\n",
      "https://service.elsevier.com/app/home/supporthub/publishing/#editors\n",
      "http://www.elsevier.com/reviewers\n",
      "https://www.elsevier.com/reviewers/how-to-review\n",
      "https://www.editorialmanager.com/artint/default.aspx\n",
      "https://www.elsevier.com/reviewers/becoming-a-reviewer-how-and-why#recognizing\n",
      "https://service.elsevier.com/app/home/supporthub/publishing/#reviewers\n",
      "https://www.elsevier.com\n",
      "//www.elsevier.com/legal/elsevier-website-terms-and-conditions\n",
      "//www.elsevier.com/legal/privacy-policy\n",
      "//www.elsevier.com/legal/cookienotice\n",
      "//www.elsevier.com/sitemap\n",
      "https://www.relx.com/\n"
     ]
    }
   ],
   "source": [
    "soup = BeautifulSoup(tpage.text, 'html.parser')\n",
    "\n",
    "urls = []\n",
    "for link in soup.find_all('a'):\n",
    "    print(link.get('href'))"
   ]
  },
  {
   "cell_type": "markdown",
   "id": "dbef939d",
   "metadata": {},
   "source": [
    "# 9"
   ]
  },
  {
   "cell_type": "code",
   "execution_count": 56,
   "id": "e01f93e0",
   "metadata": {},
   "outputs": [
    {
     "data": {
      "text/plain": [
       "['Castle Barbeque',\n",
       " 'Jungle Jamboree',\n",
       " 'Cafe Knosh',\n",
       " 'Castle Barbeque',\n",
       " 'The Barbeque Company',\n",
       " 'India Grill',\n",
       " 'Delhi Barbeque',\n",
       " 'The Monarch - Bar Be Que Village',\n",
       " 'Indian Grill Room']"
      ]
     },
     "execution_count": 56,
     "metadata": {},
     "output_type": "execute_result"
    }
   ],
   "source": [
    "#9\n",
    "rpage = requests.get('https://www.dineout.co.in/delhi-restaurants/buffet-special')\n",
    "soup=BeautifulSoup(rpage.content)\n",
    "#9i\n",
    "name=[]\n",
    "for i in soup.find_all('a',class_=\"restnt-name ellipsis\"):\n",
    "    name.append(i.text)\n",
    "    \n",
    "name"
   ]
  },
  {
   "cell_type": "code",
   "execution_count": 57,
   "id": "fe7ca00b",
   "metadata": {},
   "outputs": [
    {
     "data": {
      "text/plain": [
       "[' Chinese, North Indian',\n",
       " ' North Indian, Asian, Italian',\n",
       " ' Italian, Continental',\n",
       " ' Chinese, North Indian',\n",
       " ' North Indian, Chinese',\n",
       " ' North Indian, Italian',\n",
       " ' North Indian',\n",
       " ' North Indian',\n",
       " ' North Indian, Mughlai']"
      ]
     },
     "execution_count": 57,
     "metadata": {},
     "output_type": "execute_result"
    }
   ],
   "source": [
    "#9ii\n",
    "cuisine=[]\n",
    "for i in soup.find_all('span',class_=\"double-line-ellipsis\"):\n",
    "    cuisine.append(i.text.split('|')[1])\n",
    "    \n",
    "cuisine"
   ]
  },
  {
   "cell_type": "code",
   "execution_count": 58,
   "id": "b631cedd",
   "metadata": {},
   "outputs": [
    {
     "data": {
      "text/plain": [
       "['Connaught Place, Central Delhi',\n",
       " '3CS Mall,Lajpat Nagar - 3, South Delhi',\n",
       " 'The Leela Ambience Convention Hotel,Shahdara, East Delhi',\n",
       " 'Pacific Mall,Tagore Garden, West Delhi',\n",
       " 'Gardens Galleria,Sector 38A, Noida',\n",
       " 'Hilton Garden Inn,Saket, South Delhi',\n",
       " 'Taurus Sarovar Portico,Mahipalpur, South Delhi',\n",
       " 'Indirapuram Habitat Centre,Indirapuram, Ghaziabad',\n",
       " 'Suncity Business Tower,Golf Course Road, Gurgaon']"
      ]
     },
     "execution_count": 58,
     "metadata": {},
     "output_type": "execute_result"
    }
   ],
   "source": [
    "#9iii\n",
    "location=[]\n",
    "for i in soup.find_all('div',class_=\"restnt-loc ellipsis\"):\n",
    "    location.append(i.text)\n",
    "    \n",
    "location"
   ]
  },
  {
   "cell_type": "code",
   "execution_count": 59,
   "id": "76eafdeb",
   "metadata": {},
   "outputs": [
    {
     "data": {
      "text/plain": [
       "['4.1', '3.9', '4.3', '3.9', '4', '3.9', '3.6', '3.8', '4.3']"
      ]
     },
     "execution_count": 59,
     "metadata": {},
     "output_type": "execute_result"
    }
   ],
   "source": [
    "#9iv\n",
    "rating=[]\n",
    "for i in soup.find_all('div',class_=\"restnt-rating rating-4\"):\n",
    "    rating.append(i.text)\n",
    "    \n",
    "rating"
   ]
  },
  {
   "cell_type": "code",
   "execution_count": 60,
   "id": "8f872140",
   "metadata": {},
   "outputs": [
    {
     "data": {
      "text/plain": [
       "['https://im1.dineout.co.in/images/uploads/restaurant/sharpen/8/k/b/p86792-16062953735fbe1f4d3fb7e.jpg?tr=tr:n-medium',\n",
       " 'https://im1.dineout.co.in/images/uploads/restaurant/sharpen/5/p/m/p59633-166088382462ff137009010.jpg?tr=tr:n-medium',\n",
       " 'https://im1.dineout.co.in/images/uploads/restaurant/sharpen/4/p/m/p406-15438184745c04ccea491bc.jpg?tr=tr:n-medium',\n",
       " 'https://im1.dineout.co.in/images/uploads/restaurant/sharpen/3/j/o/p38113-15959192065f1fcb666130c.jpg?tr=tr:n-medium',\n",
       " 'https://im1.dineout.co.in/images/uploads/restaurant/sharpen/7/p/k/p79307-16051787755fad1597f2bf9.jpg?tr=tr:n-medium',\n",
       " 'https://im1.dineout.co.in/images/uploads/restaurant/sharpen/2/v/t/p2687-1482477169585cce712b90f.jpg?tr=tr:n-medium',\n",
       " 'https://im1.dineout.co.in/images/uploads/restaurant/sharpen/5/d/i/p52501-1661855212630de5eceb6d2.jpg?tr=tr:n-medium',\n",
       " 'https://im1.dineout.co.in/images/uploads/restaurant/sharpen/3/n/o/p34822-15599107305cfa594a13c24.jpg?tr=tr:n-medium',\n",
       " 'https://im1.dineout.co.in/images/uploads/restaurant/sharpen/5/y/f/p549-165000147262590640c0afc.jpg?tr=tr:n-medium']"
      ]
     },
     "execution_count": 60,
     "metadata": {},
     "output_type": "execute_result"
    }
   ],
   "source": [
    "#9v\n",
    "images=[]\n",
    "for i in soup.find_all('img',class_=\"no-img\"):\n",
    "    images.append(i.get('data-src'))\n",
    "    \n",
    "images"
   ]
  },
  {
   "cell_type": "code",
   "execution_count": null,
   "id": "ab0c38db",
   "metadata": {},
   "outputs": [],
   "source": []
  }
 ],
 "metadata": {
  "kernelspec": {
   "display_name": "Python 3 (ipykernel)",
   "language": "python",
   "name": "python3"
  },
  "language_info": {
   "codemirror_mode": {
    "name": "ipython",
    "version": 3
   },
   "file_extension": ".py",
   "mimetype": "text/x-python",
   "name": "python",
   "nbconvert_exporter": "python",
   "pygments_lexer": "ipython3",
   "version": "3.9.12"
  }
 },
 "nbformat": 4,
 "nbformat_minor": 5
}
