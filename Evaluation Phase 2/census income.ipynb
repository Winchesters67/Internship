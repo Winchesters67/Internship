{
 "cells": [
  {
   "cell_type": "code",
   "execution_count": null,
   "id": "063f2fe2",
   "metadata": {},
   "outputs": [],
   "source": [
    "import pandas as pd\n",
    "import matplotlib.pyplot as plt\n",
    "import pickle\n",
    "%matplotlib inline\n",
    "import numpy as np\n",
    "from sklearn.preprocessing import StandardScaler\n",
    "from sklearn.linear_model import LinearRegression\n",
    "from sklearn.model_selection import train_test_split\n",
    "import seaborn as sns\n",
    "import pickle\n",
    "import warnings\n",
    "warnings.filterwarnings('ignore')\n",
    "from statsmodels.stats.outliers_influence import variance_inflation_factor\n",
    "from sklearn.metrics import accuracy_score, confusion_matrix,roc_curve,roc_auc_score\n",
    "from sklearn.tree import DecisionTreeClassifier\n",
    "\n",
    "from sklearn.preprocessing import StandardScaler\n",
    "from sklearn.neighbors import KNeighborsClassifier\n",
    "from sklearn.model_selection import train_test_split,GridSearchCV\n",
    "from sklearn.metrics import classification_report"
   ]
  },
  {
   "cell_type": "code",
   "execution_count": null,
   "id": "5a3c4ddb",
   "metadata": {},
   "outputs": [],
   "source": [
    "data=pd.read_csv('census_income.csv')\n",
    "data.head()"
   ]
  },
  {
   "cell_type": "code",
   "execution_count": null,
   "id": "e035d502",
   "metadata": {},
   "outputs": [],
   "source": [
    "data.shape"
   ]
  },
  {
   "cell_type": "code",
   "execution_count": null,
   "id": "5ac1608b",
   "metadata": {},
   "outputs": [],
   "source": [
    "data.describe()"
   ]
  },
  {
   "cell_type": "code",
   "execution_count": null,
   "id": "aa683eaa",
   "metadata": {},
   "outputs": [],
   "source": [
    "data.isna().sum()"
   ]
  },
  {
   "cell_type": "code",
   "execution_count": null,
   "id": "a2dbfc58",
   "metadata": {
    "scrolled": false
   },
   "outputs": [],
   "source": [
    "data.info()"
   ]
  },
  {
   "cell_type": "markdown",
   "id": "2b74150c",
   "metadata": {},
   "source": [
    "There are few Object datatype features, so encoding is required"
   ]
  },
  {
   "cell_type": "code",
   "execution_count": null,
   "id": "da8df1f2",
   "metadata": {},
   "outputs": [],
   "source": [
    "print(data['Workclass'].value_counts().sort_values())"
   ]
  },
  {
   "cell_type": "code",
   "execution_count": null,
   "id": "b2e09beb",
   "metadata": {},
   "outputs": [],
   "source": [
    "print(data['Education'].value_counts().sort_values())"
   ]
  },
  {
   "cell_type": "code",
   "execution_count": null,
   "id": "f27ebcb4",
   "metadata": {},
   "outputs": [],
   "source": [
    "print(data['Marital_status'].value_counts().sort_values())"
   ]
  },
  {
   "cell_type": "code",
   "execution_count": null,
   "id": "cd7c5004",
   "metadata": {},
   "outputs": [],
   "source": [
    "print(data['Occupation'].value_counts().sort_values())"
   ]
  },
  {
   "cell_type": "code",
   "execution_count": null,
   "id": "c4db846d",
   "metadata": {},
   "outputs": [],
   "source": [
    "print(data['Relationship'].value_counts().sort_values())"
   ]
  },
  {
   "cell_type": "code",
   "execution_count": null,
   "id": "7fde0ef3",
   "metadata": {},
   "outputs": [],
   "source": [
    "print(data['Race'].value_counts().sort_values())"
   ]
  },
  {
   "cell_type": "code",
   "execution_count": null,
   "id": "32cf450b",
   "metadata": {},
   "outputs": [],
   "source": [
    "print(data['Sex'].value_counts().sort_values())"
   ]
  },
  {
   "cell_type": "code",
   "execution_count": null,
   "id": "a5cf1ae4",
   "metadata": {},
   "outputs": [],
   "source": [
    "print(data['Native_country'].value_counts().sort_values())"
   ]
  },
  {
   "cell_type": "code",
   "execution_count": null,
   "id": "f7d4ce7f",
   "metadata": {},
   "outputs": [],
   "source": [
    "print(data['Income'].value_counts().sort_values())"
   ]
  },
  {
   "cell_type": "markdown",
   "id": "5e600473",
   "metadata": {},
   "source": [
    "Some features have \"?\" in their data. Based on dataset, it would be harful to use imputation to replace ?, so before encoding, we must remove the lines for Occupation and Workclass.\n",
    "For \"?\" in Country, we can replace it with other and encode it"
   ]
  },
  {
   "cell_type": "code",
   "execution_count": null,
   "id": "069447f0",
   "metadata": {},
   "outputs": [],
   "source": []
  },
  {
   "cell_type": "code",
   "execution_count": null,
   "id": "3040722d",
   "metadata": {},
   "outputs": [],
   "source": []
  },
  {
   "cell_type": "code",
   "execution_count": null,
   "id": "aeedf71e",
   "metadata": {},
   "outputs": [],
   "source": [
    "from sklearn.preprocessing import LabelEncoder\n",
    "lab_enc=LabelEncoder()"
   ]
  },
  {
   "cell_type": "code",
   "execution_count": null,
   "id": "bbd25c86",
   "metadata": {},
   "outputs": [],
   "source": [
    "df=lab_enc.fit_transform(data['Workclass'])\n",
    "pd.Series(df)\n",
    "data['Workclass']=df\n",
    "df=lab_enc.fit_transform(data['Education'])\n",
    "pd.Series(df)\n",
    "data['Education']=df\n",
    "df=lab_enc.fit_transform(data['Marital_status'])\n",
    "pd.Series(df)\n",
    "data['Marital_status']=df\n",
    "df=lab_enc.fit_transform(data['Occupation'])\n",
    "pd.Series(df)\n",
    "data['Occupation']=df\n",
    "df=lab_enc.fit_transform(data['Relationship'])\n",
    "pd.Series(df)\n",
    "data['Relationship']=df\n",
    "df=lab_enc.fit_transform(data['Race'])\n",
    "pd.Series(df)\n",
    "data['Race']=df\n",
    "df=lab_enc.fit_transform(data['Sex'])\n",
    "pd.Series(df)\n",
    "data['Sex']=df\n",
    "df=lab_enc.fit_transform(data['Native_country'])\n",
    "pd.Series(df)\n",
    "data['Native_country']=df\n",
    "df=lab_enc.fit_transform(data['Income'])\n",
    "pd.Series(df)\n",
    "data['Income']=df"
   ]
  },
  {
   "cell_type": "code",
   "execution_count": null,
   "id": "392f2414",
   "metadata": {},
   "outputs": [],
   "source": [
    "data.describe()"
   ]
  },
  {
   "cell_type": "code",
   "execution_count": null,
   "id": "ed50c894",
   "metadata": {},
   "outputs": [],
   "source": [
    "data"
   ]
  },
  {
   "cell_type": "code",
   "execution_count": null,
   "id": "0dbba38b",
   "metadata": {},
   "outputs": [],
   "source": [
    "plt.figure(figsize=(25,25),facecolor='white')\n",
    "p=1\n",
    "for column in data:\n",
    "    if p <=15:\n",
    "        ax=plt.subplot(3,5,p)\n",
    "        sns.distplot(data[column])\n",
    "        plt.xlabel(column,fontsize=20)\n",
    "    p+=1\n",
    "plt.tight_layout()"
   ]
  },
  {
   "cell_type": "code",
   "execution_count": null,
   "id": "ffc7d363",
   "metadata": {},
   "outputs": [],
   "source": [
    "y=data['Income']\n",
    "x=data.drop(columns=['Income'])"
   ]
  },
  {
   "cell_type": "code",
   "execution_count": null,
   "id": "12aa53b0",
   "metadata": {},
   "outputs": [],
   "source": [
    "plt.figure(figsize=(25,25),facecolor='white')\n",
    "plotnumber=1\n",
    "for column in x:\n",
    "    if plotnumber<=15:\n",
    "        ax=plt.subplot(4,4,plotnumber)\n",
    "        plt.scatter(x[column],y)\n",
    "        plt.xlabel(column,fontsize=20)\n",
    "        plt.ylabel('Income',fontsize=20)\n",
    "    plotnumber+=1\n",
    "plt.tight_layout()"
   ]
  },
  {
   "cell_type": "code",
   "execution_count": null,
   "id": "a1428c12",
   "metadata": {},
   "outputs": [],
   "source": [
    "data_corr=data.corr().abs()\n",
    "plt.figure(figsize=(20,20))\n",
    "sns.heatmap(data_corr,annot=True,annot_kws={'size':10})\n",
    "plt.show"
   ]
  },
  {
   "cell_type": "markdown",
   "id": "72df7818",
   "metadata": {},
   "source": [
    "Since Education is already taken under Education_Num, and has weaker relation with income, so it can be exluded"
   ]
  },
  {
   "cell_type": "code",
   "execution_count": null,
   "id": "e7ebf577",
   "metadata": {},
   "outputs": [],
   "source": []
  },
  {
   "cell_type": "code",
   "execution_count": null,
   "id": "3df1bba8",
   "metadata": {},
   "outputs": [],
   "source": [
    "from sklearn.feature_selection import SelectKBest,f_classif"
   ]
  },
  {
   "cell_type": "code",
   "execution_count": null,
   "id": "82db3bc0",
   "metadata": {},
   "outputs": [],
   "source": [
    "best_features=SelectKBest(score_func=f_classif,k='all')\n",
    "\n",
    "fit=best_features.fit(x,y)\n",
    "\n",
    "data_scores=pd.DataFrame(fit.scores_)\n",
    "\n",
    "data_columns=pd.DataFrame(x.columns)\n",
    "\n",
    "feature_scores=pd.concat([data_columns,data_scores],axis=1)\n",
    "\n",
    "feature_scores.columns=['Feature_Name','Score']\n",
    "\n",
    "print(feature_scores.nlargest(13,'Score'))"
   ]
  },
  {
   "cell_type": "code",
   "execution_count": null,
   "id": "e691eac4",
   "metadata": {},
   "outputs": [],
   "source": [
    "plt.figure(figsize=(15,15),facecolor='white')\n",
    "plotnumber=1\n",
    "for column in x:\n",
    "    if plotnumber<=16:\n",
    "        ax=plt.subplot(4,4,plotnumber)\n",
    "        sns.lineplot(x='Income',y=column,data=data)\n",
    "        plt.xlabel('Income',fontsize=10)\n",
    "        plt.ylabel(column,fontsize=10)\n",
    "    plotnumber+=1\n",
    "plt.tight_layout()"
   ]
  },
  {
   "cell_type": "code",
   "execution_count": null,
   "id": "72d1f581",
   "metadata": {},
   "outputs": [],
   "source": [
    "plt.figure(figsize=(15,15))\n",
    "plotno=1\n",
    "for column in x:\n",
    "    if plotno<=16:\n",
    "        ax=plt.subplot(4,4,plotno)\n",
    "        sns.stripplot(y,x[column])\n",
    "    plotno+=1\n",
    "plt.show()"
   ]
  },
  {
   "cell_type": "markdown",
   "id": "6a303a79",
   "metadata": {},
   "source": [
    "Based on heatmap, selectk best feature, and lineplot we can determine which features have best relation with Attrition"
   ]
  },
  {
   "cell_type": "code",
   "execution_count": null,
   "id": "195ad56b",
   "metadata": {},
   "outputs": [],
   "source": [
    "y=data['Income']\n",
    "x=data[['Education_num','Relationship','Age','Hours_per_week','Capital_gain','Sex','Marital_status','Capital_loss','Occupation','Race','Workclass','Native_country']]"
   ]
  },
  {
   "cell_type": "code",
   "execution_count": null,
   "id": "d61087c3",
   "metadata": {},
   "outputs": [],
   "source": [
    "plt.figure(figsize=(20,20),facecolor='red')\n",
    "plotno=1\n",
    "for column in x:\n",
    "    if plotno<=14:\n",
    "        ax=plt.subplot(3,4,plotno)\n",
    "        sns.boxplot(data=x[column])\n",
    "        plt.xlabel(column,fontsize=12)\n",
    "    plotno+=1\n",
    "plt.show()"
   ]
  },
  {
   "cell_type": "markdown",
   "id": "73e77924",
   "metadata": {},
   "source": [
    "Outliers are present for many features, but they can be understood based om the features type"
   ]
  },
  {
   "cell_type": "code",
   "execution_count": null,
   "id": "ab4bd0a3",
   "metadata": {},
   "outputs": [],
   "source": [
    "scaler=StandardScaler()\n",
    "x_scaled=scaler.fit_transform(x)\n",
    "x_train,x_test,y_train,y_test=train_test_split(x_scaled,y,test_size=0.17,random_state=333)"
   ]
  },
  {
   "cell_type": "code",
   "execution_count": null,
   "id": "ca923a32",
   "metadata": {},
   "outputs": [],
   "source": [
    "def metric_score(clf,x_train,x_test,y_train,y_test,train=True):\n",
    "    if train:\n",
    "        y_pred=clf.predict(x_train)\n",
    "        print('\\n----Train result----')\n",
    "        print(f'Accuracy Score:{accuracy_score(y_train,y_pred)*100:.2f}%')\n",
    "        \n",
    "    elif train==False:\n",
    "        pred=clf.predict(x_test)\n",
    "        print('\\n----Test result----')\n",
    "        print(f'Accuracy Score:{accuracy_score(y_test,pred)*100:.2f}%')\n",
    "\n",
    "        print('\\n\\n Test Classification report \\n',classification_report(y_test,pred,digits=2))"
   ]
  },
  {
   "cell_type": "code",
   "execution_count": null,
   "id": "21d80024",
   "metadata": {},
   "outputs": [],
   "source": [
    "knn=KNeighborsClassifier()\n",
    "knn.fit(x_train,y_train)"
   ]
  },
  {
   "cell_type": "code",
   "execution_count": null,
   "id": "98cfe230",
   "metadata": {},
   "outputs": [],
   "source": [
    "metric_score(knn,x_train,x_test,y_train,y_test,train=True)\n",
    "metric_score(knn,x_train,x_test,y_train,y_test,train=False)"
   ]
  },
  {
   "cell_type": "code",
   "execution_count": null,
   "id": "bcc61ba7",
   "metadata": {},
   "outputs": [],
   "source": [
    "from sklearn.linear_model import LogisticRegression\n",
    "log_reg=LogisticRegression()\n",
    "log_reg.fit(x_train,y_train)"
   ]
  },
  {
   "cell_type": "code",
   "execution_count": null,
   "id": "87e6e535",
   "metadata": {},
   "outputs": [],
   "source": [
    "metric_score(log_reg,x_train,x_test,y_train,y_test,train=True)\n",
    "metric_score(log_reg,x_train,x_test,y_train,y_test,train=False)"
   ]
  },
  {
   "cell_type": "code",
   "execution_count": null,
   "id": "a2644192",
   "metadata": {},
   "outputs": [],
   "source": [
    "from sklearn.ensemble import BaggingClassifier"
   ]
  },
  {
   "cell_type": "code",
   "execution_count": null,
   "id": "c75cb250",
   "metadata": {},
   "outputs": [],
   "source": [
    "bag_knn=BaggingClassifier(KNeighborsClassifier(n_neighbors=9),\n",
    "                          n_estimators=6,max_samples=0.75,\n",
    "                          bootstrap=True,random_state=366,oob_score=True)"
   ]
  },
  {
   "cell_type": "code",
   "execution_count": null,
   "id": "c22ba6d3",
   "metadata": {},
   "outputs": [],
   "source": [
    "bag_knn.fit(x_train,y_train)"
   ]
  },
  {
   "cell_type": "code",
   "execution_count": null,
   "id": "48672279",
   "metadata": {},
   "outputs": [],
   "source": [
    "metric_score(bag_knn,x_train,x_test,y_train,y_test,train=True)\n",
    "metric_score(bag_knn,x_train,x_test,y_train,y_test,train=False)"
   ]
  },
  {
   "cell_type": "code",
   "execution_count": null,
   "id": "d97e7770",
   "metadata": {},
   "outputs": [],
   "source": [
    "from sklearn.ensemble import RandomForestClassifier"
   ]
  },
  {
   "cell_type": "code",
   "execution_count": null,
   "id": "d404fc53",
   "metadata": {},
   "outputs": [],
   "source": [
    "rnd_clf=RandomForestClassifier()\n",
    "rnd_clf.fit(x_train,y_train)"
   ]
  },
  {
   "cell_type": "code",
   "execution_count": null,
   "id": "26149672",
   "metadata": {},
   "outputs": [],
   "source": [
    "metric_score(rnd_clf,x_train,x_test,y_train,y_test,train=True)\n",
    "metric_score(rnd_clf,x_train,x_test,y_train,y_test,train=False)"
   ]
  },
  {
   "cell_type": "markdown",
   "id": "3f0efcc9",
   "metadata": {},
   "source": [
    "Based on the accuracy scores of several models, Bag KNN has closest Train and Test result, the difference in bagknn model's train and test is smallest"
   ]
  },
  {
   "cell_type": "markdown",
   "id": "dfddc46b",
   "metadata": {},
   "source": [
    "So we will move forward with Bagging - KNN model"
   ]
  },
  {
   "cell_type": "code",
   "execution_count": null,
   "id": "e73abaca",
   "metadata": {},
   "outputs": [],
   "source": [
    "from sklearn.model_selection import KFold,cross_val_score"
   ]
  },
  {
   "cell_type": "code",
   "execution_count": null,
   "id": "e8438f8f",
   "metadata": {},
   "outputs": [],
   "source": [
    "cross_val_score(bag_knn,x_scaled,y,cv=5)"
   ]
  },
  {
   "cell_type": "code",
   "execution_count": null,
   "id": "1c834cc7",
   "metadata": {},
   "outputs": [],
   "source": [
    "from sklearn.model_selection import GridSearchCV"
   ]
  },
  {
   "cell_type": "code",
   "execution_count": null,
   "id": "bd3926c1",
   "metadata": {},
   "outputs": [],
   "source": [
    "param_grid = {\n",
    "    'base_estimator__n_neighbors' : [1, 2, 3, 4, 5],\n",
    "    'max_samples' : [0.05, 0.1, 0.2, 0.5]}\n",
    "\n",
    "grid_search = GridSearchCV(BaggingClassifier(KNeighborsClassifier(),n_estimators = 9, max_features = 12),param_grid)\n",
    "grid_search.fit(x_train, y_train)"
   ]
  },
  {
   "cell_type": "code",
   "execution_count": null,
   "id": "89f227f8",
   "metadata": {},
   "outputs": [],
   "source": [
    "best_parameters=grid_search.best_params_\n",
    "print(best_parameters)"
   ]
  },
  {
   "cell_type": "code",
   "execution_count": null,
   "id": "16b92247",
   "metadata": {},
   "outputs": [],
   "source": [
    "bag_knn=BaggingClassifier(KNeighborsClassifier({'base_estimator__n_neighbors': 5, 'max_samples': 0.2}))"
   ]
  },
  {
   "cell_type": "code",
   "execution_count": null,
   "id": "ca46365c",
   "metadata": {},
   "outputs": [],
   "source": [
    "bag_knn.fit(x_train,y_train)"
   ]
  },
  {
   "cell_type": "code",
   "execution_count": null,
   "id": "21985747",
   "metadata": {},
   "outputs": [],
   "source": [
    "metric_score(bag_knn,x_train,x_test,y_train,y_test,train=True)\n",
    "metric_score(bag_knn,x_train,x_test,y_train,y_test,train=False)"
   ]
  },
  {
   "cell_type": "markdown",
   "id": "8c48128f",
   "metadata": {},
   "source": [
    "Score did not improve so we'll use original Bagging KNNeighbors model"
   ]
  },
  {
   "cell_type": "code",
   "execution_count": null,
   "id": "994a7fd7",
   "metadata": {},
   "outputs": [],
   "source": [
    "bag_knn=BaggingClassifier(KNeighborsClassifier(n_neighbors=9),\n",
    "                          n_estimators=6,max_samples=0.75,\n",
    "                          bootstrap=True,random_state=366,oob_score=True)\n",
    "\n",
    "bag_knn.fit(x_train,y_train)"
   ]
  },
  {
   "cell_type": "code",
   "execution_count": null,
   "id": "b5dc55a7",
   "metadata": {},
   "outputs": [],
   "source": [
    "metric_score(bag_knn,x_train,x_test,y_train,y_test,train=True)\n",
    "metric_score(bag_knn,x_train,x_test,y_train,y_test,train=False)"
   ]
  },
  {
   "cell_type": "code",
   "execution_count": null,
   "id": "91b13c95",
   "metadata": {},
   "outputs": [],
   "source": [
    "pickle.dump(bag_knn,open('Census Income','wb'))"
   ]
  }
 ],
 "metadata": {
  "kernelspec": {
   "display_name": "Python 3 (ipykernel)",
   "language": "python",
   "name": "python3"
  },
  "language_info": {
   "codemirror_mode": {
    "name": "ipython",
    "version": 3
   },
   "file_extension": ".py",
   "mimetype": "text/x-python",
   "name": "python",
   "nbconvert_exporter": "python",
   "pygments_lexer": "ipython3",
   "version": "3.9.12"
  }
 },
 "nbformat": 4,
 "nbformat_minor": 5
}
