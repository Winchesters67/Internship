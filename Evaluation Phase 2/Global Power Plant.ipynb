{
 "cells": [
  {
   "cell_type": "code",
   "execution_count": null,
   "id": "063f2fe2",
   "metadata": {},
   "outputs": [],
   "source": [
    "import pandas as pd\n",
    "import matplotlib.pyplot as plt\n",
    "import pickle\n",
    "%matplotlib inline\n",
    "import numpy as np\n",
    "from sklearn.preprocessing import StandardScaler\n",
    "from sklearn.linear_model import LinearRegression\n",
    "from sklearn.model_selection import train_test_split\n",
    "import seaborn as sns\n",
    "import pickle\n",
    "import warnings\n",
    "warnings.filterwarnings('ignore')\n",
    "from statsmodels.stats.outliers_influence import variance_inflation_factor\n",
    "from sklearn.metrics import accuracy_score, confusion_matrix,roc_curve,roc_auc_score\n",
    "from sklearn.tree import DecisionTreeClassifier\n",
    "from sklearn.preprocessing import LabelEncoder\n",
    "from sklearn.preprocessing import StandardScaler\n",
    "from sklearn.neighbors import KNeighborsClassifier\n",
    "from sklearn.model_selection import train_test_split,GridSearchCV\n",
    "from sklearn.metrics import classification_report"
   ]
  },
  {
   "cell_type": "code",
   "execution_count": null,
   "id": "5a3c4ddb",
   "metadata": {},
   "outputs": [],
   "source": [
    "data=pd.read_csv('database_IND.csv')\n",
    "data.head()"
   ]
  },
  {
   "cell_type": "code",
   "execution_count": null,
   "id": "e035d502",
   "metadata": {},
   "outputs": [],
   "source": [
    "data.shape"
   ]
  },
  {
   "cell_type": "code",
   "execution_count": null,
   "id": "a2dbfc58",
   "metadata": {},
   "outputs": [],
   "source": [
    "data.info()"
   ]
  },
  {
   "cell_type": "code",
   "execution_count": null,
   "id": "67839ec8",
   "metadata": {},
   "outputs": [],
   "source": [
    "data.describe()"
   ]
  },
  {
   "cell_type": "code",
   "execution_count": null,
   "id": "de3117dd",
   "metadata": {
    "scrolled": false
   },
   "outputs": [],
   "source": [
    "data.isna().sum()"
   ]
  },
  {
   "cell_type": "markdown",
   "id": "9ac792d2",
   "metadata": {},
   "source": [
    "The Null vlues in 'other_fuel1','other_fuel2','other_fuel3','commissioning_year','wepp_id',\n",
    "'year_of_capacity_data','generation_gwh_2013','generation_gwh_2014','generation_gwh_2015','generation_gwh_2016',\n",
    "'generation_gwh_2017','generation_gwh_2018','generation_gwh_2019','generation_data_source','estimated_generation_gwh' are too much"
   ]
  },
  {
   "cell_type": "markdown",
   "id": "bbaa8063",
   "metadata": {},
   "source": [
    "we cannot impute them all."
   ]
  },
  {
   "cell_type": "markdown",
   "id": "d168c139",
   "metadata": {},
   "source": [
    "And some columns are irrelevant to model building as they dont provide any real data. they have to be deleted"
   ]
  },
  {
   "cell_type": "markdown",
   "id": "d599ece1",
   "metadata": {},
   "source": [
    "To be deleted - country, country_long, name, source, url for not offering any real numerical or categorically useful data.\n",
    "Also wepp_id, generation_gwh_2013, estimated_generation_gwh, other_fuel2, other_fuel3 as theyre fully blank features"
   ]
  },
  {
   "cell_type": "code",
   "execution_count": null,
   "id": "3ae4a897",
   "metadata": {},
   "outputs": [],
   "source": [
    "data=data.drop(columns=['country','country_long','name','source','url','wepp_id','generation_gwh_2013','estimated_generation_gwh','other_fuel2','other_fuel3','generation_gwh_2019'],axis=1)"
   ]
  },
  {
   "cell_type": "code",
   "execution_count": null,
   "id": "4082e62a",
   "metadata": {},
   "outputs": [],
   "source": [
    "data.shape"
   ]
  },
  {
   "cell_type": "code",
   "execution_count": null,
   "id": "ddcdb6aa",
   "metadata": {},
   "outputs": [],
   "source": [
    "data.isna().sum()"
   ]
  },
  {
   "cell_type": "code",
   "execution_count": null,
   "id": "a37b9b11",
   "metadata": {},
   "outputs": [],
   "source": [
    "data['latitude']=data['latitude'].fillna(0)\n",
    "data['longitude']=data['longitude'].fillna(0)\n",
    "data['other_fuel1']=data['other_fuel1'].fillna('a')\n",
    "data['commissioning_year']=data['commissioning_year'].fillna(0)\n",
    "data['owner']=data['owner'].fillna('a')\n",
    "data['geolocation_source']=data['geolocation_source'].fillna('a')\n",
    "data['year_of_capacity_data']=data['year_of_capacity_data'].fillna(0)\n",
    "data['generation_gwh_2014']=data['generation_gwh_2014'].fillna(0)\n",
    "data['generation_gwh_2015']=data['generation_gwh_2015'].fillna(0)\n",
    "data['generation_gwh_2016']=data['generation_gwh_2016'].fillna(0)\n",
    "data['generation_gwh_2017']=data['generation_gwh_2017'].fillna(0)\n",
    "data['generation_gwh_2018']=data['generation_gwh_2018'].fillna(0)\n",
    "data['generation_data_source']=data['generation_data_source'].fillna('a')"
   ]
  },
  {
   "cell_type": "code",
   "execution_count": null,
   "id": "71e72aea",
   "metadata": {},
   "outputs": [],
   "source": [
    "data.isna().sum()"
   ]
  },
  {
   "cell_type": "code",
   "execution_count": null,
   "id": "78cd820d",
   "metadata": {},
   "outputs": [],
   "source": [
    "data.info()"
   ]
  },
  {
   "cell_type": "code",
   "execution_count": null,
   "id": "61540dbb",
   "metadata": {},
   "outputs": [],
   "source": [
    "lab_enc=LabelEncoder()"
   ]
  },
  {
   "cell_type": "code",
   "execution_count": null,
   "id": "51f737ad",
   "metadata": {},
   "outputs": [],
   "source": [
    "data.rename(columns={'other_fuel1':'otherfuel'}, inplace= True)"
   ]
  },
  {
   "cell_type": "code",
   "execution_count": null,
   "id": "18d844fe",
   "metadata": {},
   "outputs": [],
   "source": [
    "df=lab_enc.fit_transform(data['gppd_idnr'])\n",
    "pd.Series(df)\n",
    "data['gppd_idnr']=df\n",
    "df=lab_enc.fit_transform(data['primary_fuel'])\n",
    "pd.Series(df)\n",
    "data['primary_fuel']=df\n",
    "df=lab_enc.fit_transform(data['other_fuel1'])\n",
    "pd.Series(df)\n",
    "data['other_fuel1']=df\n",
    "df=lab_enc.fit_transform(data['owner'])\n",
    "pd.Series(df)\n",
    "data['owner']=df\n",
    "df=lab_enc.fit_transform(data['geolocation_source'])\n",
    "pd.Series(df)\n",
    "data['geolocation_source']=df\n",
    "df=lab_enc.fit_transform(data['generation_data_source'])\n",
    "pd.Series(df)\n",
    "data['generation_data_source']=df"
   ]
  },
  {
   "cell_type": "code",
   "execution_count": null,
   "id": "596758b8",
   "metadata": {},
   "outputs": [],
   "source": [
    "data"
   ]
  },
  {
   "cell_type": "code",
   "execution_count": null,
   "id": "4520abe1",
   "metadata": {
    "scrolled": false
   },
   "outputs": [],
   "source": [
    "plt.figure(figsize=(20,20),facecolor='white')\n",
    "p=1\n",
    "for column in data:\n",
    "    if p <=16:\n",
    "        ax=plt.subplot(4,4,p)\n",
    "        sns.distplot(data[column])\n",
    "        plt.xlabel(column,fontsize=20)\n",
    "    p+=1\n",
    "plt.tight_layout()"
   ]
  },
  {
   "cell_type": "markdown",
   "id": "b3baa177",
   "metadata": {},
   "source": [
    "# 1) Primary Fuel"
   ]
  },
  {
   "cell_type": "code",
   "execution_count": null,
   "id": "000f1ba2",
   "metadata": {},
   "outputs": [],
   "source": [
    "y=data['primary_fuel']\n",
    "x=data.drop(columns=['primary_fuel'])"
   ]
  },
  {
   "cell_type": "code",
   "execution_count": null,
   "id": "c3b9daa2",
   "metadata": {},
   "outputs": [],
   "source": [
    "plt.figure(figsize=(17,17),facecolor='white')\n",
    "plotnumber=1\n",
    "for column in x:\n",
    "    if plotnumber<=16:\n",
    "        ax=plt.subplot(4,4,plotnumber)\n",
    "        plt.scatter(x[column],y)\n",
    "        plt.xlabel(column,fontsize=15)\n",
    "        plt.ylabel('primary_fuel',fontsize=15)\n",
    "    plotnumber+=1\n",
    "plt.tight_layout()"
   ]
  },
  {
   "cell_type": "code",
   "execution_count": null,
   "id": "c016f3cb",
   "metadata": {},
   "outputs": [],
   "source": [
    "data_corr=data.corr().abs()\n",
    "plt.figure(figsize=(15,15))\n",
    "sns.heatmap(data_corr,annot=True,annot_kws={'size':10})\n",
    "plt.show"
   ]
  },
  {
   "cell_type": "code",
   "execution_count": null,
   "id": "2600ac9a",
   "metadata": {},
   "outputs": [],
   "source": [
    "plt.figure(figsize=(15,15),facecolor='white')\n",
    "plotnumber=1\n",
    "for column in x:\n",
    "    if plotnumber<=16:\n",
    "        ax=plt.subplot(4,4,plotnumber)\n",
    "        sns.lineplot(x='primary_fuel',y=column,data=data)\n",
    "        plt.xlabel('primary_fuel',fontsize=10)\n",
    "        plt.ylabel(column,fontsize=10)\n",
    "    plotnumber+=1\n",
    "plt.tight_layout()"
   ]
  },
  {
   "cell_type": "code",
   "execution_count": null,
   "id": "17dbb453",
   "metadata": {},
   "outputs": [],
   "source": [
    "from sklearn.feature_selection import SelectKBest,f_classif"
   ]
  },
  {
   "cell_type": "code",
   "execution_count": null,
   "id": "9b90626d",
   "metadata": {},
   "outputs": [],
   "source": [
    "best_features=SelectKBest(score_func=f_classif,k='all')\n",
    "\n",
    "fit=best_features.fit(x,y)\n",
    "\n",
    "data_scores=pd.DataFrame(fit.scores_)\n",
    "\n",
    "data_columns=pd.DataFrame(x.columns)\n",
    "\n",
    "feature_scores=pd.concat([data_columns,data_scores],axis=1)\n",
    "\n",
    "feature_scores.columns=['Feature_Name','Score']\n",
    "\n",
    "print(feature_scores.nlargest(13,'Score'))"
   ]
  },
  {
   "cell_type": "markdown",
   "id": "693b8f59",
   "metadata": {},
   "source": [
    "Based on heatmap and select. we can use above features"
   ]
  },
  {
   "cell_type": "code",
   "execution_count": null,
   "id": "c59a16e9",
   "metadata": {},
   "outputs": [],
   "source": [
    "y=data['primary_fuel']\n",
    "x=data[['year_of_capacity_data','gppd_idnr','commissioning_year','other_fuel1','generation_data_source','owner','capacity_mw','generation_gwh_2018','generation_gwh_2017','generation_gwh_2016','generation_gwh_2015','generation_gwh_2014']]"
   ]
  },
  {
   "cell_type": "code",
   "execution_count": null,
   "id": "b0dc371c",
   "metadata": {},
   "outputs": [],
   "source": [
    "plt.figure(figsize=(20,20),facecolor='white')\n",
    "plotno=1\n",
    "for column in x:\n",
    "    if plotno<=14:\n",
    "        ax=plt.subplot(4,4,plotno)\n",
    "        sns.boxplot(data=x[column])\n",
    "        plt.xlabel(column,fontsize=12)\n",
    "    plotno+=1\n",
    "plt.show()"
   ]
  },
  {
   "cell_type": "code",
   "execution_count": null,
   "id": "3e893ccd",
   "metadata": {},
   "outputs": [],
   "source": [
    "scaler=StandardScaler()\n",
    "x_scaled=scaler.fit_transform(x)\n",
    "x_train,x_test,y_train,y_test=train_test_split(x_scaled,y,test_size=0.17,random_state=333)"
   ]
  },
  {
   "cell_type": "code",
   "execution_count": null,
   "id": "744e4eb1",
   "metadata": {},
   "outputs": [],
   "source": [
    "def metric_score(clf,x_train,x_test,y_train,y_test,train=True):\n",
    "    if train:\n",
    "        y_pred=clf.predict(x_train)\n",
    "        print('\\n----Train result----')\n",
    "        print(f'Accuracy Score:{accuracy_score(y_train,y_pred)*100:.2f}%')\n",
    "        \n",
    "    elif train==False:\n",
    "        pred=clf.predict(x_test)\n",
    "        print('\\n----Test result----')\n",
    "        print(f'Accuracy Score:{accuracy_score(y_test,pred)*100:.2f}%')\n",
    "\n",
    "        print('\\n\\n Test Classification report \\n',classification_report(y_test,pred,digits=2))"
   ]
  },
  {
   "cell_type": "code",
   "execution_count": null,
   "id": "887b1068",
   "metadata": {},
   "outputs": [],
   "source": [
    "knn=KNeighborsClassifier()\n",
    "knn.fit(x_train,y_train)"
   ]
  },
  {
   "cell_type": "code",
   "execution_count": null,
   "id": "c703af23",
   "metadata": {},
   "outputs": [],
   "source": [
    "metric_score(knn,x_train,x_test,y_train,y_test,train=True)\n",
    "metric_score(knn,x_train,x_test,y_train,y_test,train=False)"
   ]
  },
  {
   "cell_type": "code",
   "execution_count": null,
   "id": "9788c040",
   "metadata": {},
   "outputs": [],
   "source": [
    "from sklearn.linear_model import LogisticRegression\n",
    "log_reg=LogisticRegression()\n",
    "log_reg.fit(x_train,y_train)"
   ]
  },
  {
   "cell_type": "code",
   "execution_count": null,
   "id": "88d598c1",
   "metadata": {},
   "outputs": [],
   "source": [
    "metric_score(log_reg,x_train,x_test,y_train,y_test,train=True)\n",
    "metric_score(log_reg,x_train,x_test,y_train,y_test,train=False)"
   ]
  },
  {
   "cell_type": "code",
   "execution_count": null,
   "id": "ec07af57",
   "metadata": {},
   "outputs": [],
   "source": [
    "from sklearn.ensemble import BaggingClassifier"
   ]
  },
  {
   "cell_type": "code",
   "execution_count": null,
   "id": "52d84350",
   "metadata": {},
   "outputs": [],
   "source": [
    "bag_knn=BaggingClassifier(KNeighborsClassifier(n_neighbors=9),\n",
    "                          n_estimators=6,max_samples=0.75,\n",
    "                          bootstrap=True,random_state=366,oob_score=True)"
   ]
  },
  {
   "cell_type": "code",
   "execution_count": null,
   "id": "20062d62",
   "metadata": {},
   "outputs": [],
   "source": [
    "bag_knn.fit(x_train,y_train)"
   ]
  },
  {
   "cell_type": "code",
   "execution_count": null,
   "id": "122f45da",
   "metadata": {},
   "outputs": [],
   "source": [
    "metric_score(bag_knn,x_train,x_test,y_train,y_test,train=True)\n",
    "metric_score(bag_knn,x_train,x_test,y_train,y_test,train=False)"
   ]
  },
  {
   "cell_type": "markdown",
   "id": "5c15d83c",
   "metadata": {},
   "source": [
    "Bagging KNN is giving us best results, we move forward with it"
   ]
  },
  {
   "cell_type": "code",
   "execution_count": null,
   "id": "ff46ce72",
   "metadata": {},
   "outputs": [],
   "source": [
    "from sklearn.model_selection import KFold,cross_val_score\n",
    "cross_val_score(bag_knn,x_scaled,y,cv=10)"
   ]
  },
  {
   "cell_type": "code",
   "execution_count": null,
   "id": "318c3b00",
   "metadata": {},
   "outputs": [],
   "source": [
    "pickle.dump(bag_knn,open('Primary Fuel','wb'))"
   ]
  },
  {
   "cell_type": "markdown",
   "id": "4022c746",
   "metadata": {},
   "source": [
    "# 2) Capacity"
   ]
  },
  {
   "cell_type": "code",
   "execution_count": null,
   "id": "773ec239",
   "metadata": {},
   "outputs": [],
   "source": [
    "y=data['capacity_mw']\n",
    "x=data.drop(columns=['capacity_mw'])"
   ]
  },
  {
   "cell_type": "code",
   "execution_count": null,
   "id": "67e41f1b",
   "metadata": {},
   "outputs": [],
   "source": [
    "plt.figure(figsize=(15,15),facecolor='white')\n",
    "plotnumber=1\n",
    "for column in x:\n",
    "    if plotnumber<=16:\n",
    "        ax=plt.subplot(4,4,plotnumber)\n",
    "        plt.scatter(x[column],y)\n",
    "        plt.xlabel(column,fontsize=10)\n",
    "        plt.ylabel('primary_fuel',fontsize=10)\n",
    "    plotnumber+=1\n",
    "plt.tight_layout()"
   ]
  },
  {
   "cell_type": "code",
   "execution_count": null,
   "id": "86de7724",
   "metadata": {},
   "outputs": [],
   "source": [
    "data_corr=data.corr().abs()\n",
    "plt.figure(figsize=(15,15))\n",
    "sns.heatmap(data_corr,annot=True,annot_kws={'size':10})\n",
    "plt.show"
   ]
  },
  {
   "cell_type": "code",
   "execution_count": null,
   "id": "9c61bb52",
   "metadata": {},
   "outputs": [],
   "source": [
    "scaler=StandardScaler()\n",
    "x_scaled=scaler.fit_transform(x)"
   ]
  },
  {
   "cell_type": "code",
   "execution_count": null,
   "id": "912a9b82",
   "metadata": {},
   "outputs": [],
   "source": [
    "vif=pd.DataFrame()\n",
    "vif['vif']=[variance_inflation_factor(x_scaled,i) for i in range(x_scaled.shape[1])]\n",
    "vif['Features']=x.columns\n",
    "vif"
   ]
  },
  {
   "cell_type": "code",
   "execution_count": null,
   "id": "de309702",
   "metadata": {},
   "outputs": [],
   "source": [
    "from sklearn.feature_selection import SelectKBest,f_regression"
   ]
  },
  {
   "cell_type": "code",
   "execution_count": null,
   "id": "f3a8c030",
   "metadata": {},
   "outputs": [],
   "source": [
    "best_features=SelectKBest(score_func=f_regression,k='all')\n",
    "\n",
    "fit=best_features.fit(x,y)\n",
    "\n",
    "data_scores=pd.DataFrame(fit.scores_)\n",
    "\n",
    "data_columns=pd.DataFrame(x.columns)\n",
    "\n",
    "feature_scores=pd.concat([data_columns,data_scores],axis=1)\n",
    "\n",
    "feature_scores.columns=['Feature_Name','Score']\n",
    "\n",
    "print(feature_scores.nlargest(11,'Score'))"
   ]
  },
  {
   "cell_type": "code",
   "execution_count": null,
   "id": "becb6999",
   "metadata": {},
   "outputs": [],
   "source": [
    "y=data['capacity_mw']\n",
    "x=data[['generation_gwh_2018','generation_gwh_2017','generation_gwh_2016','generation_gwh_2015','generation_gwh_2014','other_fuel1','generation_data_source','year_of_capacity_data','commissioning_year','primary_fuel','gppd_idnr']]"
   ]
  },
  {
   "cell_type": "code",
   "execution_count": null,
   "id": "ef9ee12e",
   "metadata": {},
   "outputs": [],
   "source": [
    "x_train,x_test,y_train,y_test=train_test_split(x_scaled,y,test_size=0.17,random_state=44)"
   ]
  },
  {
   "cell_type": "code",
   "execution_count": null,
   "id": "699fa0b5",
   "metadata": {},
   "outputs": [],
   "source": [
    "from sklearn.linear_model import LinearRegression\n",
    "reg=LinearRegression()\n",
    "reg.fit(x_train,y_train)"
   ]
  },
  {
   "cell_type": "code",
   "execution_count": null,
   "id": "c1a5a466",
   "metadata": {},
   "outputs": [],
   "source": [
    "reg.score(x_train,y_train)"
   ]
  },
  {
   "cell_type": "code",
   "execution_count": null,
   "id": "c94d7614",
   "metadata": {},
   "outputs": [],
   "source": [
    "reg.score(x_test,y_test)"
   ]
  },
  {
   "cell_type": "code",
   "execution_count": null,
   "id": "a3c2cd3e",
   "metadata": {},
   "outputs": [],
   "source": [
    "from sklearn.metrics import r2_score, mean_squared_error, mean_absolute_error\n",
    "from sklearn.linear_model import Lasso,Ridge,RidgeCV,LassoCV"
   ]
  },
  {
   "cell_type": "code",
   "execution_count": null,
   "id": "5980e521",
   "metadata": {},
   "outputs": [],
   "source": [
    "lasscv=LassoCV(alphas=None,max_iter=300,normalize=True)\n",
    "lasscv.fit(x_train,y_train)"
   ]
  },
  {
   "cell_type": "code",
   "execution_count": null,
   "id": "c73a39d8",
   "metadata": {},
   "outputs": [],
   "source": [
    "alpha=lasscv.alpha_\n",
    "alpha"
   ]
  },
  {
   "cell_type": "code",
   "execution_count": null,
   "id": "d73e57fb",
   "metadata": {},
   "outputs": [],
   "source": [
    "lasso_reg=Lasso(alpha)\n",
    "lasso_reg.fit(x_train,y_train)"
   ]
  },
  {
   "cell_type": "code",
   "execution_count": null,
   "id": "b232ecfb",
   "metadata": {},
   "outputs": [],
   "source": [
    "lasso_reg.score(x_train,y_train)"
   ]
  },
  {
   "cell_type": "code",
   "execution_count": null,
   "id": "62dee06f",
   "metadata": {},
   "outputs": [],
   "source": [
    "lasso_reg.score(x_test,y_test)"
   ]
  },
  {
   "cell_type": "code",
   "execution_count": null,
   "id": "f1078eac",
   "metadata": {},
   "outputs": [],
   "source": [
    "ridgecv=RidgeCV(alphas=np.arange(0.002,0.1,0.02),normalize=True)\n",
    "ridgecv.fit(x_train,y_train)"
   ]
  },
  {
   "cell_type": "code",
   "execution_count": null,
   "id": "75bfc192",
   "metadata": {},
   "outputs": [],
   "source": [
    "ridgecv.alpha_"
   ]
  },
  {
   "cell_type": "code",
   "execution_count": null,
   "id": "da409c06",
   "metadata": {},
   "outputs": [],
   "source": [
    "ridge_model=Ridge(alpha=ridgecv.alpha_)\n",
    "ridge_model.fit(x_train,y_train)"
   ]
  },
  {
   "cell_type": "code",
   "execution_count": null,
   "id": "37eaac16",
   "metadata": {},
   "outputs": [],
   "source": [
    "ridge_model.score(x_test,y_test)"
   ]
  },
  {
   "cell_type": "markdown",
   "id": "093e081b",
   "metadata": {},
   "source": [
    "Lasso Reg has the best score, moving forward with that"
   ]
  },
  {
   "cell_type": "code",
   "execution_count": null,
   "id": "5a2be67e",
   "metadata": {},
   "outputs": [],
   "source": [
    "y_pred=reg.predict(x_test)"
   ]
  },
  {
   "cell_type": "code",
   "execution_count": null,
   "id": "d47aecaa",
   "metadata": {},
   "outputs": [],
   "source": [
    "plt.scatter(y_test,y_pred)\n",
    "plt.xlabel('Actual capacity')\n",
    "plt.ylabel('Predicted capacity')\n",
    "plt.title('Actual vs Model Predicted')\n",
    "plt.show()"
   ]
  },
  {
   "cell_type": "code",
   "execution_count": null,
   "id": "acbd211d",
   "metadata": {},
   "outputs": [],
   "source": [
    "y_pred=reg.predict(x_test)"
   ]
  },
  {
   "cell_type": "code",
   "execution_count": null,
   "id": "208f4eaa",
   "metadata": {},
   "outputs": [],
   "source": [
    "mean_absolute_error(y_test,y_pred)"
   ]
  },
  {
   "cell_type": "code",
   "execution_count": null,
   "id": "917c5bb7",
   "metadata": {},
   "outputs": [],
   "source": [
    "mean_squared_error(y_test,y_pred)"
   ]
  },
  {
   "cell_type": "code",
   "execution_count": null,
   "id": "17bb449c",
   "metadata": {},
   "outputs": [],
   "source": [
    "np.sqrt(mean_squared_error(y_test,y_pred))"
   ]
  },
  {
   "cell_type": "code",
   "execution_count": null,
   "id": "e3503345",
   "metadata": {},
   "outputs": [],
   "source": [
    "pickle.dump(lasso_reg,open('Power Plant capacity','wb'))"
   ]
  },
  {
   "cell_type": "code",
   "execution_count": null,
   "id": "50378771",
   "metadata": {},
   "outputs": [],
   "source": []
  }
 ],
 "metadata": {
  "kernelspec": {
   "display_name": "Python 3 (ipykernel)",
   "language": "python",
   "name": "python3"
  },
  "language_info": {
   "codemirror_mode": {
    "name": "ipython",
    "version": 3
   },
   "file_extension": ".py",
   "mimetype": "text/x-python",
   "name": "python",
   "nbconvert_exporter": "python",
   "pygments_lexer": "ipython3",
   "version": "3.9.12"
  }
 },
 "nbformat": 4,
 "nbformat_minor": 5
}
