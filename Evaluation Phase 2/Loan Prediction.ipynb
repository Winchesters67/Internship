{
 "cells": [
  {
   "cell_type": "code",
   "execution_count": null,
   "id": "965b44a8",
   "metadata": {},
   "outputs": [],
   "source": [
    "import pandas as pd\n",
    "import matplotlib.pyplot as plt\n",
    "import pickle\n",
    "%matplotlib inline\n",
    "import numpy as np\n",
    "from sklearn.preprocessing import StandardScaler\n",
    "from sklearn.linear_model import LinearRegression\n",
    "from sklearn.model_selection import train_test_split\n",
    "import seaborn as sns\n",
    "import pickle\n",
    "import warnings\n",
    "warnings.filterwarnings('ignore')\n",
    "from statsmodels.stats.outliers_influence import variance_inflation_factor\n",
    "from sklearn.metrics import accuracy_score, confusion_matrix,roc_curve,roc_auc_score\n",
    "from sklearn.tree import DecisionTreeClassifier\n",
    "\n",
    "from sklearn.preprocessing import StandardScaler\n",
    "from sklearn.neighbors import KNeighborsClassifier\n",
    "from sklearn.model_selection import train_test_split,GridSearchCV\n",
    "from sklearn.metrics import classification_report"
   ]
  },
  {
   "cell_type": "code",
   "execution_count": null,
   "id": "bb78024b",
   "metadata": {},
   "outputs": [],
   "source": [
    "data=pd.read_csv('https://raw.githubusercontent.com/dsrscientist/DSData/master/loan_prediction.csv')\n",
    "data.head()"
   ]
  },
  {
   "cell_type": "code",
   "execution_count": null,
   "id": "d5443b5e",
   "metadata": {},
   "outputs": [],
   "source": [
    "data=pd.read_csv('loan_prediction.csv')\n",
    "data.head()\n",
    "#To be used in case raw file link of github isnt working"
   ]
  },
  {
   "cell_type": "code",
   "execution_count": null,
   "id": "b9afcfe9",
   "metadata": {},
   "outputs": [],
   "source": [
    "data.shape"
   ]
  },
  {
   "cell_type": "code",
   "execution_count": null,
   "id": "9f6d8ebf",
   "metadata": {},
   "outputs": [],
   "source": [
    "data.describe()"
   ]
  },
  {
   "cell_type": "code",
   "execution_count": null,
   "id": "15fa72d3",
   "metadata": {},
   "outputs": [],
   "source": [
    "data.isna().sum()"
   ]
  },
  {
   "cell_type": "code",
   "execution_count": null,
   "id": "c8fd3bef",
   "metadata": {},
   "outputs": [],
   "source": [
    "data.info()"
   ]
  },
  {
   "cell_type": "markdown",
   "id": "612d3091",
   "metadata": {},
   "source": [
    "There are many null values, and object datatypes, so we need to use both imputation and encoding"
   ]
  },
  {
   "cell_type": "code",
   "execution_count": null,
   "id": "989bf34d",
   "metadata": {},
   "outputs": [],
   "source": [
    "data['Gender']=data['Gender'].fillna(data['Gender'].mode()[0])\n",
    "data['Married']=data['Married'].fillna(data['Married'].mode()[0])\n",
    "data['Dependents']=data['Dependents'].fillna(data['Dependents'].mode()[0])\n",
    "data['Self_Employed']=data['Self_Employed'].fillna(data['Self_Employed'].mode()[0])\n",
    "data['Loan_Amount_Term']=data['Loan_Amount_Term'].fillna(data['Loan_Amount_Term'].mode()[0])\n",
    "data['Credit_History']=data['Credit_History'].fillna(data['Credit_History'].mode()[0])\n",
    "data['LoanAmount']=data['LoanAmount'].fillna(data['LoanAmount'].mean())"
   ]
  },
  {
   "cell_type": "code",
   "execution_count": null,
   "id": "d6635032",
   "metadata": {},
   "outputs": [],
   "source": [
    "data.isna().sum()"
   ]
  },
  {
   "cell_type": "code",
   "execution_count": null,
   "id": "972b52bb",
   "metadata": {},
   "outputs": [],
   "source": [
    "from sklearn.preprocessing import LabelEncoder\n",
    "lab_enc=LabelEncoder()"
   ]
  },
  {
   "cell_type": "code",
   "execution_count": null,
   "id": "ca4e9229",
   "metadata": {},
   "outputs": [],
   "source": [
    "df=lab_enc.fit_transform(data['Gender'])\n",
    "pd.Series(df)\n",
    "data['Gender']=df\n",
    "df=lab_enc.fit_transform(data['Married'])\n",
    "pd.Series(df)\n",
    "data['Married']=df\n",
    "df=lab_enc.fit_transform(data['Dependents'])\n",
    "pd.Series(df)\n",
    "data['Dependents']=df\n",
    "df=lab_enc.fit_transform(data['Education'])\n",
    "pd.Series(df)\n",
    "data['Education']=df\n",
    "df=lab_enc.fit_transform(data['Self_Employed'])\n",
    "pd.Series(df)\n",
    "data['Self_Employed']=df\n",
    "df=lab_enc.fit_transform(data['Property_Area'])\n",
    "pd.Series(df)\n",
    "data['Property_Area']=df\n",
    "df=lab_enc.fit_transform(data['Loan_Status'])\n",
    "pd.Series(df)\n",
    "data['Loan_Status']=df"
   ]
  },
  {
   "cell_type": "code",
   "execution_count": null,
   "id": "c7187e61",
   "metadata": {},
   "outputs": [],
   "source": [
    "data.describe()"
   ]
  },
  {
   "cell_type": "code",
   "execution_count": null,
   "id": "014fa3e7",
   "metadata": {},
   "outputs": [],
   "source": [
    "data=data.drop(columns=['Loan_ID'])\n",
    "data"
   ]
  },
  {
   "cell_type": "code",
   "execution_count": null,
   "id": "d9f625ca",
   "metadata": {},
   "outputs": [],
   "source": [
    "plt.figure(figsize=(25,25),facecolor='white')\n",
    "p=1\n",
    "for column in data:\n",
    "    if p <=13:\n",
    "        ax=plt.subplot(3,4,p)\n",
    "        sns.distplot(data[column])\n",
    "        plt.xlabel(column,fontsize=20)\n",
    "    p+=1\n",
    "plt.tight_layout()"
   ]
  },
  {
   "cell_type": "code",
   "execution_count": null,
   "id": "4a5ab2e4",
   "metadata": {},
   "outputs": [],
   "source": [
    "y=data['Loan_Status']\n",
    "x=data.drop(columns=['Loan_Status'])"
   ]
  },
  {
   "cell_type": "code",
   "execution_count": null,
   "id": "2a93d663",
   "metadata": {},
   "outputs": [],
   "source": [
    "plt.figure(figsize=(25,25),facecolor='white')\n",
    "plotnumber=1\n",
    "for column in x:\n",
    "    if plotnumber<=15:\n",
    "        ax=plt.subplot(4,4,plotnumber)\n",
    "        plt.scatter(x[column],y)\n",
    "        plt.xlabel(column,fontsize=20)\n",
    "        plt.ylabel('Loan_Status',fontsize=20)\n",
    "    plotnumber+=1\n",
    "plt.tight_layout()"
   ]
  },
  {
   "cell_type": "code",
   "execution_count": null,
   "id": "049be4f2",
   "metadata": {},
   "outputs": [],
   "source": [
    "data_corr=data.corr().abs()\n",
    "plt.figure(figsize=(15,15))\n",
    "sns.pheatmap(data_corr,annot=True,annot_kws={'size':10})\n",
    "plt.show"
   ]
  },
  {
   "cell_type": "code",
   "execution_count": null,
   "id": "e6f2993a",
   "metadata": {},
   "outputs": [],
   "source": [
    "data.columns"
   ]
  },
  {
   "cell_type": "code",
   "execution_count": null,
   "id": "7f110883",
   "metadata": {},
   "outputs": [],
   "source": [
    "sns.lineplot(x='Loan_Status',y='Gender',data=data)\n",
    "plt.show()"
   ]
  },
  {
   "cell_type": "markdown",
   "id": "9515b13d",
   "metadata": {},
   "source": [
    "Gender has some relation with Loan approvals"
   ]
  },
  {
   "cell_type": "code",
   "execution_count": null,
   "id": "34069571",
   "metadata": {},
   "outputs": [],
   "source": [
    "sns.lineplot(x='Loan_Status',y='Married',data=data)\n",
    "plt.show()"
   ]
  },
  {
   "cell_type": "markdown",
   "id": "be0b60d2",
   "metadata": {},
   "source": [
    "Marital status has strong relation with Loan approvals"
   ]
  },
  {
   "cell_type": "code",
   "execution_count": null,
   "id": "cd4b9f0b",
   "metadata": {},
   "outputs": [],
   "source": [
    "sns.lineplot(x='Loan_Status',y='Dependents',data=data)\n",
    "plt.show()"
   ]
  },
  {
   "cell_type": "markdown",
   "id": "b7e55416",
   "metadata": {},
   "source": [
    "Dependents has strong relation with Loan approvals"
   ]
  },
  {
   "cell_type": "code",
   "execution_count": null,
   "id": "aeeb24ca",
   "metadata": {},
   "outputs": [],
   "source": [
    "sns.lineplot(x='Loan_Status',y='Education',data=data)\n",
    "plt.show()"
   ]
  },
  {
   "cell_type": "markdown",
   "id": "6a113683",
   "metadata": {},
   "source": [
    "Education has strong relation with Loan approvals"
   ]
  },
  {
   "cell_type": "code",
   "execution_count": null,
   "id": "6b8930e6",
   "metadata": {},
   "outputs": [],
   "source": [
    "sns.lineplot(x='Loan_Status',y='Self_Employed',data=data)\n",
    "plt.show()"
   ]
  },
  {
   "cell_type": "markdown",
   "id": "eafe845b",
   "metadata": {},
   "source": [
    "Self_Employed status has some relation with Loan approvals"
   ]
  },
  {
   "cell_type": "code",
   "execution_count": null,
   "id": "0839190d",
   "metadata": {},
   "outputs": [],
   "source": [
    "sns.lineplot(x='Loan_Status',y='ApplicantIncome',data=data)\n",
    "plt.show()"
   ]
  },
  {
   "cell_type": "markdown",
   "id": "79cdc768",
   "metadata": {},
   "source": [
    "ApplicantIncome has some relation with Loan approvals"
   ]
  },
  {
   "cell_type": "code",
   "execution_count": null,
   "id": "c71d4ee9",
   "metadata": {},
   "outputs": [],
   "source": [
    "sns.lineplot(x='Loan_Status',y='CoapplicantIncome',data=data)\n",
    "plt.show()"
   ]
  },
  {
   "cell_type": "markdown",
   "id": "483ec8a9",
   "metadata": {},
   "source": [
    "CoapplicantIncome has strong relation with Loan approvals"
   ]
  },
  {
   "cell_type": "code",
   "execution_count": null,
   "id": "94a8065c",
   "metadata": {},
   "outputs": [],
   "source": [
    "sns.lineplot(x='Loan_Status',y='LoanAmount',data=data)\n",
    "plt.show()"
   ]
  },
  {
   "cell_type": "markdown",
   "id": "f9925c92",
   "metadata": {},
   "source": [
    "LoanAmount has strong relation with Loan approvals\n",
    "'Education', 'Self_Employed',\n",
    "       'ApplicantIncome', 'CoapplicantIncome', 'LoanAmount',\n",
    "       'Loan_Amount_Term', 'Credit_History', 'Property_Area', "
   ]
  },
  {
   "cell_type": "code",
   "execution_count": null,
   "id": "ff323f6d",
   "metadata": {},
   "outputs": [],
   "source": [
    "sns.lineplot(x='Loan_Status',y='Loan_Amount_Term',data=data)\n",
    "plt.show()"
   ]
  },
  {
   "cell_type": "markdown",
   "id": "7d91a61b",
   "metadata": {},
   "source": [
    "Loan_Amount_Term has strong relation with Loan approvals"
   ]
  },
  {
   "cell_type": "code",
   "execution_count": null,
   "id": "ef5b7b32",
   "metadata": {},
   "outputs": [],
   "source": [
    "sns.lineplot(x='Loan_Status',y='Gender',data=data)\n",
    "plt.show()"
   ]
  },
  {
   "cell_type": "markdown",
   "id": "67051576",
   "metadata": {},
   "source": [
    "Gender has strong relation with Loan approvals"
   ]
  },
  {
   "cell_type": "code",
   "execution_count": null,
   "id": "d2860800",
   "metadata": {},
   "outputs": [],
   "source": [
    "sns.lineplot(x='Loan_Status',y='Credit_History',data=data)\n",
    "plt.show()"
   ]
  },
  {
   "cell_type": "markdown",
   "id": "86237ef1",
   "metadata": {},
   "source": [
    "Credit_History has strong relation with Loan approvals"
   ]
  },
  {
   "cell_type": "code",
   "execution_count": null,
   "id": "0746c2f9",
   "metadata": {},
   "outputs": [],
   "source": [
    "sns.lineplot(x='Loan_Status',y='Property_Area',data=data)\n",
    "plt.show()"
   ]
  },
  {
   "cell_type": "code",
   "execution_count": null,
   "id": "c906f175",
   "metadata": {},
   "outputs": [],
   "source": []
  },
  {
   "cell_type": "code",
   "execution_count": null,
   "id": "1bed19e0",
   "metadata": {},
   "outputs": [],
   "source": []
  },
  {
   "cell_type": "code",
   "execution_count": null,
   "id": "01f198ce",
   "metadata": {},
   "outputs": [],
   "source": []
  },
  {
   "cell_type": "code",
   "execution_count": null,
   "id": "1173648c",
   "metadata": {},
   "outputs": [],
   "source": []
  },
  {
   "cell_type": "code",
   "execution_count": null,
   "id": "32d6d475",
   "metadata": {},
   "outputs": [],
   "source": [
    "from sklearn.feature_selection import SelectKBest,f_classif"
   ]
  },
  {
   "cell_type": "code",
   "execution_count": null,
   "id": "35f9e71c",
   "metadata": {},
   "outputs": [],
   "source": [
    "best_features=SelectKBest(score_func=f_classif,k='all')\n",
    "\n",
    "fit=best_features.fit(x,y)\n",
    "\n",
    "data_scores=pd.DataFrame(fit.scores_)\n",
    "\n",
    "data_columns=pd.DataFrame(x.columns)\n",
    "\n",
    "feature_scores=pd.concat([data_columns,data_scores],axis=1)\n",
    "\n",
    "feature_scores.columns=['Feature_Name','Score']\n",
    "\n",
    "print(feature_scores.nlargest(9,'Score'))"
   ]
  },
  {
   "cell_type": "code",
   "execution_count": null,
   "id": "f821c1f6",
   "metadata": {},
   "outputs": [],
   "source": [
    "plt.figure(figsize=(15,15),facecolor='white')\n",
    "plotnumber=1\n",
    "for column in x:\n",
    "    if plotnumber<=13:\n",
    "        ax=plt.subplot(3,4,plotnumber)\n",
    "        sns.lineplot(x='Loan_Status',y=column,data=data)\n",
    "        plt.xlabel('Loan_Status',fontsize=10)\n",
    "        plt.ylabel(column,fontsize=10)\n",
    "    plotnumber+=1\n",
    "plt.tight_layout()"
   ]
  },
  {
   "cell_type": "code",
   "execution_count": null,
   "id": "8cfaae2d",
   "metadata": {},
   "outputs": [],
   "source": [
    "plt.figure(figsize=(15,15))\n",
    "plotno=1\n",
    "for column in x:\n",
    "    if plotno<=13:\n",
    "        ax=plt.subplot(4,3,plotno)\n",
    "        sns.stripplot(y,x[column])\n",
    "    plotno+=1\n",
    "plt.show()"
   ]
  },
  {
   "cell_type": "markdown",
   "id": "a8d57b58",
   "metadata": {},
   "source": [
    "Based on heatmap, strip plot and line plot, we can see some features have stronger bond with the outcome"
   ]
  },
  {
   "cell_type": "markdown",
   "id": "1647a8ad",
   "metadata": {},
   "source": [
    "These are the parameters that have strong bond 'Married','Education','ApplicantIncome','CoapplicantIncome','LoanAmount','Property_Area','Loan_Amount_Term','Gender','Dependents', 'Credit_History'"
   ]
  },
  {
   "cell_type": "code",
   "execution_count": null,
   "id": "3da8c282",
   "metadata": {},
   "outputs": [],
   "source": [
    "y=data['Loan_Status']\n",
    "x=data[['Married','Education','ApplicantIncome','CoapplicantIncome','LoanAmount','Property_Area','Loan_Amount_Term','Gender','Dependents','Credit_History']]"
   ]
  },
  {
   "cell_type": "code",
   "execution_count": null,
   "id": "7a1eb80f",
   "metadata": {},
   "outputs": [],
   "source": [
    "plt.figure(figsize=(20,20),facecolor='red')\n",
    "plotno=1\n",
    "for column in x:\n",
    "    if plotno<=14:\n",
    "        ax=plt.subplot(3,4,plotno)\n",
    "        sns.boxplot(data=x[column])\n",
    "        plt.xlabel(column,fontsize=12)\n",
    "    plotno+=1\n",
    "plt.show()"
   ]
  },
  {
   "cell_type": "code",
   "execution_count": null,
   "id": "4d359cd0",
   "metadata": {},
   "outputs": [],
   "source": [
    "q1=data.quantile(0.25)\n",
    "q3=data.quantile(0.75)\n",
    "iqr=q3-q1"
   ]
  },
  {
   "cell_type": "code",
   "execution_count": null,
   "id": "97be3e16",
   "metadata": {},
   "outputs": [],
   "source": [
    "LA=(q3.LoanAmount + (1.5*iqr.LoanAmount))\n",
    "index=np.where(data['LoanAmount']>LA)\n",
    "data=data.drop(data.index[index])\n",
    "data.shape"
   ]
  },
  {
   "cell_type": "code",
   "execution_count": null,
   "id": "300a4af7",
   "metadata": {},
   "outputs": [],
   "source": [
    "scaler=StandardScaler()\n",
    "x_scaled=scaler.fit_transform(x)\n",
    "x_train,x_test,y_train,y_test=train_test_split(x_scaled,y,test_size=0.17,random_state=333)"
   ]
  },
  {
   "cell_type": "code",
   "execution_count": null,
   "id": "8d0e0519",
   "metadata": {},
   "outputs": [],
   "source": [
    "def metric_score(clf,x_train,x_test,y_train,y_test,train=True):\n",
    "    if train:\n",
    "        y_pred=clf.predict(x_train)\n",
    "        print('\\n----Train result----')\n",
    "        print(f'Accuracy Score:{accuracy_score(y_train,y_pred)*100:.2f}%')\n",
    "        \n",
    "    elif train==False:\n",
    "        pred=clf.predict(x_test)\n",
    "        print('\\n----Test result----')\n",
    "        print(f'Accuracy Score:{accuracy_score(y_test,pred)*100:.2f}%')\n",
    "\n",
    "        print('\\n\\n Test Classification report \\n',classification_report(y_test,pred,digits=2))"
   ]
  },
  {
   "cell_type": "code",
   "execution_count": null,
   "id": "e71234df",
   "metadata": {},
   "outputs": [],
   "source": [
    "knn=KNeighborsClassifier()\n",
    "knn.fit(x_train,y_train)"
   ]
  },
  {
   "cell_type": "code",
   "execution_count": null,
   "id": "99659936",
   "metadata": {},
   "outputs": [],
   "source": [
    "metric_score(knn,x_train,x_test,y_train,y_test,train=True)\n",
    "metric_score(knn,x_train,x_test,y_train,y_test,train=False)"
   ]
  },
  {
   "cell_type": "code",
   "execution_count": null,
   "id": "85e8dc42",
   "metadata": {},
   "outputs": [],
   "source": [
    "from sklearn.linear_model import LogisticRegression\n",
    "log_reg=LogisticRegression()\n",
    "log_reg.fit(x_train,y_train)"
   ]
  },
  {
   "cell_type": "code",
   "execution_count": null,
   "id": "9e0c8bf9",
   "metadata": {},
   "outputs": [],
   "source": [
    "metric_score(log_reg,x_train,x_test,y_train,y_test,train=True)\n",
    "metric_score(log_reg,x_train,x_test,y_train,y_test,train=False)"
   ]
  },
  {
   "cell_type": "code",
   "execution_count": null,
   "id": "5652658f",
   "metadata": {},
   "outputs": [],
   "source": [
    "from sklearn.ensemble import BaggingClassifier"
   ]
  },
  {
   "cell_type": "code",
   "execution_count": null,
   "id": "a37597b0",
   "metadata": {},
   "outputs": [],
   "source": [
    "bag_knn=BaggingClassifier(KNeighborsClassifier(n_neighbors=9),\n",
    "                          n_estimators=6,max_samples=0.75,\n",
    "                          bootstrap=True,random_state=366,oob_score=True)"
   ]
  },
  {
   "cell_type": "code",
   "execution_count": null,
   "id": "b8f6febe",
   "metadata": {},
   "outputs": [],
   "source": [
    "bag_knn.fit(x_train,y_train)"
   ]
  },
  {
   "cell_type": "code",
   "execution_count": null,
   "id": "b8c73a9a",
   "metadata": {},
   "outputs": [],
   "source": [
    "metric_score(bag_knn,x_train,x_test,y_train,y_test,train=True)\n",
    "metric_score(bag_knn,x_train,x_test,y_train,y_test,train=False)"
   ]
  },
  {
   "cell_type": "code",
   "execution_count": null,
   "id": "a6daf258",
   "metadata": {},
   "outputs": [],
   "source": [
    "clf=DecisionTreeClassifier()\n",
    "clf.fit(x_train,y_train)"
   ]
  },
  {
   "cell_type": "code",
   "execution_count": null,
   "id": "6a406e5c",
   "metadata": {},
   "outputs": [],
   "source": [
    "metric_score(clf,x_train,x_test,y_train,y_test,train=True)\n",
    "metric_score(clf,x_train,x_test,y_train,y_test,train=False)"
   ]
  },
  {
   "cell_type": "code",
   "execution_count": null,
   "id": "717af97a",
   "metadata": {},
   "outputs": [],
   "source": [
    "grid_param={'criterion':['gini','entropy'],\n",
    "           'max_depth':range(10,15),\n",
    "           'min_samples_leaf':range(2,6),\n",
    "           'min_samples_split':range(3,8),\n",
    "           'max_leaf_nodes':range(5,10)}"
   ]
  },
  {
   "cell_type": "code",
   "execution_count": null,
   "id": "ed750657",
   "metadata": {},
   "outputs": [],
   "source": [
    "grid_search = GridSearchCV(estimator=clf,\n",
    "                           param_grid=grid_param,\n",
    "                           cv=5,\n",
    "                           n_jobs=-1)"
   ]
  },
  {
   "cell_type": "code",
   "execution_count": null,
   "id": "4505aca6",
   "metadata": {},
   "outputs": [],
   "source": [
    "grid_search.fit(x_train,y_train)"
   ]
  },
  {
   "cell_type": "code",
   "execution_count": null,
   "id": "994041c6",
   "metadata": {},
   "outputs": [],
   "source": [
    "best_parameters=grid_search.best_params_\n",
    "print(best_parameters)"
   ]
  },
  {
   "cell_type": "code",
   "execution_count": null,
   "id": "069cfbc7",
   "metadata": {},
   "outputs": [],
   "source": [
    "dclf=DecisionTreeClassifier(criterion='entropy',max_depth= 10, max_leaf_nodes= 5, min_samples_leaf= 5, min_samples_split= 3)"
   ]
  },
  {
   "cell_type": "code",
   "execution_count": null,
   "id": "0662d961",
   "metadata": {},
   "outputs": [],
   "source": [
    "dclf.fit(x_train,y_train)"
   ]
  },
  {
   "cell_type": "code",
   "execution_count": null,
   "id": "4d13cd7e",
   "metadata": {},
   "outputs": [],
   "source": [
    "metric_score(dclf,x_train,x_test,y_train,y_test,train=True)\n",
    "metric_score(dclf,x_train,x_test,y_train,y_test,train=False)"
   ]
  },
  {
   "cell_type": "code",
   "execution_count": null,
   "id": "cba55576",
   "metadata": {},
   "outputs": [],
   "source": [
    "from sklearn.svm import SVC\n",
    "svc=SVC()\n",
    "svc.fit(x_train,y_train)"
   ]
  },
  {
   "cell_type": "code",
   "execution_count": null,
   "id": "2962d11b",
   "metadata": {},
   "outputs": [],
   "source": [
    "metric_score(svc,x_train,x_test,y_train,y_test,train=True)\n",
    "metric_score(svc,x_train,x_test,y_train,y_test,train=False)"
   ]
  },
  {
   "cell_type": "code",
   "execution_count": null,
   "id": "c792fa48",
   "metadata": {},
   "outputs": [],
   "source": [
    "from sklearn.model_selection import KFold,cross_val_score"
   ]
  },
  {
   "cell_type": "markdown",
   "id": "78fd0371",
   "metadata": {},
   "source": [
    "Based on the results, our top 3 picks are - SVC, Logistic and Bagging KNNeighbours model"
   ]
  },
  {
   "cell_type": "code",
   "execution_count": null,
   "id": "8c3740cb",
   "metadata": {},
   "outputs": [],
   "source": [
    "cross_val_score(svc,x_scaled,y,cv=10)"
   ]
  },
  {
   "cell_type": "code",
   "execution_count": null,
   "id": "62ae9178",
   "metadata": {},
   "outputs": [],
   "source": [
    "cross_val_score(bag_knn,x_scaled,y,cv=10)"
   ]
  },
  {
   "cell_type": "code",
   "execution_count": null,
   "id": "d09bcc7a",
   "metadata": {},
   "outputs": [],
   "source": [
    "cross_val_score(log_reg,x_scaled,y,cv=10)"
   ]
  },
  {
   "cell_type": "markdown",
   "id": "98bf9e08",
   "metadata": {},
   "source": [
    "Cross Validation score is the same for all top 3 models"
   ]
  },
  {
   "cell_type": "markdown",
   "id": "6cebb756",
   "metadata": {},
   "source": [
    "Logistic Model is giving best result in both Train Test and difference in both, so we move forward with it"
   ]
  },
  {
   "cell_type": "code",
   "execution_count": null,
   "id": "43673ef6",
   "metadata": {},
   "outputs": [],
   "source": [
    "pickle.dump(log_reg,open('Loan Prediction','wb'))"
   ]
  },
  {
   "cell_type": "code",
   "execution_count": null,
   "id": "554c77c0",
   "metadata": {},
   "outputs": [],
   "source": []
  },
  {
   "cell_type": "code",
   "execution_count": null,
   "id": "93b5bff1",
   "metadata": {},
   "outputs": [],
   "source": []
  }
 ],
 "metadata": {
  "kernelspec": {
   "display_name": "Python 3 (ipykernel)",
   "language": "python",
   "name": "python3"
  },
  "language_info": {
   "codemirror_mode": {
    "name": "ipython",
    "version": 3
   },
   "file_extension": ".py",
   "mimetype": "text/x-python",
   "name": "python",
   "nbconvert_exporter": "python",
   "pygments_lexer": "ipython3",
   "version": "3.9.12"
  }
 },
 "nbformat": 4,
 "nbformat_minor": 5
}
