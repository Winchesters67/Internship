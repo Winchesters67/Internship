{
 "cells": [
  {
   "cell_type": "code",
   "execution_count": null,
   "id": "3a45cc74",
   "metadata": {},
   "outputs": [],
   "source": [
    "import pandas as pd\n",
    "import matplotlib.pyplot as plt\n",
    "import pickle\n",
    "%matplotlib inline\n",
    "import numpy as np\n",
    "from sklearn.preprocessing import StandardScaler\n",
    "from sklearn.linear_model import LinearRegression\n",
    "from sklearn.svm import SVC\n",
    "import seaborn as sns\n",
    "import warnings\n",
    "warnings.filterwarnings('ignore')\n",
    "from statsmodels.stats.outliers_influence import variance_inflation_factor\n",
    "from sklearn.metrics import accuracy_score, confusion_matrix,roc_curve,roc_auc_score\n",
    "from sklearn.tree import DecisionTreeClassifier\n",
    "from sklearn.preprocessing import LabelEncoder\n",
    "from sklearn.neighbors import KNeighborsClassifier\n",
    "from sklearn.model_selection import train_test_split,GridSearchCV\n",
    "from sklearn.metrics import classification_report"
   ]
  },
  {
   "cell_type": "code",
   "execution_count": null,
   "id": "077eb1eb",
   "metadata": {},
   "outputs": [],
   "source": [
    "data=pd.read_csv('https://raw.githubusercontent.com/dsrscientist/Data-Science-ML-Capstone-Projects/master/Automobile_insurance_fraud.csv')\n",
    "data"
   ]
  },
  {
   "cell_type": "code",
   "execution_count": null,
   "id": "acafefba",
   "metadata": {},
   "outputs": [],
   "source": [
    "data=pd.read_csv('Automobile_insurance_fraud.csv')\n",
    "data\n",
    "#To be used in case raw file link of github isnt working"
   ]
  },
  {
   "cell_type": "code",
   "execution_count": null,
   "id": "5276e73f",
   "metadata": {},
   "outputs": [],
   "source": [
    "data.describe()"
   ]
  },
  {
   "cell_type": "code",
   "execution_count": null,
   "id": "9da0fe1b",
   "metadata": {},
   "outputs": [],
   "source": [
    "data.info()"
   ]
  },
  {
   "cell_type": "code",
   "execution_count": null,
   "id": "1479ee13",
   "metadata": {},
   "outputs": [],
   "source": [
    "data.isna().sum()"
   ]
  },
  {
   "cell_type": "markdown",
   "id": "8078d4c7",
   "metadata": {},
   "source": [
    "We can drop colum _c39 as it has no data\n",
    "We can also drop policy_bind_date as it has no bearing on the fraud outcome"
   ]
  },
  {
   "cell_type": "code",
   "execution_count": null,
   "id": "7090eb1a",
   "metadata": {},
   "outputs": [],
   "source": [
    "data=data.drop(columns=['_c39'])"
   ]
  },
  {
   "cell_type": "code",
   "execution_count": null,
   "id": "c9d67fa3",
   "metadata": {},
   "outputs": [],
   "source": [
    "lab_enc=LabelEncoder()"
   ]
  },
  {
   "cell_type": "markdown",
   "id": "9d4454a8",
   "metadata": {},
   "source": [
    "We need to encode the object type features"
   ]
  },
  {
   "cell_type": "code",
   "execution_count": null,
   "id": "95a57985",
   "metadata": {},
   "outputs": [],
   "source": [
    "print(data['policy_bind_date'].value_counts().sort_values())\n",
    "df=lab_enc.fit_transform(data['policy_bind_date'])\n",
    "pd.Series(df)\n",
    "data['policy_bind_date']=df"
   ]
  },
  {
   "cell_type": "code",
   "execution_count": null,
   "id": "331d0029",
   "metadata": {},
   "outputs": [],
   "source": [
    "print(data['policy_state'].value_counts().sort_values())\n",
    "df=lab_enc.fit_transform(data['policy_state'])\n",
    "pd.Series(df)\n",
    "data['policy_state']=df"
   ]
  },
  {
   "cell_type": "code",
   "execution_count": null,
   "id": "25ee81e4",
   "metadata": {},
   "outputs": [],
   "source": [
    "print(data['policy_csl'].value_counts().sort_values())\n",
    "df=lab_enc.fit_transform(data['policy_csl'])\n",
    "pd.Series(df)\n",
    "data['policy_csl']=df"
   ]
  },
  {
   "cell_type": "code",
   "execution_count": null,
   "id": "51359cc0",
   "metadata": {},
   "outputs": [],
   "source": [
    "print(data['insured_sex'].value_counts().sort_values())\n",
    "df=lab_enc.fit_transform(data['insured_sex'])\n",
    "pd.Series(df)\n",
    "data['insured_sex']=df"
   ]
  },
  {
   "cell_type": "code",
   "execution_count": null,
   "id": "c302ff1b",
   "metadata": {},
   "outputs": [],
   "source": [
    "print(data['insured_education_level'].value_counts().sort_values())\n",
    "df=lab_enc.fit_transform(data['insured_education_level'])\n",
    "pd.Series(df)\n",
    "data['insured_education_level']=df"
   ]
  },
  {
   "cell_type": "code",
   "execution_count": null,
   "id": "2f0cf46c",
   "metadata": {},
   "outputs": [],
   "source": [
    "print(data['insured_occupation'].value_counts().sort_values())\n",
    "df=lab_enc.fit_transform(data['insured_occupation'])\n",
    "pd.Series(df)\n",
    "data['insured_occupation']=df"
   ]
  },
  {
   "cell_type": "code",
   "execution_count": null,
   "id": "873caaf9",
   "metadata": {},
   "outputs": [],
   "source": [
    "print(data['insured_hobbies'].value_counts().sort_values())\n",
    "df=lab_enc.fit_transform(data['insured_hobbies'])\n",
    "pd.Series(df)\n",
    "data['insured_hobbies']=df"
   ]
  },
  {
   "cell_type": "code",
   "execution_count": null,
   "id": "43611782",
   "metadata": {},
   "outputs": [],
   "source": [
    "print(data['insured_relationship'].value_counts().sort_values())\n",
    "df=lab_enc.fit_transform(data['insured_relationship'])\n",
    "pd.Series(df)\n",
    "data['insured_relationship']=df"
   ]
  },
  {
   "cell_type": "code",
   "execution_count": null,
   "id": "acedefc4",
   "metadata": {},
   "outputs": [],
   "source": [
    "print(data['incident_date'].value_counts().sort_values())\n",
    "df=lab_enc.fit_transform(data['incident_date'])\n",
    "pd.Series(df)\n",
    "data['incident_date']=df"
   ]
  },
  {
   "cell_type": "code",
   "execution_count": null,
   "id": "20f4d0ea",
   "metadata": {},
   "outputs": [],
   "source": [
    "print(data['incident_type'].value_counts().sort_values())\n",
    "df=lab_enc.fit_transform(data['incident_type'])\n",
    "pd.Series(df)\n",
    "data['incident_type']=df"
   ]
  },
  {
   "cell_type": "code",
   "execution_count": null,
   "id": "f34b7dd4",
   "metadata": {},
   "outputs": [],
   "source": [
    "print(data['collision_type'].value_counts().sort_values())\n",
    "df=lab_enc.fit_transform(data['collision_type'])\n",
    "pd.Series(df)\n",
    "data['collision_type']=df"
   ]
  },
  {
   "cell_type": "code",
   "execution_count": null,
   "id": "7b23fed9",
   "metadata": {},
   "outputs": [],
   "source": [
    "print(data['incident_severity'].value_counts().sort_values())\n",
    "df=lab_enc.fit_transform(data['incident_severity'])\n",
    "pd.Series(df)\n",
    "data['incident_severity']=df"
   ]
  },
  {
   "cell_type": "code",
   "execution_count": null,
   "id": "f2d1f103",
   "metadata": {},
   "outputs": [],
   "source": [
    "print(data['authorities_contacted'].value_counts().sort_values())\n",
    "df=lab_enc.fit_transform(data['authorities_contacted'])\n",
    "pd.Series(df)\n",
    "data['authorities_contacted']=df"
   ]
  },
  {
   "cell_type": "code",
   "execution_count": null,
   "id": "e1e0a51c",
   "metadata": {},
   "outputs": [],
   "source": [
    "print(data['incident_state'].value_counts().sort_values())\n",
    "df=lab_enc.fit_transform(data['incident_state'])\n",
    "pd.Series(df)\n",
    "data['incident_state']=df"
   ]
  },
  {
   "cell_type": "code",
   "execution_count": null,
   "id": "e3775155",
   "metadata": {},
   "outputs": [],
   "source": [
    "print(data['incident_city'].value_counts().sort_values())\n",
    "df=lab_enc.fit_transform(data['incident_city'])\n",
    "pd.Series(df)\n",
    "data['incident_city']=df"
   ]
  },
  {
   "cell_type": "code",
   "execution_count": null,
   "id": "335c3ddd",
   "metadata": {},
   "outputs": [],
   "source": [
    "print(data['incident_location'].value_counts().sort_values())\n",
    "df=lab_enc.fit_transform(data['incident_location'])\n",
    "pd.Series(df)\n",
    "data['incident_location']=df"
   ]
  },
  {
   "cell_type": "code",
   "execution_count": null,
   "id": "ab6292f2",
   "metadata": {},
   "outputs": [],
   "source": [
    "print(data['property_damage'].value_counts().sort_values())\n",
    "df=lab_enc.fit_transform(data['property_damage'])\n",
    "pd.Series(df)\n",
    "data['property_damage']=df"
   ]
  },
  {
   "cell_type": "code",
   "execution_count": null,
   "id": "dd03df3f",
   "metadata": {},
   "outputs": [],
   "source": [
    "print(data['fraud_reported'].value_counts().sort_values())\n",
    "df=lab_enc.fit_transform(data['fraud_reported'])\n",
    "pd.Series(df)\n",
    "data['fraud_reported']=df"
   ]
  },
  {
   "cell_type": "code",
   "execution_count": null,
   "id": "4ee45428",
   "metadata": {},
   "outputs": [],
   "source": [
    "print(data['police_report_available'].value_counts().sort_values())\n",
    "df=lab_enc.fit_transform(data['police_report_available'])\n",
    "pd.Series(df)\n",
    "data['police_report_available']=df"
   ]
  },
  {
   "cell_type": "code",
   "execution_count": null,
   "id": "e02d401f",
   "metadata": {},
   "outputs": [],
   "source": [
    "print(data['auto_make'].value_counts().sort_values())\n",
    "df=lab_enc.fit_transform(data['auto_make'])\n",
    "pd.Series(df)\n",
    "data['auto_make']=df"
   ]
  },
  {
   "cell_type": "code",
   "execution_count": null,
   "id": "a112a8d6",
   "metadata": {},
   "outputs": [],
   "source": [
    "print(data['auto_model'].value_counts().sort_values())\n",
    "df=lab_enc.fit_transform(data['auto_model'])\n",
    "pd.Series(df)\n",
    "data['auto_model']=df"
   ]
  },
  {
   "cell_type": "markdown",
   "id": "d3d419d6",
   "metadata": {},
   "source": [
    "Many features have data \"?\", theyll be considered as \"Other\",\"Unkown\",\"Unsure\""
   ]
  },
  {
   "cell_type": "code",
   "execution_count": null,
   "id": "fd487a69",
   "metadata": {},
   "outputs": [],
   "source": [
    "data.describe()"
   ]
  },
  {
   "cell_type": "code",
   "execution_count": null,
   "id": "1d214b47",
   "metadata": {},
   "outputs": [],
   "source": [
    "data.info()"
   ]
  },
  {
   "cell_type": "code",
   "execution_count": null,
   "id": "28862f51",
   "metadata": {},
   "outputs": [],
   "source": [
    "plt.figure(figsize=(25,25),facecolor='white')\n",
    "p=1\n",
    "for column in data:\n",
    "    if p <=40:\n",
    "        ax=plt.subplot(10,5,p)\n",
    "        sns.distplot(data[column])\n",
    "        plt.xlabel(column,fontsize=20)\n",
    "    p+=1\n",
    "plt.tight_layout()"
   ]
  },
  {
   "cell_type": "code",
   "execution_count": null,
   "id": "5e817e9b",
   "metadata": {},
   "outputs": [],
   "source": [
    "y=data['fraud_reported']\n",
    "x=data.drop(columns=['fraud_reported'])"
   ]
  },
  {
   "cell_type": "code",
   "execution_count": null,
   "id": "ec254558",
   "metadata": {},
   "outputs": [],
   "source": [
    "plt.figure(figsize=(25,25),facecolor='white')\n",
    "plotnumber=1\n",
    "for column in x:\n",
    "    if plotnumber<=40:\n",
    "        ax=plt.subplot(10,4,plotnumber)\n",
    "        plt.scatter(x[column],y)\n",
    "        plt.xlabel(column,fontsize=20)\n",
    "        plt.ylabel('fraud_reported',fontsize=20)\n",
    "    plotnumber+=1\n",
    "plt.tight_layout()"
   ]
  },
  {
   "cell_type": "code",
   "execution_count": null,
   "id": "7d8bb319",
   "metadata": {},
   "outputs": [],
   "source": [
    "data_corr=data.corr().abs()\n",
    "plt.figure(figsize=(50,50))\n",
    "sns.heatmap(data_corr,annot=True,annot_kws={'size':10})\n",
    "plt.show"
   ]
  },
  {
   "cell_type": "code",
   "execution_count": null,
   "id": "e5acae6f",
   "metadata": {},
   "outputs": [],
   "source": [
    "from sklearn.feature_selection import SelectKBest,f_classif"
   ]
  },
  {
   "cell_type": "code",
   "execution_count": null,
   "id": "59969e70",
   "metadata": {},
   "outputs": [],
   "source": [
    "best_features=SelectKBest(score_func=f_classif,k='all')\n",
    "\n",
    "fit=best_features.fit(x,y)\n",
    "\n",
    "data_scores=pd.DataFrame(fit.scores_)\n",
    "\n",
    "data_columns=pd.DataFrame(x.columns)\n",
    "\n",
    "feature_scores=pd.concat([data_columns,data_scores],axis=1)\n",
    "\n",
    "feature_scores.columns=['Feature_Name','Score']\n",
    "\n",
    "print(feature_scores.nlargest(32,'Score'))"
   ]
  },
  {
   "cell_type": "code",
   "execution_count": null,
   "id": "b53dd540",
   "metadata": {},
   "outputs": [],
   "source": [
    "for i, col in enumerate(data.columns):\n",
    "    plt.figure(i)\n",
    "    sns.lineplot(x='fraud_reported',y=col, data=data)"
   ]
  },
  {
   "cell_type": "markdown",
   "id": "6a036753",
   "metadata": {},
   "source": [
    "Based on the line plot, heatmap and selectk, we will use below features"
   ]
  },
  {
   "cell_type": "code",
   "execution_count": null,
   "id": "93492161",
   "metadata": {},
   "outputs": [],
   "source": [
    "y=data['fraud_reported']\n",
    "x=data[['incident_severity','vehicle_claim','total_claim_amount','property_claim','collision_type','injury_claim','policy_bind_date','umbrella_limit','number_of_vehicles_involved','incident_state','incident_type','witnesses','insured_hobbies','authorities_contacted','incident_city','policy_csl','bodily_injuries','insured_sex','property_damage','policy_number','policy_state','police_report_available','auto_make','insured_relationship','months_as_customer','insured_zip','capital-gains','capital-loss','policy_deductable','policy_annual_premium','age']]"
   ]
  },
  {
   "cell_type": "code",
   "execution_count": null,
   "id": "9bb69e59",
   "metadata": {},
   "outputs": [],
   "source": [
    "plt.figure(figsize=(30,40),facecolor='white')\n",
    "plotno=1\n",
    "for column in x:\n",
    "    if plotno<=40:\n",
    "        ax=plt.subplot(10,4,plotno)\n",
    "        sns.boxplot(data=x[column])\n",
    "        plt.xlabel(column,fontsize=15)\n",
    "    plotno+=1\n",
    "plt.show()"
   ]
  },
  {
   "cell_type": "markdown",
   "id": "010ed780",
   "metadata": {},
   "source": [
    "Based on boxplot, we need to remove outliers from property_claim, policy_annual_premium, age"
   ]
  },
  {
   "cell_type": "code",
   "execution_count": null,
   "id": "1c610b02",
   "metadata": {},
   "outputs": [],
   "source": [
    "q1=data.quantile(0.25)\n",
    "q3=data.quantile(0.75)\n",
    "iqr=q3-q1"
   ]
  },
  {
   "cell_type": "code",
   "execution_count": null,
   "id": "d5f4d4ea",
   "metadata": {},
   "outputs": [],
   "source": [
    "PC=(q3.property_claim + (1.5*iqr.property_claim))\n",
    "index=np.where(data['property_claim']>PC)\n",
    "data=data.drop(data.index[index])\n",
    "data.shape"
   ]
  },
  {
   "cell_type": "code",
   "execution_count": null,
   "id": "fba9c029",
   "metadata": {},
   "outputs": [],
   "source": [
    "pap=(q3.policy_annual_premium + (1.5*iqr.policy_annual_premium))\n",
    "index=np.where(data['policy_annual_premium']>pap)\n",
    "data=data.drop(data.index[index])\n",
    "data.shape"
   ]
  },
  {
   "cell_type": "code",
   "execution_count": null,
   "id": "79e7aa03",
   "metadata": {},
   "outputs": [],
   "source": [
    "agee=(q3.age + (1.5*iqr.age))\n",
    "index=np.where(data['age']>pap)\n",
    "data=data.drop(data.index[index])\n",
    "data.shape"
   ]
  },
  {
   "cell_type": "code",
   "execution_count": null,
   "id": "201551a8",
   "metadata": {},
   "outputs": [],
   "source": [
    "y=data['fraud_reported']\n",
    "x=data[['incident_severity','vehicle_claim','total_claim_amount','property_claim','collision_type','injury_claim','policy_bind_date','umbrella_limit','number_of_vehicles_involved','incident_state','incident_type','witnesses','insured_hobbies','authorities_contacted','incident_city','policy_csl','bodily_injuries','insured_sex','property_damage','policy_number','policy_state','police_report_available','auto_make','insured_relationship','months_as_customer','insured_zip','capital-gains','capital-loss','policy_deductable','policy_annual_premium','age']]"
   ]
  },
  {
   "cell_type": "code",
   "execution_count": null,
   "id": "8d7d8e51",
   "metadata": {},
   "outputs": [],
   "source": [
    "scaler=StandardScaler()\n",
    "x_scaled=scaler.fit_transform(x)\n",
    "x_train,x_test,y_train,y_test=train_test_split(x_scaled,y,test_size=0.25,random_state=333)"
   ]
  },
  {
   "cell_type": "code",
   "execution_count": null,
   "id": "5bb92b75",
   "metadata": {},
   "outputs": [],
   "source": [
    "vif=pd.DataFrame()\n",
    "vif['VIF']=[variance_inflation_factor(x_scaled,i) for i in range(x_scaled.shape[1])]\n",
    "vif['Features']=x.columns\n",
    "vif"
   ]
  },
  {
   "cell_type": "markdown",
   "id": "be3f5a7e",
   "metadata": {},
   "source": [
    "No multicollinearity"
   ]
  },
  {
   "cell_type": "code",
   "execution_count": null,
   "id": "742ea4a7",
   "metadata": {},
   "outputs": [],
   "source": [
    "def metric_score(clf,x_train,x_test,y_train,y_test,train=True):\n",
    "    if train:\n",
    "        y_pred=clf.predict(x_train)\n",
    "        print('\\n----Train result----')\n",
    "        print(f'Accuracy Score:{accuracy_score(y_train,y_pred)*100:.2f}%')\n",
    "        \n",
    "    elif train==False:\n",
    "        pred=clf.predict(x_test)\n",
    "        print('\\n----Test result----')\n",
    "        print(f'Accuracy Score:{accuracy_score(y_test,pred)*100:.2f}%')\n",
    "\n",
    "        print('\\n\\n Test Classification report \\n',classification_report(y_test,pred,digits=2))"
   ]
  },
  {
   "cell_type": "code",
   "execution_count": null,
   "id": "4af94107",
   "metadata": {},
   "outputs": [],
   "source": [
    "knn=KNeighborsClassifier()\n",
    "knn.fit(x_train,y_train)"
   ]
  },
  {
   "cell_type": "code",
   "execution_count": null,
   "id": "8ba364e2",
   "metadata": {},
   "outputs": [],
   "source": [
    "metric_score(knn,x_train,x_test,y_train,y_test,train=True)\n",
    "metric_score(knn,x_train,x_test,y_train,y_test,train=False)"
   ]
  },
  {
   "cell_type": "code",
   "execution_count": null,
   "id": "21e4d96f",
   "metadata": {},
   "outputs": [],
   "source": [
    "from sklearn.linear_model import LogisticRegression\n",
    "log_reg=LogisticRegression()\n",
    "log_reg.fit(x_train,y_train)"
   ]
  },
  {
   "cell_type": "code",
   "execution_count": null,
   "id": "cd3d9df8",
   "metadata": {},
   "outputs": [],
   "source": [
    "metric_score(log_reg,x_train,x_test,y_train,y_test,train=True)\n",
    "metric_score(log_reg,x_train,x_test,y_train,y_test,train=False)"
   ]
  },
  {
   "cell_type": "code",
   "execution_count": null,
   "id": "21e13dea",
   "metadata": {},
   "outputs": [],
   "source": [
    "from sklearn.ensemble import RandomForestClassifier\n",
    "rnd_clf=RandomForestClassifier()\n",
    "rnd_clf.fit(x_train,y_train)"
   ]
  },
  {
   "cell_type": "code",
   "execution_count": null,
   "id": "9d3e0e78",
   "metadata": {},
   "outputs": [],
   "source": [
    "metric_score(rnd_clf,x_train,x_test,y_train,y_test,train=True)\n",
    "metric_score(rnd_clf,x_train,x_test,y_train,y_test,train=False)"
   ]
  },
  {
   "cell_type": "code",
   "execution_count": null,
   "id": "8d2448c8",
   "metadata": {},
   "outputs": [],
   "source": [
    "from sklearn.ensemble import BaggingClassifier"
   ]
  },
  {
   "cell_type": "code",
   "execution_count": null,
   "id": "870e1d87",
   "metadata": {},
   "outputs": [],
   "source": [
    "bag_knn=BaggingClassifier(KNeighborsClassifier(n_neighbors=9),\n",
    "                          n_estimators=6,max_samples=0.75,\n",
    "                          bootstrap=True,random_state=366,oob_score=True)"
   ]
  },
  {
   "cell_type": "code",
   "execution_count": null,
   "id": "3922f9f0",
   "metadata": {},
   "outputs": [],
   "source": [
    "bag_knn.fit(x_train,y_train)"
   ]
  },
  {
   "cell_type": "code",
   "execution_count": null,
   "id": "0d7465ec",
   "metadata": {},
   "outputs": [],
   "source": [
    "metric_score(bag_knn,x_train,x_test,y_train,y_test,train=True)\n",
    "metric_score(bag_knn,x_train,x_test,y_train,y_test,train=False)"
   ]
  },
  {
   "cell_type": "code",
   "execution_count": null,
   "id": "2d0581f6",
   "metadata": {},
   "outputs": [],
   "source": [
    "svc=SVC()\n",
    "svc.fit(x_train,y_train)"
   ]
  },
  {
   "cell_type": "code",
   "execution_count": null,
   "id": "33da6495",
   "metadata": {},
   "outputs": [],
   "source": [
    "metric_score(svc,x_train,x_test,y_train,y_test,train=True)\n",
    "metric_score(svc,x_train,x_test,y_train,y_test,train=False)"
   ]
  },
  {
   "cell_type": "code",
   "execution_count": null,
   "id": "f00340aa",
   "metadata": {},
   "outputs": [],
   "source": [
    "clf=DecisionTreeClassifier()\n",
    "clf.fit(x_train,y_train)"
   ]
  },
  {
   "cell_type": "code",
   "execution_count": null,
   "id": "d545c346",
   "metadata": {},
   "outputs": [],
   "source": [
    "metric_score(clf,x_train,x_test,y_train,y_test,train=True)\n",
    "metric_score(clf,x_train,x_test,y_train,y_test,train=False)"
   ]
  },
  {
   "cell_type": "code",
   "execution_count": null,
   "id": "6f874dd6",
   "metadata": {},
   "outputs": [],
   "source": [
    "grid_param={'criterion':['gini','entropy'],\n",
    "           'max_depth':range(5,20),\n",
    "           'min_samples_leaf':range(2,15),\n",
    "           'min_samples_split':range(1,15),\n",
    "           'max_leaf_nodes':range(1,15)}"
   ]
  },
  {
   "cell_type": "code",
   "execution_count": null,
   "id": "c52834e1",
   "metadata": {},
   "outputs": [],
   "source": [
    "grid_search = GridSearchCV(estimator=clf,\n",
    "                           param_grid=grid_param,\n",
    "                           cv=10,\n",
    "                           n_jobs=-1)"
   ]
  },
  {
   "cell_type": "code",
   "execution_count": null,
   "id": "18d1f0b4",
   "metadata": {},
   "outputs": [],
   "source": [
    "grid_search.fit(x_train,y_train)"
   ]
  },
  {
   "cell_type": "code",
   "execution_count": null,
   "id": "a7b4ac69",
   "metadata": {},
   "outputs": [],
   "source": [
    "best_parameters=grid_search.best_params_\n",
    "print(best_parameters)"
   ]
  },
  {
   "cell_type": "code",
   "execution_count": null,
   "id": "a46e28a4",
   "metadata": {},
   "outputs": [],
   "source": [
    "dclf=DecisionTreeClassifier(criterion='entropy',max_depth= 10, max_leaf_nodes= 5, min_samples_leaf= 2, min_samples_split= 3)"
   ]
  },
  {
   "cell_type": "code",
   "execution_count": null,
   "id": "abd27dda",
   "metadata": {},
   "outputs": [],
   "source": [
    "dclf.fit(x_train,y_train)"
   ]
  },
  {
   "cell_type": "code",
   "execution_count": null,
   "id": "3baa9d07",
   "metadata": {},
   "outputs": [],
   "source": [
    "metric_score(dclf,x_train,x_test,y_train,y_test,train=True)\n",
    "metric_score(dclf,x_train,x_test,y_train,y_test,train=False)"
   ]
  },
  {
   "cell_type": "code",
   "execution_count": null,
   "id": "a04d599e",
   "metadata": {},
   "outputs": [],
   "source": [
    "from sklearn.model_selection import KFold,cross_val_score\n",
    "cross_val_score(dclf,x_scaled,y,cv=10)"
   ]
  },
  {
   "cell_type": "markdown",
   "id": "7bc03d8c",
   "metadata": {},
   "source": [
    "Based on Cross validation, train test scores and accuracy scores, its clear Decision Tree classifier with hyper parameter tuning is the best model"
   ]
  },
  {
   "cell_type": "code",
   "execution_count": null,
   "id": "b423d57f",
   "metadata": {},
   "outputs": [],
   "source": [
    "y_pred=log_reg.predict(x_test)\n",
    "confusion_mat = confusion_matrix(y_test,y_pred)\n",
    "print(confusion_mat)"
   ]
  },
  {
   "cell_type": "code",
   "execution_count": null,
   "id": "39c3703b",
   "metadata": {},
   "outputs": [],
   "source": [
    "pickle.dump(dclf,open('Insurance Fraud','wb'))"
   ]
  },
  {
   "cell_type": "code",
   "execution_count": null,
   "id": "d2a43981",
   "metadata": {},
   "outputs": [],
   "source": []
  }
 ],
 "metadata": {
  "kernelspec": {
   "display_name": "Python 3 (ipykernel)",
   "language": "python",
   "name": "python3"
  },
  "language_info": {
   "codemirror_mode": {
    "name": "ipython",
    "version": 3
   },
   "file_extension": ".py",
   "mimetype": "text/x-python",
   "name": "python",
   "nbconvert_exporter": "python",
   "pygments_lexer": "ipython3",
   "version": "3.9.12"
  }
 },
 "nbformat": 4,
 "nbformat_minor": 5
}
