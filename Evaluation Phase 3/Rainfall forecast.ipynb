{
 "cells": [
  {
   "cell_type": "code",
   "execution_count": null,
   "id": "afaa1539",
   "metadata": {},
   "outputs": [],
   "source": [
    "import pandas as pd\n",
    "import matplotlib.pyplot as plt\n",
    "import pickle\n",
    "%matplotlib inline\n",
    "import numpy as np\n",
    "from sklearn.preprocessing import StandardScaler\n",
    "from sklearn.linear_model import LinearRegression\n",
    "from sklearn.svm import SVC\n",
    "import seaborn as sns\n",
    "import warnings\n",
    "warnings.filterwarnings('ignore')\n",
    "from statsmodels.stats.outliers_influence import variance_inflation_factor\n",
    "from sklearn.metrics import accuracy_score, confusion_matrix,roc_curve,roc_auc_score\n",
    "from sklearn.tree import DecisionTreeClassifier\n",
    "from sklearn.preprocessing import LabelEncoder\n",
    "from sklearn.neighbors import KNeighborsClassifier\n",
    "from sklearn.model_selection import train_test_split,GridSearchCV\n",
    "from sklearn.metrics import classification_report\n",
    "from sklearn.feature_selection import SelectKBest,f_classif\n",
    "from sklearn.ensemble import RandomForestClassifier\n",
    "from sklearn.linear_model import LogisticRegression\n",
    "from sklearn.ensemble import BaggingClassifier\n",
    "from sklearn.model_selection import KFold,cross_val_score\n",
    "from sklearn.metrics import r2_score, mean_squared_error, mean_absolute_error\n",
    "from sklearn.linear_model import Lasso,Ridge,RidgeCV,LassoCV"
   ]
  },
  {
   "cell_type": "code",
   "execution_count": null,
   "id": "61284673",
   "metadata": {},
   "outputs": [],
   "source": [
    "data=pd.read_csv('https://raw.githubusercontent.com/dsrscientist/dataset3/main/weatherAUS.csv')\n",
    "data.head()"
   ]
  },
  {
   "cell_type": "code",
   "execution_count": null,
   "id": "b6a0dd9f",
   "metadata": {},
   "outputs": [],
   "source": [
    "data=pd.read_csv('weatherAUS.csv')\n",
    "data\n",
    "#To be used in case raw file link of github isnt working"
   ]
  },
  {
   "cell_type": "code",
   "execution_count": null,
   "id": "43bfd66e",
   "metadata": {},
   "outputs": [],
   "source": [
    "data.describe()"
   ]
  },
  {
   "cell_type": "code",
   "execution_count": null,
   "id": "60e27e07",
   "metadata": {},
   "outputs": [],
   "source": [
    "data.info()"
   ]
  },
  {
   "cell_type": "code",
   "execution_count": null,
   "id": "4f62549d",
   "metadata": {},
   "outputs": [],
   "source": [
    "data.isna().sum()"
   ]
  },
  {
   "cell_type": "markdown",
   "id": "de05c2bc",
   "metadata": {},
   "source": [
    "Both imputation and encoding is needed"
   ]
  },
  {
   "cell_type": "code",
   "execution_count": null,
   "id": "4f0d80ce",
   "metadata": {},
   "outputs": [],
   "source": [
    "data['MinTemp']=data['MinTemp'].fillna(data['MinTemp'].mean())\n",
    "data['MaxTemp']=data['MaxTemp'].fillna(data['MaxTemp'].mean())\n",
    "data['Rainfall']=data['Rainfall'].fillna(data['Rainfall'].mean())\n",
    "data['Evaporation']=data['Evaporation'].fillna(data['Evaporation'].mean())\n",
    "data['Sunshine']=data['Sunshine'].fillna(data['Sunshine'].mean())\n",
    "data['WindGustSpeed']=data['WindGustSpeed'].fillna(data['WindGustSpeed'].mean())\n",
    "data['WindSpeed9am']=data['WindSpeed9am'].fillna(data['WindSpeed9am'].mean())\n",
    "data['WindSpeed3pm']=data['WindSpeed3pm'].fillna(data['WindSpeed3pm'].mean())\n",
    "data['Humidity9am']=data['Humidity9am'].fillna(data['Humidity9am'].mean())\n",
    "data['Humidity3pm']=data['Humidity3pm'].fillna(data['Humidity3pm'].mean())\n",
    "data['Pressure9am']=data['Pressure9am'].fillna(data['Pressure9am'].mean())\n",
    "data['Pressure3pm']=data['Pressure3pm'].fillna(data['Pressure3pm'].mean())\n",
    "data['Cloud9am']=data['Cloud9am'].fillna(data['Cloud9am'].mean())\n",
    "data['Cloud3pm']=data['Cloud3pm'].fillna(data['Cloud3pm'].mean())\n",
    "data['Temp9am']=data['Temp9am'].fillna(data['Temp9am'].mean())\n",
    "data['Temp3pm']=data['Temp3pm'].fillna(data['Temp3pm'].mean())"
   ]
  },
  {
   "cell_type": "code",
   "execution_count": null,
   "id": "114dd007",
   "metadata": {},
   "outputs": [],
   "source": [
    "data['WindGustDir']=data['WindGustDir'].fillna(data['WindGustDir'].mode()[0])\n",
    "data['WindDir9am']=data['WindDir9am'].fillna(data['WindDir9am'].mode()[0])\n",
    "data['WindDir3pm']=data['WindDir3pm'].fillna(data['WindDir3pm'].mode()[0])\n",
    "data['RainToday']=data['RainToday'].fillna(data['RainToday'].mode()[0])\n",
    "data['RainTomorrow']=data['RainTomorrow'].fillna(data['RainTomorrow'].mode()[0])"
   ]
  },
  {
   "cell_type": "code",
   "execution_count": null,
   "id": "b4fc30c6",
   "metadata": {},
   "outputs": [],
   "source": [
    "data.isna().sum()"
   ]
  },
  {
   "cell_type": "code",
   "execution_count": null,
   "id": "6c77787f",
   "metadata": {},
   "outputs": [],
   "source": [
    "data.info()"
   ]
  },
  {
   "cell_type": "code",
   "execution_count": null,
   "id": "edceb39e",
   "metadata": {},
   "outputs": [],
   "source": [
    "lab_enc=LabelEncoder()"
   ]
  },
  {
   "cell_type": "code",
   "execution_count": null,
   "id": "97c52695",
   "metadata": {},
   "outputs": [],
   "source": [
    "print(data['Date'].value_counts().sort_values())\n",
    "df=lab_enc.fit_transform(data['Date'])\n",
    "pd.Series(df)\n",
    "data['Date']=df"
   ]
  },
  {
   "cell_type": "code",
   "execution_count": null,
   "id": "3862c3e1",
   "metadata": {},
   "outputs": [],
   "source": [
    "print(data['Location'].value_counts().sort_values())\n",
    "df=lab_enc.fit_transform(data['Location'])\n",
    "pd.Series(df)\n",
    "data['Location']=df"
   ]
  },
  {
   "cell_type": "code",
   "execution_count": null,
   "id": "ddd1d74f",
   "metadata": {},
   "outputs": [],
   "source": [
    "print(data['WindGustDir'].value_counts().sort_values())\n",
    "df=lab_enc.fit_transform(data['WindGustDir'])\n",
    "pd.Series(df)\n",
    "data['WindGustDir']=df"
   ]
  },
  {
   "cell_type": "code",
   "execution_count": null,
   "id": "84409e95",
   "metadata": {},
   "outputs": [],
   "source": [
    "print(data['WindDir9am'].value_counts().sort_values())\n",
    "df=lab_enc.fit_transform(data['WindDir9am'])\n",
    "pd.Series(df)\n",
    "data['WindDir9am']=df"
   ]
  },
  {
   "cell_type": "code",
   "execution_count": null,
   "id": "607fba59",
   "metadata": {},
   "outputs": [],
   "source": [
    "print(data['WindDir3pm'].value_counts().sort_values())\n",
    "df=lab_enc.fit_transform(data['WindDir3pm'])\n",
    "pd.Series(df)\n",
    "data['WindDir3pm']=df"
   ]
  },
  {
   "cell_type": "code",
   "execution_count": null,
   "id": "b5e3315e",
   "metadata": {},
   "outputs": [],
   "source": [
    "print(data['RainToday'].value_counts().sort_values())\n",
    "df=lab_enc.fit_transform(data['RainToday'])\n",
    "pd.Series(df)\n",
    "data['RainToday']=df"
   ]
  },
  {
   "cell_type": "code",
   "execution_count": null,
   "id": "6b7c30d6",
   "metadata": {},
   "outputs": [],
   "source": [
    "print(data['RainTomorrow'].value_counts().sort_values())\n",
    "df=lab_enc.fit_transform(data['RainTomorrow'])\n",
    "pd.Series(df)\n",
    "data['RainTomorrow']=df"
   ]
  },
  {
   "cell_type": "code",
   "execution_count": null,
   "id": "85436dcb",
   "metadata": {},
   "outputs": [],
   "source": [
    "plt.figure(figsize=(25,25),facecolor='white')\n",
    "p=1\n",
    "for column in data:\n",
    "    if p <=24:\n",
    "        ax=plt.subplot(5,5,p)\n",
    "        sns.distplot(data[column])\n",
    "        plt.xlabel(column,fontsize=20)\n",
    "    p+=1\n",
    "plt.tight_layout()"
   ]
  },
  {
   "cell_type": "markdown",
   "id": "d912869b",
   "metadata": {},
   "source": [
    "# 1 Whether it will rain tomorrow"
   ]
  },
  {
   "cell_type": "code",
   "execution_count": null,
   "id": "703d740d",
   "metadata": {},
   "outputs": [],
   "source": [
    "y=data['RainTomorrow']\n",
    "x=data.drop(columns=['RainTomorrow'])"
   ]
  },
  {
   "cell_type": "code",
   "execution_count": null,
   "id": "cddb8465",
   "metadata": {},
   "outputs": [],
   "source": [
    "plt.figure(figsize=(25,25),facecolor='white')\n",
    "plotnumber=1\n",
    "for column in x:\n",
    "    if plotnumber<=21:\n",
    "        ax=plt.subplot(7,3,plotnumber)\n",
    "        plt.scatter(x[column],y)\n",
    "        plt.xlabel(column,fontsize=20)\n",
    "        plt.ylabel('RainTomorrow',fontsize=20)\n",
    "    plotnumber+=1\n",
    "plt.tight_layout()"
   ]
  },
  {
   "cell_type": "code",
   "execution_count": null,
   "id": "5532a7cd",
   "metadata": {},
   "outputs": [],
   "source": [
    "data_corr=data.corr().abs()\n",
    "plt.figure(figsize=(20,20))\n",
    "sns.heatmap(data_corr,annot=True,annot_kws={'size':10})\n",
    "plt.show"
   ]
  },
  {
   "cell_type": "code",
   "execution_count": null,
   "id": "55916e2d",
   "metadata": {},
   "outputs": [],
   "source": [
    "best_features=SelectKBest(score_func=f_classif,k='all')\n",
    "\n",
    "fit=best_features.fit(x,y)\n",
    "\n",
    "data_scores=pd.DataFrame(fit.scores_)\n",
    "\n",
    "data_columns=pd.DataFrame(x.columns)\n",
    "\n",
    "feature_scores=pd.concat([data_columns,data_scores],axis=1)\n",
    "\n",
    "feature_scores.columns=['Feature_Name','Score']\n",
    "\n",
    "print(feature_scores.nlargest(18,'Score'))"
   ]
  },
  {
   "cell_type": "code",
   "execution_count": null,
   "id": "94c22ed7",
   "metadata": {},
   "outputs": [],
   "source": [
    "for i, col in enumerate(data.columns):\n",
    "    plt.figure(i)\n",
    "    sns.lineplot(x='RainTomorrow',y=col, data=data)"
   ]
  },
  {
   "cell_type": "markdown",
   "id": "3dbcdff5",
   "metadata": {},
   "source": [
    "Based on heatmap, lineplot and Selectk, we will move ahead with below features"
   ]
  },
  {
   "cell_type": "code",
   "execution_count": null,
   "id": "e48ce352",
   "metadata": {},
   "outputs": [],
   "source": [
    "y=data['RainTomorrow']\n",
    "x=data[['Cloud3pm','Sunshine','RainToday','Cloud9am','Humidity9am','Rainfall','Temp3pm','WindGustSpeed','Pressure9am','MaxTemp','Pressure3pm','MinTemp','WindSpeed9am','Evaporation','WindSpeed3pm','WindGustDir','WindDir9am']]"
   ]
  },
  {
   "cell_type": "code",
   "execution_count": null,
   "id": "22c900c1",
   "metadata": {},
   "outputs": [],
   "source": [
    "plt.figure(figsize=(30,40),facecolor='white')\n",
    "plotno=1\n",
    "for column in x:\n",
    "    if plotno<=20:\n",
    "        ax=plt.subplot(5,4,plotno)\n",
    "        sns.boxplot(data=x[column])\n",
    "        plt.xlabel(column,fontsize=20)\n",
    "    plotno+=1\n",
    "plt.show()"
   ]
  },
  {
   "cell_type": "markdown",
   "id": "ba8af115",
   "metadata": {},
   "source": [
    "We need to remove outliers from temp3pm, maxtemp, windspeed9am, windspeed3pm, humidity9am"
   ]
  },
  {
   "cell_type": "code",
   "execution_count": null,
   "id": "cf628333",
   "metadata": {},
   "outputs": [],
   "source": [
    "q1=data.quantile(0.25)\n",
    "q3=data.quantile(0.75)\n",
    "iqr=q3-q1"
   ]
  },
  {
   "cell_type": "code",
   "execution_count": null,
   "id": "50a8e0cd",
   "metadata": {},
   "outputs": [],
   "source": [
    "MTh=(q3.MaxTemp + (1.5*iqr.MaxTemp))\n",
    "index=np.where(data['MaxTemp']>MTh)\n",
    "data=data.drop(data.index[index])\n",
    "data.shape"
   ]
  },
  {
   "cell_type": "code",
   "execution_count": null,
   "id": "0a90b4d9",
   "metadata": {},
   "outputs": [],
   "source": [
    "hml=(q3.Humidity9am - (1.5*iqr.Humidity9am))\n",
    "index=np.where(data['Humidity9am']<ssl)\n",
    "data=data.drop(data.index[index])\n",
    "data.shape"
   ]
  },
  {
   "cell_type": "code",
   "execution_count": null,
   "id": "5c5dbc57",
   "metadata": {},
   "outputs": [],
   "source": [
    "wsh=(q3.WindSpeed9am + (1.5*iqr.WindSpeed9am))\n",
    "index=np.where(data['WindSpeed9am']>wsh)\n",
    "data=data.drop(data.index[index])\n",
    "data.shape"
   ]
  },
  {
   "cell_type": "code",
   "execution_count": null,
   "id": "c5c5f857",
   "metadata": {},
   "outputs": [],
   "source": [
    "wsh=(q3.WindSpeed3pm + (1.5*iqr.WindSpeed3pm))\n",
    "index=np.where(data['WindSpeed3pm']>wsh)\n",
    "data=data.drop(data.index[index])\n",
    "data.shape"
   ]
  },
  {
   "cell_type": "code",
   "execution_count": null,
   "id": "c25873b8",
   "metadata": {},
   "outputs": [],
   "source": [
    "y=data['RainTomorrow']\n",
    "x=data[['Cloud3pm','Sunshine','RainToday','Cloud9am','Humidity9am','Rainfall','Temp3pm','WindGustSpeed','Pressure9am','MaxTemp','Pressure3pm','MinTemp','WindSpeed9am','Evaporation','WindSpeed3pm','WindGustDir','WindDir9am']]"
   ]
  },
  {
   "cell_type": "code",
   "execution_count": null,
   "id": "5b74338f",
   "metadata": {},
   "outputs": [],
   "source": [
    "scaler=StandardScaler()\n",
    "x_scaled=scaler.fit_transform(x)\n",
    "x_train,x_test,y_train,y_test=train_test_split(x_scaled,y,test_size=0.25,random_state=333)"
   ]
  },
  {
   "cell_type": "code",
   "execution_count": null,
   "id": "172075a7",
   "metadata": {},
   "outputs": [],
   "source": [
    "vif=pd.DataFrame()\n",
    "vif['VIF']=[variance_inflation_factor(x_scaled,i) for i in range(x_scaled.shape[1])]\n",
    "vif['Features']=x.columns\n",
    "vif"
   ]
  },
  {
   "cell_type": "code",
   "execution_count": null,
   "id": "df03dd79",
   "metadata": {},
   "outputs": [],
   "source": [
    "def metric_score(clf,x_train,x_test,y_train,y_test,train=True):\n",
    "    if train:\n",
    "        y_pred=clf.predict(x_train)\n",
    "        print('\\n----Train result----')\n",
    "        print(f'Accuracy Score:{accuracy_score(y_train,y_pred)*100:.2f}%')\n",
    "        \n",
    "    elif train==False:\n",
    "        pred=clf.predict(x_test)\n",
    "        print('\\n----Test result----')\n",
    "        print(f'Accuracy Score:{accuracy_score(y_test,pred)*100:.2f}%')\n",
    "\n",
    "        print('\\n\\n Test Classification report \\n',classification_report(y_test,pred,digits=2))"
   ]
  },
  {
   "cell_type": "code",
   "execution_count": null,
   "id": "3bc3990a",
   "metadata": {},
   "outputs": [],
   "source": [
    "knn=KNeighborsClassifier()\n",
    "knn.fit(x_train,y_train)"
   ]
  },
  {
   "cell_type": "code",
   "execution_count": null,
   "id": "8feda357",
   "metadata": {},
   "outputs": [],
   "source": [
    "metric_score(knn,x_train,x_test,y_train,y_test,train=True)\n",
    "metric_score(knn,x_train,x_test,y_train,y_test,train=False)"
   ]
  },
  {
   "cell_type": "code",
   "execution_count": null,
   "id": "2c78ed33",
   "metadata": {},
   "outputs": [],
   "source": [
    "log_reg=LogisticRegression()\n",
    "log_reg.fit(x_train,y_train)"
   ]
  },
  {
   "cell_type": "code",
   "execution_count": null,
   "id": "4236d8ae",
   "metadata": {},
   "outputs": [],
   "source": [
    "metric_score(log_reg,x_train,x_test,y_train,y_test,train=True)\n",
    "metric_score(log_reg,x_train,x_test,y_train,y_test,train=False)"
   ]
  },
  {
   "cell_type": "code",
   "execution_count": null,
   "id": "ba5e63ea",
   "metadata": {},
   "outputs": [],
   "source": [
    "rnd_clf=RandomForestClassifier()\n",
    "rnd_clf.fit(x_train,y_train)"
   ]
  },
  {
   "cell_type": "code",
   "execution_count": null,
   "id": "7e8f3cf4",
   "metadata": {},
   "outputs": [],
   "source": [
    "metric_score(rnd_clf,x_train,x_test,y_train,y_test,train=True)\n",
    "metric_score(rnd_clf,x_train,x_test,y_train,y_test,train=False)"
   ]
  },
  {
   "cell_type": "code",
   "execution_count": null,
   "id": "4cc90e93",
   "metadata": {},
   "outputs": [],
   "source": [
    "bag_knn=BaggingClassifier(KNeighborsClassifier(n_neighbors=9),\n",
    "                          n_estimators=6,max_samples=0.75,\n",
    "                          bootstrap=True,random_state=366,oob_score=True)"
   ]
  },
  {
   "cell_type": "code",
   "execution_count": null,
   "id": "ad2602f6",
   "metadata": {},
   "outputs": [],
   "source": [
    "bag_knn.fit(x_train,y_train)"
   ]
  },
  {
   "cell_type": "code",
   "execution_count": null,
   "id": "7e797f8c",
   "metadata": {},
   "outputs": [],
   "source": [
    "metric_score(bag_knn,x_train,x_test,y_train,y_test,train=True)\n",
    "metric_score(bag_knn,x_train,x_test,y_train,y_test,train=False)"
   ]
  },
  {
   "cell_type": "code",
   "execution_count": null,
   "id": "b2634b8a",
   "metadata": {},
   "outputs": [],
   "source": [
    "svc=SVC()\n",
    "svc.fit(x_train,y_train)"
   ]
  },
  {
   "cell_type": "code",
   "execution_count": null,
   "id": "f9939516",
   "metadata": {},
   "outputs": [],
   "source": [
    "metric_score(svc,x_train,x_test,y_train,y_test,train=True)\n",
    "metric_score(svc,x_train,x_test,y_train,y_test,train=False)"
   ]
  },
  {
   "cell_type": "code",
   "execution_count": null,
   "id": "1c0def29",
   "metadata": {},
   "outputs": [],
   "source": [
    "clf=DecisionTreeClassifier()\n",
    "clf.fit(x_train,y_train)"
   ]
  },
  {
   "cell_type": "code",
   "execution_count": null,
   "id": "319af1f7",
   "metadata": {},
   "outputs": [],
   "source": [
    "metric_score(clf,x_train,x_test,y_train,y_test,train=True)\n",
    "metric_score(clf,x_train,x_test,y_train,y_test,train=False)"
   ]
  },
  {
   "cell_type": "code",
   "execution_count": null,
   "id": "2e139032",
   "metadata": {},
   "outputs": [],
   "source": [
    "grid_param={'criterion':['gini','entropy'],\n",
    "           'max_depth':range(10,15),\n",
    "           'min_samples_leaf':range(2,6),\n",
    "           'min_samples_split':range(3,8),\n",
    "           'max_leaf_nodes':range(5,10)}"
   ]
  },
  {
   "cell_type": "code",
   "execution_count": null,
   "id": "303e1081",
   "metadata": {},
   "outputs": [],
   "source": [
    "grid_search = GridSearchCV(estimator=clf,\n",
    "                           param_grid=grid_param,\n",
    "                           cv=5,\n",
    "                           n_jobs=-1)"
   ]
  },
  {
   "cell_type": "code",
   "execution_count": null,
   "id": "e1573aa4",
   "metadata": {},
   "outputs": [],
   "source": [
    "grid_search.fit(x_train,y_train)"
   ]
  },
  {
   "cell_type": "code",
   "execution_count": null,
   "id": "b69f1235",
   "metadata": {},
   "outputs": [],
   "source": [
    "best_parameters=grid_search.best_params_\n",
    "print(best_parameters)"
   ]
  },
  {
   "cell_type": "code",
   "execution_count": null,
   "id": "d5fadcce",
   "metadata": {},
   "outputs": [],
   "source": [
    "dclf=DecisionTreeClassifier(criterion='gini',max_depth= 10, max_leaf_nodes= 9, min_samples_leaf= 2, min_samples_split= 3)"
   ]
  },
  {
   "cell_type": "code",
   "execution_count": null,
   "id": "cbaca782",
   "metadata": {},
   "outputs": [],
   "source": [
    "dclf.fit(x_train,y_train)"
   ]
  },
  {
   "cell_type": "code",
   "execution_count": null,
   "id": "2d3535fb",
   "metadata": {},
   "outputs": [],
   "source": [
    "metric_score(dclf,x_train,x_test,y_train,y_test,train=True)\n",
    "metric_score(dclf,x_train,x_test,y_train,y_test,train=False)"
   ]
  },
  {
   "cell_type": "markdown",
   "id": "041453b9",
   "metadata": {},
   "source": [
    "Decision Tree amplified by Hyper parameter tuning is giving the best result"
   ]
  },
  {
   "cell_type": "code",
   "execution_count": null,
   "id": "c73a8217",
   "metadata": {},
   "outputs": [],
   "source": [
    "from sklearn.model_selection import KFold,cross_val_score\n",
    "cross_val_score(dclf,x_scaled,y,cv=10)"
   ]
  },
  {
   "cell_type": "code",
   "execution_count": null,
   "id": "094f9e61",
   "metadata": {},
   "outputs": [],
   "source": [
    "y_pred=log_reg.predict(x_test)\n",
    "confusion_mat = confusion_matrix(y_test,y_pred)\n",
    "print(confusion_mat)"
   ]
  },
  {
   "cell_type": "code",
   "execution_count": null,
   "id": "ded60b57",
   "metadata": {},
   "outputs": [],
   "source": [
    "pickle.dump(dclf,open('Rain prediction','wb'))"
   ]
  },
  {
   "cell_type": "markdown",
   "id": "7cb6fcc7",
   "metadata": {},
   "source": [
    "# 2 Amount of Rainfall"
   ]
  },
  {
   "cell_type": "code",
   "execution_count": null,
   "id": "ab82c033",
   "metadata": {},
   "outputs": [],
   "source": []
  },
  {
   "cell_type": "code",
   "execution_count": null,
   "id": "cbad91ee",
   "metadata": {},
   "outputs": [],
   "source": [
    "x=data.drop(columns=['Rainfall'])\n",
    "y=data['Rainfall']"
   ]
  },
  {
   "cell_type": "code",
   "execution_count": null,
   "id": "494fdf6a",
   "metadata": {},
   "outputs": [],
   "source": [
    "plt.figure(figsize=(15,15),facecolor='white')\n",
    "plotnumber=1\n",
    "for column in x:\n",
    "    if plotnumber<=25:\n",
    "        ax=plt.subplot(6,4,plotnumber)\n",
    "        plt.scatter(x[column],y)\n",
    "        plt.xlabel(column,fontsize=10)\n",
    "        plt.ylabel('Rainfall',fontsize=10)\n",
    "    plotnumber+=1\n",
    "plt.tight_layout()"
   ]
  },
  {
   "cell_type": "code",
   "execution_count": null,
   "id": "ebd49a5a",
   "metadata": {},
   "outputs": [],
   "source": [
    "for i, col in enumerate(data.columns):\n",
    "    plt.figure(i)\n",
    "    sns.lineplot(y='Rainfall',x=col, data=data)"
   ]
  },
  {
   "cell_type": "code",
   "execution_count": null,
   "id": "e41ad03b",
   "metadata": {},
   "outputs": [],
   "source": [
    "best_features=SelectKBest(score_func=f_classif,k='all')\n",
    "\n",
    "fit=best_features.fit(x,y)\n",
    "\n",
    "data_scores=pd.DataFrame(fit.scores_)\n",
    "\n",
    "data_columns=pd.DataFrame(x.columns)\n",
    "\n",
    "feature_scores=pd.concat([data_columns,data_scores],axis=1)\n",
    "\n",
    "feature_scores.columns=['Feature_Name','Score']\n",
    "\n",
    "print(feature_scores.nlargest(19,'Score'))"
   ]
  },
  {
   "cell_type": "code",
   "execution_count": null,
   "id": "11e4bea9",
   "metadata": {},
   "outputs": [],
   "source": [
    "y=data['Rainfall']\n",
    "x=data[['RainToday','Evaporation','Humidity9am','Humidity3pm','RainTomorrow','Cloud9am','Sunshine','Cloud3pm','Temp3pm','MaxTemp','Pressure9am','WindGustSpeed','WindDir9am','WindSpeed3pm','WindGustDir','Pressure3pm','WindSpeed9am','Temp9am']]"
   ]
  },
  {
   "cell_type": "code",
   "execution_count": null,
   "id": "a34b0051",
   "metadata": {},
   "outputs": [],
   "source": [
    "scaler=StandardScaler()\n",
    "x_scaled=scaler.fit_transform(x)"
   ]
  },
  {
   "cell_type": "code",
   "execution_count": null,
   "id": "a381f04f",
   "metadata": {},
   "outputs": [],
   "source": [
    "vif=pd.DataFrame()\n",
    "vif['vif']=[variance_inflation_factor(x_scaled,i) for i in range(x_scaled.shape[1])]\n",
    "vif['Features']=x.columns\n",
    "vif"
   ]
  },
  {
   "cell_type": "code",
   "execution_count": null,
   "id": "e3370b25",
   "metadata": {},
   "outputs": [],
   "source": [
    "x_train,x_test,y_train,y_test=train_test_split(x_scaled,y,test_size=0.22,random_state=44)"
   ]
  },
  {
   "cell_type": "code",
   "execution_count": null,
   "id": "95bd165e",
   "metadata": {},
   "outputs": [],
   "source": [
    "reg=LinearRegression()\n",
    "reg.fit(x_train,y_train)"
   ]
  },
  {
   "cell_type": "code",
   "execution_count": null,
   "id": "1efc2d55",
   "metadata": {},
   "outputs": [],
   "source": [
    "reg.score(x_train,y_train)"
   ]
  },
  {
   "cell_type": "code",
   "execution_count": null,
   "id": "f38ec612",
   "metadata": {},
   "outputs": [],
   "source": [
    "reg.score(x_test,y_test)"
   ]
  },
  {
   "cell_type": "code",
   "execution_count": null,
   "id": "c1e77b9c",
   "metadata": {},
   "outputs": [],
   "source": [
    "lasscv=LassoCV(alphas=None,max_iter=300,normalize=True)\n",
    "lasscv.fit(x_train,y_train)"
   ]
  },
  {
   "cell_type": "code",
   "execution_count": null,
   "id": "e40328eb",
   "metadata": {},
   "outputs": [],
   "source": [
    "alpha=lasscv.alpha_\n",
    "alpha"
   ]
  },
  {
   "cell_type": "code",
   "execution_count": null,
   "id": "98ab9c4d",
   "metadata": {},
   "outputs": [],
   "source": [
    "lasso_reg=Lasso(alpha)\n",
    "lasso_reg.fit(x_train,y_train)"
   ]
  },
  {
   "cell_type": "code",
   "execution_count": null,
   "id": "cc0f5510",
   "metadata": {},
   "outputs": [],
   "source": [
    "lasso_reg.score(x_train,y_train)"
   ]
  },
  {
   "cell_type": "code",
   "execution_count": null,
   "id": "0f94db0a",
   "metadata": {},
   "outputs": [],
   "source": [
    "lasso_reg.score(x_test,y_test)"
   ]
  },
  {
   "cell_type": "code",
   "execution_count": null,
   "id": "ee7bbb60",
   "metadata": {},
   "outputs": [],
   "source": [
    "ridgecv=RidgeCV(alphas=np.arange(0.002,0.1,0.02),normalize=True)\n",
    "ridgecv.fit(x_train,y_train)"
   ]
  },
  {
   "cell_type": "code",
   "execution_count": null,
   "id": "b0bb3c24",
   "metadata": {},
   "outputs": [],
   "source": [
    "ridgecv.alpha_"
   ]
  },
  {
   "cell_type": "code",
   "execution_count": null,
   "id": "4eafcd22",
   "metadata": {},
   "outputs": [],
   "source": [
    "ridge_model=Ridge(alpha=ridgecv.alpha_)\n",
    "ridge_model.fit(x_train,y_train)"
   ]
  },
  {
   "cell_type": "code",
   "execution_count": null,
   "id": "48c7828a",
   "metadata": {},
   "outputs": [],
   "source": [
    "ridge_model.score(x_test,y_test)"
   ]
  },
  {
   "cell_type": "code",
   "execution_count": null,
   "id": "945c8cd0",
   "metadata": {},
   "outputs": [],
   "source": [
    "y_pred=reg.predict(x_test)"
   ]
  },
  {
   "cell_type": "code",
   "execution_count": null,
   "id": "5a6a67f1",
   "metadata": {},
   "outputs": [],
   "source": [
    "plt.scatter(y_test,y_pred)\n",
    "plt.xlabel('Actual')\n",
    "plt.ylabel('Predicted')\n",
    "plt.title('Actual vs Model Predicted')\n",
    "plt.show()"
   ]
  },
  {
   "cell_type": "code",
   "execution_count": null,
   "id": "5f2d2c90",
   "metadata": {},
   "outputs": [],
   "source": [
    "y_pred=reg.predict(x_test)"
   ]
  },
  {
   "cell_type": "code",
   "execution_count": null,
   "id": "ace38226",
   "metadata": {},
   "outputs": [],
   "source": [
    "mean_absolute_error(y_test,y_pred)"
   ]
  },
  {
   "cell_type": "code",
   "execution_count": null,
   "id": "452f93a7",
   "metadata": {},
   "outputs": [],
   "source": [
    "mean_squared_error(y_test,y_pred)"
   ]
  },
  {
   "cell_type": "code",
   "execution_count": null,
   "id": "29fa640c",
   "metadata": {},
   "outputs": [],
   "source": [
    "np.sqrt(mean_squared_error(y_test,y_pred))"
   ]
  },
  {
   "cell_type": "code",
   "execution_count": null,
   "id": "4cc3c320",
   "metadata": {},
   "outputs": [],
   "source": [
    "pickle.dump(lasso_reg,open('Rainfall amount','wb'))"
   ]
  },
  {
   "cell_type": "code",
   "execution_count": null,
   "id": "0b5f0d33",
   "metadata": {},
   "outputs": [],
   "source": []
  }
 ],
 "metadata": {
  "kernelspec": {
   "display_name": "Python 3 (ipykernel)",
   "language": "python",
   "name": "python3"
  },
  "language_info": {
   "codemirror_mode": {
    "name": "ipython",
    "version": 3
   },
   "file_extension": ".py",
   "mimetype": "text/x-python",
   "name": "python",
   "nbconvert_exporter": "python",
   "pygments_lexer": "ipython3",
   "version": "3.9.12"
  }
 },
 "nbformat": 4,
 "nbformat_minor": 5
}
