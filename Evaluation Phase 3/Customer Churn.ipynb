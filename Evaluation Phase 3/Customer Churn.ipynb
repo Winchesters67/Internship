{
 "cells": [
  {
   "cell_type": "code",
   "execution_count": null,
   "id": "a7ae47ad",
   "metadata": {},
   "outputs": [],
   "source": [
    "import pandas as pd\n",
    "import matplotlib.pyplot as plt\n",
    "import pickle\n",
    "%matplotlib inline\n",
    "import numpy as np\n",
    "from sklearn.preprocessing import StandardScaler\n",
    "from sklearn.linear_model import LinearRegression\n",
    "from sklearn.svm import SVC\n",
    "import seaborn as sns\n",
    "import warnings\n",
    "warnings.filterwarnings('ignore')\n",
    "from statsmodels.stats.outliers_influence import variance_inflation_factor\n",
    "from sklearn.metrics import accuracy_score, confusion_matrix,roc_curve,roc_auc_score\n",
    "from sklearn.tree import DecisionTreeClassifier\n",
    "from sklearn.preprocessing import LabelEncoder\n",
    "from sklearn.neighbors import KNeighborsClassifier\n",
    "from sklearn.model_selection import train_test_split,GridSearchCV\n",
    "from sklearn.metrics import classification_report"
   ]
  },
  {
   "cell_type": "code",
   "execution_count": null,
   "id": "566cc0b8",
   "metadata": {},
   "outputs": [],
   "source": [
    "data=pd.read_csv('https://raw.githubusercontent.com/dsrscientist/DSData/master/Telecom_customer_churn.csv')\n",
    "data.head()"
   ]
  },
  {
   "cell_type": "code",
   "execution_count": null,
   "id": "4eaf8936",
   "metadata": {},
   "outputs": [],
   "source": [
    "data=pd.read_csv('Telecom_customer_churn.csv')\n",
    "data\n",
    "#To be used in case raw file link of github isnt working"
   ]
  },
  {
   "cell_type": "code",
   "execution_count": null,
   "id": "d4c54569",
   "metadata": {},
   "outputs": [],
   "source": [
    "data.describe()"
   ]
  },
  {
   "cell_type": "code",
   "execution_count": null,
   "id": "a4b849f4",
   "metadata": {},
   "outputs": [],
   "source": [
    "data.info()"
   ]
  },
  {
   "cell_type": "code",
   "execution_count": null,
   "id": "0acddc25",
   "metadata": {},
   "outputs": [],
   "source": [
    "data.isna().sum()"
   ]
  },
  {
   "cell_type": "markdown",
   "id": "ed761120",
   "metadata": {},
   "source": [
    "There are no nulls so imputation is not required, but there many object datatypes, so encoding is required. We can also delete column customer ID as it doesnt contribute to the outcome"
   ]
  },
  {
   "cell_type": "code",
   "execution_count": null,
   "id": "1d321cb3",
   "metadata": {},
   "outputs": [],
   "source": [
    "data=data.drop(columns=['customerID'])"
   ]
  },
  {
   "cell_type": "code",
   "execution_count": null,
   "id": "e932c858",
   "metadata": {},
   "outputs": [],
   "source": [
    "data.head()"
   ]
  },
  {
   "cell_type": "code",
   "execution_count": null,
   "id": "9fbdcee8",
   "metadata": {},
   "outputs": [],
   "source": [
    "lab_enc=LabelEncoder()"
   ]
  },
  {
   "cell_type": "code",
   "execution_count": null,
   "id": "88e76a55",
   "metadata": {},
   "outputs": [],
   "source": []
  },
  {
   "cell_type": "code",
   "execution_count": null,
   "id": "cffc8f46",
   "metadata": {},
   "outputs": [],
   "source": [
    "print(data['gender'].value_counts().sort_values())\n",
    "df=lab_enc.fit_transform(data['gender'])\n",
    "pd.Series(df)\n",
    "data['gender']=df"
   ]
  },
  {
   "cell_type": "code",
   "execution_count": null,
   "id": "4f8d4288",
   "metadata": {},
   "outputs": [],
   "source": [
    "print(data['Partner'].value_counts().sort_values())\n",
    "df=lab_enc.fit_transform(data['Partner'])\n",
    "pd.Series(df)\n",
    "data['Partner']=df"
   ]
  },
  {
   "cell_type": "code",
   "execution_count": null,
   "id": "0f534d56",
   "metadata": {},
   "outputs": [],
   "source": [
    "print(data['PhoneService'].value_counts().sort_values())\n",
    "df=lab_enc.fit_transform(data['PhoneService'])\n",
    "pd.Series(df)\n",
    "data['PhoneService']=df"
   ]
  },
  {
   "cell_type": "code",
   "execution_count": null,
   "id": "324fa817",
   "metadata": {},
   "outputs": [],
   "source": [
    "print(data['MultipleLines'].value_counts().sort_values())\n",
    "df=lab_enc.fit_transform(data['MultipleLines'])\n",
    "pd.Series(df)\n",
    "data['MultipleLines']=df"
   ]
  },
  {
   "cell_type": "code",
   "execution_count": null,
   "id": "c70f1282",
   "metadata": {},
   "outputs": [],
   "source": [
    "print(data['InternetService'].value_counts().sort_values())\n",
    "df=lab_enc.fit_transform(data['InternetService'])\n",
    "pd.Series(df)\n",
    "data['InternetService']=df"
   ]
  },
  {
   "cell_type": "code",
   "execution_count": null,
   "id": "939d5df1",
   "metadata": {},
   "outputs": [],
   "source": [
    "print(data['OnlineSecurity'].value_counts().sort_values())\n",
    "df=lab_enc.fit_transform(data['OnlineSecurity'])\n",
    "pd.Series(df)\n",
    "data['OnlineSecurity']=df"
   ]
  },
  {
   "cell_type": "code",
   "execution_count": null,
   "id": "d22ef538",
   "metadata": {},
   "outputs": [],
   "source": [
    "print(data['OnlineBackup'].value_counts().sort_values())\n",
    "df=lab_enc.fit_transform(data['OnlineBackup'])\n",
    "pd.Series(df)\n",
    "data['OnlineBackup']=df"
   ]
  },
  {
   "cell_type": "code",
   "execution_count": null,
   "id": "ecad9736",
   "metadata": {},
   "outputs": [],
   "source": [
    "print(data['DeviceProtection'].value_counts().sort_values())\n",
    "df=lab_enc.fit_transform(data['DeviceProtection'])\n",
    "pd.Series(df)\n",
    "data['DeviceProtection']=df"
   ]
  },
  {
   "cell_type": "code",
   "execution_count": null,
   "id": "2ddc2495",
   "metadata": {},
   "outputs": [],
   "source": [
    "print(data['TechSupport'].value_counts().sort_values())\n",
    "df=lab_enc.fit_transform(data['TechSupport'])\n",
    "pd.Series(df)\n",
    "data['TechSupport']=df"
   ]
  },
  {
   "cell_type": "code",
   "execution_count": null,
   "id": "2ee0f710",
   "metadata": {},
   "outputs": [],
   "source": [
    "print(data['StreamingTV'].value_counts().sort_values())\n",
    "df=lab_enc.fit_transform(data['StreamingTV'])\n",
    "pd.Series(df)\n",
    "data['StreamingTV']=df"
   ]
  },
  {
   "cell_type": "code",
   "execution_count": null,
   "id": "1186f721",
   "metadata": {},
   "outputs": [],
   "source": [
    "print(data['StreamingMovies'].value_counts().sort_values())\n",
    "df=lab_enc.fit_transform(data['StreamingMovies'])\n",
    "pd.Series(df)\n",
    "data['StreamingMovies']=df"
   ]
  },
  {
   "cell_type": "code",
   "execution_count": null,
   "id": "86477167",
   "metadata": {},
   "outputs": [],
   "source": [
    "print(data['Contract'].value_counts().sort_values())\n",
    "df=lab_enc.fit_transform(data['Contract'])\n",
    "pd.Series(df)\n",
    "data['Contract']=df"
   ]
  },
  {
   "cell_type": "code",
   "execution_count": null,
   "id": "6c853e36",
   "metadata": {},
   "outputs": [],
   "source": [
    "print(data['PaperlessBilling'].value_counts().sort_values())\n",
    "df=lab_enc.fit_transform(data['PaperlessBilling'])\n",
    "pd.Series(df)\n",
    "data['PaperlessBilling']=df"
   ]
  },
  {
   "cell_type": "code",
   "execution_count": null,
   "id": "26a16e28",
   "metadata": {},
   "outputs": [],
   "source": [
    "print(data['PaymentMethod'].value_counts().sort_values())\n",
    "df=lab_enc.fit_transform(data['PaymentMethod'])\n",
    "pd.Series(df)\n",
    "data['PaymentMethod']=df"
   ]
  },
  {
   "cell_type": "code",
   "execution_count": null,
   "id": "ac353b95",
   "metadata": {},
   "outputs": [],
   "source": [
    "print(data['Churn'].value_counts().sort_values())\n",
    "df=lab_enc.fit_transform(data['Churn'])\n",
    "pd.Series(df)\n",
    "data['Churn']=df"
   ]
  },
  {
   "cell_type": "code",
   "execution_count": null,
   "id": "e0f9d64c",
   "metadata": {},
   "outputs": [],
   "source": [
    "print(data['Dependents'].value_counts().sort_values())\n",
    "df=lab_enc.fit_transform(data['Dependents'])\n",
    "pd.Series(df)\n",
    "data['Dependents']=df"
   ]
  },
  {
   "cell_type": "code",
   "execution_count": null,
   "id": "426f5ea4",
   "metadata": {},
   "outputs": [],
   "source": [
    "data.head()"
   ]
  },
  {
   "cell_type": "code",
   "execution_count": null,
   "id": "f5a2492a",
   "metadata": {},
   "outputs": [],
   "source": [
    "data.info()"
   ]
  },
  {
   "cell_type": "code",
   "execution_count": null,
   "id": "b7b9e6d3",
   "metadata": {},
   "outputs": [],
   "source": [
    "print(data['TotalCharges'].value_counts().sort_values())"
   ]
  },
  {
   "cell_type": "code",
   "execution_count": null,
   "id": "10eedc0b",
   "metadata": {},
   "outputs": [],
   "source": [
    "data['TotalCharges'] = data['TotalCharges'].apply(lambda x: '' if x == ' ' else x)\n",
    "data['TotalCharges']=pd.to_numeric(data['TotalCharges'])"
   ]
  },
  {
   "cell_type": "code",
   "execution_count": null,
   "id": "c86dd034",
   "metadata": {},
   "outputs": [],
   "source": [
    "print(data['TotalCharges'].value_counts().sort_values())"
   ]
  },
  {
   "cell_type": "code",
   "execution_count": null,
   "id": "70fd9159",
   "metadata": {},
   "outputs": [],
   "source": [
    "data['TotalCharges']=data['TotalCharges'].fillna(data['TotalCharges'].mean())\n",
    "print(data['TotalCharges'].value_counts().sort_values())"
   ]
  },
  {
   "cell_type": "code",
   "execution_count": null,
   "id": "9419b3cf",
   "metadata": {},
   "outputs": [],
   "source": [
    "data.isna().sum()"
   ]
  },
  {
   "cell_type": "code",
   "execution_count": null,
   "id": "90d25861",
   "metadata": {},
   "outputs": [],
   "source": [
    "data.head()"
   ]
  },
  {
   "cell_type": "code",
   "execution_count": null,
   "id": "9ff8d948",
   "metadata": {},
   "outputs": [],
   "source": [
    "data.shape"
   ]
  },
  {
   "cell_type": "code",
   "execution_count": null,
   "id": "9a46ec34",
   "metadata": {},
   "outputs": [],
   "source": [
    "plt.figure(figsize=(25,25),facecolor='white')\n",
    "p=1\n",
    "for column in data:\n",
    "    if p <=21:\n",
    "        ax=plt.subplot(7,3,p)\n",
    "        sns.distplot(data[column])\n",
    "        plt.xlabel(column,fontsize=20)\n",
    "    p+=1\n",
    "plt.tight_layout()"
   ]
  },
  {
   "cell_type": "code",
   "execution_count": null,
   "id": "09d99f7b",
   "metadata": {},
   "outputs": [],
   "source": [
    "y=data['Churn']\n",
    "x=data.drop(columns=['Churn'])"
   ]
  },
  {
   "cell_type": "code",
   "execution_count": null,
   "id": "85c492c2",
   "metadata": {},
   "outputs": [],
   "source": [
    "plt.figure(figsize=(25,25),facecolor='white')\n",
    "plotnumber=1\n",
    "for column in x:\n",
    "    if plotnumber<=21:\n",
    "        ax=plt.subplot(7,3,plotnumber)\n",
    "        plt.scatter(x[column],y)\n",
    "        plt.xlabel(column,fontsize=20)\n",
    "        plt.ylabel('Churn',fontsize=20)\n",
    "    plotnumber+=1\n",
    "plt.tight_layout()"
   ]
  },
  {
   "cell_type": "code",
   "execution_count": null,
   "id": "6d249865",
   "metadata": {},
   "outputs": [],
   "source": [
    "data_corr=data.corr().abs()\n",
    "plt.figure(figsize=(20,20))\n",
    "sns.heatmap(data_corr,annot=True,annot_kws={'size':10})\n",
    "plt.show"
   ]
  },
  {
   "cell_type": "markdown",
   "id": "1cff94b5",
   "metadata": {},
   "source": []
  },
  {
   "cell_type": "code",
   "execution_count": null,
   "id": "d6c250f3",
   "metadata": {},
   "outputs": [],
   "source": [
    "from sklearn.feature_selection import SelectKBest,f_classif"
   ]
  },
  {
   "cell_type": "code",
   "execution_count": null,
   "id": "263fd984",
   "metadata": {},
   "outputs": [],
   "source": [
    "best_features=SelectKBest(score_func=f_classif,k='all')\n",
    "\n",
    "fit=best_features.fit(x,y)\n",
    "\n",
    "data_scores=pd.DataFrame(fit.scores_)\n",
    "\n",
    "data_columns=pd.DataFrame(x.columns)\n",
    "\n",
    "feature_scores=pd.concat([data_columns,data_scores],axis=1)\n",
    "\n",
    "feature_scores.columns=['Feature_Name','Score']\n",
    "\n",
    "print(feature_scores.nlargest(16,'Score'))"
   ]
  },
  {
   "cell_type": "code",
   "execution_count": null,
   "id": "938af2e7",
   "metadata": {},
   "outputs": [],
   "source": [
    "data.columns"
   ]
  },
  {
   "cell_type": "code",
   "execution_count": null,
   "id": "15816b96",
   "metadata": {},
   "outputs": [],
   "source": [
    "sns.lineplot(x='Churn',y='gender',data=data)\n",
    "plt.show()"
   ]
  },
  {
   "cell_type": "markdown",
   "id": "3a950026",
   "metadata": {},
   "source": [
    "Gender has low effect on Churn"
   ]
  },
  {
   "cell_type": "code",
   "execution_count": null,
   "id": "4b5dc335",
   "metadata": {},
   "outputs": [],
   "source": [
    "sns.lineplot(x='Churn',y='SeniorCitizen',data=data)\n",
    "plt.show()"
   ]
  },
  {
   "cell_type": "markdown",
   "id": "babedbab",
   "metadata": {},
   "source": [
    "Senior citizen status has considerable effect"
   ]
  },
  {
   "cell_type": "code",
   "execution_count": null,
   "id": "6e744805",
   "metadata": {},
   "outputs": [],
   "source": [
    "sns.lineplot(x='Churn',y='Partner',data=data)\n",
    "plt.show()"
   ]
  },
  {
   "cell_type": "markdown",
   "id": "0744384d",
   "metadata": {},
   "source": [
    "Partner status has considerable effect"
   ]
  },
  {
   "cell_type": "code",
   "execution_count": null,
   "id": "706e6972",
   "metadata": {},
   "outputs": [],
   "source": [
    "sns.lineplot(x='Churn',y='Dependents',data=data)\n",
    "plt.show()"
   ]
  },
  {
   "cell_type": "markdown",
   "id": "f2c174e3",
   "metadata": {},
   "source": [
    "Dependents status has considerable effect"
   ]
  },
  {
   "cell_type": "code",
   "execution_count": null,
   "id": "a7f7bf30",
   "metadata": {},
   "outputs": [],
   "source": [
    "sns.lineplot(x='Churn',y='tenure',data=data)\n",
    "plt.show()"
   ]
  },
  {
   "cell_type": "markdown",
   "id": "3a63e6ac",
   "metadata": {},
   "source": [
    "Tenure status has considerable effect"
   ]
  },
  {
   "cell_type": "code",
   "execution_count": null,
   "id": "eac36233",
   "metadata": {},
   "outputs": [],
   "source": [
    "sns.lineplot(x='Churn',y='PhoneService',data=data)\n",
    "plt.show()"
   ]
  },
  {
   "cell_type": "markdown",
   "id": "ace270d1",
   "metadata": {},
   "source": [
    "PhoneService status has low effect on churn"
   ]
  },
  {
   "cell_type": "code",
   "execution_count": null,
   "id": "b0d0cf0a",
   "metadata": {},
   "outputs": [],
   "source": [
    "sns.lineplot(x='Churn',y='MultipleLines',data=data)\n",
    "plt.show()"
   ]
  },
  {
   "cell_type": "markdown",
   "id": "c8d55438",
   "metadata": {},
   "source": [
    "MultipleLines status has considerable effect"
   ]
  },
  {
   "cell_type": "code",
   "execution_count": null,
   "id": "3d6187a1",
   "metadata": {},
   "outputs": [],
   "source": [
    "sns.lineplot(x='Churn',y='InternetService',data=data)\n",
    "plt.show()"
   ]
  },
  {
   "cell_type": "markdown",
   "id": "c9cd25bf",
   "metadata": {},
   "source": [
    "MultipleLines status has considerable effect"
   ]
  },
  {
   "cell_type": "code",
   "execution_count": null,
   "id": "48947cc6",
   "metadata": {},
   "outputs": [],
   "source": [
    "sns.lineplot(x='Churn',y='OnlineSecurity',data=data)\n",
    "plt.show()"
   ]
  },
  {
   "cell_type": "markdown",
   "id": "5f7f2a25",
   "metadata": {},
   "source": [
    "OnlineSecurity status has considerable effect"
   ]
  },
  {
   "cell_type": "code",
   "execution_count": null,
   "id": "564edcf7",
   "metadata": {},
   "outputs": [],
   "source": [
    "sns.lineplot(x='Churn',y='OnlineBackup',data=data)\n",
    "plt.show()"
   ]
  },
  {
   "cell_type": "markdown",
   "id": "d82b6266",
   "metadata": {},
   "source": [
    "OnlineBackup status has considerable effect"
   ]
  },
  {
   "cell_type": "code",
   "execution_count": null,
   "id": "f76a4648",
   "metadata": {},
   "outputs": [],
   "source": [
    "sns.lineplot(x='Churn',y='DeviceProtection',data=data)\n",
    "plt.show()"
   ]
  },
  {
   "cell_type": "markdown",
   "id": "50cd5c0b",
   "metadata": {},
   "source": [
    "DeviceProtection status has considerable effect"
   ]
  },
  {
   "cell_type": "code",
   "execution_count": null,
   "id": "661a1c58",
   "metadata": {},
   "outputs": [],
   "source": [
    "sns.lineplot(x='Churn',y='TechSupport',data=data)\n",
    "plt.show()"
   ]
  },
  {
   "cell_type": "markdown",
   "id": "066dac08",
   "metadata": {},
   "source": [
    "TechSupport status has considerable effect"
   ]
  },
  {
   "cell_type": "code",
   "execution_count": null,
   "id": "8e57bb81",
   "metadata": {},
   "outputs": [],
   "source": [
    "sns.lineplot(x='Churn',y='StreamingTV',data=data)\n",
    "plt.show()"
   ]
  },
  {
   "cell_type": "markdown",
   "id": "5648b35d",
   "metadata": {},
   "source": [
    "StreamingTV status has low effect on churn"
   ]
  },
  {
   "cell_type": "code",
   "execution_count": null,
   "id": "be817d82",
   "metadata": {},
   "outputs": [],
   "source": [
    "sns.lineplot(x='Churn',y='StreamingMovies',data=data)\n",
    "plt.show()"
   ]
  },
  {
   "cell_type": "markdown",
   "id": "abe327c0",
   "metadata": {},
   "source": [
    "StreamingTV status has considerable effect on churn"
   ]
  },
  {
   "cell_type": "code",
   "execution_count": null,
   "id": "cb29b1b4",
   "metadata": {},
   "outputs": [],
   "source": [
    "sns.lineplot(x='Churn',y='Contract',data=data)\n",
    "plt.show()"
   ]
  },
  {
   "cell_type": "markdown",
   "id": "5640bc21",
   "metadata": {},
   "source": [
    "Contract status has considerable effect on churn"
   ]
  },
  {
   "cell_type": "code",
   "execution_count": null,
   "id": "21ab21ca",
   "metadata": {},
   "outputs": [],
   "source": [
    "sns.lineplot(x='Churn',y='PaperlessBilling',data=data)\n",
    "plt.show()"
   ]
  },
  {
   "cell_type": "markdown",
   "id": "28f5ec05",
   "metadata": {},
   "source": [
    "PaperlessBilling status has considerable effect on churn"
   ]
  },
  {
   "cell_type": "code",
   "execution_count": null,
   "id": "769f070f",
   "metadata": {},
   "outputs": [],
   "source": [
    "sns.lineplot(x='Churn',y='PaymentMethod',data=data)\n",
    "plt.show()"
   ]
  },
  {
   "cell_type": "markdown",
   "id": "01c52b50",
   "metadata": {},
   "source": [
    "PaymentMethod status has considerable effect on churn"
   ]
  },
  {
   "cell_type": "code",
   "execution_count": null,
   "id": "cd35f01e",
   "metadata": {},
   "outputs": [],
   "source": [
    "sns.lineplot(x='Churn',y='MonthlyCharges',data=data)\n",
    "plt.show()"
   ]
  },
  {
   "cell_type": "markdown",
   "id": "ebc4e8d2",
   "metadata": {},
   "source": [
    "MonthlyCharges status has considerable effect on churn"
   ]
  },
  {
   "cell_type": "code",
   "execution_count": null,
   "id": "f2d5dda2",
   "metadata": {},
   "outputs": [],
   "source": [
    "sns.lineplot(x='Churn',y='TotalCharges',data=data)\n",
    "plt.show()"
   ]
  },
  {
   "cell_type": "markdown",
   "id": "8064cd61",
   "metadata": {},
   "source": [
    "TotalCharges status has considerable effect on churn"
   ]
  },
  {
   "cell_type": "markdown",
   "id": "5b5661d6",
   "metadata": {},
   "source": [
    "Based on Heatmap, Selectk and Lineplots, below are the parameters we are moving forward with"
   ]
  },
  {
   "cell_type": "code",
   "execution_count": null,
   "id": "2d9f1ebf",
   "metadata": {},
   "outputs": [],
   "source": [
    "y=data['Churn']\n",
    "x=data[['Contract','tenure','OnlineSecurity','TechSupport','TotalCharges','OnlineBackup','MonthlyCharges','PaperlessBilling','DeviceProtection','Dependents','SeniorCitizen','Partner','PaymentMethod','InternetService','StreamingMovies','MultipleLines']]"
   ]
  },
  {
   "cell_type": "code",
   "execution_count": null,
   "id": "39ebc9f3",
   "metadata": {},
   "outputs": [],
   "source": [
    "plt.figure(figsize=(20,20),facecolor='white')\n",
    "plotno=1\n",
    "for column in x:\n",
    "    if plotno<=16:\n",
    "        ax=plt.subplot(4,4,plotno)\n",
    "        sns.boxplot(data=x[column])\n",
    "        plt.xlabel(column,fontsize=15)\n",
    "    plotno+=1\n",
    "plt.show()"
   ]
  },
  {
   "cell_type": "markdown",
   "id": "47ea8253",
   "metadata": {},
   "source": [
    "There are no outliers"
   ]
  },
  {
   "cell_type": "code",
   "execution_count": null,
   "id": "d0d42ef4",
   "metadata": {},
   "outputs": [],
   "source": [
    "scaler=StandardScaler()\n",
    "x_scaled=scaler.fit_transform(x)\n",
    "x_train,x_test,y_train,y_test=train_test_split(x_scaled,y,test_size=0.16,random_state=333)"
   ]
  },
  {
   "cell_type": "code",
   "execution_count": null,
   "id": "584fe250",
   "metadata": {},
   "outputs": [],
   "source": [
    "vif=pd.DataFrame()\n",
    "vif['VIF']=[variance_inflation_factor(x_scaled,i) for i in range(x_scaled.shape[1])]\n",
    "vif['Features']=x.columns\n",
    "vif"
   ]
  },
  {
   "cell_type": "code",
   "execution_count": null,
   "id": "69534acd",
   "metadata": {},
   "outputs": [],
   "source": []
  },
  {
   "cell_type": "code",
   "execution_count": null,
   "id": "1c736fbd",
   "metadata": {},
   "outputs": [],
   "source": [
    "def metric_score(clf,x_train,x_test,y_train,y_test,train=True):\n",
    "    if train:\n",
    "        y_pred=clf.predict(x_train)\n",
    "        print('\\n----Train result----')\n",
    "        print(f'Accuracy Score:{accuracy_score(y_train,y_pred)*100:.2f}%')\n",
    "        \n",
    "    elif train==False:\n",
    "        pred=clf.predict(x_test)\n",
    "        print('\\n----Test result----')\n",
    "        print(f'Accuracy Score:{accuracy_score(y_test,pred)*100:.2f}%')\n",
    "\n",
    "        print('\\n\\n Test Classification report \\n',classification_report(y_test,pred,digits=2))"
   ]
  },
  {
   "cell_type": "code",
   "execution_count": null,
   "id": "76a2eaa2",
   "metadata": {},
   "outputs": [],
   "source": [
    "knn=KNeighborsClassifier()\n",
    "knn.fit(x_train,y_train)"
   ]
  },
  {
   "cell_type": "code",
   "execution_count": null,
   "id": "1b05e83a",
   "metadata": {},
   "outputs": [],
   "source": [
    "metric_score(knn,x_train,x_test,y_train,y_test,train=True)\n",
    "metric_score(knn,x_train,x_test,y_train,y_test,train=False)"
   ]
  },
  {
   "cell_type": "code",
   "execution_count": null,
   "id": "81d3267c",
   "metadata": {},
   "outputs": [],
   "source": [
    "from sklearn.linear_model import LogisticRegression\n",
    "log_reg=LogisticRegression()\n",
    "log_reg.fit(x_train,y_train)"
   ]
  },
  {
   "cell_type": "code",
   "execution_count": null,
   "id": "db1e972c",
   "metadata": {},
   "outputs": [],
   "source": [
    "metric_score(log_reg,x_train,x_test,y_train,y_test,train=True)\n",
    "metric_score(log_reg,x_train,x_test,y_train,y_test,train=False)"
   ]
  },
  {
   "cell_type": "code",
   "execution_count": null,
   "id": "9dbbdab0",
   "metadata": {},
   "outputs": [],
   "source": [
    "from sklearn.ensemble import RandomForestClassifier"
   ]
  },
  {
   "cell_type": "code",
   "execution_count": null,
   "id": "89efc8b4",
   "metadata": {},
   "outputs": [],
   "source": [
    "rnd_clf=RandomForestClassifier()\n",
    "rnd_clf.fit(x_train,y_train)"
   ]
  },
  {
   "cell_type": "code",
   "execution_count": null,
   "id": "393071d5",
   "metadata": {},
   "outputs": [],
   "source": [
    "metric_score(rnd_clf,x_train,x_test,y_train,y_test,train=True)\n",
    "metric_score(rnd_clf,x_train,x_test,y_train,y_test,train=False)"
   ]
  },
  {
   "cell_type": "code",
   "execution_count": null,
   "id": "46171594",
   "metadata": {},
   "outputs": [],
   "source": [
    "from sklearn.ensemble import BaggingClassifier"
   ]
  },
  {
   "cell_type": "code",
   "execution_count": null,
   "id": "c75f953c",
   "metadata": {},
   "outputs": [],
   "source": [
    "bag_knn=BaggingClassifier(KNeighborsClassifier(n_neighbors=9),\n",
    "                          n_estimators=6,max_samples=0.75,\n",
    "                          bootstrap=True,random_state=366,oob_score=True)"
   ]
  },
  {
   "cell_type": "code",
   "execution_count": null,
   "id": "7866945f",
   "metadata": {},
   "outputs": [],
   "source": [
    "bag_knn.fit(x_train,y_train)"
   ]
  },
  {
   "cell_type": "code",
   "execution_count": null,
   "id": "6e891563",
   "metadata": {},
   "outputs": [],
   "source": [
    "metric_score(bag_knn,x_train,x_test,y_train,y_test,train=True)\n",
    "metric_score(bag_knn,x_train,x_test,y_train,y_test,train=False)"
   ]
  },
  {
   "cell_type": "code",
   "execution_count": null,
   "id": "d62a6fcf",
   "metadata": {},
   "outputs": [],
   "source": [
    "svc=SVC()\n",
    "svc.fit(x_train,y_train)"
   ]
  },
  {
   "cell_type": "code",
   "execution_count": null,
   "id": "e14af059",
   "metadata": {},
   "outputs": [],
   "source": [
    "metric_score(svc,x_train,x_test,y_train,y_test,train=True)\n",
    "metric_score(svc,x_train,x_test,y_train,y_test,train=False)"
   ]
  },
  {
   "cell_type": "markdown",
   "id": "368750e3",
   "metadata": {},
   "source": [
    "Out of these models, Logistic regression has best results"
   ]
  },
  {
   "cell_type": "markdown",
   "id": "061aad49",
   "metadata": {},
   "source": [
    "So we will move forward with Logistic model"
   ]
  },
  {
   "cell_type": "code",
   "execution_count": null,
   "id": "a104b6e5",
   "metadata": {},
   "outputs": [],
   "source": [
    "from sklearn.model_selection import KFold,cross_val_score"
   ]
  },
  {
   "cell_type": "code",
   "execution_count": null,
   "id": "d06f3bb5",
   "metadata": {},
   "outputs": [],
   "source": [
    "cross_val_score(log_reg,x_scaled,y,cv=15)"
   ]
  },
  {
   "cell_type": "code",
   "execution_count": null,
   "id": "a13d88c9",
   "metadata": {},
   "outputs": [],
   "source": [
    "y_pred=log_reg.predict(x_test)\n",
    "confusion_mat = confusion_matrix(y_test,y_pred)\n",
    "print(confusion_mat)"
   ]
  },
  {
   "cell_type": "code",
   "execution_count": null,
   "id": "049fc639",
   "metadata": {},
   "outputs": [],
   "source": [
    "pickle.dump(log_reg,open('Customer Churn','wb'))"
   ]
  },
  {
   "cell_type": "code",
   "execution_count": null,
   "id": "2f12fbd9",
   "metadata": {},
   "outputs": [],
   "source": []
  },
  {
   "cell_type": "code",
   "execution_count": null,
   "id": "bba60f2a",
   "metadata": {},
   "outputs": [],
   "source": []
  }
 ],
 "metadata": {
  "kernelspec": {
   "display_name": "Python 3 (ipykernel)",
   "language": "python",
   "name": "python3"
  },
  "language_info": {
   "codemirror_mode": {
    "name": "ipython",
    "version": 3
   },
   "file_extension": ".py",
   "mimetype": "text/x-python",
   "name": "python",
   "nbconvert_exporter": "python",
   "pygments_lexer": "ipython3",
   "version": "3.9.12"
  }
 },
 "nbformat": 4,
 "nbformat_minor": 5
}
