{
 "cells": [
  {
   "cell_type": "code",
   "execution_count": null,
   "id": "9932ed80",
   "metadata": {},
   "outputs": [],
   "source": [
    "import pandas as pd\n",
    "import matplotlib.pyplot as plt\n",
    "import pickle\n",
    "%matplotlib inline\n",
    "import numpy as np\n",
    "from sklearn.preprocessing import StandardScaler\n",
    "from sklearn.linear_model import LinearRegression\n",
    "from sklearn.svm import SVC\n",
    "import seaborn as sns\n",
    "import warnings\n",
    "warnings.filterwarnings('ignore')\n",
    "from statsmodels.stats.outliers_influence import variance_inflation_factor\n",
    "from sklearn.metrics import accuracy_score, confusion_matrix,roc_curve,roc_auc_score\n",
    "from sklearn.tree import DecisionTreeClassifier\n",
    "from sklearn.preprocessing import LabelEncoder\n",
    "from sklearn.neighbors import KNeighborsClassifier\n",
    "from sklearn.model_selection import train_test_split,GridSearchCV\n",
    "from sklearn.metrics import classification_report\n",
    "from sklearn.feature_selection import SelectKBest,f_classif\n",
    "from sklearn.ensemble import RandomForestClassifier\n",
    "from sklearn.linear_model import LogisticRegression\n",
    "from sklearn.ensemble import BaggingClassifier\n",
    "from sklearn.model_selection import KFold,cross_val_score\n",
    "from sklearn.metrics import r2_score, mean_squared_error, mean_absolute_error\n",
    "from sklearn.linear_model import Lasso,Ridge,RidgeCV,LassoCV"
   ]
  },
  {
   "cell_type": "code",
   "execution_count": null,
   "id": "048d4edc",
   "metadata": {},
   "outputs": [],
   "source": [
    "data1=pd.read_csv('https://raw.githubusercontent.com/dsrscientist/dataset4/main/zomato.csv')\n",
    "data1.head()"
   ]
  },
  {
   "cell_type": "code",
   "execution_count": null,
   "id": "c8b314d7",
   "metadata": {},
   "outputs": [],
   "source": [
    "data1=pd.read_excel('Country-Code.xlsx')\n",
    "data1\n",
    "#To be used in case raw file link of github isnt working"
   ]
  },
  {
   "cell_type": "code",
   "execution_count": null,
   "id": "5e57d24f",
   "metadata": {},
   "outputs": [],
   "source": [
    "data2=pd.read_csv('https://raw.githubusercontent.com/dsrscientist/dataset4/main/Country-Code.xlsx')\n",
    "data2.head()"
   ]
  },
  {
   "cell_type": "code",
   "execution_count": null,
   "id": "4189db59",
   "metadata": {},
   "outputs": [],
   "source": [
    "data2=pd.read_csv('zomato.csv',encoding='ISO-8859-1')\n",
    "data2\n",
    "#To be used in case raw file link of github isnt working"
   ]
  },
  {
   "cell_type": "code",
   "execution_count": null,
   "id": "dc3195c4",
   "metadata": {},
   "outputs": [],
   "source": [
    "data=pd.merge(data1,data2)\n",
    "data.head()"
   ]
  },
  {
   "cell_type": "code",
   "execution_count": null,
   "id": "9e100d5d",
   "metadata": {},
   "outputs": [],
   "source": [
    "data['Country'][9000]"
   ]
  },
  {
   "cell_type": "code",
   "execution_count": null,
   "id": "82ab9554",
   "metadata": {},
   "outputs": [],
   "source": [
    "data['Country Code'][9000]"
   ]
  },
  {
   "cell_type": "code",
   "execution_count": null,
   "id": "9a695878",
   "metadata": {},
   "outputs": [],
   "source": [
    "data.describe()"
   ]
  },
  {
   "cell_type": "code",
   "execution_count": null,
   "id": "323eb6a5",
   "metadata": {},
   "outputs": [],
   "source": [
    "data.info()"
   ]
  },
  {
   "cell_type": "code",
   "execution_count": null,
   "id": "2475cbad",
   "metadata": {},
   "outputs": [],
   "source": [
    "data.isna().sum()"
   ]
  },
  {
   "cell_type": "code",
   "execution_count": null,
   "id": "9beaaeba",
   "metadata": {},
   "outputs": [],
   "source": [
    "data['Longitude'] = data['Longitude'].apply(lambda x: '' if x == '0' else x)\n",
    "data['Latitude'] = data['Latitude'].apply(lambda x: '' if x == '0' else x)"
   ]
  },
  {
   "cell_type": "code",
   "execution_count": null,
   "id": "3b0c4715",
   "metadata": {},
   "outputs": [],
   "source": [
    "data['Longitude']=data['Longitude'].fillna(data['Longitude'].mean())\n",
    "data['Latitude']=data['Latitude'].fillna(data['Latitude'].mean())"
   ]
  },
  {
   "cell_type": "code",
   "execution_count": null,
   "id": "02c7148a",
   "metadata": {},
   "outputs": [],
   "source": [
    "lab_enc=LabelEncoder()\n",
    "print(data['Restaurant Name'].value_counts().sort_values())\n",
    "df=lab_enc.fit_transform(data['Restaurant Name'])\n",
    "pd.Series(df)\n",
    "data['Restaurant Name']=df"
   ]
  },
  {
   "cell_type": "code",
   "execution_count": null,
   "id": "b3f26a7f",
   "metadata": {},
   "outputs": [],
   "source": [
    "print(data['Country'].value_counts().sort_values())\n",
    "df=lab_enc.fit_transform(data['Country'])\n",
    "pd.Series(df)\n",
    "data['Country']=df"
   ]
  },
  {
   "cell_type": "code",
   "execution_count": null,
   "id": "476ff8d3",
   "metadata": {},
   "outputs": [],
   "source": [
    "print(data['City'].value_counts().sort_values())\n",
    "df=lab_enc.fit_transform(data['City'])\n",
    "pd.Series(df)\n",
    "data['City']=df"
   ]
  },
  {
   "cell_type": "code",
   "execution_count": null,
   "id": "3ad762c1",
   "metadata": {},
   "outputs": [],
   "source": [
    "print(data['Address'].value_counts().sort_values())\n",
    "df=lab_enc.fit_transform(data['Address'])\n",
    "pd.Series(df)\n",
    "data['Address']=df"
   ]
  },
  {
   "cell_type": "code",
   "execution_count": null,
   "id": "82b93229",
   "metadata": {},
   "outputs": [],
   "source": [
    "print(data['Locality'].value_counts().sort_values())\n",
    "df=lab_enc.fit_transform(data['Locality'])\n",
    "pd.Series(df)\n",
    "data['Locality']=df"
   ]
  },
  {
   "cell_type": "code",
   "execution_count": null,
   "id": "d19e39d9",
   "metadata": {},
   "outputs": [],
   "source": [
    "print(data['Locality Verbose'].value_counts().sort_values())\n",
    "df=lab_enc.fit_transform(data['Locality Verbose'])\n",
    "pd.Series(df)\n",
    "data['Locality Verbose']=df"
   ]
  },
  {
   "cell_type": "code",
   "execution_count": null,
   "id": "9bc71b2c",
   "metadata": {},
   "outputs": [],
   "source": [
    "print(data['Cuisines'].value_counts().sort_values())\n",
    "df=lab_enc.fit_transform(data['Cuisines'])\n",
    "pd.Series(df)\n",
    "data['Cuisines']=df"
   ]
  },
  {
   "cell_type": "code",
   "execution_count": null,
   "id": "f4fa8974",
   "metadata": {},
   "outputs": [],
   "source": [
    "print(data['Currency'].value_counts().sort_values())\n",
    "df=lab_enc.fit_transform(data['Currency'])\n",
    "pd.Series(df)\n",
    "data['Currency']=df"
   ]
  },
  {
   "cell_type": "code",
   "execution_count": null,
   "id": "df5eefb0",
   "metadata": {},
   "outputs": [],
   "source": [
    "print(data['Has Table booking'].value_counts().sort_values())\n",
    "df=lab_enc.fit_transform(data['Has Table booking'])\n",
    "pd.Series(df)\n",
    "data['Has Table booking']=df"
   ]
  },
  {
   "cell_type": "code",
   "execution_count": null,
   "id": "6d05d99e",
   "metadata": {},
   "outputs": [],
   "source": [
    "print(data['Has Online delivery'].value_counts().sort_values())\n",
    "df=lab_enc.fit_transform(data['Has Online delivery'])\n",
    "pd.Series(df)\n",
    "data['Has Online delivery']=df"
   ]
  },
  {
   "cell_type": "code",
   "execution_count": null,
   "id": "f16a02cd",
   "metadata": {},
   "outputs": [],
   "source": [
    "print(data['Is delivering now'].value_counts().sort_values())\n",
    "df=lab_enc.fit_transform(data['Is delivering now'])\n",
    "pd.Series(df)\n",
    "data['Is delivering now']=df"
   ]
  },
  {
   "cell_type": "code",
   "execution_count": null,
   "id": "ea575ffa",
   "metadata": {},
   "outputs": [],
   "source": [
    "print(data['Switch to order menu'].value_counts().sort_values())\n",
    "df=lab_enc.fit_transform(data['Switch to order menu'])\n",
    "pd.Series(df)\n",
    "data['Switch to order menu']=df"
   ]
  },
  {
   "cell_type": "code",
   "execution_count": null,
   "id": "5b289385",
   "metadata": {},
   "outputs": [],
   "source": [
    "print(data['Rating color'].value_counts().sort_values())\n",
    "df=lab_enc.fit_transform(data['Rating color'])\n",
    "pd.Series(df)\n",
    "data['Rating color']=df"
   ]
  },
  {
   "cell_type": "code",
   "execution_count": null,
   "id": "702247e6",
   "metadata": {},
   "outputs": [],
   "source": [
    "print(data['Rating text'].value_counts().sort_values())\n",
    "df=lab_enc.fit_transform(data['Rating text'])\n",
    "pd.Series(df)\n",
    "data['Rating text']=df"
   ]
  },
  {
   "cell_type": "code",
   "execution_count": null,
   "id": "7642638c",
   "metadata": {},
   "outputs": [],
   "source": [
    "data.info()"
   ]
  },
  {
   "cell_type": "code",
   "execution_count": null,
   "id": "ae122b67",
   "metadata": {},
   "outputs": [],
   "source": [
    "data.describe()"
   ]
  },
  {
   "cell_type": "code",
   "execution_count": null,
   "id": "2f58913d",
   "metadata": {},
   "outputs": [],
   "source": [
    "plt.figure(figsize=(25,25),facecolor='white')\n",
    "p=1\n",
    "for column in data:\n",
    "    if p <=22:\n",
    "        ax=plt.subplot(5,5,p)\n",
    "        sns.distplot(data[column])\n",
    "        plt.xlabel(column,fontsize=15)\n",
    "    p+=1\n",
    "plt.tight_layout()"
   ]
  },
  {
   "cell_type": "markdown",
   "id": "87cac3ed",
   "metadata": {},
   "source": [
    "# 1) Average Cost for two"
   ]
  },
  {
   "cell_type": "code",
   "execution_count": null,
   "id": "63303bbb",
   "metadata": {},
   "outputs": [],
   "source": [
    "y=data['Average Cost for two']\n",
    "x=data.drop(columns=['Average Cost for two'])"
   ]
  },
  {
   "cell_type": "code",
   "execution_count": null,
   "id": "90a84c9b",
   "metadata": {},
   "outputs": [],
   "source": [
    "plt.figure(figsize=(25,25),facecolor='white')\n",
    "plotnumber=1\n",
    "for column in x:\n",
    "    if plotnumber<=22:\n",
    "        ax=plt.subplot(5,5,plotnumber)\n",
    "        plt.scatter(x[column],y)\n",
    "        plt.xlabel(column,fontsize=20)\n",
    "        plt.ylabel('Average Cost for two',fontsize=20)\n",
    "    plotnumber+=1\n",
    "plt.tight_layout()"
   ]
  },
  {
   "cell_type": "code",
   "execution_count": null,
   "id": "efad0fe9",
   "metadata": {},
   "outputs": [],
   "source": [
    "data_corr=data.corr().abs()\n",
    "plt.figure(figsize=(30,30))\n",
    "sns.heatmap(data_corr,annot=True,annot_kws={'size':15})\n",
    "plt.show"
   ]
  },
  {
   "cell_type": "code",
   "execution_count": null,
   "id": "fba23533",
   "metadata": {},
   "outputs": [],
   "source": [
    "for i, col in enumerate(data.columns):\n",
    "    plt.figure(i)\n",
    "    sns.lineplot(x='Average Cost for two',y=col, data=data)"
   ]
  },
  {
   "cell_type": "code",
   "execution_count": null,
   "id": "4033bbe5",
   "metadata": {},
   "outputs": [],
   "source": [
    "best_features=SelectKBest(score_func=f_classif,k='all')\n",
    "\n",
    "fit=best_features.fit(x,y)\n",
    "\n",
    "data_scores=pd.DataFrame(fit.scores_)\n",
    "\n",
    "data_columns=pd.DataFrame(x.columns)\n",
    "\n",
    "feature_scores=pd.concat([data_columns,data_scores],axis=1)\n",
    "\n",
    "feature_scores.columns=['Feature_Name','Score']\n",
    "\n",
    "print(feature_scores.nlargest(18,'Score'))"
   ]
  },
  {
   "cell_type": "code",
   "execution_count": null,
   "id": "9eabc73d",
   "metadata": {},
   "outputs": [],
   "source": [
    "y=data['Average Cost for two']\n",
    "x=data[['Price range','Country','Country Code','Longitude','Has Table booking','Currency','Aggregate rating','Latitude','Votes','Has Online delivery','Address','Restaurant ID','City','Rating color','Cuisines','Locality','Locality Verbose']]"
   ]
  },
  {
   "cell_type": "code",
   "execution_count": null,
   "id": "dd71f1e4",
   "metadata": {},
   "outputs": [],
   "source": [
    "plt.figure(figsize=(30,40),facecolor='white')\n",
    "plotno=1\n",
    "for column in x:\n",
    "    if plotno<=20:\n",
    "        ax=plt.subplot(5,4,plotno)\n",
    "        sns.boxplot(data=x[column])\n",
    "        plt.xlabel(column,fontsize=15)\n",
    "    plotno+=1\n",
    "plt.show()"
   ]
  },
  {
   "cell_type": "markdown",
   "id": "ae0c57bb",
   "metadata": {},
   "source": [
    "Based on boxplot, we dont have any outliers to remove"
   ]
  },
  {
   "cell_type": "code",
   "execution_count": null,
   "id": "ba87a708",
   "metadata": {},
   "outputs": [],
   "source": [
    "scaler=StandardScaler()\n",
    "x_scaled=scaler.fit_transform(x)\n",
    "x_train,x_test,y_train,y_test=train_test_split(x_scaled,y,test_size=0.17,random_state=333)"
   ]
  },
  {
   "cell_type": "code",
   "execution_count": null,
   "id": "a4972256",
   "metadata": {},
   "outputs": [],
   "source": [
    "vif=pd.DataFrame()\n",
    "vif['VIF']=[variance_inflation_factor(x_scaled,i) for i in range(x_scaled.shape[1])]\n",
    "vif['Features']=x.columns\n",
    "vif"
   ]
  },
  {
   "cell_type": "code",
   "execution_count": null,
   "id": "6adab26b",
   "metadata": {},
   "outputs": [],
   "source": [
    "from sklearn.linear_model import LinearRegression\n",
    "reg=LinearRegression()\n",
    "reg.fit(x_train,y_train)"
   ]
  },
  {
   "cell_type": "code",
   "execution_count": null,
   "id": "6aa6acc4",
   "metadata": {},
   "outputs": [],
   "source": [
    "reg.score(x_train,y_train)"
   ]
  },
  {
   "cell_type": "code",
   "execution_count": null,
   "id": "48abfb3f",
   "metadata": {},
   "outputs": [],
   "source": [
    "reg.score(x_test,y_test)"
   ]
  },
  {
   "cell_type": "code",
   "execution_count": null,
   "id": "a8a319ba",
   "metadata": {},
   "outputs": [],
   "source": [
    "lasscv=LassoCV(alphas=None,max_iter=300,normalize=True)\n",
    "lasscv.fit(x_train,y_train)"
   ]
  },
  {
   "cell_type": "code",
   "execution_count": null,
   "id": "41ad737f",
   "metadata": {},
   "outputs": [],
   "source": [
    "alpha=lasscv.alpha_"
   ]
  },
  {
   "cell_type": "code",
   "execution_count": null,
   "id": "6d50e467",
   "metadata": {},
   "outputs": [],
   "source": [
    "lasso_reg=Lasso(alpha)\n",
    "lasso_reg.fit(x_train,y_train)"
   ]
  },
  {
   "cell_type": "code",
   "execution_count": null,
   "id": "41a73806",
   "metadata": {},
   "outputs": [],
   "source": [
    "lasso_reg.score(x_train,y_train)"
   ]
  },
  {
   "cell_type": "code",
   "execution_count": null,
   "id": "f2371b6f",
   "metadata": {},
   "outputs": [],
   "source": [
    "lasso_reg.score(x_test,y_test)"
   ]
  },
  {
   "cell_type": "code",
   "execution_count": null,
   "id": "5a25934f",
   "metadata": {},
   "outputs": [],
   "source": [
    "ridgecv=RidgeCV(alphas=np.arange(0.002,0.1,0.02),normalize=True)\n",
    "ridgecv.fit(x_train,y_train)"
   ]
  },
  {
   "cell_type": "code",
   "execution_count": null,
   "id": "dbc29231",
   "metadata": {},
   "outputs": [],
   "source": [
    "ridgecv.alpha_"
   ]
  },
  {
   "cell_type": "code",
   "execution_count": null,
   "id": "b9b3aee7",
   "metadata": {},
   "outputs": [],
   "source": [
    "ridge_model=Ridge(alpha=ridgecv.alpha_)\n",
    "ridge_model.fit(x_train,y_train)"
   ]
  },
  {
   "cell_type": "code",
   "execution_count": null,
   "id": "911f3dd0",
   "metadata": {},
   "outputs": [],
   "source": [
    "ridge_model.score(x_test,y_test)"
   ]
  },
  {
   "cell_type": "code",
   "execution_count": null,
   "id": "e348f242",
   "metadata": {},
   "outputs": [],
   "source": [
    "y_pred=reg.predict(x_test)"
   ]
  },
  {
   "cell_type": "code",
   "execution_count": null,
   "id": "df2e4677",
   "metadata": {},
   "outputs": [],
   "source": [
    "plt.scatter(y_test,y_pred)\n",
    "plt.xlabel('Actual')\n",
    "plt.ylabel('Predicted')\n",
    "plt.title('Actual vs Model Predicted')\n",
    "plt.show()"
   ]
  },
  {
   "cell_type": "code",
   "execution_count": null,
   "id": "b37a3d1d",
   "metadata": {},
   "outputs": [],
   "source": [
    "pickle.dump(lasso_reg,open('Average cost for 2','wb'))"
   ]
  },
  {
   "cell_type": "markdown",
   "id": "4d9dc435",
   "metadata": {},
   "source": [
    "# 2) Price range"
   ]
  },
  {
   "cell_type": "code",
   "execution_count": null,
   "id": "733b8cb0",
   "metadata": {},
   "outputs": [],
   "source": [
    "y=data['Price range']\n",
    "x=data.drop(columns=['Price range'])"
   ]
  },
  {
   "cell_type": "code",
   "execution_count": null,
   "id": "8f4b06d2",
   "metadata": {},
   "outputs": [],
   "source": [
    "plt.figure(figsize=(25,25),facecolor='white')\n",
    "plotnumber=1\n",
    "for column in x:\n",
    "    if plotnumber<=22:\n",
    "        ax=plt.subplot(5,5,plotnumber)\n",
    "        plt.scatter(x[column],y)\n",
    "        plt.xlabel(column,fontsize=20)\n",
    "        plt.ylabel('Price range',fontsize=20)\n",
    "    plotnumber+=1\n",
    "plt.tight_layout()"
   ]
  },
  {
   "cell_type": "code",
   "execution_count": null,
   "id": "e4597437",
   "metadata": {},
   "outputs": [],
   "source": [
    "for i, col in enumerate(data.columns):\n",
    "    plt.figure(i)\n",
    "    sns.lineplot(x='Price range',y=col, data=data)"
   ]
  },
  {
   "cell_type": "code",
   "execution_count": null,
   "id": "fd7e4619",
   "metadata": {},
   "outputs": [],
   "source": [
    "best_features=SelectKBest(score_func=f_classif,k='all')\n",
    "\n",
    "fit=best_features.fit(x,y)\n",
    "\n",
    "data_scores=pd.DataFrame(fit.scores_)\n",
    "\n",
    "data_columns=pd.DataFrame(x.columns)\n",
    "\n",
    "feature_scores=pd.concat([data_columns,data_scores],axis=1)\n",
    "\n",
    "feature_scores.columns=['Feature_Name','Score']\n",
    "\n",
    "print(feature_scores.nlargest(18,'Score'))"
   ]
  },
  {
   "cell_type": "code",
   "execution_count": null,
   "id": "a397f722",
   "metadata": {},
   "outputs": [],
   "source": [
    "y=data['Price range']\n",
    "x=data[['Has Table booking','Aggregate rating','Votes','Has Online delivery','Country Code','Rating text','Latitude','Country','Locality','Locality Verbose','Rating color','Restaurant ID','City','Address','Average Cost for two','Currency','Longitude','Restaurant Name']]"
   ]
  },
  {
   "cell_type": "code",
   "execution_count": null,
   "id": "3765523f",
   "metadata": {},
   "outputs": [],
   "source": [
    "plt.figure(figsize=(30,40),facecolor='white')\n",
    "plotno=1\n",
    "for column in x:\n",
    "    if plotno<=20:\n",
    "        ax=plt.subplot(5,4,plotno)\n",
    "        sns.boxplot(data=x[column])\n",
    "        plt.xlabel(column,fontsize=20)\n",
    "    plotno+=1\n",
    "plt.show()"
   ]
  },
  {
   "cell_type": "code",
   "execution_count": null,
   "id": "f2a7134a",
   "metadata": {},
   "outputs": [],
   "source": [
    "scaler=StandardScaler()\n",
    "x_scaled=scaler.fit_transform(x)\n",
    "x_train,x_test,y_train,y_test=train_test_split(x_scaled,y,test_size=0.25,random_state=333)"
   ]
  },
  {
   "cell_type": "code",
   "execution_count": null,
   "id": "78b45046",
   "metadata": {},
   "outputs": [],
   "source": [
    "vif=pd.DataFrame()\n",
    "vif['VIF']=[variance_inflation_factor(x_scaled,i) for i in range(x_scaled.shape[1])]\n",
    "vif['Features']=x.columns\n",
    "vif"
   ]
  },
  {
   "cell_type": "code",
   "execution_count": null,
   "id": "be38121b",
   "metadata": {},
   "outputs": [],
   "source": [
    "def metric_score(clf,x_train,x_test,y_train,y_test,train=True):\n",
    "    if train:\n",
    "        y_pred=clf.predict(x_train)\n",
    "        print('\\n----Train result----')\n",
    "        print(f'Accuracy Score:{accuracy_score(y_train,y_pred)*100:.2f}%')\n",
    "        \n",
    "    elif train==False:\n",
    "        pred=clf.predict(x_test)\n",
    "        print('\\n----Test result----')\n",
    "        print(f'Accuracy Score:{accuracy_score(y_test,pred)*100:.2f}%')\n",
    "\n",
    "        print('\\n\\n Test Classification report \\n',classification_report(y_test,pred,digits=2))"
   ]
  },
  {
   "cell_type": "code",
   "execution_count": null,
   "id": "dabd61d2",
   "metadata": {},
   "outputs": [],
   "source": [
    "knn=KNeighborsClassifier()\n",
    "knn.fit(x_train,y_train)"
   ]
  },
  {
   "cell_type": "code",
   "execution_count": null,
   "id": "1b077ab8",
   "metadata": {},
   "outputs": [],
   "source": [
    "metric_score(knn,x_train,x_test,y_train,y_test,train=True)\n",
    "metric_score(knn,x_train,x_test,y_train,y_test,train=False)"
   ]
  },
  {
   "cell_type": "code",
   "execution_count": null,
   "id": "eeba9353",
   "metadata": {},
   "outputs": [],
   "source": [
    "log_reg=LogisticRegression()\n",
    "log_reg.fit(x_train,y_train)"
   ]
  },
  {
   "cell_type": "code",
   "execution_count": null,
   "id": "7183a057",
   "metadata": {},
   "outputs": [],
   "source": [
    "metric_score(log_reg,x_train,x_test,y_train,y_test,train=True)\n",
    "metric_score(log_reg,x_train,x_test,y_train,y_test,train=False)"
   ]
  },
  {
   "cell_type": "code",
   "execution_count": null,
   "id": "2b8d23cb",
   "metadata": {},
   "outputs": [],
   "source": [
    "rnd_clf=RandomForestClassifier()\n",
    "rnd_clf.fit(x_train,y_train)"
   ]
  },
  {
   "cell_type": "code",
   "execution_count": null,
   "id": "f00ca4c0",
   "metadata": {},
   "outputs": [],
   "source": [
    "metric_score(rnd_clf,x_train,x_test,y_train,y_test,train=True)\n",
    "metric_score(rnd_clf,x_train,x_test,y_train,y_test,train=False)"
   ]
  },
  {
   "cell_type": "code",
   "execution_count": null,
   "id": "d99f22c7",
   "metadata": {},
   "outputs": [],
   "source": [
    "bag_knn=BaggingClassifier(KNeighborsClassifier(n_neighbors=9),\n",
    "                          n_estimators=6,max_samples=0.75,\n",
    "                          bootstrap=True,random_state=366,oob_score=True)"
   ]
  },
  {
   "cell_type": "code",
   "execution_count": null,
   "id": "39c853ae",
   "metadata": {},
   "outputs": [],
   "source": [
    "bag_knn.fit(x_train,y_train)"
   ]
  },
  {
   "cell_type": "code",
   "execution_count": null,
   "id": "607d2468",
   "metadata": {},
   "outputs": [],
   "source": [
    "metric_score(bag_knn,x_train,x_test,y_train,y_test,train=True)\n",
    "metric_score(bag_knn,x_train,x_test,y_train,y_test,train=False)"
   ]
  },
  {
   "cell_type": "code",
   "execution_count": null,
   "id": "c837720b",
   "metadata": {},
   "outputs": [],
   "source": [
    "svc=SVC()\n",
    "svc.fit(x_train,y_train)"
   ]
  },
  {
   "cell_type": "code",
   "execution_count": null,
   "id": "49d60979",
   "metadata": {},
   "outputs": [],
   "source": [
    "metric_score(svc,x_train,x_test,y_train,y_test,train=True)\n",
    "metric_score(svc,x_train,x_test,y_train,y_test,train=False)"
   ]
  },
  {
   "cell_type": "code",
   "execution_count": null,
   "id": "b3f72846",
   "metadata": {},
   "outputs": [],
   "source": [
    "clf=DecisionTreeClassifier()\n",
    "clf.fit(x_train,y_train)"
   ]
  },
  {
   "cell_type": "code",
   "execution_count": null,
   "id": "705d6301",
   "metadata": {},
   "outputs": [],
   "source": [
    "metric_score(clf,x_train,x_test,y_train,y_test,train=True)\n",
    "metric_score(clf,x_train,x_test,y_train,y_test,train=False)"
   ]
  },
  {
   "cell_type": "code",
   "execution_count": null,
   "id": "61b648ca",
   "metadata": {},
   "outputs": [],
   "source": [
    "grid_param={'criterion':['gini','entropy'],\n",
    "           'max_depth':range(10,15),\n",
    "           'min_samples_leaf':range(2,6),\n",
    "           'min_samples_split':range(3,8),\n",
    "           'max_leaf_nodes':range(5,10)}"
   ]
  },
  {
   "cell_type": "code",
   "execution_count": null,
   "id": "da992a0b",
   "metadata": {},
   "outputs": [],
   "source": [
    "grid_search = GridSearchCV(estimator=clf,\n",
    "                           param_grid=grid_param,\n",
    "                           cv=5,\n",
    "                           n_jobs=-1)"
   ]
  },
  {
   "cell_type": "code",
   "execution_count": null,
   "id": "058020f6",
   "metadata": {},
   "outputs": [],
   "source": [
    "grid_search.fit(x_train,y_train)"
   ]
  },
  {
   "cell_type": "code",
   "execution_count": null,
   "id": "91246bfe",
   "metadata": {},
   "outputs": [],
   "source": [
    "best_parameters=grid_search.best_params_\n",
    "print(best_parameters)"
   ]
  },
  {
   "cell_type": "code",
   "execution_count": null,
   "id": "d2560bc9",
   "metadata": {},
   "outputs": [],
   "source": [
    "dclf=DecisionTreeClassifier(criterion='gini',max_depth= 10, max_leaf_nodes= 8, min_samples_leaf= 2, min_samples_split= 3)"
   ]
  },
  {
   "cell_type": "code",
   "execution_count": null,
   "id": "778876ad",
   "metadata": {},
   "outputs": [],
   "source": [
    "dclf.fit(x_train,y_train)"
   ]
  },
  {
   "cell_type": "code",
   "execution_count": null,
   "id": "f67c97e9",
   "metadata": {},
   "outputs": [],
   "source": [
    "metric_score(dclf,x_train,x_test,y_train,y_test,train=True)\n",
    "metric_score(dclf,x_train,x_test,y_train,y_test,train=False)"
   ]
  },
  {
   "cell_type": "markdown",
   "id": "28b6fbb8",
   "metadata": {},
   "source": [
    "Decision Tree amplified by Hyper parameter tuning is giving the best result in Test Train"
   ]
  },
  {
   "cell_type": "code",
   "execution_count": null,
   "id": "95ddefab",
   "metadata": {},
   "outputs": [],
   "source": [
    "from sklearn.model_selection import KFold,cross_val_score\n",
    "cross_val_score(dclf,x_scaled,y,cv=10)"
   ]
  },
  {
   "cell_type": "code",
   "execution_count": null,
   "id": "7732cc3b",
   "metadata": {},
   "outputs": [],
   "source": [
    "y_pred=log_reg.predict(x_test)\n",
    "confusion_mat = confusion_matrix(y_test,y_pred)\n",
    "print(confusion_mat)"
   ]
  },
  {
   "cell_type": "code",
   "execution_count": null,
   "id": "14d3d9d6",
   "metadata": {},
   "outputs": [],
   "source": [
    "pickle.dump(dclf,open('Zomato price range','wb'))"
   ]
  },
  {
   "cell_type": "code",
   "execution_count": null,
   "id": "0909b5de",
   "metadata": {},
   "outputs": [],
   "source": []
  }
 ],
 "metadata": {
  "kernelspec": {
   "display_name": "Python 3 (ipykernel)",
   "language": "python",
   "name": "python3"
  },
  "language_info": {
   "codemirror_mode": {
    "name": "ipython",
    "version": 3
   },
   "file_extension": ".py",
   "mimetype": "text/x-python",
   "name": "python",
   "nbconvert_exporter": "python",
   "pygments_lexer": "ipython3",
   "version": "3.9.12"
  }
 },
 "nbformat": 4,
 "nbformat_minor": 5
}
