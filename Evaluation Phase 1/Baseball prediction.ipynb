{
 "cells": [
  {
   "cell_type": "code",
   "execution_count": null,
   "id": "58af233c",
   "metadata": {},
   "outputs": [],
   "source": [
    "import pandas as pd\n",
    "import matplotlib.pyplot as plt\n",
    "import pickle\n",
    "%matplotlib inline\n",
    "import numpy as np\n",
    "from sklearn.preprocessing import StandardScaler\n",
    "from sklearn.linear_model import LinearRegression\n",
    "from sklearn.model_selection import train_test_split\n",
    "import seaborn as sns\n",
    "import pickle\n",
    "import warnings\n",
    "warnings.filterwarnings('ignore')\n",
    "from statsmodels.stats.outliers_influence import variance_inflation_factor\n",
    "from sklearn.metrics import accuracy_score, confusion_matrix,roc_curve,roc_auc_score\n",
    "import seaborn as sns\n",
    "import pickle\n",
    "import warnings\n",
    "warnings.filterwarnings('ignore')\n",
    "from sklearn.tree import DecisionTreeClassifier\n",
    "\n",
    "from sklearn.preprocessing import StandardScaler\n",
    "from sklearn.neighbors import KNeighborsClassifier\n",
    "from sklearn.model_selection import train_test_split,GridSearchCV\n",
    "from statsmodels.stats.outliers_influence import variance_inflation_factor\n",
    "from sklearn.metrics import accuracy_score, confusion_matrix,roc_curve,roc_auc_score\n",
    "from sklearn.metrics import classification_report"
   ]
  },
  {
   "cell_type": "code",
   "execution_count": null,
   "id": "d9fb4fcd",
   "metadata": {},
   "outputs": [],
   "source": [
    "data=pd.read_csv('https://raw.githubusercontent.com/dsrscientist/Data-Science-ML-Capstone-Projects/master/baseball.csv')\n",
    "data.head()"
   ]
  },
  {
   "cell_type": "code",
   "execution_count": null,
   "id": "28f46005",
   "metadata": {},
   "outputs": [],
   "source": [
    "data.shape"
   ]
  },
  {
   "cell_type": "code",
   "execution_count": null,
   "id": "83ed17d8",
   "metadata": {},
   "outputs": [],
   "source": [
    "data.info()"
   ]
  },
  {
   "cell_type": "markdown",
   "id": "c9c5b0df",
   "metadata": {},
   "source": [
    "No imputation or encoding required"
   ]
  },
  {
   "cell_type": "code",
   "execution_count": null,
   "id": "44dfafa2",
   "metadata": {},
   "outputs": [],
   "source": [
    "plt.figure(figsize=(20,15),facecolor='red')\n",
    "plotno=1\n",
    "for column in data:\n",
    "    if plotno<=18:\n",
    "        ax=plt.subplot(5,4,plotno)\n",
    "        sns.distplot(data[column])\n",
    "        plt.xlabel(column,fontsize=20)\n",
    "    plotno+=1\n",
    "plt.tight_layout()"
   ]
  },
  {
   "cell_type": "code",
   "execution_count": null,
   "id": "5c85f262",
   "metadata": {},
   "outputs": [],
   "source": [
    "data.columns"
   ]
  },
  {
   "cell_type": "code",
   "execution_count": null,
   "id": "3e4985f4",
   "metadata": {},
   "outputs": [],
   "source": [
    "sns.scatterplot(x='W',y='R',data=data)"
   ]
  },
  {
   "cell_type": "code",
   "execution_count": null,
   "id": "718dbd34",
   "metadata": {},
   "outputs": [],
   "source": [
    "sns.scatterplot(x='W',y='HR',data=data)"
   ]
  },
  {
   "cell_type": "code",
   "execution_count": null,
   "id": "bb1d68a4",
   "metadata": {},
   "outputs": [],
   "source": [
    "sns.scatterplot(x='W',y='SV',data=data)"
   ]
  },
  {
   "cell_type": "code",
   "execution_count": null,
   "id": "3ccf0b5f",
   "metadata": {},
   "outputs": [],
   "source": [
    "x=data.drop(columns=['W'])\n",
    "y=data['W']"
   ]
  },
  {
   "cell_type": "code",
   "execution_count": null,
   "id": "9c2c0e53",
   "metadata": {},
   "outputs": [],
   "source": [
    "plt.figure(figsize=(20,15),facecolor='blue')\n",
    "plotnumber=1\n",
    "for column in x:\n",
    "    if plotnumber<=18:\n",
    "        ax=plt.subplot(5,4,plotnumber)\n",
    "        plt.scatter(x[column],y)\n",
    "        plt.xlabel(column,fontsize=20)\n",
    "        plt.ylabel('Wins',fontsize=20)\n",
    "    plotnumber+=1\n",
    "plt.tight_layout()"
   ]
  },
  {
   "cell_type": "code",
   "execution_count": null,
   "id": "97b3a73b",
   "metadata": {},
   "outputs": [],
   "source": [
    "data_corr=data.corr().abs()\n",
    "plt.figure(figsize=(15,11))\n",
    "sns.heatmap(data_corr,annot=True,annot_kws={'size':10})\n",
    "plt.show"
   ]
  },
  {
   "cell_type": "code",
   "execution_count": null,
   "id": "7fa72484",
   "metadata": {},
   "outputs": [],
   "source": [
    "sns.pairplot(data)\n",
    "plt.show()"
   ]
  },
  {
   "cell_type": "code",
   "execution_count": null,
   "id": "ed726db1",
   "metadata": {},
   "outputs": [],
   "source": [
    "data.corr()"
   ]
  },
  {
   "cell_type": "code",
   "execution_count": null,
   "id": "ac831731",
   "metadata": {},
   "outputs": [],
   "source": [
    "data.corr()['W'].sort_values()"
   ]
  },
  {
   "cell_type": "markdown",
   "id": "80fd1fbe",
   "metadata": {},
   "source": [
    "Win has good bonds with HR,2B, 3B and SB.\n",
    "Win has great bond with ERA, RA, ER, R, SHO, BB, SV.\n",
    "Others have a weak bond."
   ]
  },
  {
   "cell_type": "code",
   "execution_count": null,
   "id": "a51e9b48",
   "metadata": {
    "scrolled": true
   },
   "outputs": [],
   "source": [
    "data.describe()"
   ]
  },
  {
   "cell_type": "markdown",
   "id": "510c8255",
   "metadata": {},
   "source": [
    "Based on heat map, we can see ERA, ER, RA are correlated. we can remove ER and RA as ERA has slightly better bond with outcome W. As well as CG as it has a weak bond with W"
   ]
  },
  {
   "cell_type": "code",
   "execution_count": null,
   "id": "a0aa4e73",
   "metadata": {},
   "outputs": [],
   "source": [
    "data.skew()"
   ]
  },
  {
   "cell_type": "markdown",
   "id": "524e45c2",
   "metadata": {},
   "source": [
    "Skewness threshold considered as +/-0.6. R, ERA, SHO, E, SV have skewness"
   ]
  },
  {
   "cell_type": "code",
   "execution_count": null,
   "id": "7174ea45",
   "metadata": {},
   "outputs": [],
   "source": [
    "sns.distplot(data['R'])"
   ]
  },
  {
   "cell_type": "code",
   "execution_count": null,
   "id": "edaf1e32",
   "metadata": {},
   "outputs": [],
   "source": [
    "data_features=data.drop('W',axis=1)\n",
    "plt.figure(figsize=(20,20),facecolor='red')\n",
    "plotno=1\n",
    "for column in data_features:\n",
    "    if plotno<=18:\n",
    "        ax=plt.subplot(5,5,plotno)\n",
    "        sns.boxplot(data=data_features[column])\n",
    "        plt.xlabel(column,fontsize=12)\n",
    "    plotno+=1\n",
    "plt.show()"
   ]
  },
  {
   "cell_type": "markdown",
   "id": "abe22c07",
   "metadata": {},
   "source": [
    "There are outliers present in some features, but the dataset is too small to remove outliers."
   ]
  },
  {
   "cell_type": "code",
   "execution_count": null,
   "id": "f8431dd9",
   "metadata": {},
   "outputs": [],
   "source": [
    "data=data.drop(columns=['ER','RA'],axis=1)"
   ]
  },
  {
   "cell_type": "code",
   "execution_count": null,
   "id": "530e849e",
   "metadata": {},
   "outputs": [],
   "source": [
    "x=data.drop(columns=['W'])\n",
    "y=data['W']"
   ]
  },
  {
   "cell_type": "code",
   "execution_count": null,
   "id": "9787680a",
   "metadata": {},
   "outputs": [],
   "source": [
    "from sklearn.feature_selection import SelectKBest,f_classif"
   ]
  },
  {
   "cell_type": "code",
   "execution_count": null,
   "id": "6cdcecc0",
   "metadata": {},
   "outputs": [],
   "source": [
    "best_features=SelectKBest(score_func=f_classif,k=14)\n",
    "\n",
    "fit=best_features.fit(x,y)\n",
    "\n",
    "data_scores=pd.DataFrame(fit.scores_)\n",
    "\n",
    "data_columns=pd.DataFrame(x.columns)\n",
    "\n",
    "feature_scores=pd.concat([data_columns,data_scores],axis=1)\n",
    "\n",
    "feature_scores.columns=['Feature_Name','Score']\n",
    "\n",
    "print(feature_scores.nlargest(12,'Score'))"
   ]
  },
  {
   "cell_type": "code",
   "execution_count": null,
   "id": "b19c87f0",
   "metadata": {},
   "outputs": [],
   "source": [
    "df=data[['R','SB','SV','E','ERA','AB','SO','SHO','BB','HR','2B','3B','W']]"
   ]
  },
  {
   "cell_type": "code",
   "execution_count": null,
   "id": "280918b6",
   "metadata": {},
   "outputs": [],
   "source": [
    "x=df.drop(columns=['W'])\n",
    "y=df['W']"
   ]
  },
  {
   "cell_type": "code",
   "execution_count": null,
   "id": "ccae4c53",
   "metadata": {},
   "outputs": [],
   "source": [
    "plt.figure(figsize=(25,25))\n",
    "plotno=1\n",
    "for column in x:\n",
    "    if plotno<=15:\n",
    "        ax=plt.subplot(4,4,plotno)\n",
    "        sns.stripplot(y,x[column])\n",
    "        plt.xlabel(column,fontsize=20)\n",
    "        plt.ylabel('Wins',fontsize=20)\n",
    "    plotno+=1\n",
    "plt.show()"
   ]
  },
  {
   "cell_type": "code",
   "execution_count": null,
   "id": "649f1c7e",
   "metadata": {},
   "outputs": [],
   "source": [
    "scalar=StandardScaler()\n",
    "x_scalar=scalar.fit_transform(x)"
   ]
  },
  {
   "cell_type": "code",
   "execution_count": null,
   "id": "4aca5c7c",
   "metadata": {},
   "outputs": [],
   "source": [
    "x_train,x_test,y_train,y_test=train_test_split(x_scalar,y,test_size=0.05,random_state=455)"
   ]
  },
  {
   "cell_type": "code",
   "execution_count": null,
   "id": "bf12f163",
   "metadata": {},
   "outputs": [],
   "source": [
    "regression=LinearRegression()\n",
    "regression.fit(x_train,y_train)"
   ]
  },
  {
   "cell_type": "code",
   "execution_count": null,
   "id": "49c7a98b",
   "metadata": {},
   "outputs": [],
   "source": [
    "regression.score(x_train,y_train)"
   ]
  },
  {
   "cell_type": "code",
   "execution_count": null,
   "id": "eb81742b",
   "metadata": {},
   "outputs": [],
   "source": [
    "regression.score(x_test,y_test)"
   ]
  },
  {
   "cell_type": "code",
   "execution_count": null,
   "id": "e7105c0f",
   "metadata": {},
   "outputs": [],
   "source": [
    "from sklearn.metrics import r2_score, mean_squared_error, mean_absolute_error\n",
    "from sklearn.linear_model import Lasso,Ridge,RidgeCV,LassoCV"
   ]
  },
  {
   "cell_type": "code",
   "execution_count": null,
   "id": "4c561ed6",
   "metadata": {},
   "outputs": [],
   "source": [
    "y_pred=regression.predict(x_test)\n",
    "\n",
    "mean_absolute_error(y_test,y_pred)"
   ]
  },
  {
   "cell_type": "code",
   "execution_count": null,
   "id": "c5e90f21",
   "metadata": {},
   "outputs": [],
   "source": [
    "mean_squared_error(y_test,y_pred)"
   ]
  },
  {
   "cell_type": "code",
   "execution_count": null,
   "id": "bdb9dc19",
   "metadata": {},
   "outputs": [],
   "source": [
    "np.sqrt(mean_squared_error(y_test,y_pred))"
   ]
  },
  {
   "cell_type": "code",
   "execution_count": null,
   "id": "962f7c40",
   "metadata": {},
   "outputs": [],
   "source": [
    "print('Score :',regression.predict(scalar.transform([[724,104,56,88,3.73,5575,973,8,383,139,300,42]])))"
   ]
  },
  {
   "cell_type": "code",
   "execution_count": null,
   "id": "4f1b116e",
   "metadata": {},
   "outputs": [],
   "source": [
    "df"
   ]
  },
  {
   "cell_type": "code",
   "execution_count": null,
   "id": "3eea8e06",
   "metadata": {},
   "outputs": [],
   "source": [
    "lasscv=LassoCV(alphas=None,max_iter=200,normalize=True)\n",
    "lasscv.fit(x_train,y_train)"
   ]
  },
  {
   "cell_type": "code",
   "execution_count": null,
   "id": "5d671e6c",
   "metadata": {},
   "outputs": [],
   "source": [
    "alpha=lasscv.alpha_\n",
    "alpha"
   ]
  },
  {
   "cell_type": "code",
   "execution_count": null,
   "id": "59bc5081",
   "metadata": {},
   "outputs": [],
   "source": [
    "lasso_reg=Lasso(alpha)\n",
    "lasso_reg.fit(x_train,y_train)"
   ]
  },
  {
   "cell_type": "code",
   "execution_count": null,
   "id": "8645d9c5",
   "metadata": {},
   "outputs": [],
   "source": [
    "lasso_reg.score(x_test,y_test)"
   ]
  },
  {
   "cell_type": "code",
   "execution_count": null,
   "id": "acf855ae",
   "metadata": {},
   "outputs": [],
   "source": [
    "ridgecv=RidgeCV(alphas=np.arange(0.002,0.1,0.02),normalize=True)\n",
    "ridgecv.fit(x_train,y_train)"
   ]
  },
  {
   "cell_type": "code",
   "execution_count": null,
   "id": "c769e6a8",
   "metadata": {},
   "outputs": [],
   "source": [
    "ridgecv.alpha_"
   ]
  },
  {
   "cell_type": "code",
   "execution_count": null,
   "id": "61422f71",
   "metadata": {},
   "outputs": [],
   "source": [
    "ridge_model=Ridge(alpha=ridgecv.alpha_)\n",
    "ridge_model.fit(x_train,y_train)"
   ]
  },
  {
   "cell_type": "code",
   "execution_count": null,
   "id": "bb44aa77",
   "metadata": {},
   "outputs": [],
   "source": [
    "ridge_model.score(x_test,y_test)"
   ]
  },
  {
   "cell_type": "markdown",
   "id": "e473cba3",
   "metadata": {},
   "source": [
    "Lasso is giving highest accuracy, so we will move with that"
   ]
  },
  {
   "cell_type": "code",
   "execution_count": null,
   "id": "6f236419",
   "metadata": {},
   "outputs": [],
   "source": [
    "pickle.dump(lasscv,open('Baseball prediction','wb'))"
   ]
  },
  {
   "cell_type": "code",
   "execution_count": null,
   "id": "75a96b19",
   "metadata": {},
   "outputs": [],
   "source": [
    "cross_val_score(lasscv,x_scalar,y,cv=5)"
   ]
  },
  {
   "cell_type": "code",
   "execution_count": null,
   "id": "573aceaa",
   "metadata": {},
   "outputs": [],
   "source": [
    "cross_val_score(LassoCV(),x_scalar,y,cv=5).mean()"
   ]
  },
  {
   "cell_type": "code",
   "execution_count": null,
   "id": "f7b6c51c",
   "metadata": {},
   "outputs": [],
   "source": []
  },
  {
   "cell_type": "code",
   "execution_count": null,
   "id": "282cba84",
   "metadata": {},
   "outputs": [],
   "source": []
  },
  {
   "cell_type": "code",
   "execution_count": null,
   "id": "725966b3",
   "metadata": {},
   "outputs": [],
   "source": []
  },
  {
   "cell_type": "code",
   "execution_count": null,
   "id": "972b1db6",
   "metadata": {},
   "outputs": [],
   "source": []
  },
  {
   "cell_type": "code",
   "execution_count": null,
   "id": "bfed0298",
   "metadata": {},
   "outputs": [],
   "source": []
  },
  {
   "cell_type": "code",
   "execution_count": null,
   "id": "f3797374",
   "metadata": {},
   "outputs": [],
   "source": []
  }
 ],
 "metadata": {
  "kernelspec": {
   "display_name": "Python 3 (ipykernel)",
   "language": "python",
   "name": "python3"
  },
  "language_info": {
   "codemirror_mode": {
    "name": "ipython",
    "version": 3
   },
   "file_extension": ".py",
   "mimetype": "text/x-python",
   "name": "python",
   "nbconvert_exporter": "python",
   "pygments_lexer": "ipython3",
   "version": "3.9.12"
  }
 },
 "nbformat": 4,
 "nbformat_minor": 5
}
