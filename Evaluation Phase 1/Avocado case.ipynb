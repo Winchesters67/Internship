{
 "cells": [
  {
   "cell_type": "code",
   "execution_count": null,
   "id": "419fc2da",
   "metadata": {},
   "outputs": [],
   "source": [
    "import pandas as pd\n",
    "import matplotlib.pyplot as plt\n",
    "import pickle\n",
    "%matplotlib inline\n",
    "import numpy as np\n",
    "from sklearn.tree import DecisionTreeClassifier\n",
    "\n",
    "from sklearn.preprocessing import StandardScaler\n",
    "from sklearn.neighbors import KNeighborsClassifier\n",
    "from sklearn.model_selection import train_test_split,GridSearchCV\n",
    "from statsmodels.stats.outliers_influence import variance_inflation_factor\n",
    "from sklearn.metrics import accuracy_score, confusion_matrix,roc_curve,roc_auc_score\n",
    "from sklearn.metrics import classification_report\n",
    "import seaborn as sns\n",
    "import pickle\n",
    "import warnings\n",
    "warnings.filterwarnings('ignore')"
   ]
  },
  {
   "cell_type": "code",
   "execution_count": null,
   "id": "a2226fd7",
   "metadata": {},
   "outputs": [],
   "source": [
    "df=pd.read_csv('avocado.csv')\n",
    "df.head()"
   ]
  },
  {
   "cell_type": "code",
   "execution_count": null,
   "id": "247ca92f",
   "metadata": {},
   "outputs": [],
   "source": [
    "df.shape"
   ]
  },
  {
   "cell_type": "code",
   "execution_count": null,
   "id": "c70fdda8",
   "metadata": {},
   "outputs": [],
   "source": [
    "df=df.drop(columns=['Unnamed: 0','Date'],axis=1)"
   ]
  },
  {
   "cell_type": "code",
   "execution_count": null,
   "id": "83597e2b",
   "metadata": {},
   "outputs": [],
   "source": [
    "df"
   ]
  },
  {
   "cell_type": "code",
   "execution_count": null,
   "id": "0c6222bb",
   "metadata": {},
   "outputs": [],
   "source": [
    "df.info()"
   ]
  },
  {
   "cell_type": "markdown",
   "id": "d8993af1",
   "metadata": {},
   "source": [
    "We can see there are no null values, so imputation is not required."
   ]
  },
  {
   "cell_type": "markdown",
   "id": "998e7f44",
   "metadata": {},
   "source": [
    "Theres 2 features with object data type (Type, Region), so we need to use encoding for them, as well as for feature Year, as it can have effect on Price but need not be in YYYY format"
   ]
  },
  {
   "cell_type": "code",
   "execution_count": null,
   "id": "a78d15a2",
   "metadata": {},
   "outputs": [],
   "source": [
    "print(df['type'].value_counts().sort_values())"
   ]
  },
  {
   "cell_type": "code",
   "execution_count": null,
   "id": "d672de3a",
   "metadata": {},
   "outputs": [],
   "source": [
    "print(df['region'].value_counts().sort_values())"
   ]
  },
  {
   "cell_type": "markdown",
   "id": "cb1aba93",
   "metadata": {},
   "source": [
    "Using LabelEncoder for both of them would be best"
   ]
  },
  {
   "cell_type": "code",
   "execution_count": null,
   "id": "e4f80e38",
   "metadata": {},
   "outputs": [],
   "source": [
    "from sklearn.preprocessing import LabelEncoder\n",
    "lab_enc=LabelEncoder()"
   ]
  },
  {
   "cell_type": "code",
   "execution_count": null,
   "id": "9f432f65",
   "metadata": {},
   "outputs": [],
   "source": [
    "data=lab_enc.fit_transform(df['region'])\n",
    "pd.Series(data)"
   ]
  },
  {
   "cell_type": "code",
   "execution_count": null,
   "id": "910be627",
   "metadata": {},
   "outputs": [],
   "source": [
    "df['region']=data\n",
    "df"
   ]
  },
  {
   "cell_type": "code",
   "execution_count": null,
   "id": "704c3fe1",
   "metadata": {},
   "outputs": [],
   "source": [
    "data=lab_enc.fit_transform(df['type'])\n",
    "pd.Series(data)"
   ]
  },
  {
   "cell_type": "code",
   "execution_count": null,
   "id": "416476a6",
   "metadata": {},
   "outputs": [],
   "source": [
    "df['type']=data\n",
    "df"
   ]
  },
  {
   "cell_type": "code",
   "execution_count": null,
   "id": "dc81fc58",
   "metadata": {},
   "outputs": [],
   "source": [
    "data=lab_enc.fit_transform(df['year'])\n",
    "pd.Series(data)"
   ]
  },
  {
   "cell_type": "code",
   "execution_count": null,
   "id": "00150bc2",
   "metadata": {},
   "outputs": [],
   "source": [
    "df['year']=data\n",
    "df"
   ]
  },
  {
   "cell_type": "code",
   "execution_count": null,
   "id": "3e4ab189",
   "metadata": {},
   "outputs": [],
   "source": [
    "plt.figure(figsize=(20,15),facecolor='yellow')\n",
    "plotno=1\n",
    "for column in df:\n",
    "    if plotno<=13:\n",
    "        ax=plt.subplot(3,5,plotno)\n",
    "        sns.distplot(df[column])\n",
    "        plt.xlabel(column,fontsize=20)\n",
    "    plotno+=1\n",
    "plt.tight_layout()"
   ]
  },
  {
   "cell_type": "markdown",
   "id": "09df2dc0",
   "metadata": {},
   "source": [
    "# Case 1 - Find the region"
   ]
  },
  {
   "cell_type": "code",
   "execution_count": null,
   "id": "5905b273",
   "metadata": {},
   "outputs": [],
   "source": [
    "y=df['region']\n",
    "x=df.drop(columns=['region'])"
   ]
  },
  {
   "cell_type": "code",
   "execution_count": null,
   "id": "65fed9e8",
   "metadata": {},
   "outputs": [],
   "source": [
    "plt.figure(figsize=(20,15),facecolor='white')\n",
    "plotnumber=1\n",
    "for column in x:\n",
    "    if plotnumber<=18:\n",
    "        ax=plt.subplot(5,4,plotnumber)\n",
    "        plt.scatter(x[column],y)\n",
    "        plt.xlabel(column,fontsize=20)\n",
    "        plt.ylabel('region',fontsize=20)\n",
    "    plotnumber+=1\n",
    "plt.tight_layout()"
   ]
  },
  {
   "cell_type": "code",
   "execution_count": null,
   "id": "ba8622c8",
   "metadata": {},
   "outputs": [],
   "source": [
    "df_corr=df.corr().abs()\n",
    "plt.figure(figsize=(15,11))\n",
    "sns.heatmap(df_corr,annot=True,annot_kws={'size':10})\n",
    "plt.show"
   ]
  },
  {
   "cell_type": "markdown",
   "id": "8cacd687",
   "metadata": {},
   "source": [
    "From heatmap we can see region has weak bond with Year, type"
   ]
  },
  {
   "cell_type": "code",
   "execution_count": null,
   "id": "baab8f78",
   "metadata": {},
   "outputs": [],
   "source": [
    "plt.figure(figsize=(15,15))\n",
    "plotno=1\n",
    "for column in x:\n",
    "    if plotno<=13:\n",
    "        ax=plt.subplot(4,4,plotno)\n",
    "        sns.stripplot(y,x[column])\n",
    "    plotno+=1\n",
    "plt.show()"
   ]
  },
  {
   "cell_type": "code",
   "execution_count": null,
   "id": "6463685f",
   "metadata": {},
   "outputs": [],
   "source": []
  },
  {
   "cell_type": "code",
   "execution_count": null,
   "id": "81d540b5",
   "metadata": {},
   "outputs": [],
   "source": [
    "df_features=df\n",
    "plt.figure(figsize=(20,20),facecolor='red')\n",
    "plotno=1\n",
    "for column in df_features:\n",
    "    if plotno<=18:\n",
    "        ax=plt.subplot(5,5,plotno)\n",
    "        sns.boxplot(data=df_features[column])\n",
    "        plt.xlabel(column,fontsize=12)\n",
    "    plotno+=1\n",
    "plt.show()"
   ]
  },
  {
   "cell_type": "code",
   "execution_count": null,
   "id": "2c6d4238",
   "metadata": {},
   "outputs": [],
   "source": [
    "df.shape"
   ]
  },
  {
   "cell_type": "code",
   "execution_count": null,
   "id": "393b4b02",
   "metadata": {},
   "outputs": [],
   "source": [
    "df.describe()"
   ]
  },
  {
   "cell_type": "code",
   "execution_count": null,
   "id": "1c8260f9",
   "metadata": {},
   "outputs": [],
   "source": [
    "q1=df.quantile(0.25)\n",
    "q3=df.quantile(0.75)\n",
    "iqr=q3-q1"
   ]
  },
  {
   "cell_type": "code",
   "execution_count": null,
   "id": "1399023e",
   "metadata": {},
   "outputs": [],
   "source": [
    "AvgPrice=(q3.AveragePrice + (1.5*iqr.AveragePrice))\n",
    "index=np.where(df['AveragePrice']>AvgPrice)"
   ]
  },
  {
   "cell_type": "code",
   "execution_count": null,
   "id": "7ad627d5",
   "metadata": {},
   "outputs": [],
   "source": [
    "df=df.drop(df.index[index])\n",
    "df.shape"
   ]
  },
  {
   "cell_type": "code",
   "execution_count": null,
   "id": "6db17693",
   "metadata": {},
   "outputs": [],
   "source": [
    "df_features=df\n",
    "plt.figure(figsize=(20,20),facecolor='red')\n",
    "plotno=1\n",
    "for column in df_features:\n",
    "    if plotno<=18:\n",
    "        ax=plt.subplot(5,5,plotno)\n",
    "        sns.boxplot(data=df_features[column])\n",
    "        plt.xlabel(column,fontsize=12)\n",
    "    plotno+=1\n",
    "plt.show()"
   ]
  },
  {
   "cell_type": "markdown",
   "id": "7b6b6538",
   "metadata": {},
   "source": [
    "For other features, the outliers consist lot of data and removal would harm the dataset"
   ]
  },
  {
   "cell_type": "code",
   "execution_count": null,
   "id": "4f8b853c",
   "metadata": {},
   "outputs": [],
   "source": [
    "df.reset_index()"
   ]
  },
  {
   "cell_type": "code",
   "execution_count": null,
   "id": "d9440e49",
   "metadata": {},
   "outputs": [],
   "source": [
    "sns.lineplot(x='region',y='Total Volume',data=df)\n",
    "plt.show()"
   ]
  },
  {
   "cell_type": "code",
   "execution_count": null,
   "id": "816e9841",
   "metadata": {},
   "outputs": [],
   "source": [
    "sns.lineplot(x='region',y='AveragePrice',data=df)\n",
    "plt.show()"
   ]
  },
  {
   "cell_type": "code",
   "execution_count": null,
   "id": "2c2fbebd",
   "metadata": {},
   "outputs": [],
   "source": [
    "sns.lineplot(x='region',y='4046',data=df)\n",
    "plt.show()"
   ]
  },
  {
   "cell_type": "code",
   "execution_count": null,
   "id": "c99c9c82",
   "metadata": {},
   "outputs": [],
   "source": [
    "sns.lineplot(x='region',y='4225',data=df)\n",
    "plt.show()"
   ]
  },
  {
   "cell_type": "code",
   "execution_count": null,
   "id": "8a9eb064",
   "metadata": {},
   "outputs": [],
   "source": [
    "sns.lineplot(x='region',y='4770',data=df)\n",
    "plt.show()"
   ]
  },
  {
   "cell_type": "code",
   "execution_count": null,
   "id": "60ea264c",
   "metadata": {},
   "outputs": [],
   "source": [
    "sns.lineplot(x='region',y='Total Bags',data=df)\n",
    "plt.show()"
   ]
  },
  {
   "cell_type": "code",
   "execution_count": null,
   "id": "55396e8c",
   "metadata": {},
   "outputs": [],
   "source": [
    "sns.lineplot(x='region',y='Small Bags',data=df)\n",
    "plt.show()"
   ]
  },
  {
   "cell_type": "code",
   "execution_count": null,
   "id": "35c6b555",
   "metadata": {},
   "outputs": [],
   "source": [
    "sns.lineplot(x='region',y='Large Bags',data=df)\n",
    "plt.show()"
   ]
  },
  {
   "cell_type": "code",
   "execution_count": null,
   "id": "ca80f779",
   "metadata": {},
   "outputs": [],
   "source": [
    "sns.lineplot(x='region',y='XLarge Bags',data=df)\n",
    "plt.show()"
   ]
  },
  {
   "cell_type": "code",
   "execution_count": null,
   "id": "f3cd0baa",
   "metadata": {},
   "outputs": [],
   "source": [
    "sns.lineplot(x='region',y='type',data=df)\n",
    "plt.show()"
   ]
  },
  {
   "cell_type": "code",
   "execution_count": null,
   "id": "f9ccaf2a",
   "metadata": {},
   "outputs": [],
   "source": [
    "sns.lineplot(x='region',y='year',data=df)\n",
    "plt.show()"
   ]
  },
  {
   "cell_type": "markdown",
   "id": "b6661fa5",
   "metadata": {},
   "source": [
    "From these graphs and the heatplot we can see Year and Type have very little relation with region, so they can be excluded from prediction model"
   ]
  },
  {
   "cell_type": "code",
   "execution_count": null,
   "id": "1d10632d",
   "metadata": {},
   "outputs": [],
   "source": [
    "y=df['region']\n",
    "x=df.drop(columns=['region','year','type'])"
   ]
  },
  {
   "cell_type": "code",
   "execution_count": null,
   "id": "5bdb5d8d",
   "metadata": {},
   "outputs": [],
   "source": [
    "from sklearn.feature_selection import SelectKBest,f_classif"
   ]
  },
  {
   "cell_type": "code",
   "execution_count": null,
   "id": "1295925f",
   "metadata": {},
   "outputs": [],
   "source": [
    "best_features=SelectKBest(score_func=f_classif,k=9)\n",
    "\n",
    "fit=best_features.fit(x,y)\n",
    "\n",
    "data_scores=pd.DataFrame(fit.scores_)\n",
    "\n",
    "data_columns=pd.DataFrame(x.columns)\n",
    "\n",
    "feature_scores=pd.concat([data_columns,data_scores],axis=1)\n",
    "\n",
    "feature_scores.columns=['Feature_Name','Score']\n",
    "\n",
    "print(feature_scores.nlargest(7,'Score'))"
   ]
  },
  {
   "cell_type": "markdown",
   "id": "29f6d882",
   "metadata": {},
   "source": [
    "Based om the lineplot, heatmap, and Selectk method, these 7 features are best syited to make prediction for region"
   ]
  },
  {
   "cell_type": "code",
   "execution_count": null,
   "id": "9b5bb898",
   "metadata": {},
   "outputs": [],
   "source": [
    "y=df['region']\n",
    "x=df[['Total Volume','4225','Small Bags','4046','Total Bags','Large Bags','4770']]"
   ]
  },
  {
   "cell_type": "code",
   "execution_count": null,
   "id": "76ba8839",
   "metadata": {},
   "outputs": [],
   "source": [
    "scaler=StandardScaler()\n",
    "x_scaled=scaler.fit_transform(x)"
   ]
  },
  {
   "cell_type": "code",
   "execution_count": null,
   "id": "8a75555d",
   "metadata": {},
   "outputs": [],
   "source": [
    "vif=pd.DataFrame()\n",
    "vif['vif']=[variance_inflation_factor(x_scaled,i) for i in range(x_scaled.shape[1])]\n",
    "vif['Features']=x.columns\n",
    "vif"
   ]
  },
  {
   "cell_type": "markdown",
   "id": "b04af83d",
   "metadata": {},
   "source": [
    "Considering most used multicollinearity threshold of 10, we're clear of multicollinearity"
   ]
  },
  {
   "cell_type": "code",
   "execution_count": null,
   "id": "bc8ed01a",
   "metadata": {},
   "outputs": [],
   "source": [
    "x_train,x_test,y_train,y_test=train_test_split(x_scaled,y,test_size=0.17,random_state=333)"
   ]
  },
  {
   "cell_type": "code",
   "execution_count": null,
   "id": "f4e4de31",
   "metadata": {},
   "outputs": [],
   "source": [
    "def metric_score(clf,x_train,x_test,y_train,y_test,train=True):\n",
    "    if train:\n",
    "        y_pred=clf.predict(x_train)\n",
    "        print('\\n----Train result----')\n",
    "        print(f'Accuracy Score:{accuracy_score(y_train,y_pred)*100:.2f}%')\n",
    "        \n",
    "    elif train==False:\n",
    "        pred=clf.predict(x_test)\n",
    "        print('\\n----Test result----')\n",
    "        print(f'Accuracy Score:{accuracy_score(y_test,pred)*100:.2f}%')"
   ]
  },
  {
   "cell_type": "code",
   "execution_count": null,
   "id": "5381a293",
   "metadata": {},
   "outputs": [],
   "source": [
    "knn=KNeighborsClassifier()\n",
    "knn.fit(x_train,y_train)"
   ]
  },
  {
   "cell_type": "code",
   "execution_count": null,
   "id": "1aa2fd17",
   "metadata": {},
   "outputs": [],
   "source": [
    "metric_score(knn,x_train,x_test,y_train,y_test,train=True)\n",
    "metric_score(knn,x_train,x_test,y_train,y_test,train=False)"
   ]
  },
  {
   "cell_type": "code",
   "execution_count": null,
   "id": "7d5dc217",
   "metadata": {},
   "outputs": [],
   "source": [
    "from sklearn.linear_model import LogisticRegression\n",
    "log_reg=LogisticRegression()\n",
    "log_reg.fit(x_train,y_train)"
   ]
  },
  {
   "cell_type": "code",
   "execution_count": null,
   "id": "934293a3",
   "metadata": {},
   "outputs": [],
   "source": [
    "metric_score(log_reg,x_train,x_test,y_train,y_test,train=True)\n",
    "metric_score(log_reg,x_train,x_test,y_train,y_test,train=False)"
   ]
  },
  {
   "cell_type": "code",
   "execution_count": null,
   "id": "53b7d197",
   "metadata": {},
   "outputs": [],
   "source": [
    "from sklearn.ensemble import BaggingClassifier"
   ]
  },
  {
   "cell_type": "code",
   "execution_count": null,
   "id": "213229e7",
   "metadata": {},
   "outputs": [],
   "source": [
    "bag_knn=BaggingClassifier(KNeighborsClassifier(n_neighbors=9),\n",
    "                          n_estimators=6,max_samples=0.75,\n",
    "                          bootstrap=True,random_state=366,oob_score=True)"
   ]
  },
  {
   "cell_type": "code",
   "execution_count": null,
   "id": "6e49dee0",
   "metadata": {},
   "outputs": [],
   "source": [
    "bag_knn.fit(x_train,y_train)"
   ]
  },
  {
   "cell_type": "code",
   "execution_count": null,
   "id": "dc379560",
   "metadata": {},
   "outputs": [],
   "source": [
    "metric_score(bag_knn,x_train,x_test,y_train,y_test,train=True)\n",
    "metric_score(bag_knn,x_train,x_test,y_train,y_test,train=False)"
   ]
  },
  {
   "cell_type": "markdown",
   "id": "dc5973d7",
   "metadata": {},
   "source": [
    "Bagging did not improve accuracy score."
   ]
  },
  {
   "cell_type": "code",
   "execution_count": null,
   "id": "22e12f51",
   "metadata": {},
   "outputs": [],
   "source": [
    "from sklearn.ensemble import RandomForestClassifier, AdaBoostRegressor"
   ]
  },
  {
   "cell_type": "code",
   "execution_count": null,
   "id": "96c06497",
   "metadata": {},
   "outputs": [],
   "source": [
    "rnd_clf=RandomForestClassifier()\n",
    "rnd_clf.fit(x_train,y_train)"
   ]
  },
  {
   "cell_type": "code",
   "execution_count": null,
   "id": "f7b17ff4",
   "metadata": {},
   "outputs": [],
   "source": [
    "metric_score(rnd_clf,x_train,x_test,y_train,y_test,train=True)\n",
    "metric_score(rnd_clf,x_train,x_test,y_train,y_test,train=False)"
   ]
  },
  {
   "cell_type": "code",
   "execution_count": null,
   "id": "ae0e1ab0",
   "metadata": {},
   "outputs": [],
   "source": [
    "pickle.dump(reg,open('knn','wb'))"
   ]
  },
  {
   "cell_type": "markdown",
   "id": "74fa97d7",
   "metadata": {},
   "source": [
    "Random Forest is giving best results, so we'll use this for Prediction"
   ]
  },
  {
   "cell_type": "code",
   "execution_count": null,
   "id": "f413303d",
   "metadata": {},
   "outputs": [],
   "source": [
    "print('Region:',rnd_clf.predict(scaler.transform([[17074.83,1529.20,13066.82,2046.96,13498.67,431.85,0.00]])))"
   ]
  },
  {
   "cell_type": "markdown",
   "id": "689bf125",
   "metadata": {},
   "source": [
    "# Case 2 - Find Average Price"
   ]
  },
  {
   "cell_type": "code",
   "execution_count": null,
   "id": "85f8fec4",
   "metadata": {},
   "outputs": [],
   "source": [
    "y=df['AveragePrice']\n",
    "x=df.drop(columns=['AveragePrice'])"
   ]
  },
  {
   "cell_type": "code",
   "execution_count": null,
   "id": "f97fcb66",
   "metadata": {},
   "outputs": [],
   "source": [
    "plt.figure(figsize=(20,15),facecolor='white')\n",
    "plotnumber=1\n",
    "for column in x:\n",
    "    if plotnumber<=18:\n",
    "        ax=plt.subplot(5,4,plotnumber)\n",
    "        plt.scatter(x[column],y)\n",
    "        plt.xlabel(column,fontsize=20)\n",
    "        plt.ylabel('AveragePrice',fontsize=20)\n",
    "    plotnumber+=1\n",
    "plt.tight_layout()"
   ]
  },
  {
   "cell_type": "code",
   "execution_count": null,
   "id": "e69474c4",
   "metadata": {
    "scrolled": false
   },
   "outputs": [],
   "source": [
    "df_corr=df.corr().abs()\n",
    "plt.figure(figsize=(15,11))\n",
    "sns.heatmap(df_corr,annot=True,annot_kws={'size':10})\n",
    "plt.show"
   ]
  },
  {
   "cell_type": "markdown",
   "id": "2d756709",
   "metadata": {},
   "source": [
    "From Scatterplot and heatmap, we can see region and year have weak bond with Price."
   ]
  },
  {
   "cell_type": "markdown",
   "id": "1737a873",
   "metadata": {},
   "source": [
    "We can also see Type has strongest bond"
   ]
  },
  {
   "cell_type": "code",
   "execution_count": null,
   "id": "d87243b2",
   "metadata": {},
   "outputs": [],
   "source": [
    "x"
   ]
  },
  {
   "cell_type": "code",
   "execution_count": null,
   "id": "1d53b91a",
   "metadata": {},
   "outputs": [],
   "source": [
    "sns.lineplot(x='AveragePrice',y='region',data=df)\n",
    "plt.show()"
   ]
  },
  {
   "cell_type": "code",
   "execution_count": null,
   "id": "277aaa49",
   "metadata": {},
   "outputs": [],
   "source": [
    "sns.lineplot(x='AveragePrice',y='Total Volume',data=df)\n",
    "plt.show()"
   ]
  },
  {
   "cell_type": "code",
   "execution_count": null,
   "id": "8f5dffe2",
   "metadata": {},
   "outputs": [],
   "source": [
    "sns.lineplot(x='AveragePrice',y='4046',data=df)\n",
    "plt.show()"
   ]
  },
  {
   "cell_type": "code",
   "execution_count": null,
   "id": "b90b39b6",
   "metadata": {},
   "outputs": [],
   "source": [
    "sns.lineplot(x='AveragePrice',y='4225',data=df)\n",
    "plt.show()"
   ]
  },
  {
   "cell_type": "code",
   "execution_count": null,
   "id": "8e4b69e1",
   "metadata": {},
   "outputs": [],
   "source": [
    "sns.lineplot(x='AveragePrice',y='type',data=df)\n",
    "plt.show()"
   ]
  },
  {
   "cell_type": "code",
   "execution_count": null,
   "id": "2cd92ba2",
   "metadata": {},
   "outputs": [],
   "source": [
    "sns.lineplot(x='AveragePrice',y='year',data=df)\n",
    "plt.show()"
   ]
  },
  {
   "cell_type": "code",
   "execution_count": null,
   "id": "df0fd355",
   "metadata": {},
   "outputs": [],
   "source": [
    "y=df['AveragePrice']\n",
    "x=df.drop(columns=['AveragePrice','year','region'])"
   ]
  },
  {
   "cell_type": "code",
   "execution_count": null,
   "id": "3f31dec2",
   "metadata": {},
   "outputs": [],
   "source": [
    "scal=StandardScaler()\n",
    "x_scaled=scal.fit_transform(x)"
   ]
  },
  {
   "cell_type": "code",
   "execution_count": null,
   "id": "d599e9b8",
   "metadata": {},
   "outputs": [],
   "source": [
    "vif=pd.DataFrame()\n",
    "vif['vif']=[variance_inflation_factor(x_scaled,i) for i in range(x_scaled.shape[1])]\n",
    "vif['Features']=x.columns\n",
    "vif"
   ]
  },
  {
   "cell_type": "markdown",
   "id": "680c6c89",
   "metadata": {},
   "source": [
    "Threshold is in control"
   ]
  },
  {
   "cell_type": "code",
   "execution_count": null,
   "id": "6532b298",
   "metadata": {},
   "outputs": [],
   "source": [
    "from sklearn.feature_selection import SelectKBest, f_classif"
   ]
  },
  {
   "cell_type": "code",
   "execution_count": null,
   "id": "b135d334",
   "metadata": {},
   "outputs": [],
   "source": [
    "bestf=SelectKBest(score_func=f_classif,k=9)\n",
    "fit=bestf.fit(x,y)\n",
    "df_scores=pd.DataFrame(fit.scores_)\n",
    "df_columns=pd.DataFrame(x.columns)"
   ]
  },
  {
   "cell_type": "code",
   "execution_count": null,
   "id": "f1905daa",
   "metadata": {},
   "outputs": [],
   "source": [
    "feat_score=pd.concat([df_columns,df_scores],axis=1)\n",
    "feat_score.columns=['Feature_Name','score']\n",
    "print(feat_score.nlargest(7,'score'))"
   ]
  },
  {
   "cell_type": "code",
   "execution_count": null,
   "id": "ae6e07a8",
   "metadata": {},
   "outputs": [],
   "source": [
    "y=df[['AveragePrice']]\n",
    "x=df[['type','4046','Total Volume','4770','4225','Total Bags','Small Bags']]"
   ]
  },
  {
   "cell_type": "code",
   "execution_count": null,
   "id": "1b16d786",
   "metadata": {},
   "outputs": [],
   "source": [
    "scaler=StandardScaler()\n",
    "x_scaled=scaler.fit_transform(x)"
   ]
  },
  {
   "cell_type": "code",
   "execution_count": null,
   "id": "10929ad3",
   "metadata": {},
   "outputs": [],
   "source": [
    "x_train,x_test,y_train,y_test=train_test_split(x_scaled,y,test_size=0.12,random_state=44)"
   ]
  },
  {
   "cell_type": "code",
   "execution_count": null,
   "id": "8add77e1",
   "metadata": {},
   "outputs": [],
   "source": [
    "from sklearn.linear_model import LinearRegression\n",
    "reg=LinearRegression()\n",
    "reg.fit(x_train,y_train)"
   ]
  },
  {
   "cell_type": "code",
   "execution_count": null,
   "id": "45f7d352",
   "metadata": {},
   "outputs": [],
   "source": [
    "reg.score(x_train,y_train)"
   ]
  },
  {
   "cell_type": "code",
   "execution_count": null,
   "id": "e64ab675",
   "metadata": {},
   "outputs": [],
   "source": [
    "reg.score(x_test,y_test)"
   ]
  },
  {
   "cell_type": "code",
   "execution_count": null,
   "id": "0b96e911",
   "metadata": {},
   "outputs": [],
   "source": [
    "from sklearn.metrics import r2_score, mean_squared_error, mean_absolute_error\n",
    "from sklearn.linear_model import Lasso,Ridge,RidgeCV,LassoCV"
   ]
  },
  {
   "cell_type": "code",
   "execution_count": null,
   "id": "c14d10d5",
   "metadata": {},
   "outputs": [],
   "source": [
    "lasscv=LassoCV(alphas=None,max_iter=200,normalize=True)\n",
    "lasscv.fit(x_train,y_train)"
   ]
  },
  {
   "cell_type": "code",
   "execution_count": null,
   "id": "df01c7e6",
   "metadata": {},
   "outputs": [],
   "source": [
    "alpha=lasscv.alpha_\n",
    "alpha"
   ]
  },
  {
   "cell_type": "code",
   "execution_count": null,
   "id": "f3c9e420",
   "metadata": {},
   "outputs": [],
   "source": [
    "lasso_reg=Lasso(alpha)\n",
    "lasso_reg.fit(x_train,y_train)"
   ]
  },
  {
   "cell_type": "code",
   "execution_count": null,
   "id": "c3821237",
   "metadata": {},
   "outputs": [],
   "source": [
    "lasso_reg.score(x_test,y_test)"
   ]
  },
  {
   "cell_type": "code",
   "execution_count": null,
   "id": "5959b626",
   "metadata": {},
   "outputs": [],
   "source": [
    "ridgecv=RidgeCV(alphas=np.arange(0.002,0.1,0.02),normalize=True)\n",
    "ridgecv.fit(x_train,y_train)"
   ]
  },
  {
   "cell_type": "code",
   "execution_count": null,
   "id": "a89e6582",
   "metadata": {},
   "outputs": [],
   "source": [
    "ridgecv.alpha_"
   ]
  },
  {
   "cell_type": "code",
   "execution_count": null,
   "id": "a7ef0750",
   "metadata": {},
   "outputs": [],
   "source": [
    "ridge_model=Ridge(alpha=ridgecv.alpha_)\n",
    "ridge_model.fit(x_train,y_train)"
   ]
  },
  {
   "cell_type": "code",
   "execution_count": null,
   "id": "c1923b22",
   "metadata": {},
   "outputs": [],
   "source": [
    "ridge_model.score(x_test,y_test)"
   ]
  },
  {
   "cell_type": "code",
   "execution_count": null,
   "id": "1f54511c",
   "metadata": {},
   "outputs": [],
   "source": [
    "from sklearn.model_selection import GridSearchCV"
   ]
  },
  {
   "cell_type": "code",
   "execution_count": null,
   "id": "9b8558ee",
   "metadata": {},
   "outputs": [],
   "source": [
    "grid_param={'criterion':['gini','entropy'],\n",
    "           'max_depth':range(10,15),\n",
    "           'min_samples_leaf':range(2,6),\n",
    "           'min_samples_split':range(3,8),\n",
    "           'max_leaf_nodes':range(5,10)}"
   ]
  },
  {
   "cell_type": "code",
   "execution_count": null,
   "id": "2478ff1e",
   "metadata": {},
   "outputs": [],
   "source": [
    "grid_search = GridSearchCV(estimator=reg,\n",
    "                           param_grid=grid_param,\n",
    "                           cv=5,\n",
    "                           n_jobs=-1)"
   ]
  },
  {
   "cell_type": "code",
   "execution_count": null,
   "id": "17272bf5",
   "metadata": {},
   "outputs": [],
   "source": []
  },
  {
   "cell_type": "code",
   "execution_count": null,
   "id": "afee3225",
   "metadata": {},
   "outputs": [],
   "source": [
    "pickle.dump(reg,open('Avocado','wb'))"
   ]
  },
  {
   "cell_type": "code",
   "execution_count": null,
   "id": "ab6815e0",
   "metadata": {},
   "outputs": [],
   "source": []
  }
 ],
 "metadata": {
  "kernelspec": {
   "display_name": "Python 3 (ipykernel)",
   "language": "python",
   "name": "python3"
  },
  "language_info": {
   "codemirror_mode": {
    "name": "ipython",
    "version": 3
   },
   "file_extension": ".py",
   "mimetype": "text/x-python",
   "name": "python",
   "nbconvert_exporter": "python",
   "pygments_lexer": "ipython3",
   "version": "3.9.12"
  }
 },
 "nbformat": 4,
 "nbformat_minor": 5
}
