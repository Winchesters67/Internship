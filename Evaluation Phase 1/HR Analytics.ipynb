{
 "cells": [
  {
   "cell_type": "code",
   "execution_count": null,
   "id": "c350481d",
   "metadata": {},
   "outputs": [],
   "source": [
    "import pandas as pd\n",
    "import matplotlib.pyplot as plt\n",
    "import pickle\n",
    "%matplotlib inline\n",
    "import numpy as np\n",
    "from sklearn.tree import DecisionTreeClassifier\n",
    "\n",
    "from sklearn.preprocessing import StandardScaler\n",
    "from sklearn.neighbors import KNeighborsClassifier\n",
    "from sklearn.model_selection import train_test_split,GridSearchCV\n",
    "from statsmodels.stats.outliers_influence import variance_inflation_factor\n",
    "from sklearn.metrics import accuracy_score, confusion_matrix,roc_curve,roc_auc_score\n",
    "from sklearn.metrics import classification_report\n",
    "import seaborn as sns\n",
    "import pickle\n",
    "import warnings\n",
    "warnings.filterwarnings('ignore')"
   ]
  },
  {
   "cell_type": "code",
   "execution_count": null,
   "id": "d74efc21",
   "metadata": {},
   "outputs": [],
   "source": [
    "df=pd.read_csv('HRAnalytics.csv')\n",
    "df.head()"
   ]
  },
  {
   "cell_type": "code",
   "execution_count": null,
   "id": "2830fee4",
   "metadata": {},
   "outputs": [],
   "source": [
    "df.shape"
   ]
  },
  {
   "cell_type": "code",
   "execution_count": null,
   "id": "cf8f814b",
   "metadata": {},
   "outputs": [],
   "source": [
    "df.info()"
   ]
  },
  {
   "cell_type": "markdown",
   "id": "00c441aa",
   "metadata": {},
   "source": [
    "There are no null values, so imputation is not required."
   ]
  },
  {
   "cell_type": "markdown",
   "id": "e936ea51",
   "metadata": {},
   "source": [
    "There are few Object datatype features, so encoding is required"
   ]
  },
  {
   "cell_type": "code",
   "execution_count": null,
   "id": "09f12f61",
   "metadata": {},
   "outputs": [],
   "source": [
    "from sklearn.preprocessing import LabelEncoder\n",
    "lab_enc=LabelEncoder()"
   ]
  },
  {
   "cell_type": "code",
   "execution_count": null,
   "id": "7824e6fe",
   "metadata": {},
   "outputs": [],
   "source": [
    "data=lab_enc.fit_transform(df['Attrition'])\n",
    "pd.Series(data)\n",
    "df['Attrition']=data"
   ]
  },
  {
   "cell_type": "code",
   "execution_count": null,
   "id": "1cddd4d0",
   "metadata": {},
   "outputs": [],
   "source": [
    "df['Attrition']"
   ]
  },
  {
   "cell_type": "code",
   "execution_count": null,
   "id": "d8ec2751",
   "metadata": {},
   "outputs": [],
   "source": [
    "data=lab_enc.fit_transform(df['BusinessTravel'])\n",
    "pd.Series(data)\n",
    "df['BusinessTravel']=data\n",
    "df['BusinessTravel']"
   ]
  },
  {
   "cell_type": "code",
   "execution_count": null,
   "id": "b9cf477d",
   "metadata": {},
   "outputs": [],
   "source": [
    "data=lab_enc.fit_transform(df['Department'])\n",
    "pd.Series(data)\n",
    "df['Department']=data\n",
    "df['Department']"
   ]
  },
  {
   "cell_type": "code",
   "execution_count": null,
   "id": "8d8946cb",
   "metadata": {},
   "outputs": [],
   "source": [
    "data=lab_enc.fit_transform(df['EducationField'])\n",
    "pd.Series(data)\n",
    "df['EducationField']=data"
   ]
  },
  {
   "cell_type": "code",
   "execution_count": null,
   "id": "083c938e",
   "metadata": {},
   "outputs": [],
   "source": [
    "data=lab_enc.fit_transform(df['Gender'])\n",
    "pd.Series(data)\n",
    "df['Gender']=data"
   ]
  },
  {
   "cell_type": "code",
   "execution_count": null,
   "id": "738d420c",
   "metadata": {},
   "outputs": [],
   "source": [
    "data=lab_enc.fit_transform(df['JobRole'])\n",
    "pd.Series(data)\n",
    "df['JobRole']=data"
   ]
  },
  {
   "cell_type": "code",
   "execution_count": null,
   "id": "97153849",
   "metadata": {},
   "outputs": [],
   "source": [
    "data=lab_enc.fit_transform(df['MaritalStatus'])\n",
    "pd.Series(data)\n",
    "df['MaritalStatus']=data"
   ]
  },
  {
   "cell_type": "code",
   "execution_count": null,
   "id": "af3b1c6f",
   "metadata": {},
   "outputs": [],
   "source": [
    "data=lab_enc.fit_transform(df['Over18'])\n",
    "pd.Series(data)\n",
    "df['Over18']=data"
   ]
  },
  {
   "cell_type": "code",
   "execution_count": null,
   "id": "ba3a2bf7",
   "metadata": {},
   "outputs": [],
   "source": [
    "data=lab_enc.fit_transform(df['OverTime'])\n",
    "pd.Series(data)\n",
    "df['OverTime']=data"
   ]
  },
  {
   "cell_type": "code",
   "execution_count": null,
   "id": "5c8027b2",
   "metadata": {},
   "outputs": [],
   "source": [
    "df.head()"
   ]
  },
  {
   "cell_type": "code",
   "execution_count": null,
   "id": "0031c976",
   "metadata": {},
   "outputs": [],
   "source": [
    "plt.figure(figsize=(25,25),facecolor='yellow')\n",
    "plotno=1\n",
    "for column in df:\n",
    "    if plotno<=36:\n",
    "        ax=plt.subplot(9,4,plotno)\n",
    "        sns.distplot(df[column])\n",
    "        plt.xlabel(column,fontsize=20)\n",
    "    plotno+=1\n",
    "plt.tight_layout()"
   ]
  },
  {
   "cell_type": "code",
   "execution_count": null,
   "id": "f8511222",
   "metadata": {},
   "outputs": [],
   "source": [
    "y=df['Attrition']\n",
    "x=df.drop(columns=['Attrition'])"
   ]
  },
  {
   "cell_type": "code",
   "execution_count": null,
   "id": "a4fa7692",
   "metadata": {},
   "outputs": [],
   "source": [
    "plt.figure(figsize=(25,25),facecolor='white')\n",
    "plotnumber=1\n",
    "for column in x:\n",
    "    if plotnumber<=36:\n",
    "        ax=plt.subplot(9,4,plotnumber)\n",
    "        plt.scatter(x[column],y)\n",
    "        plt.xlabel(column,fontsize=20)\n",
    "        plt.ylabel('Attrition',fontsize=20)\n",
    "    plotnumber+=1\n",
    "plt.tight_layout()"
   ]
  },
  {
   "cell_type": "code",
   "execution_count": null,
   "id": "098f8fab",
   "metadata": {
    "scrolled": false
   },
   "outputs": [],
   "source": [
    "df_corr=df.corr().abs()\n",
    "plt.figure(figsize=(35,35))\n",
    "sns.heatmap(df_corr,annot=True,annot_kws={'size':10})\n",
    "plt.show"
   ]
  },
  {
   "cell_type": "code",
   "execution_count": null,
   "id": "cc730cff",
   "metadata": {},
   "outputs": [],
   "source": [
    "from sklearn.feature_selection import SelectKBest,f_classif"
   ]
  },
  {
   "cell_type": "code",
   "execution_count": null,
   "id": "a0d44f2f",
   "metadata": {},
   "outputs": [],
   "source": [
    "best_features=SelectKBest(score_func=f_classif,k='all')\n",
    "\n",
    "fit=best_features.fit(x,y)\n",
    "\n",
    "data_scores=pd.DataFrame(fit.scores_)\n",
    "\n",
    "data_columns=pd.DataFrame(x.columns)\n",
    "\n",
    "feature_scores=pd.concat([data_columns,data_scores],axis=1)\n",
    "\n",
    "feature_scores.columns=['Feature_Name','Score']\n",
    "\n",
    "print(feature_scores.nlargest(26,'Score'))"
   ]
  },
  {
   "cell_type": "code",
   "execution_count": null,
   "id": "e5c02275",
   "metadata": {},
   "outputs": [],
   "source": [
    "plt.figure(figsize=(25,25),facecolor='white')\n",
    "plotnumber=1\n",
    "for column in x:\n",
    "    if plotnumber<=36:\n",
    "        ax=plt.subplot(36,1,plotnumber)\n",
    "        sns.lineplot(x='Attrition',y=column,data=df)\n",
    "        plt.xlabel(column,fontsize=2)\n",
    "        plt.ylabel('Attrition',fontsize=2)\n",
    "    plotnumber+=1\n",
    "plt.tight_layout()"
   ]
  },
  {
   "cell_type": "code",
   "execution_count": null,
   "id": "03f38959",
   "metadata": {},
   "outputs": [],
   "source": [
    "plt.figure(figsize=(25,15))\n",
    "plotno=1\n",
    "for column in x:\n",
    "    if plotno<=35:\n",
    "        ax=plt.subplot(9,4,plotno)\n",
    "        sns.stripplot(y,x[column])\n",
    "    plotno+=1\n",
    "plt.show()"
   ]
  },
  {
   "cell_type": "markdown",
   "id": "d46db756",
   "metadata": {},
   "source": [
    "Based on heatmap, selectk best feature, we can determine which features have best relation with Attrition"
   ]
  },
  {
   "cell_type": "code",
   "execution_count": null,
   "id": "16f207b0",
   "metadata": {},
   "outputs": [],
   "source": [
    "y=df['Attrition']\n",
    "x=df[['OverTime','TotalWorkingYears','JobLevel','MaritalStatus','YearsInCurrentRole','MonthlyIncome','Age','YearsWithCurrManager','StockOptionLevel','YearsAtCompany','JobInvolvement','JobSatisfaction','EnvironmentSatisfaction','DistanceFromHome','JobRole','Department','WorkLifeBalance','TrainingTimesLastYear','DailyRate','RelationshipSatisfaction','NumCompaniesWorked','YearsSinceLastPromotion','Education','Gender','EducationField','MonthlyRate']]"
   ]
  },
  {
   "cell_type": "code",
   "execution_count": null,
   "id": "ed48e411",
   "metadata": {},
   "outputs": [],
   "source": [
    "plt.figure(figsize=(20,20),facecolor='red')\n",
    "plotno=1\n",
    "for column in x:\n",
    "    if plotno<=26:\n",
    "        ax=plt.subplot(5,6,plotno)\n",
    "        sns.boxplot(data=x[column])\n",
    "        plt.xlabel(column,fontsize=12)\n",
    "    plotno+=1\n",
    "plt.show()"
   ]
  },
  {
   "cell_type": "markdown",
   "id": "bad98ecf",
   "metadata": {},
   "source": [
    "Based on box plot we can see TotalWorkingYears, YearsInCurrentRole, MonthlyIncome, YearsWithCurrManager, StockOptionLevel, YearsAtCompany, TrainingTimesLastYear, YearsSinceLastPromotion have outliers we need to remove"
   ]
  },
  {
   "cell_type": "code",
   "execution_count": null,
   "id": "8b51cea3",
   "metadata": {},
   "outputs": [],
   "source": [
    "df.describe()"
   ]
  },
  {
   "cell_type": "code",
   "execution_count": null,
   "id": "ec344657",
   "metadata": {},
   "outputs": [],
   "source": [
    "q1=df.quantile(0.25)\n",
    "q3=df.quantile(0.75)\n",
    "iqr=q3-q1"
   ]
  },
  {
   "cell_type": "code",
   "execution_count": null,
   "id": "308671b8",
   "metadata": {},
   "outputs": [],
   "source": [
    "TWY=(q3.TotalWorkingYears + (1.5*iqr.TotalWorkingYears))\n",
    "index=np.where(df['TotalWorkingYears']>TWY)\n",
    "df=df.drop(df.index[index])\n",
    "df.shape"
   ]
  },
  {
   "cell_type": "code",
   "execution_count": null,
   "id": "5b6c4706",
   "metadata": {},
   "outputs": [],
   "source": [
    "YICR=(q3.YearsInCurrentRole + (1.5*iqr.YearsInCurrentRole))\n",
    "index=np.where(df['YearsInCurrentRole']>YICR)\n",
    "df=df.drop(df.index[index])\n",
    "df.shape"
   ]
  },
  {
   "cell_type": "code",
   "execution_count": null,
   "id": "67ec89d4",
   "metadata": {},
   "outputs": [],
   "source": [
    "MI=(q3.MonthlyIncome + (1.5*iqr.MonthlyIncome))\n",
    "index=np.where(df['MonthlyIncome']>MI)\n",
    "df=df.drop(df.index[index])\n",
    "df.shape"
   ]
  },
  {
   "cell_type": "code",
   "execution_count": null,
   "id": "060e148f",
   "metadata": {},
   "outputs": [],
   "source": []
  },
  {
   "cell_type": "code",
   "execution_count": null,
   "id": "600b81d6",
   "metadata": {},
   "outputs": [],
   "source": [
    "YWCM=(q3.YearsWithCurrManager + (1.5*iqr.YearsWithCurrManager))\n",
    "index=np.where(df['YearsWithCurrManager']>YWCM)\n",
    "df=df.drop(df.index[index])\n",
    "df.shape"
   ]
  },
  {
   "cell_type": "code",
   "execution_count": null,
   "id": "51077af2",
   "metadata": {},
   "outputs": [],
   "source": [
    "SOL=(q3.StockOptionLevel + (1.5*iqr.StockOptionLevel))\n",
    "index=np.where(df['StockOptionLevel']>SOL)\n",
    "df=df.drop(df.index[index])\n",
    "df.shape"
   ]
  },
  {
   "cell_type": "code",
   "execution_count": null,
   "id": "25875011",
   "metadata": {},
   "outputs": [],
   "source": [
    "YAC=(q3.YearsAtCompany + (1.5*iqr.YearsAtCompany))\n",
    "index=np.where(df['YearsAtCompany']>YAC)\n",
    "df=df.drop(df.index[index])\n",
    "df.shape"
   ]
  },
  {
   "cell_type": "code",
   "execution_count": null,
   "id": "d94d6da3",
   "metadata": {},
   "outputs": [],
   "source": [
    "TTLY=(q3.TrainingTimesLastYear + (1.5*iqr.TrainingTimesLastYear))\n",
    "index=np.where(df['TrainingTimesLastYear']>TTLY)\n",
    "df=df.drop(df.index[index])\n",
    "df.shape"
   ]
  },
  {
   "cell_type": "code",
   "execution_count": null,
   "id": "77406b42",
   "metadata": {},
   "outputs": [],
   "source": [
    "YSLP=(q3.YearsSinceLastPromotion + (1.5*iqr.YearsSinceLastPromotion))\n",
    "index=np.where(df['YearsSinceLastPromotion']>YSLP)\n",
    "df=df.drop(df.index[index])\n",
    "df.shape"
   ]
  },
  {
   "cell_type": "code",
   "execution_count": null,
   "id": "027aa964",
   "metadata": {},
   "outputs": [],
   "source": [
    "TTLY=(q3.TrainingTimesLastYear - (1.5*iqr.TrainingTimesLastYear))\n",
    "index=np.where(df['TrainingTimesLastYear']<TTLY)\n",
    "df=df.drop(df.index[index])\n",
    "df.reset_index()"
   ]
  },
  {
   "cell_type": "code",
   "execution_count": null,
   "id": "41496655",
   "metadata": {},
   "outputs": [],
   "source": [
    "sns.lineplot(x='Attrition',y='Age',data=df)\n",
    "plt.show()"
   ]
  },
  {
   "cell_type": "markdown",
   "id": "ab559c5d",
   "metadata": {},
   "source": [
    "When age increases Attrition tends towards NO"
   ]
  },
  {
   "cell_type": "code",
   "execution_count": null,
   "id": "c05e4b89",
   "metadata": {},
   "outputs": [],
   "source": [
    "sns.lineplot(x='Attrition',y='BusinessTravel',data=df)\n",
    "plt.show()"
   ]
  },
  {
   "cell_type": "markdown",
   "id": "a0810ce2",
   "metadata": {},
   "source": [
    "We can see Business travel has slight inverse effect on Attrition."
   ]
  },
  {
   "cell_type": "code",
   "execution_count": null,
   "id": "8bc61613",
   "metadata": {},
   "outputs": [],
   "source": [
    "sns.lineplot(x='Attrition',y='DailyRate',data=df)\n",
    "plt.show()"
   ]
  },
  {
   "cell_type": "markdown",
   "id": "eec6a2ca",
   "metadata": {},
   "source": [
    "We can see that Attrition rate is higher in employees with low dailyrate, dailyrate is inversely reflected on attrition."
   ]
  },
  {
   "cell_type": "code",
   "execution_count": null,
   "id": "7fbb3a3d",
   "metadata": {},
   "outputs": [],
   "source": [
    "sns.lineplot(x='Attrition',y='Department',data=df)\n",
    "plt.show()"
   ]
  },
  {
   "cell_type": "markdown",
   "id": "48eb9eda",
   "metadata": {},
   "source": [
    "HR iss least likely to affect Attrition, sales is more likely to cause Attrition"
   ]
  },
  {
   "cell_type": "code",
   "execution_count": null,
   "id": "02d87327",
   "metadata": {},
   "outputs": [],
   "source": [
    "sns.lineplot(x='Attrition',y='DistanceFromHome',data=df)\n",
    "plt.show()"
   ]
  },
  {
   "cell_type": "markdown",
   "id": "cd5fa860",
   "metadata": {},
   "source": [
    "As Office to home distance increases, attrition tends towards NO"
   ]
  },
  {
   "cell_type": "code",
   "execution_count": null,
   "id": "6bc12f4a",
   "metadata": {},
   "outputs": [],
   "source": [
    "sns.lineplot(x='Attrition',y='OverTime',data=df)\n",
    "plt.show()"
   ]
  },
  {
   "cell_type": "code",
   "execution_count": null,
   "id": "dd8ba256",
   "metadata": {},
   "outputs": [],
   "source": [
    "sns.lineplot(x='Attrition',y='TotalWorkingYears',data=df)\n",
    "plt.show()"
   ]
  },
  {
   "cell_type": "markdown",
   "id": "59c26a5a",
   "metadata": {},
   "source": [
    "We can see that Attrition rate is higher in with less working years, it is inversely reflected on attrition."
   ]
  },
  {
   "cell_type": "code",
   "execution_count": null,
   "id": "3868d449",
   "metadata": {},
   "outputs": [],
   "source": [
    "sns.lineplot(x='Attrition',y='JobLevel',data=df)\n",
    "plt.show()"
   ]
  },
  {
   "cell_type": "code",
   "execution_count": null,
   "id": "1657c267",
   "metadata": {},
   "outputs": [],
   "source": [
    "sns.lineplot(x='Attrition',y='MaritalStatus',data=df)\n",
    "plt.show()"
   ]
  },
  {
   "cell_type": "code",
   "execution_count": null,
   "id": "02aad5dc",
   "metadata": {},
   "outputs": [],
   "source": [
    "sns.lineplot(x='Attrition',y='YearsInCurrentRole',data=df)\n",
    "plt.show()"
   ]
  },
  {
   "cell_type": "code",
   "execution_count": null,
   "id": "82ef5cfc",
   "metadata": {},
   "outputs": [],
   "source": [
    "sns.lineplot(x='Attrition',y='MonthlyIncome',data=df)\n",
    "plt.show()"
   ]
  },
  {
   "cell_type": "code",
   "execution_count": null,
   "id": "57fe52e9",
   "metadata": {},
   "outputs": [],
   "source": [
    "sns.lineplot(x='Attrition',y='YearsWithCurrManager',data=df)\n",
    "plt.show()"
   ]
  },
  {
   "cell_type": "code",
   "execution_count": null,
   "id": "5be1b50c",
   "metadata": {},
   "outputs": [],
   "source": [
    "sns.lineplot(x='Attrition',y='StockOptionLevel',data=df)\n",
    "plt.show()"
   ]
  },
  {
   "cell_type": "code",
   "execution_count": null,
   "id": "153ba6a4",
   "metadata": {},
   "outputs": [],
   "source": [
    "sns.lineplot(x='Attrition',y='YearsAtCompany',data=df)\n",
    "plt.show()"
   ]
  },
  {
   "cell_type": "code",
   "execution_count": null,
   "id": "9b6354b7",
   "metadata": {},
   "outputs": [],
   "source": [
    "sns.lineplot(x='Attrition',y='JobInvolvement',data=df)\n",
    "plt.show()"
   ]
  },
  {
   "cell_type": "code",
   "execution_count": null,
   "id": "ab003eee",
   "metadata": {},
   "outputs": [],
   "source": [
    "sns.lineplot(x='Attrition',y='JobSatisfaction',data=df)\n",
    "plt.show()"
   ]
  },
  {
   "cell_type": "code",
   "execution_count": null,
   "id": "8cf1030a",
   "metadata": {},
   "outputs": [],
   "source": [
    "sns.lineplot(x='Attrition',y='EnvironmentSatisfaction',data=df)\n",
    "plt.show()"
   ]
  },
  {
   "cell_type": "markdown",
   "id": "1afb519f",
   "metadata": {},
   "source": [
    "Age, Business Travel, daily rate, Total Working hours, years in current role, monthly income, years with current manager, stock option level, years at company, job involvement, job satisfaction, enviroment satisfaction are imversely effective on Attrition. When above features increase, Attrion tends towards NO"
   ]
  },
  {
   "cell_type": "code",
   "execution_count": null,
   "id": "add02fc9",
   "metadata": {},
   "outputs": [],
   "source": [
    "scaler=StandardScaler()\n",
    "x_scaled=scaler.fit_transform(x)\n",
    "x_train,x_test,y_train,y_test=train_test_split(x_scaled,y,test_size=0.17,random_state=333)"
   ]
  },
  {
   "cell_type": "code",
   "execution_count": null,
   "id": "0102b346",
   "metadata": {},
   "outputs": [],
   "source": [
    "def metric_score(clf,x_train,x_test,y_train,y_test,train=True):\n",
    "    if train:\n",
    "        y_pred=clf.predict(x_train)\n",
    "        print('\\n----Train result----')\n",
    "        print(f'Accuracy Score:{accuracy_score(y_train,y_pred)*100:.2f}%')\n",
    "        \n",
    "    elif train==False:\n",
    "        pred=clf.predict(x_test)\n",
    "        print('\\n----Test result----')\n",
    "        print(f'Accuracy Score:{accuracy_score(y_test,pred)*100:.2f}%')\n",
    "\n",
    "        print('\\n\\n Test Classification report \\n',classification_report(y_test,pred,digits=2))"
   ]
  },
  {
   "cell_type": "code",
   "execution_count": null,
   "id": "f8fee2aa",
   "metadata": {},
   "outputs": [],
   "source": [
    "knn=KNeighborsClassifier()\n",
    "knn.fit(x_train,y_train)"
   ]
  },
  {
   "cell_type": "code",
   "execution_count": null,
   "id": "ebe30228",
   "metadata": {},
   "outputs": [],
   "source": [
    "metric_score(knn,x_train,x_test,y_train,y_test,train=True)\n",
    "metric_score(knn,x_train,x_test,y_train,y_test,train=False)"
   ]
  },
  {
   "cell_type": "code",
   "execution_count": null,
   "id": "8876fb67",
   "metadata": {},
   "outputs": [],
   "source": [
    "from sklearn.linear_model import LogisticRegression\n",
    "log_reg=LogisticRegression()\n",
    "log_reg.fit(x_train,y_train)"
   ]
  },
  {
   "cell_type": "code",
   "execution_count": null,
   "id": "31862b39",
   "metadata": {},
   "outputs": [],
   "source": [
    "metric_score(log_reg,x_train,x_test,y_train,y_test,train=True)\n",
    "metric_score(log_reg,x_train,x_test,y_train,y_test,train=False)"
   ]
  },
  {
   "cell_type": "code",
   "execution_count": null,
   "id": "0c0c3665",
   "metadata": {},
   "outputs": [],
   "source": [
    "from sklearn.ensemble import BaggingClassifier"
   ]
  },
  {
   "cell_type": "code",
   "execution_count": null,
   "id": "3d7d28af",
   "metadata": {},
   "outputs": [],
   "source": [
    "bag_knn=BaggingClassifier(KNeighborsClassifier(n_neighbors=9),\n",
    "                          n_estimators=6,max_samples=0.75,\n",
    "                          bootstrap=True,random_state=366,oob_score=True)"
   ]
  },
  {
   "cell_type": "code",
   "execution_count": null,
   "id": "26992453",
   "metadata": {},
   "outputs": [],
   "source": [
    "bag_knn.fit(x_train,y_train)"
   ]
  },
  {
   "cell_type": "code",
   "execution_count": null,
   "id": "d29ce8f9",
   "metadata": {},
   "outputs": [],
   "source": [
    "metric_score(bag_knn,x_train,x_test,y_train,y_test,train=True)\n",
    "metric_score(bag_knn,x_train,x_test,y_train,y_test,train=False)"
   ]
  },
  {
   "cell_type": "code",
   "execution_count": null,
   "id": "fafe1b88",
   "metadata": {},
   "outputs": [],
   "source": [
    "from sklearn.ensemble import RandomForestClassifier, AdaBoostRegressor"
   ]
  },
  {
   "cell_type": "raw",
   "id": "df623bbd",
   "metadata": {},
   "source": [
    "rnd_clf=RandomForestClassifier()\n",
    "rnd_clf.fit(x_train,y_train)"
   ]
  },
  {
   "cell_type": "code",
   "execution_count": null,
   "id": "c1a30175",
   "metadata": {},
   "outputs": [],
   "source": [
    "metric_score(rnd_clf,x_train,x_test,y_train,y_test,train=True)\n",
    "metric_score(rnd_clf,x_train,x_test,y_train,y_test,train=False)"
   ]
  },
  {
   "cell_type": "markdown",
   "id": "0fd0dae8",
   "metadata": {},
   "source": [
    "Based on the accuracy scores of several models, Bag KNN has closest Train and Test result, the difference in bagknn model's train and test is smallest"
   ]
  },
  {
   "cell_type": "markdown",
   "id": "6b0047d9",
   "metadata": {},
   "source": [
    "So we will move forward with Bagging - KNN model"
   ]
  },
  {
   "cell_type": "code",
   "execution_count": null,
   "id": "da8ad423",
   "metadata": {},
   "outputs": [],
   "source": [
    "from sklearn.model_selection import KFold,cross_val_score"
   ]
  },
  {
   "cell_type": "code",
   "execution_count": null,
   "id": "dae97f76",
   "metadata": {},
   "outputs": [],
   "source": [
    "cross_val_score(bag_knn,x_scaled,y,cv=5)"
   ]
  },
  {
   "cell_type": "code",
   "execution_count": null,
   "id": "e627f1c1",
   "metadata": {},
   "outputs": [],
   "source": [
    "cross_val_score(BaggingClassifier(KNeighborsClassifier(n_neighbors=9),\n",
    "                          n_estimators=6,max_samples=0.75,\n",
    "                          bootstrap=True,random_state=366,oob_score=True),x_scaled,y,cv=5).mean()"
   ]
  },
  {
   "cell_type": "code",
   "execution_count": null,
   "id": "6d070819",
   "metadata": {},
   "outputs": [],
   "source": [
    "from sklearn.model_selection import GridSearchCV"
   ]
  },
  {
   "cell_type": "code",
   "execution_count": null,
   "id": "9ffdd513",
   "metadata": {},
   "outputs": [],
   "source": [
    "bag_knn.get_params().keys()"
   ]
  },
  {
   "cell_type": "code",
   "execution_count": null,
   "id": "9123d188",
   "metadata": {},
   "outputs": [],
   "source": [
    "param_grid = {\n",
    "    'base_estimator__n_neighbors' : [1, 2, 3, 4, 5],\n",
    "    'max_samples' : [0.05, 0.1, 0.2, 0.5]}\n",
    "\n",
    "grid_search = GridSearchCV(BaggingClassifier(KNeighborsClassifier(),n_estimators = 9, max_features = 12),param_grid)\n",
    "grid_search.fit(x_train, y_train)"
   ]
  },
  {
   "cell_type": "code",
   "execution_count": null,
   "id": "3b7c3aae",
   "metadata": {},
   "outputs": [],
   "source": [
    "best_parameters=grid_search.best_params_\n",
    "print(best_parameters)"
   ]
  },
  {
   "cell_type": "code",
   "execution_count": null,
   "id": "60fc95c4",
   "metadata": {},
   "outputs": [],
   "source": [
    "bag_knn=BaggingClassifier(KNeighborsClassifier({'base_estimator__n_neighbors': 1, 'max_samples': 0.2}))"
   ]
  },
  {
   "cell_type": "code",
   "execution_count": null,
   "id": "37ccf260",
   "metadata": {},
   "outputs": [],
   "source": [
    "metric_score(bag_knn,x_train,x_test,y_train,y_test,train=True)\n",
    "metric_score(bag_knn,x_train,x_test,y_train,y_test,train=False)"
   ]
  },
  {
   "cell_type": "markdown",
   "id": "6c823b91",
   "metadata": {},
   "source": [
    "Score did not improve so we'll use original Bagging KNNeighbors model"
   ]
  },
  {
   "cell_type": "code",
   "execution_count": null,
   "id": "cc3b81ec",
   "metadata": {},
   "outputs": [],
   "source": [
    "bag_knn=BaggingClassifier(KNeighborsClassifier(n_neighbors=9),\n",
    "                          n_estimators=6,max_samples=0.75,\n",
    "                          bootstrap=True,random_state=366,oob_score=True)\n",
    "\n",
    "bag_knn.fit(x_train,y_train)"
   ]
  },
  {
   "cell_type": "code",
   "execution_count": null,
   "id": "210bd080",
   "metadata": {},
   "outputs": [],
   "source": [
    "metric_score(bag_knn,x_train,x_test,y_train,y_test,train=True)\n",
    "metric_score(bag_knn,x_train,x_test,y_train,y_test,train=False)"
   ]
  },
  {
   "cell_type": "code",
   "execution_count": null,
   "id": "6c5cac1e",
   "metadata": {},
   "outputs": [],
   "source": [
    "pickle.dump(bag_knn,open('HR Analytics','wb'))"
   ]
  },
  {
   "cell_type": "code",
   "execution_count": null,
   "id": "0d0da95f",
   "metadata": {},
   "outputs": [],
   "source": []
  }
 ],
 "metadata": {
  "kernelspec": {
   "display_name": "Python 3 (ipykernel)",
   "language": "python",
   "name": "python3"
  },
  "language_info": {
   "codemirror_mode": {
    "name": "ipython",
    "version": 3
   },
   "file_extension": ".py",
   "mimetype": "text/x-python",
   "name": "python",
   "nbconvert_exporter": "python",
   "pygments_lexer": "ipython3",
   "version": "3.9.12"
  }
 },
 "nbformat": 4,
 "nbformat_minor": 5
}
